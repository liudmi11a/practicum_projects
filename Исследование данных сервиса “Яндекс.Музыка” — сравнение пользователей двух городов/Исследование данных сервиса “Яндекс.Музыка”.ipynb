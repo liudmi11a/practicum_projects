{
 "cells": [
  {
   "cell_type": "markdown",
   "metadata": {
    "deletable": false,
    "editable": false,
    "id": "E0vqbgi9ay0H"
   },
   "source": [
    "# Яндекс Музыка"
   ]
  },
  {
   "cell_type": "markdown",
   "metadata": {
    "deletable": false,
    "editable": false,
    "id": "VUC88oWjTJw2"
   },
   "source": [
    "Сравнение Москвы и Петербурга окружено мифами. Например:\n",
    " * Москва — мегаполис, подчинённый жёсткому ритму рабочей недели;\n",
    " * Петербург — культурная столица, со своими вкусами.\n",
    "\n",
    "На данных Яндекс Музыки вы сравните поведение пользователей двух столиц.\n",
    "\n",
    "**Цель исследования** — проверьте три гипотезы:\n",
    "1. Активность пользователей зависит от дня недели. Причём в Москве и Петербурге это проявляется по-разному.\n",
    "2. В понедельник утром в Москве преобладают одни жанры, а в Петербурге — другие. Так же и вечером пятницы преобладают разные жанры — в зависимости от города. \n",
    "3. Москва и Петербург предпочитают разные жанры музыки. В Москве чаще слушают поп-музыку, в Петербурге — русский рэп.\n",
    "\n",
    "**Ход исследования**\n",
    "\n",
    "Данные о поведении пользователей вы получите из файла `yandex_music_project.csv`. О качестве данных ничего не известно. Поэтому перед проверкой гипотез понадобится обзор данных. \n",
    "\n",
    "Вы проверите данные на ошибки и оцените их влияние на исследование. Затем, на этапе предобработки вы поищете возможность исправить самые критичные ошибки данных.\n",
    " \n",
    "Таким образом, исследование пройдёт в три этапа:\n",
    " 1. Обзор данных.\n",
    " 2. Предобработка данных.\n",
    " 3. Проверка гипотез.\n",
    "\n"
   ]
  },
  {
   "cell_type": "markdown",
   "metadata": {
    "deletable": false,
    "editable": false,
    "id": "Ml1hmfXC_Zcs"
   },
   "source": [
    "## Обзор данных\n",
    "\n",
    "Составьте первое представление о данных Яндекс Музыки.\n",
    "\n",
    "\n"
   ]
  },
  {
   "cell_type": "markdown",
   "metadata": {
    "deletable": false,
    "editable": false,
    "id": "57eAOGIz_Zcs",
    "tags": [
     "start_task"
    ]
   },
   "source": [
    "**Задание 1**\n",
    "\n",
    "Основной инструмент аналитика — `pandas`. Импортируйте эту библиотеку."
   ]
  },
  {
   "cell_type": "code",
   "execution_count": 1,
   "metadata": {
    "deletable": false,
    "id": "AXN7PHPN_Zcs"
   },
   "outputs": [],
   "source": [
    "# импорт библиотеки pandas\n",
    "import pandas as pd"
   ]
  },
  {
   "cell_type": "markdown",
   "metadata": {
    "deletable": false,
    "editable": false,
    "id": "SG23P8tt_Zcs",
    "tags": [
     "start_task"
    ]
   },
   "source": [
    "**Задание 2**\n",
    "\n",
    "Прочитайте файл `yandex_music_project.csv` из папки `/datasets` и сохраните его в переменной `df`:"
   ]
  },
  {
   "cell_type": "code",
   "execution_count": 2,
   "metadata": {
    "deletable": false,
    "id": "fFVu7vqh_Zct"
   },
   "outputs": [],
   "source": [
    "# чтение файла с данными и сохранение в df\n",
    "df = pd.read_csv('/datasets/yandex_music_project.csv')\n"
   ]
  },
  {
   "cell_type": "markdown",
   "metadata": {
    "deletable": false,
    "editable": false,
    "id": "rDoOMd3uTqnZ",
    "tags": [
     "start_task"
    ]
   },
   "source": [
    "**Задание 3**\n",
    "\n",
    "\n",
    "Выведите на экран первые десять строк таблицы:"
   ]
  },
  {
   "cell_type": "code",
   "execution_count": 3,
   "metadata": {
    "deletable": false,
    "id": "oWTVX3gW_Zct"
   },
   "outputs": [
    {
     "name": "stdout",
     "output_type": "stream",
     "text": [
      "     userID                        Track            artist   genre  \\\n",
      "0  FFB692EC            Kamigata To Boots  The Mass Missile    rock   \n",
      "1  55204538  Delayed Because of Accident  Andreas Rönnberg    rock   \n",
      "2    20EC38            Funiculì funiculà       Mario Lanza     pop   \n",
      "3  A3DD03C9        Dragons in the Sunset        Fire + Ice    folk   \n",
      "4  E2DC1FAE                  Soul People        Space Echo   dance   \n",
      "5  842029A1                    Преданная         IMPERVTOR  rusrap   \n",
      "6  4CB90AA5                         True      Roman Messer   dance   \n",
      "7  F03E1C1F             Feeling This Way   Polina Griffith   dance   \n",
      "8  8FA1D3BE     И вновь продолжается бой               NaN  ruspop   \n",
      "9  E772D5C0                    Pessimist               NaN   dance   \n",
      "\n",
      "             City        time        Day  \n",
      "0  Saint-Petersburg  20:28:33  Wednesday  \n",
      "1            Moscow  14:07:09     Friday  \n",
      "2  Saint-Petersburg  20:58:07  Wednesday  \n",
      "3  Saint-Petersburg  08:37:09     Monday  \n",
      "4            Moscow  08:34:34     Monday  \n",
      "5  Saint-Petersburg  13:09:41     Friday  \n",
      "6            Moscow  13:00:07  Wednesday  \n",
      "7            Moscow  20:47:49  Wednesday  \n",
      "8            Moscow  09:17:40     Friday  \n",
      "9  Saint-Petersburg  21:20:49  Wednesday  \n"
     ]
    }
   ],
   "source": [
    "# получение первых 10 строк таблицы df\n",
    "import pandas as pd\n",
    "df = pd.read_csv('/datasets/yandex_music_project.csv')\n",
    "print(df.head(10))"
   ]
  },
  {
   "cell_type": "markdown",
   "metadata": {
    "deletable": false,
    "editable": false,
    "id": "EO73Kwic_Zct",
    "tags": [
     "start_task"
    ]
   },
   "source": [
    "**Задание 4**\n",
    "\n",
    "\n",
    "Одной командой получить общую информацию о таблице c помощью метода `info()`:"
   ]
  },
  {
   "cell_type": "code",
   "execution_count": 4,
   "metadata": {
    "deletable": false,
    "id": "DSf2kIb-_Zct"
   },
   "outputs": [
    {
     "name": "stdout",
     "output_type": "stream",
     "text": [
      "<class 'pandas.core.frame.DataFrame'>\n",
      "RangeIndex: 65079 entries, 0 to 65078\n",
      "Data columns (total 7 columns):\n",
      " #   Column    Non-Null Count  Dtype \n",
      "---  ------    --------------  ----- \n",
      " 0     userID  65079 non-null  object\n",
      " 1   Track     63848 non-null  object\n",
      " 2   artist    57876 non-null  object\n",
      " 3   genre     63881 non-null  object\n",
      " 4     City    65079 non-null  object\n",
      " 5   time      65079 non-null  object\n",
      " 6   Day       65079 non-null  object\n",
      "dtypes: object(7)\n",
      "memory usage: 3.5+ MB\n"
     ]
    }
   ],
   "source": [
    "# получение общей информации о данных в таблице df\n",
    "df.info()"
   ]
  },
  {
   "cell_type": "markdown",
   "metadata": {
    "deletable": false,
    "editable": false,
    "id": "TaQ2Iwbr_Zct"
   },
   "source": [
    "Итак, в таблице семь столбцов. Тип данных во всех столбцах — `object`.\n",
    "\n",
    "Согласно документации к данным:\n",
    "* `userID` — идентификатор пользователя;\n",
    "* `Track` — название трека;  \n",
    "* `artist` — имя исполнителя;\n",
    "* `genre` — название жанра;\n",
    "* `City` — город пользователя;\n",
    "* `time` — время начала прослушивания;\n",
    "* `Day` — день недели.\n",
    "\n",
    "Количество значений в столбцах различается. Значит, в данных есть пропущенные значения."
   ]
  },
  {
   "cell_type": "markdown",
   "metadata": {
    "deletable": false,
    "editable": false,
    "id": "rAfziTBDmf2h",
    "tags": [
     "start_task"
    ]
   },
   "source": [
    "**Задание 5**\n",
    "\n",
    "**Вопрос со свободной формой ответа**\n",
    "\n",
    "В названиях колонок видны нарушения стиля:\n",
    "* Строчные буквы сочетаются с прописными.\n",
    "* Встречаются пробелы.\n",
    "\n",
    "Какое третье нарушение?"
   ]
  },
  {
   "cell_type": "code",
   "execution_count": 5,
   "metadata": {
    "id": "jD8EXEIvmf2h"
   },
   "outputs": [],
   "source": [
    "# нарушена конвенция именования переменных(змеиный регистр)"
   ]
  },
  {
   "cell_type": "markdown",
   "metadata": {
    "deletable": false,
    "editable": false,
    "id": "MCB6-dXG_Zct"
   },
   "source": [
    "**Выводы**\n",
    "\n",
    "В каждой строке таблицы — данные о прослушанном треке. Часть колонок описывает саму композицию: название, исполнителя и жанр. Остальные данные рассказывают о пользователе: из какого он города, когда он слушал музыку. \n",
    "\n",
    "Предварительно можно утверждать, что данных достаточно для проверки гипотез. Но встречаются пропуски в данных, а в названиях колонок — расхождения с хорошим стилем.\n",
    "\n",
    "Чтобы двигаться дальше, нужно устранить проблемы в данных."
   ]
  },
  {
   "cell_type": "markdown",
   "metadata": {
    "deletable": false,
    "editable": false,
    "id": "SjYF6Ub9_Zct"
   },
   "source": [
    "## Предобработка данных\n",
    "Исправьте стиль в заголовках столбцов, исключите пропуски. Затем проверьте данные на дубликаты."
   ]
  },
  {
   "cell_type": "markdown",
   "metadata": {
    "deletable": false,
    "editable": false,
    "id": "dIaKXr29_Zct",
    "tags": [
     "start_task"
    ]
   },
   "source": [
    "### Стиль заголовков\n",
    "\n",
    "**Задание 6**\n",
    "\n",
    "Выведите на экран названия столбцов:"
   ]
  },
  {
   "cell_type": "code",
   "execution_count": 6,
   "metadata": {
    "deletable": false,
    "id": "oKOTdF_Q_Zct"
   },
   "outputs": [
    {
     "data": {
      "text/plain": [
       "Index(['  userID', 'Track', 'artist', 'genre', '  City  ', 'time', 'Day'], dtype='object')"
      ]
     },
     "execution_count": 6,
     "metadata": {},
     "output_type": "execute_result"
    }
   ],
   "source": [
    "# перечень названий столбцов таблицы df\n",
    "df.columns\n",
    "\n"
   ]
  },
  {
   "cell_type": "markdown",
   "metadata": {
    "deletable": false,
    "editable": false,
    "id": "zj5534cv_Zct",
    "tags": [
     "start_task"
    ]
   },
   "source": [
    "**Задание 7**\n",
    "\n",
    "\n",
    "Приведите названия в соответствие с хорошим стилем:\n",
    "* несколько слов в названии запишите в «змеином_регистре»,\n",
    "* все символы сделайте строчными,\n",
    "* устраните пробелы.\n",
    "\n",
    "Для этого переименуйте колонки так:\n",
    "* `'  userID'` → `'user_id'`;\n",
    "* `'Track'` → `'track'`;\n",
    "* `'  City  '` → `'city'`;\n",
    "* `'Day'` → `'day'`."
   ]
  },
  {
   "cell_type": "code",
   "execution_count": 7,
   "metadata": {
    "deletable": false,
    "id": "ISlFqs5y_Zct"
   },
   "outputs": [],
   "source": [
    "# переименование столбцов\n",
    "\n",
    "\n",
    "df = df.rename(columns={'  userID' : 'user_id','Track':'track','  City  ':'city','Day':'day'})"
   ]
  },
  {
   "cell_type": "markdown",
   "metadata": {
    "deletable": false,
    "editable": false,
    "id": "1dqbh00J_Zct",
    "tags": [
     "start_task"
    ]
   },
   "source": [
    "**Задание 8**\n",
    "\n",
    "\n",
    "Проверьте результат. Для этого ещё раз выведите на экран названия столбцов:"
   ]
  },
  {
   "cell_type": "code",
   "execution_count": 8,
   "metadata": {
    "deletable": false,
    "id": "d4NOAmTW_Zct"
   },
   "outputs": [
    {
     "data": {
      "text/plain": [
       "Index(['user_id', 'track', 'artist', 'genre', 'city', 'time', 'day'], dtype='object')"
      ]
     },
     "execution_count": 8,
     "metadata": {},
     "output_type": "execute_result"
    }
   ],
   "source": [
    "# проверка результатов - перечень названий столбцов\n",
    "\n",
    "df.columns"
   ]
  },
  {
   "cell_type": "markdown",
   "metadata": {
    "deletable": false,
    "editable": false,
    "id": "5ISfbcfY_Zct",
    "tags": [
     "start_task"
    ]
   },
   "source": [
    "### Пропуски значений\n",
    "\n",
    "**Задание 9**\n",
    "\n",
    "Сначала посчитайте, сколько в таблице пропущенных значений. Для этого достаточно двух методов `pandas`:"
   ]
  },
  {
   "cell_type": "code",
   "execution_count": 9,
   "metadata": {
    "deletable": false,
    "id": "RskX29qr_Zct"
   },
   "outputs": [
    {
     "data": {
      "text/plain": [
       "user_id       0\n",
       "track      1231\n",
       "artist     7203\n",
       "genre      1198\n",
       "city          0\n",
       "time          0\n",
       "day           0\n",
       "dtype: int64"
      ]
     },
     "execution_count": 9,
     "metadata": {},
     "output_type": "execute_result"
    }
   ],
   "source": [
    "# подсчёт пропусков\n",
    "df.isna().sum()"
   ]
  },
  {
   "cell_type": "markdown",
   "metadata": {
    "deletable": false,
    "editable": false,
    "id": "qubhgnlO_Zct"
   },
   "source": [
    "Не все пропущенные значения влияют на исследование. Так в `track` и `artist` пропуски не важны для вашей работы. Достаточно заменить их явными обозначениями.\n",
    "\n",
    "Но пропуски в `genre` могут помешать сравнению музыкальных вкусов в Москве и Санкт-Петербурге. На практике было бы правильно установить причину пропусков и восстановить данные. Такой возможности нет в учебном проекте. Придётся:\n",
    "* заполнить и эти пропуски явными обозначениями;\n",
    "* оценить, насколько они повредят расчётам. "
   ]
  },
  {
   "cell_type": "markdown",
   "metadata": {
    "deletable": false,
    "editable": false,
    "id": "fSv2laPA_Zct",
    "tags": [
     "start_task"
    ]
   },
   "source": [
    "**Задание 10**\n",
    "\n",
    "Замените пропущенные значения в столбцах `track`, `artist` и `genre` на строку `'unknown'`. Для этого создайте список `columns_to_replace`, переберите его элементы циклом `for` и для каждого столбца выполните замену пропущенных значений:"
   ]
  },
  {
   "cell_type": "code",
   "execution_count": 10,
   "metadata": {
    "deletable": false,
    "id": "KplB5qWs_Zct"
   },
   "outputs": [],
   "source": [
    "# перебор названий столбцов в цикле и замена пропущенных значений на 'unknown'\n",
    "columns_to_replace = ['track','artist','genre']\n",
    "for i in columns_to_replace:\n",
    "    df[i] = df[i].fillna('unknown')\n",
    "    \n",
    "    "
   ]
  },
  {
   "cell_type": "markdown",
   "metadata": {
    "deletable": false,
    "editable": false,
    "id": "Ilsm-MZo_Zct",
    "tags": [
     "start_task"
    ]
   },
   "source": [
    "**Задание 11**\n",
    "\n",
    "Убедитесь, что в таблице не осталось пропусков. Для этого ещё раз посчитайте пропущенные значения."
   ]
  },
  {
   "cell_type": "code",
   "execution_count": 11,
   "metadata": {
    "deletable": false,
    "id": "Tq4nYRX4_Zct"
   },
   "outputs": [
    {
     "data": {
      "text/plain": [
       "user_id    0\n",
       "track      0\n",
       "artist     0\n",
       "genre      0\n",
       "city       0\n",
       "time       0\n",
       "day        0\n",
       "dtype: int64"
      ]
     },
     "execution_count": 11,
     "metadata": {},
     "output_type": "execute_result"
    }
   ],
   "source": [
    "# подсчёт пропусков\n",
    "df.isna().sum()"
   ]
  },
  {
   "cell_type": "markdown",
   "metadata": {
    "deletable": false,
    "editable": false,
    "id": "BWKRtBJ3_Zct",
    "tags": [
     "start_task"
    ]
   },
   "source": [
    "### Дубликаты\n",
    "\n",
    "**Задание 12**\n",
    "\n",
    "Посчитайте явные дубликаты в таблице одной командой:"
   ]
  },
  {
   "cell_type": "code",
   "execution_count": 12,
   "metadata": {
    "deletable": false,
    "id": "36eES_S0_Zct"
   },
   "outputs": [
    {
     "data": {
      "text/plain": [
       "3826"
      ]
     },
     "execution_count": 12,
     "metadata": {},
     "output_type": "execute_result"
    }
   ],
   "source": [
    "# подсчёт явных дубликатов\n",
    "df.duplicated().sum()\n",
    "\n"
   ]
  },
  {
   "cell_type": "markdown",
   "metadata": {
    "deletable": false,
    "editable": false,
    "id": "Ot25h6XR_Zct",
    "tags": [
     "start_task"
    ]
   },
   "source": [
    "**Задание 13**\n",
    "\n",
    "Вызовите специальный метод `pandas`, чтобы удалить явные дубликаты:"
   ]
  },
  {
   "cell_type": "code",
   "execution_count": 13,
   "metadata": {
    "deletable": false,
    "id": "exFHq6tt_Zct"
   },
   "outputs": [],
   "source": [
    "# удаление явных дубликатов\n",
    "df = df.drop_duplicates()\n",
    "\n"
   ]
  },
  {
   "cell_type": "markdown",
   "metadata": {
    "deletable": false,
    "editable": false,
    "id": "Im2YwBEG_Zct",
    "tags": [
     "start_task"
    ]
   },
   "source": [
    "**Задание 14**\n",
    "\n",
    "Ещё раз посчитайте явные дубликаты в таблице — убедитесь, что полностью от них избавились:"
   ]
  },
  {
   "cell_type": "code",
   "execution_count": 14,
   "metadata": {
    "deletable": false,
    "id": "-8PuNWQ0_Zct"
   },
   "outputs": [
    {
     "data": {
      "text/plain": [
       "0"
      ]
     },
     "execution_count": 14,
     "metadata": {},
     "output_type": "execute_result"
    }
   ],
   "source": [
    "# проверка на отсутствие дубликатов\n",
    "df.duplicated().sum()\n",
    "\n",
    "\n",
    "\n"
   ]
  },
  {
   "cell_type": "markdown",
   "metadata": {
    "deletable": false,
    "editable": false,
    "id": "QlFBsxAr_Zct"
   },
   "source": [
    "Теперь избавьтесь от неявных дубликатов в колонке `genre`. Например, название одного и того же жанра может быть записано немного по-разному. Такие ошибки тоже повлияют на результат исследования."
   ]
  },
  {
   "cell_type": "markdown",
   "metadata": {
    "deletable": false,
    "editable": false,
    "id": "eSjWwsOh_Zct",
    "tags": [
     "start_task"
    ]
   },
   "source": [
    "**Задание 15**\n",
    "\n",
    "Выведите на экран список уникальных названий жанров, отсортированный в алфавитном порядке. Для этого:\n",
    "1. извлеките нужный столбец датафрейма; \n",
    "2. примените к нему метод сортировки;\n",
    "3. для отсортированного столбца вызовите метод, который вернёт уникальные значения из столбца."
   ]
  },
  {
   "cell_type": "code",
   "execution_count": 15,
   "metadata": {
    "deletable": false,
    "id": "JIUcqzZN_Zct"
   },
   "outputs": [
    {
     "name": "stdout",
     "output_type": "stream",
     "text": [
      "['acid' 'acoustic' 'action' 'adult' 'africa' 'afrikaans' 'alternative'\n",
      " 'alternativepunk' 'ambient' 'americana' 'animated' 'anime' 'arabesk'\n",
      " 'arabic' 'arena' 'argentinetango' 'art' 'audiobook' 'author' 'avantgarde'\n",
      " 'axé' 'baile' 'balkan' 'beats' 'bigroom' 'black' 'bluegrass' 'blues'\n",
      " 'bollywood' 'bossa' 'brazilian' 'breakbeat' 'breaks' 'broadway'\n",
      " 'cantautori' 'cantopop' 'canzone' 'caribbean' 'caucasian' 'celtic'\n",
      " 'chamber' 'chanson' 'children' 'chill' 'chinese' 'choral' 'christian'\n",
      " 'christmas' 'classical' 'classicmetal' 'club' 'colombian' 'comedy'\n",
      " 'conjazz' 'contemporary' 'country' 'cuban' 'dance' 'dancehall' 'dancepop'\n",
      " 'dark' 'death' 'deep' 'deutschrock' 'deutschspr' 'dirty' 'disco' 'dnb'\n",
      " 'documentary' 'downbeat' 'downtempo' 'drum' 'dub' 'dubstep' 'eastern'\n",
      " 'easy' 'electronic' 'electropop' 'emo' 'entehno' 'epicmetal' 'estrada'\n",
      " 'ethnic' 'eurofolk' 'european' 'experimental' 'extrememetal' 'fado'\n",
      " 'fairytail' 'film' 'fitness' 'flamenco' 'folk' 'folklore' 'folkmetal'\n",
      " 'folkrock' 'folktronica' 'forró' 'frankreich' 'französisch' 'french'\n",
      " 'funk' 'future' 'gangsta' 'garage' 'german' 'ghazal' 'gitarre' 'glitch'\n",
      " 'gospel' 'gothic' 'grime' 'grunge' 'gypsy' 'handsup' \"hard'n'heavy\"\n",
      " 'hardcore' 'hardstyle' 'hardtechno' 'hip' 'hip-hop' 'hiphop' 'historisch'\n",
      " 'holiday' 'hop' 'horror' 'house' 'hymn' 'idm' 'independent' 'indian'\n",
      " 'indie' 'indipop' 'industrial' 'inspirational' 'instrumental'\n",
      " 'international' 'irish' 'jam' 'japanese' 'jazz' 'jewish' 'jpop' 'jungle'\n",
      " 'k-pop' 'karadeniz' 'karaoke' 'kayokyoku' 'korean' 'laiko' 'latin'\n",
      " 'latino' 'leftfield' 'local' 'lounge' 'loungeelectronic' 'lovers'\n",
      " 'malaysian' 'mandopop' 'marschmusik' 'meditative' 'mediterranean'\n",
      " 'melodic' 'metal' 'metalcore' 'mexican' 'middle' 'minimal'\n",
      " 'miscellaneous' 'modern' 'mood' 'mpb' 'muslim' 'native' 'neoklassik'\n",
      " 'neue' 'new' 'newage' 'newwave' 'nu' 'nujazz' 'numetal' 'oceania' 'old'\n",
      " 'opera' 'orchestral' 'other' 'piano' 'podcasts' 'pop' 'popdance'\n",
      " 'popelectronic' 'popeurodance' 'poprussian' 'post' 'posthardcore'\n",
      " 'postrock' 'power' 'progmetal' 'progressive' 'psychedelic' 'punjabi'\n",
      " 'punk' 'quebecois' 'ragga' 'ram' 'rancheras' 'rap' 'rave' 'reggae'\n",
      " 'reggaeton' 'regional' 'relax' 'religious' 'retro' 'rhythm' 'rnb' 'rnr'\n",
      " 'rock' 'rockabilly' 'rockalternative' 'rockindie' 'rockother' 'romance'\n",
      " 'roots' 'ruspop' 'rusrap' 'rusrock' 'russian' 'salsa' 'samba' 'scenic'\n",
      " 'schlager' 'self' 'sertanejo' 'shanson' 'shoegazing' 'showtunes' 'singer'\n",
      " 'ska' 'skarock' 'slow' 'smooth' 'soft' 'soul' 'soulful' 'sound'\n",
      " 'soundtrack' 'southern' 'specialty' 'speech' 'spiritual' 'sport'\n",
      " 'stonerrock' 'surf' 'swing' 'synthpop' 'synthrock' 'sängerportrait'\n",
      " 'tango' 'tanzorchester' 'taraftar' 'tatar' 'tech' 'techno' 'teen'\n",
      " 'thrash' 'top' 'traditional' 'tradjazz' 'trance' 'tribal' 'trip'\n",
      " 'triphop' 'tropical' 'türk' 'türkçe' 'ukrrock' 'unknown' 'urban' 'uzbek'\n",
      " 'variété' 'vi' 'videogame' 'vocal' 'western' 'world' 'worldbeat' 'ïîï'\n",
      " 'электроника']\n"
     ]
    }
   ],
   "source": [
    "# Просмотр уникальных названий жанров\n",
    "print(df['genre'].sort_values().unique())\n",
    "#print(df['genre'].unique())\n",
    "\n",
    "\n",
    "\n"
   ]
  },
  {
   "cell_type": "markdown",
   "metadata": {
    "deletable": false,
    "editable": false,
    "id": "qej-Qmuo_Zct",
    "tags": [
     "start_task"
    ]
   },
   "source": [
    "**Задание 16**\n",
    "\n",
    "Просмотрите список и найдите неявные дубликаты названия `hiphop`. Это могут быть названия с ошибками или альтернативные названия того же жанра.\n",
    "\n",
    "Вы увидите следующие неявные дубликаты:\n",
    "* *hip*,\n",
    "* *hop*,\n",
    "* *hip-hop*.\n",
    "\n",
    "Чтобы очистить от них таблицу используйте метод `replace()` с двумя аргументами: списком строк-дубликатов (включащий *hip*, *hop* и *hip-hop*) и строкой с правильным значением. Вам нужно исправить колонку `genre` в таблице `df`: заменить каждое значение из списка дубликатов на верное. Вместо `hip`, `hop` и `hip-hop` в таблице должно быть значение `hiphop`:"
   ]
  },
  {
   "cell_type": "code",
   "execution_count": 16,
   "metadata": {
    "deletable": false,
    "id": "ErNDkmns_Zct"
   },
   "outputs": [],
   "source": [
    "# Устранение неявных дубликатов\n",
    "replace_genre = ['hip','hop','hip-hop']\n",
    "df['genre'] = df['genre'].replace(replace_genre,'hiphop')\n"
   ]
  },
  {
   "cell_type": "markdown",
   "metadata": {
    "deletable": false,
    "editable": false,
    "id": "zQKF16_RG15m",
    "tags": [
     "start_task"
    ]
   },
   "source": [
    "**Задание 17**\n",
    "\n",
    "Проверьте, что заменили неправильные названия:\n",
    "\n",
    "*   hip,\n",
    "*   hop,\n",
    "*   hip-hop.\n",
    "\n",
    "Выведите отсортированный список уникальных значений столбца `genre`:"
   ]
  },
  {
   "cell_type": "code",
   "execution_count": 17,
   "metadata": {
    "deletable": false,
    "id": "wvixALnFG15m"
   },
   "outputs": [
    {
     "name": "stdout",
     "output_type": "stream",
     "text": [
      "['acid' 'acoustic' 'action' 'adult' 'africa' 'afrikaans' 'alternative'\n",
      " 'alternativepunk' 'ambient' 'americana' 'animated' 'anime' 'arabesk'\n",
      " 'arabic' 'arena' 'argentinetango' 'art' 'audiobook' 'author' 'avantgarde'\n",
      " 'axé' 'baile' 'balkan' 'beats' 'bigroom' 'black' 'bluegrass' 'blues'\n",
      " 'bollywood' 'bossa' 'brazilian' 'breakbeat' 'breaks' 'broadway'\n",
      " 'cantautori' 'cantopop' 'canzone' 'caribbean' 'caucasian' 'celtic'\n",
      " 'chamber' 'chanson' 'children' 'chill' 'chinese' 'choral' 'christian'\n",
      " 'christmas' 'classical' 'classicmetal' 'club' 'colombian' 'comedy'\n",
      " 'conjazz' 'contemporary' 'country' 'cuban' 'dance' 'dancehall' 'dancepop'\n",
      " 'dark' 'death' 'deep' 'deutschrock' 'deutschspr' 'dirty' 'disco' 'dnb'\n",
      " 'documentary' 'downbeat' 'downtempo' 'drum' 'dub' 'dubstep' 'eastern'\n",
      " 'easy' 'electronic' 'electropop' 'emo' 'entehno' 'epicmetal' 'estrada'\n",
      " 'ethnic' 'eurofolk' 'european' 'experimental' 'extrememetal' 'fado'\n",
      " 'fairytail' 'film' 'fitness' 'flamenco' 'folk' 'folklore' 'folkmetal'\n",
      " 'folkrock' 'folktronica' 'forró' 'frankreich' 'französisch' 'french'\n",
      " 'funk' 'future' 'gangsta' 'garage' 'german' 'ghazal' 'gitarre' 'glitch'\n",
      " 'gospel' 'gothic' 'grime' 'grunge' 'gypsy' 'handsup' \"hard'n'heavy\"\n",
      " 'hardcore' 'hardstyle' 'hardtechno' 'hiphop' 'historisch' 'holiday'\n",
      " 'horror' 'house' 'hymn' 'idm' 'independent' 'indian' 'indie' 'indipop'\n",
      " 'industrial' 'inspirational' 'instrumental' 'international' 'irish' 'jam'\n",
      " 'japanese' 'jazz' 'jewish' 'jpop' 'jungle' 'k-pop' 'karadeniz' 'karaoke'\n",
      " 'kayokyoku' 'korean' 'laiko' 'latin' 'latino' 'leftfield' 'local'\n",
      " 'lounge' 'loungeelectronic' 'lovers' 'malaysian' 'mandopop' 'marschmusik'\n",
      " 'meditative' 'mediterranean' 'melodic' 'metal' 'metalcore' 'mexican'\n",
      " 'middle' 'minimal' 'miscellaneous' 'modern' 'mood' 'mpb' 'muslim'\n",
      " 'native' 'neoklassik' 'neue' 'new' 'newage' 'newwave' 'nu' 'nujazz'\n",
      " 'numetal' 'oceania' 'old' 'opera' 'orchestral' 'other' 'piano' 'podcasts'\n",
      " 'pop' 'popdance' 'popelectronic' 'popeurodance' 'poprussian' 'post'\n",
      " 'posthardcore' 'postrock' 'power' 'progmetal' 'progressive' 'psychedelic'\n",
      " 'punjabi' 'punk' 'quebecois' 'ragga' 'ram' 'rancheras' 'rap' 'rave'\n",
      " 'reggae' 'reggaeton' 'regional' 'relax' 'religious' 'retro' 'rhythm'\n",
      " 'rnb' 'rnr' 'rock' 'rockabilly' 'rockalternative' 'rockindie' 'rockother'\n",
      " 'romance' 'roots' 'ruspop' 'rusrap' 'rusrock' 'russian' 'salsa' 'samba'\n",
      " 'scenic' 'schlager' 'self' 'sertanejo' 'shanson' 'shoegazing' 'showtunes'\n",
      " 'singer' 'ska' 'skarock' 'slow' 'smooth' 'soft' 'soul' 'soulful' 'sound'\n",
      " 'soundtrack' 'southern' 'specialty' 'speech' 'spiritual' 'sport'\n",
      " 'stonerrock' 'surf' 'swing' 'synthpop' 'synthrock' 'sängerportrait'\n",
      " 'tango' 'tanzorchester' 'taraftar' 'tatar' 'tech' 'techno' 'teen'\n",
      " 'thrash' 'top' 'traditional' 'tradjazz' 'trance' 'tribal' 'trip'\n",
      " 'triphop' 'tropical' 'türk' 'türkçe' 'ukrrock' 'unknown' 'urban' 'uzbek'\n",
      " 'variété' 'vi' 'videogame' 'vocal' 'western' 'world' 'worldbeat' 'ïîï'\n",
      " 'электроника']\n"
     ]
    }
   ],
   "source": [
    "# Проверка на неявные дубликаты\n",
    "print(df['genre'].sort_values().unique())\n",
    "\n",
    "\n",
    "\n"
   ]
  },
  {
   "cell_type": "markdown",
   "metadata": {
    "deletable": false,
    "editable": false,
    "id": "jz6a9-7HQUDd"
   },
   "source": [
    "**Выводы**\n",
    "\n",
    "Предобработка обнаружила три проблемы в данных:\n",
    "\n",
    "- нарушения в стиле заголовков,\n",
    "- пропущенные значения,\n",
    "- дубликаты — явные и неявные.\n",
    "\n",
    "Вы исправили заголовки, чтобы упростить работу с таблицей. Без дубликатов исследование станет более точным.\n",
    "\n",
    "Пропущенные значения вы заменили на `'unknown'`. Ещё предстоит увидеть, не повредят ли исследованию пропуски в колонке `genre`.\n",
    "\n",
    "Теперь можно перейти к проверке гипотез. "
   ]
  },
  {
   "cell_type": "markdown",
   "metadata": {
    "deletable": false,
    "editable": false,
    "id": "WttZHXH0SqKk"
   },
   "source": [
    "## Проверка гипотез"
   ]
  },
  {
   "cell_type": "markdown",
   "metadata": {
    "deletable": false,
    "editable": false,
    "id": "Im936VVi_Zcu"
   },
   "source": [
    "### Сравнение поведения пользователей двух столиц"
   ]
  },
  {
   "cell_type": "markdown",
   "metadata": {
    "deletable": false,
    "editable": false,
    "id": "nwt_MuaL_Zcu"
   },
   "source": [
    "Первая гипотеза утверждает, что пользователи по-разному слушают музыку в Москве и Санкт-Петербурге. Проверьте это предположение по данным о трёх днях недели — понедельнике, среде и пятнице. Для этого:\n",
    "\n",
    "* Разделите пользователей Москвы и Санкт-Петербурга.\n",
    "* Сравните, сколько треков послушала каждая группа пользователей в понедельник, среду и пятницу.\n"
   ]
  },
  {
   "cell_type": "markdown",
   "metadata": {
    "deletable": false,
    "editable": false,
    "id": "8Dw_YMmT_Zcu",
    "tags": [
     "start_task"
    ]
   },
   "source": [
    "**Задание 18**\n",
    "\n",
    "Для тренировки сначала выполните каждый из расчётов по отдельности. \n",
    "\n",
    "Оцените активность пользователей в каждом городе. Сгруппируйте данные по городу и посчитайте прослушивания в каждой группе.\n",
    "\n"
   ]
  },
  {
   "cell_type": "code",
   "execution_count": 18,
   "metadata": {
    "deletable": false,
    "id": "0_Qs96oh_Zcu"
   },
   "outputs": [
    {
     "name": "stdout",
     "output_type": "stream",
     "text": [
      "city\n",
      "Moscow              42741\n",
      "Saint-Petersburg    18512\n",
      "Name: user_id, dtype: int64\n"
     ]
    }
   ],
   "source": [
    "# Подсчёт прослушиваний в каждом городе\n",
    "print(df.groupby('city')['user_id'].count())\n",
    "\n",
    "\n",
    "\n",
    "\n",
    "\n"
   ]
  },
  {
   "cell_type": "markdown",
   "metadata": {
    "deletable": false,
    "editable": false,
    "id": "dzli3w8o_Zcu",
    "tags": [
     "start_task"
    ]
   },
   "source": [
    "В Москве прослушиваний больше, чем в Петербурге. Из этого не следует, что московские пользователи чаще слушают музыку. Просто самих пользователей в Москве больше.\n",
    "\n",
    "**Задание 19**\n",
    "\n",
    "Теперь сгруппируйте данные по дню недели и посчитайте прослушивания в понедельник, среду и пятницу. Учтите, что в данных есть информация о прослушиваниях только за эти дни.\n"
   ]
  },
  {
   "cell_type": "code",
   "execution_count": 19,
   "metadata": {
    "deletable": false,
    "id": "uZMKjiJz_Zcu"
   },
   "outputs": [
    {
     "name": "stdout",
     "output_type": "stream",
     "text": [
      "day\n",
      "Friday       21840\n",
      "Monday       21354\n",
      "Wednesday    18059\n",
      "Name: city, dtype: int64\n"
     ]
    }
   ],
   "source": [
    "# Подсчёт прослушиваний в каждый из трёх дней\n",
    "print(df.groupby('day')['city'].count())\n",
    "\n",
    "    \n"
   ]
  },
  {
   "cell_type": "markdown",
   "metadata": {
    "deletable": false,
    "editable": false,
    "id": "cC2tNrlL_Zcu"
   },
   "source": [
    "В среднем пользователи из двух городов менее активны по средам. Но картина может измениться, если рассмотреть каждый город в отдельности."
   ]
  },
  {
   "cell_type": "markdown",
   "metadata": {
    "deletable": false,
    "editable": false,
    "id": "POzs8bGa_Zcu",
    "tags": [
     "start_task"
    ]
   },
   "source": [
    "**Задание 20**\n",
    "\n",
    "\n",
    "Вы видели, как работает группировка по городу и по дням недели. Теперь напишите функцию, которая объединит два эти расчёта.\n",
    "\n",
    "Создайте функцию `number_tracks()`, которая посчитает прослушивания для заданного дня и города. Ей понадобятся два параметра:\n",
    "* день недели,\n",
    "* название города.\n",
    "\n",
    "В функции сохраните в переменную строки исходной таблицы, у которых значение:\n",
    "  * в колонке `day` равно параметру `day`,\n",
    "  * в колонке `city` равно параметру `city`.\n",
    "\n",
    "Для этого примените последовательную фильтрацию с логической индексацией (или сложные логические выражения в одну строку, если вы уже знакомы с ними).\n",
    "\n",
    "Затем посчитайте значения в столбце `user_id` получившейся таблицы. Результат сохраните в новую переменную. Верните эту переменную из функции."
   ]
  },
  {
   "cell_type": "code",
   "execution_count": 20,
   "metadata": {
    "deletable": false,
    "id": "Nz3GdQB1_Zcu"
   },
   "outputs": [],
   "source": [
    "# <создание функции number_tracks()>\n",
    "# Объявляется функция с двумя параметрами: day, city.\n",
    "def number_tracks(day,city):\n",
    "    track_list=df[df['day'] == day]\n",
    "    track_list =track_list[track_list['city'] == city]\n",
    "    track_list_count = track_list['user_id'].count()\n",
    "    return track_list_count\n",
    "        \n",
    "    \n",
    "# В переменной track_list сохраняются те строки таблицы df, для которых \n",
    "# значение в столбце 'day' равно параметру day и одновременно значение\n",
    "# в столбце 'city' равно параметру city (используйте последовательную фильтрацию\n",
    "# с помощью логической индексации или сложные логические выражения в одну строку, если вы уже знакомы с ними).\n",
    "# В переменной track_list_count сохраняется число значений столбца 'user_id',\n",
    "# рассчитанное методом count() для таблицы track_list.\n",
    "# Функция возвращает число - значение track_list_count.\n",
    "\n",
    "# Функция для подсчёта прослушиваний для конкретного города и дня.\n",
    "# С помощью последовательной фильтрации с логической индексацией она \n",
    "# сначала получит из исходной таблицы строки с нужным днём,\n",
    "# затем из результата отфильтрует строки с нужным городом,\n",
    "# методом count() посчитает количество значений в колонке user_id. \n",
    "# Это количество функция вернёт в качестве результата"
   ]
  },
  {
   "cell_type": "markdown",
   "metadata": {
    "deletable": false,
    "editable": false,
    "id": "ytf7xFrFJQ2r",
    "tags": [
     "start_task"
    ]
   },
   "source": [
    "**Задание 21**\n",
    "\n",
    "Вызовите `number_tracks()` шесть раз, меняя значение параметров — так, чтобы получить данные для каждого города в каждый из трёх дней."
   ]
  },
  {
   "cell_type": "code",
   "execution_count": 21,
   "metadata": {
    "deletable": false,
    "id": "rJcRATNQ_Zcu"
   },
   "outputs": [
    {
     "name": "stdout",
     "output_type": "stream",
     "text": [
      "15740\n"
     ]
    }
   ],
   "source": [
    "# количество прослушиваний в Москве по понедельникам\n",
    "print(number_tracks('Monday','Moscow'))\n"
   ]
  },
  {
   "cell_type": "code",
   "execution_count": 22,
   "metadata": {
    "deletable": false,
    "id": "hq_ncZ5T_Zcu"
   },
   "outputs": [
    {
     "name": "stdout",
     "output_type": "stream",
     "text": [
      "5614\n"
     ]
    }
   ],
   "source": [
    "# количество прослушиваний в Санкт-Петербурге по понедельникам\n",
    "print(number_tracks('Monday','Saint-Petersburg'))"
   ]
  },
  {
   "cell_type": "code",
   "execution_count": 23,
   "metadata": {
    "deletable": false,
    "id": "_NTy2VPU_Zcu"
   },
   "outputs": [
    {
     "name": "stdout",
     "output_type": "stream",
     "text": [
      "11056\n"
     ]
    }
   ],
   "source": [
    "# количество прослушиваний в Москве по средам\n",
    "print(number_tracks('Wednesday','Moscow'))"
   ]
  },
  {
   "cell_type": "code",
   "execution_count": 24,
   "metadata": {
    "deletable": false,
    "id": "j2y3TAwo_Zcu"
   },
   "outputs": [
    {
     "name": "stdout",
     "output_type": "stream",
     "text": [
      "7003\n"
     ]
    }
   ],
   "source": [
    "# количество прослушиваний в Санкт-Петербурге по средам\n",
    "print(number_tracks('Wednesday','Saint-Petersburg'))"
   ]
  },
  {
   "cell_type": "code",
   "execution_count": 25,
   "metadata": {
    "deletable": false,
    "id": "vYDw5u_K_Zcu"
   },
   "outputs": [
    {
     "name": "stdout",
     "output_type": "stream",
     "text": [
      "15945\n"
     ]
    }
   ],
   "source": [
    "# количество прослушиваний в Москве по пятницам\n",
    "print(number_tracks('Friday','Moscow'))"
   ]
  },
  {
   "cell_type": "code",
   "execution_count": 26,
   "metadata": {
    "deletable": false,
    "id": "8_yzFtW3_Zcu"
   },
   "outputs": [
    {
     "name": "stdout",
     "output_type": "stream",
     "text": [
      "5895\n"
     ]
    }
   ],
   "source": [
    "# количество прослушиваний в Санкт-Петербурге по пятницам\n",
    "print(number_tracks('Friday','Saint-Petersburg'))"
   ]
  },
  {
   "cell_type": "markdown",
   "metadata": {
    "deletable": false,
    "editable": false,
    "id": "7QXffbO-_Zcu",
    "tags": [
     "start_task"
    ]
   },
   "source": [
    "**Задание 22**\n",
    "\n",
    "Создайте c помощью конструктора `pd.DataFrame` таблицу, где\n",
    "* названия колонок — `['city', 'monday', 'wednesday', 'friday']`;\n",
    "* данные — результаты, которые вы получили с помощью `number_tracks`."
   ]
  },
  {
   "cell_type": "code",
   "execution_count": 27,
   "metadata": {
    "deletable": false,
    "id": "APAcLpOr_Zcu"
   },
   "outputs": [
    {
     "data": {
      "text/html": [
       "<div>\n",
       "<style scoped>\n",
       "    .dataframe tbody tr th:only-of-type {\n",
       "        vertical-align: middle;\n",
       "    }\n",
       "\n",
       "    .dataframe tbody tr th {\n",
       "        vertical-align: top;\n",
       "    }\n",
       "\n",
       "    .dataframe thead th {\n",
       "        text-align: right;\n",
       "    }\n",
       "</style>\n",
       "<table border=\"1\" class=\"dataframe\">\n",
       "  <thead>\n",
       "    <tr style=\"text-align: right;\">\n",
       "      <th></th>\n",
       "      <th>city</th>\n",
       "      <th>monday</th>\n",
       "      <th>wednesday</th>\n",
       "      <th>friday</th>\n",
       "    </tr>\n",
       "  </thead>\n",
       "  <tbody>\n",
       "    <tr>\n",
       "      <th>0</th>\n",
       "      <td>Moscow</td>\n",
       "      <td>15740</td>\n",
       "      <td>0</td>\n",
       "      <td>15495</td>\n",
       "    </tr>\n",
       "    <tr>\n",
       "      <th>1</th>\n",
       "      <td>Saint-Petersburg</td>\n",
       "      <td>15740</td>\n",
       "      <td>0</td>\n",
       "      <td>5895</td>\n",
       "    </tr>\n",
       "  </tbody>\n",
       "</table>\n",
       "</div>"
      ],
      "text/plain": [
       "               city  monday  wednesday  friday\n",
       "0            Moscow   15740          0   15495\n",
       "1  Saint-Petersburg   15740          0    5895"
      ]
     },
     "execution_count": 27,
     "metadata": {},
     "output_type": "execute_result"
    }
   ],
   "source": [
    "# Таблица с результатами\n",
    "#import pandas as pd\n",
    "columns = ['city','monday','wednesday','friday']\n",
    "number_tracks = [['Moscow',15740,0,15495],['Saint-Petersburg',15740,0,5895]]\n",
    "pd.DataFrame(data = number_tracks,columns = columns)\n",
    "                 "
   ]
  },
  {
   "cell_type": "markdown",
   "metadata": {
    "deletable": false,
    "editable": false,
    "id": "-EgPIHYu_Zcu"
   },
   "source": [
    "**Выводы**\n",
    "\n",
    "Данные показывают разницу поведения пользователей:\n",
    "\n",
    "- В Москве пик прослушиваний приходится на понедельник и пятницу, а в среду заметен спад.\n",
    "- В Петербурге, наоборот, больше слушают музыку по средам. Активность в понедельник и пятницу здесь почти в равной мере уступает среде.\n",
    "\n",
    "Значит, данные говорят в пользу первой гипотезы."
   ]
  },
  {
   "cell_type": "markdown",
   "metadata": {
    "deletable": false,
    "editable": false,
    "id": "atZAxtq4_Zcu"
   },
   "source": [
    "### Музыка в начале и в конце недели"
   ]
  },
  {
   "cell_type": "markdown",
   "metadata": {
    "deletable": false,
    "editable": false,
    "id": "eXrQqXFH_Zcu"
   },
   "source": [
    "Согласно второй гипотезе, утром в понедельник в Москве преобладают одни жанры, а в Петербурге — другие. Так же и вечером пятницы преобладают разные жанры — в зависимости от города."
   ]
  },
  {
   "cell_type": "markdown",
   "metadata": {
    "deletable": false,
    "editable": false,
    "id": "S8UcW6Hw_Zcu",
    "tags": [
     "start_task"
    ]
   },
   "source": [
    "**Задание 23**\n",
    "\n",
    "Сохраните таблицы с данными в две переменные:\n",
    "* по Москве — в `moscow_general`;\n",
    "* по Санкт-Петербургу — в `spb_general`."
   ]
  },
  {
   "cell_type": "code",
   "execution_count": 28,
   "metadata": {
    "deletable": false,
    "id": "qeaFfM_P_Zcu"
   },
   "outputs": [],
   "source": [
    "# получение таблицы moscow_general из тех строк таблицы df, \n",
    "# для которых значение в столбце 'city' равно 'Moscow'\n",
    "moscow_general = df[df['city']=='Moscow']\n",
    "#print(moscow_general)\n"
   ]
  },
  {
   "cell_type": "code",
   "execution_count": 29,
   "metadata": {
    "deletable": false,
    "id": "ORaVRKto_Zcu"
   },
   "outputs": [],
   "source": [
    "# получение таблицы spb_general из тех строк таблицы df,\n",
    "# для которых значение в столбце 'city' равно 'Saint-Petersburg'\n",
    "spb_general = df[df['city'] == 'Saint-Petersburg']"
   ]
  },
  {
   "cell_type": "markdown",
   "metadata": {
    "deletable": false,
    "editable": false,
    "id": "MEJV-CX2_Zcu",
    "tags": [
     "start_task"
    ]
   },
   "source": [
    "**Задание 24**\n",
    "\n",
    "Создайте функцию `genre_weekday()` с четырьмя параметрами:\n",
    "* таблица (датафрейм) с данными,\n",
    "* день недели,\n",
    "* начальная временная метка в формате 'hh:mm', \n",
    "* последняя временная метка в формате 'hh:mm'.\n",
    "\n",
    "Функция должна вернуть информацию о топ-10 жанров тех треков, которые прослушивали в указанный день, в промежутке между двумя отметками времени."
   ]
  },
  {
   "cell_type": "code",
   "execution_count": 30,
   "metadata": {
    "deletable": false,
    "id": "laJT9BYl_Zcu"
   },
   "outputs": [],
   "source": [
    "# Объявление функции genre_weekday() с параметрами table, day, time1, time2,\n",
    "# которая возвращает информацию о самых популярных жанрах в указанный день в\n",
    "# заданное время:\n",
    "# 1) в переменную genre_df сохраняются те строки переданного датафрейма table, для\n",
    "#    которых одновременно:\n",
    "#    - значение в столбце day равно значению аргумента day\n",
    "#    - значение в столбце time больше значения аргумента time1\n",
    "#    - значение в столбце time меньше значения аргумента time2\n",
    "#    Используйте последовательную фильтрацию с помощью логической индексации.\n",
    "# 2) сгруппировать датафрейм genre_df по столбцу genre, взять один из его\n",
    "#    столбцов и посчитать методом count() количество записей для каждого из\n",
    "#    присутствующих жанров, получившийся Series записать в переменную\n",
    "#    genre_df_count\n",
    "# 3) отсортировать genre_df_count по убыванию встречаемости и сохранить\n",
    "#    в переменную genre_df_sorted\n",
    "# 4) вернуть Series из 10 первых значений genre_df_sorted, это будут топ-10\n",
    "#    популярных жанров (в указанный день, в заданное время)\n",
    "\n",
    "def genre_weekday(df,day, time1, time2):\n",
    "    # последовательная фильтрация\n",
    "    # оставляем в genre_df только те строки df, у которых день равен day\n",
    "    genre_df = df[df['day'] == day] # ваш код здесь\n",
    "    # оставляем в genre_df только те строки genre_df, у которых время меньше time2\n",
    "    genre_df = genre_df[genre_df['time'] < time2] # ваш код здесь\n",
    "    # оставляем в genre_df только те строки genre_df, у которых время больше time1\n",
    "    genre_df = genre_df[genre_df['time'] > time1]# ваш код здесь\n",
    "    # сгруппируем отфильтрованный датафрейм по столбцу с названиями жанров, возьмём столбец genre и посчитаем кол-во строк для каждого жанра методом count()\n",
    "    genre_df_grouped = genre_df.groupby('genre')['genre'].count()# ваш код здесь\n",
    "    # отсортируем результат по убыванию (чтобы в начале Series оказались самые популярные жанры)\n",
    "    genre_df_sorted = genre_df_grouped.sort_values(ascending = False)# ваш код здесь\n",
    "    # вернём Series с 10 самыми популярными жанрами в указанный отрезок времени заданного дня\n",
    "    return genre_df_sorted[:10]"
   ]
  },
  {
   "cell_type": "markdown",
   "metadata": {
    "deletable": false,
    "editable": false,
    "id": "la2s2_PF_Zcu",
    "tags": [
     "start_task"
    ]
   },
   "source": [
    "**Задание 25**\n",
    "\n",
    "\n",
    "Cравните результаты функции `genre_weekday()` для Москвы и Санкт-Петербурга в понедельник утром (с 7:00 до 11:00) и в пятницу вечером (с 17:00 до 23:00):"
   ]
  },
  {
   "cell_type": "code",
   "execution_count": 31,
   "metadata": {
    "deletable": false,
    "id": "yz7itPUQ_Zcu"
   },
   "outputs": [
    {
     "data": {
      "text/plain": [
       "genre\n",
       "pop            781\n",
       "dance          549\n",
       "electronic     480\n",
       "rock           474\n",
       "hiphop         286\n",
       "ruspop         186\n",
       "world          181\n",
       "rusrap         175\n",
       "alternative    164\n",
       "unknown        161\n",
       "Name: genre, dtype: int64"
      ]
     },
     "execution_count": 31,
     "metadata": {},
     "output_type": "execute_result"
    }
   ],
   "source": [
    "# вызов функции для утра понедельника в Москве (вместо df — таблица moscow_general)\n",
    "# объекты, хранящие время, являются строками и сравниваются как строки\n",
    "# пример вызова \n",
    "genre_weekday(moscow_general,'Monday','07:00','11:00')\n",
    "\n"
   ]
  },
  {
   "cell_type": "code",
   "execution_count": 32,
   "metadata": {
    "deletable": false,
    "id": "kwUcHPdy_Zcu"
   },
   "outputs": [
    {
     "data": {
      "text/plain": [
       "genre\n",
       "pop            211\n",
       "dance          192\n",
       "electronic     167\n",
       "rock           156\n",
       "hiphop         109\n",
       "classical       56\n",
       "rusrap          55\n",
       "alternative     55\n",
       "world           46\n",
       "ruspop          45\n",
       "Name: genre, dtype: int64"
      ]
     },
     "execution_count": 32,
     "metadata": {},
     "output_type": "execute_result"
    }
   ],
   "source": [
    "# вызов функции для утра понедельника в Петербурге (вместо df — таблица spb_general)\n",
    "genre_weekday(spb_general,'Monday','07:00','11:00')"
   ]
  },
  {
   "cell_type": "code",
   "execution_count": 33,
   "metadata": {
    "deletable": false,
    "id": "EzXVRE1o_Zcu"
   },
   "outputs": [
    {
     "data": {
      "text/plain": [
       "genre\n",
       "pop            717\n",
       "dance          524\n",
       "rock           518\n",
       "electronic     485\n",
       "hiphop         238\n",
       "alternative    182\n",
       "classical      172\n",
       "world          172\n",
       "ruspop         149\n",
       "rusrap         133\n",
       "Name: genre, dtype: int64"
      ]
     },
     "execution_count": 33,
     "metadata": {},
     "output_type": "execute_result"
    }
   ],
   "source": [
    "# вызов функции для вечера пятницы в Москве\n",
    "genre_weekday(moscow_general,'Friday','17:00','23:00')"
   ]
  },
  {
   "cell_type": "code",
   "execution_count": 34,
   "metadata": {
    "deletable": false,
    "id": "JZaEKu5v_Zcu"
   },
   "outputs": [
    {
     "data": {
      "text/plain": [
       "genre\n",
       "pop            256\n",
       "electronic     216\n",
       "rock           216\n",
       "dance          210\n",
       "hiphop          97\n",
       "alternative     63\n",
       "jazz            61\n",
       "classical       60\n",
       "rusrap          59\n",
       "world           54\n",
       "Name: genre, dtype: int64"
      ]
     },
     "execution_count": 34,
     "metadata": {},
     "output_type": "execute_result"
    }
   ],
   "source": [
    "# вызов функции для вечера пятницы в Петербурге\n",
    "genre_weekday(spb_general,'Friday','17:00','23:00')"
   ]
  },
  {
   "cell_type": "markdown",
   "metadata": {
    "deletable": false,
    "editable": false,
    "id": "wrCe4MNX_Zcu"
   },
   "source": [
    "**Выводы**\n",
    "\n",
    "Если сравнить топ-10 жанров в понедельник утром, можно сделать такие выводы:\n",
    "\n",
    "1. В Москве и Петербурге слушают похожую музыку. Единственное отличие — в московский рейтинг вошёл жанр “world”, а в петербургский — джаз и классика.\n",
    "\n",
    "2. В Москве пропущенных значений оказалось так много, что значение `'unknown'` заняло десятое место среди самых популярных жанров. Значит, пропущенные значения занимают существенную долю в данных и угрожают достоверности исследования.\n",
    "\n",
    "Вечер пятницы не меняет эту картину. Некоторые жанры поднимаются немного выше, другие спускаются, но в целом топ-10 остаётся тем же самым.\n",
    "\n",
    "Таким образом, вторая гипотеза подтвердилась лишь частично:\n",
    "* Пользователи слушают похожую музыку в начале недели и в конце.\n",
    "* Разница между Москвой и Петербургом не слишком выражена. В Москве чаще слушают русскую популярную музыку, в Петербурге — джаз.\n",
    "\n",
    "Однако пропуски в данных ставят под сомнение этот результат. В Москве их так много, что рейтинг топ-10 мог бы выглядеть иначе, если бы не утерянные  данные о жанрах."
   ]
  },
  {
   "cell_type": "markdown",
   "metadata": {
    "deletable": false,
    "editable": false,
    "id": "JolODAqr_Zcu"
   },
   "source": [
    "### Жанровые предпочтения в Москве и Петербурге\n",
    "\n",
    "Гипотеза: Петербург — столица рэпа, музыку этого жанра там слушают чаще, чем в Москве.  А Москва — город контрастов, в котором, тем не менее, преобладает поп-музыка."
   ]
  },
  {
   "cell_type": "markdown",
   "metadata": {
    "deletable": false,
    "editable": false,
    "id": "DlegSvaT_Zcu",
    "tags": [
     "start_task"
    ]
   },
   "source": [
    "**Задание 26**\n",
    "\n",
    "Сгруппируйте таблицу `moscow_general` по жанру и посчитайте прослушивания треков каждого жанра методом `count()`. Затем отсортируйте результат в порядке убывания и сохраните его в таблице `moscow_genres`."
   ]
  },
  {
   "cell_type": "code",
   "execution_count": 35,
   "metadata": {
    "deletable": false,
    "id": "r19lIPke_Zcu"
   },
   "outputs": [],
   "source": [
    "# одной строкой: группировка таблицы moscow_general по столбцу 'genre', \n",
    "moscow_genres = moscow_general.groupby('genre')['genre'].count().sort_values(ascending =False)\n",
    "# подсчёт числа значений 'genre' в этой группировке методом count(), \n",
    "# сортировка получившегося Series в порядке убывания и сохранение в moscow_genres"
   ]
  },
  {
   "cell_type": "markdown",
   "metadata": {
    "deletable": false,
    "editable": false,
    "id": "6kMuomxTiIr8",
    "tags": [
     "start_task"
    ]
   },
   "source": [
    "**Задание 27**\n",
    "\n",
    "Выведите на экран первые десять строк `moscow_genres`:"
   ]
  },
  {
   "cell_type": "code",
   "execution_count": 36,
   "metadata": {
    "deletable": false,
    "id": "WhCSooF8_Zcv"
   },
   "outputs": [
    {
     "name": "stdout",
     "output_type": "stream",
     "text": [
      "genre\n",
      "pop            5892\n",
      "dance          4435\n",
      "rock           3965\n",
      "electronic     3786\n",
      "hiphop         2096\n",
      "classical      1616\n",
      "world          1432\n",
      "alternative    1379\n",
      "ruspop         1372\n",
      "rusrap         1161\n",
      "Name: genre, dtype: int64\n"
     ]
    }
   ],
   "source": [
    "# просмотр первых 10 строк moscow_genres\n",
    "print(moscow_genres.head(10))"
   ]
  },
  {
   "cell_type": "markdown",
   "metadata": {
    "deletable": false,
    "editable": false,
    "id": "cnPG2vnN_Zcv",
    "tags": [
     "start_task"
    ]
   },
   "source": [
    "**Задание 28**\n",
    "\n",
    "\n",
    "Теперь повторите то же и для Петербурга.\n",
    "\n",
    "Сгруппируйте таблицу `spb_general` по жанру. Посчитайте прослушивания треков каждого жанра. Результат отсортируйте в порядке убывания и сохраните в таблице `spb_genres`:\n"
   ]
  },
  {
   "cell_type": "code",
   "execution_count": 37,
   "metadata": {
    "deletable": false,
    "id": "gluLIpE7_Zcv"
   },
   "outputs": [],
   "source": [
    "# одной строкой: группировка таблицы spb_general по столбцу 'genre', \n",
    "# подсчёт числа значений 'genre' в этой группировке методом count(), \n",
    "# сортировка получившегося Series в порядке убывания и сохранение в spb_genres\n",
    "spb_genres = spb_general.groupby('genre')['genre'].count().sort_values(ascending =False)"
   ]
  },
  {
   "cell_type": "markdown",
   "metadata": {
    "deletable": false,
    "editable": false,
    "id": "5Doha_ODgyQ8",
    "tags": [
     "start_task"
    ]
   },
   "source": [
    "**Задание 29**\n",
    "\n",
    "Выведите на экран первые десять строк `spb_genres`:"
   ]
  },
  {
   "cell_type": "code",
   "execution_count": 38,
   "metadata": {
    "deletable": false,
    "id": "uaGJHjVU_Zcv"
   },
   "outputs": [
    {
     "name": "stdout",
     "output_type": "stream",
     "text": [
      "genre\n",
      "pop            2431\n",
      "dance          1932\n",
      "rock           1879\n",
      "electronic     1736\n",
      "hiphop          960\n",
      "alternative     649\n",
      "classical       646\n",
      "rusrap          564\n",
      "ruspop          538\n",
      "world           515\n",
      "Name: genre, dtype: int64\n"
     ]
    }
   ],
   "source": [
    "# просмотр первых 10 строк spb_genres\n",
    "print(spb_genres.head(10))"
   ]
  },
  {
   "cell_type": "markdown",
   "metadata": {
    "deletable": false,
    "editable": false,
    "id": "RY51YJYu_Zcv"
   },
   "source": [
    "**Выводы**"
   ]
  },
  {
   "cell_type": "markdown",
   "metadata": {
    "deletable": false,
    "editable": false,
    "id": "nVhnJEm__Zcv"
   },
   "source": [
    "Гипотеза частично подтвердилась:\n",
    "* Поп-музыка — самый популярный жанр в Москве, как и предполагала гипотеза. Более того, в топ-10 жанров встречается близкий жанр — русская популярная музыка.\n",
    "* Вопреки ожиданиям, рэп одинаково популярен в Москве и Петербурге. \n"
   ]
  },
  {
   "cell_type": "markdown",
   "metadata": {
    "deletable": false,
    "editable": false,
    "id": "ykKQ0N65_Zcv"
   },
   "source": [
    "## Итоги исследования"
   ]
  },
  {
   "cell_type": "markdown",
   "metadata": {
    "deletable": false,
    "editable": false,
    "id": "tjUwbHb3_Zcv"
   },
   "source": [
    "Вы проверили три гипотезы и установили:\n",
    "\n",
    "1. День недели по-разному влияет на активность пользователей в Москве и Петербурге. \n",
    "\n",
    "Первая гипотеза полностью подтвердилась.\n",
    "\n",
    "2. Музыкальные предпочтения не сильно меняются в течение недели — будь то Москва или Петербург. Небольшие различия заметны в начале недели, по понедельникам:\n",
    "* в Москве слушают музыку жанра “world”,\n",
    "* в Петербурге — джаз и классику.\n",
    "\n",
    "Таким образом, вторая гипотеза подтвердилась лишь отчасти. Этот результат мог оказаться иным, если бы не пропуски в данных.\n",
    "\n",
    "3. Во вкусах пользователей Москвы и Петербурга больше общего чем различий. Вопреки ожиданиям, предпочтения жанров в Петербурге напоминают московские.\n",
    "\n",
    "Третья гипотеза не подтвердилась. Если различия в предпочтениях и существуют, на основной массе пользователей они незаметны.\n",
    "\n",
    "**На практике исследования содержат проверки статистических гипотез.**\n",
    "Из данных одного сервиса не всегда можно сделать вывод о всех жителях города.\n",
    "Проверки статистических гипотез покажут, насколько они достоверны, исходя из имеющихся данных. \n",
    "С методами проверок гипотез вы ещё познакомитесь в следующих темах."
   ]
  }
 ],
 "metadata": {
  "ExecuteTimeLog": [
   {
    "duration": 54,
    "start_time": "2022-10-27T12:01:47.899Z"
   },
   {
    "duration": 8,
    "start_time": "2022-10-27T12:02:02.240Z"
   },
   {
    "duration": 6,
    "start_time": "2022-10-27T12:02:25.061Z"
   },
   {
    "duration": 582,
    "start_time": "2022-10-27T12:03:05.072Z"
   },
   {
    "duration": 28,
    "start_time": "2022-10-27T12:03:43.218Z"
   },
   {
    "duration": 30,
    "start_time": "2022-10-27T12:07:14.415Z"
   },
   {
    "duration": 9,
    "start_time": "2022-10-27T12:07:27.170Z"
   },
   {
    "duration": 23,
    "start_time": "2022-10-27T12:10:38.307Z"
   },
   {
    "duration": 4,
    "start_time": "2022-10-27T12:10:47.473Z"
   },
   {
    "duration": 20,
    "start_time": "2022-10-27T12:12:32.070Z"
   },
   {
    "duration": 6,
    "start_time": "2022-10-27T12:12:40.669Z"
   },
   {
    "duration": 25,
    "start_time": "2022-10-27T12:18:09.154Z"
   },
   {
    "duration": 11,
    "start_time": "2022-10-27T12:21:29.678Z"
   },
   {
    "duration": 25,
    "start_time": "2022-10-27T12:21:41.689Z"
   },
   {
    "duration": 24,
    "start_time": "2022-10-27T12:22:03.253Z"
   },
   {
    "duration": 10,
    "start_time": "2022-10-27T12:23:04.569Z"
   },
   {
    "duration": 92,
    "start_time": "2022-10-27T12:23:41.491Z"
   },
   {
    "duration": 111,
    "start_time": "2022-10-27T12:24:15.996Z"
   },
   {
    "duration": 84,
    "start_time": "2022-10-27T12:24:48.680Z"
   },
   {
    "duration": 96,
    "start_time": "2022-10-27T12:25:10.804Z"
   },
   {
    "duration": 79,
    "start_time": "2022-10-27T12:25:15.253Z"
   },
   {
    "duration": 913,
    "start_time": "2022-10-28T10:38:52.039Z"
   },
   {
    "duration": 10,
    "start_time": "2022-10-28T10:39:15.073Z"
   },
   {
    "duration": 11,
    "start_time": "2022-10-28T10:40:21.684Z"
   },
   {
    "duration": 55,
    "start_time": "2022-10-28T10:40:50.770Z"
   },
   {
    "duration": 131,
    "start_time": "2022-10-28T10:42:14.075Z"
   },
   {
    "duration": 69,
    "start_time": "2022-10-28T10:42:40.248Z"
   },
   {
    "duration": 50,
    "start_time": "2022-10-28T10:43:45.253Z"
   },
   {
    "duration": 75,
    "start_time": "2022-10-28T10:46:40.053Z"
   },
   {
    "duration": 8,
    "start_time": "2022-10-28T10:49:07.388Z"
   },
   {
    "duration": 8,
    "start_time": "2022-10-28T10:50:13.462Z"
   },
   {
    "duration": 8,
    "start_time": "2022-10-28T10:50:56.843Z"
   },
   {
    "duration": 14,
    "start_time": "2022-10-28T10:51:12.508Z"
   },
   {
    "duration": 89,
    "start_time": "2022-10-28T10:52:35.840Z"
   },
   {
    "duration": 91,
    "start_time": "2022-10-28T10:55:48.626Z"
   },
   {
    "duration": 64,
    "start_time": "2022-10-28T10:57:56.344Z"
   },
   {
    "duration": 48,
    "start_time": "2022-10-28T14:04:58.524Z"
   },
   {
    "duration": 7,
    "start_time": "2022-10-28T14:06:45.109Z"
   },
   {
    "duration": 7,
    "start_time": "2022-10-28T14:06:57.942Z"
   },
   {
    "duration": 380,
    "start_time": "2022-10-28T14:07:18.911Z"
   },
   {
    "duration": 449,
    "start_time": "2022-10-28T14:07:19.293Z"
   },
   {
    "duration": 145,
    "start_time": "2022-10-28T14:07:19.744Z"
   },
   {
    "duration": 34,
    "start_time": "2022-10-28T14:07:19.891Z"
   },
   {
    "duration": 2,
    "start_time": "2022-10-28T14:07:19.927Z"
   },
   {
    "duration": 9,
    "start_time": "2022-10-28T14:07:19.931Z"
   },
   {
    "duration": 12,
    "start_time": "2022-10-28T14:07:19.942Z"
   },
   {
    "duration": 4,
    "start_time": "2022-10-28T14:07:19.955Z"
   },
   {
    "duration": 24,
    "start_time": "2022-10-28T14:07:19.990Z"
   },
   {
    "duration": 17,
    "start_time": "2022-10-28T14:07:20.015Z"
   },
   {
    "duration": 22,
    "start_time": "2022-10-28T14:07:20.033Z"
   },
   {
    "duration": 87,
    "start_time": "2022-10-28T14:07:20.057Z"
   },
   {
    "duration": 70,
    "start_time": "2022-10-28T14:07:20.146Z"
   },
   {
    "duration": 53,
    "start_time": "2022-10-28T14:07:20.219Z"
   },
   {
    "duration": 54,
    "start_time": "2022-10-28T14:07:20.274Z"
   },
   {
    "duration": 10,
    "start_time": "2022-10-28T14:07:20.330Z"
   },
   {
    "duration": 71,
    "start_time": "2022-10-28T14:07:20.341Z"
   },
   {
    "duration": 2,
    "start_time": "2022-10-28T14:07:20.414Z"
   },
   {
    "duration": 4,
    "start_time": "2022-10-28T14:07:20.418Z"
   },
   {
    "duration": 5,
    "start_time": "2022-10-28T14:07:20.423Z"
   },
   {
    "duration": 8,
    "start_time": "2022-10-28T14:07:20.429Z"
   },
   {
    "duration": 9,
    "start_time": "2022-10-28T14:07:20.439Z"
   },
   {
    "duration": 3,
    "start_time": "2022-10-28T14:07:20.450Z"
   },
   {
    "duration": 18,
    "start_time": "2022-10-28T14:07:20.454Z"
   },
   {
    "duration": 7,
    "start_time": "2022-10-28T14:07:20.474Z"
   },
   {
    "duration": 9,
    "start_time": "2022-10-28T14:07:20.482Z"
   },
   {
    "duration": 2,
    "start_time": "2022-10-28T14:07:20.492Z"
   },
   {
    "duration": 4,
    "start_time": "2022-10-28T14:07:20.496Z"
   },
   {
    "duration": 4,
    "start_time": "2022-10-28T14:07:20.501Z"
   },
   {
    "duration": 74,
    "start_time": "2022-10-28T14:07:20.507Z"
   },
   {
    "duration": 0,
    "start_time": "2022-10-28T14:07:20.582Z"
   },
   {
    "duration": 0,
    "start_time": "2022-10-28T14:07:20.583Z"
   },
   {
    "duration": 0,
    "start_time": "2022-10-28T14:07:20.584Z"
   },
   {
    "duration": 0,
    "start_time": "2022-10-28T14:07:20.585Z"
   },
   {
    "duration": 1,
    "start_time": "2022-10-28T14:07:20.586Z"
   },
   {
    "duration": 0,
    "start_time": "2022-10-28T14:07:20.587Z"
   },
   {
    "duration": 0,
    "start_time": "2022-10-28T14:07:20.588Z"
   },
   {
    "duration": 0,
    "start_time": "2022-10-28T14:07:20.589Z"
   },
   {
    "duration": 71,
    "start_time": "2022-10-28T14:34:02.658Z"
   },
   {
    "duration": 400,
    "start_time": "2022-10-28T14:34:16.326Z"
   },
   {
    "duration": 175,
    "start_time": "2022-10-28T14:34:16.728Z"
   },
   {
    "duration": 159,
    "start_time": "2022-10-28T14:34:16.905Z"
   },
   {
    "duration": 29,
    "start_time": "2022-10-28T14:34:17.065Z"
   },
   {
    "duration": 3,
    "start_time": "2022-10-28T14:34:17.096Z"
   },
   {
    "duration": 12,
    "start_time": "2022-10-28T14:34:17.100Z"
   },
   {
    "duration": 15,
    "start_time": "2022-10-28T14:34:17.113Z"
   },
   {
    "duration": 4,
    "start_time": "2022-10-28T14:34:17.130Z"
   },
   {
    "duration": 25,
    "start_time": "2022-10-28T14:34:17.136Z"
   },
   {
    "duration": 42,
    "start_time": "2022-10-28T14:34:17.164Z"
   },
   {
    "duration": 23,
    "start_time": "2022-10-28T14:34:17.207Z"
   },
   {
    "duration": 89,
    "start_time": "2022-10-28T14:34:17.232Z"
   },
   {
    "duration": 83,
    "start_time": "2022-10-28T14:34:17.323Z"
   },
   {
    "duration": 58,
    "start_time": "2022-10-28T14:34:17.407Z"
   },
   {
    "duration": 59,
    "start_time": "2022-10-28T14:34:17.467Z"
   },
   {
    "duration": 10,
    "start_time": "2022-10-28T14:34:17.528Z"
   },
   {
    "duration": 72,
    "start_time": "2022-10-28T14:34:17.540Z"
   },
   {
    "duration": 5,
    "start_time": "2022-10-28T14:34:17.613Z"
   },
   {
    "duration": 12,
    "start_time": "2022-10-28T14:34:17.619Z"
   },
   {
    "duration": 9,
    "start_time": "2022-10-28T14:34:17.632Z"
   },
   {
    "duration": 6,
    "start_time": "2022-10-28T14:34:17.643Z"
   },
   {
    "duration": 6,
    "start_time": "2022-10-28T14:34:17.650Z"
   },
   {
    "duration": 6,
    "start_time": "2022-10-28T14:34:17.658Z"
   },
   {
    "duration": 7,
    "start_time": "2022-10-28T14:34:17.666Z"
   },
   {
    "duration": 6,
    "start_time": "2022-10-28T14:34:17.675Z"
   },
   {
    "duration": 3,
    "start_time": "2022-10-28T14:34:17.691Z"
   },
   {
    "duration": 6,
    "start_time": "2022-10-28T14:34:17.696Z"
   },
   {
    "duration": 5,
    "start_time": "2022-10-28T14:34:17.706Z"
   },
   {
    "duration": 8,
    "start_time": "2022-10-28T14:34:17.712Z"
   },
   {
    "duration": 80,
    "start_time": "2022-10-28T14:34:17.722Z"
   },
   {
    "duration": 0,
    "start_time": "2022-10-28T14:34:17.804Z"
   },
   {
    "duration": 0,
    "start_time": "2022-10-28T14:34:17.805Z"
   },
   {
    "duration": 0,
    "start_time": "2022-10-28T14:34:17.807Z"
   },
   {
    "duration": 0,
    "start_time": "2022-10-28T14:34:17.808Z"
   },
   {
    "duration": 0,
    "start_time": "2022-10-28T14:34:17.809Z"
   },
   {
    "duration": 0,
    "start_time": "2022-10-28T14:34:17.811Z"
   },
   {
    "duration": 0,
    "start_time": "2022-10-28T14:34:17.813Z"
   },
   {
    "duration": 0,
    "start_time": "2022-10-28T14:34:17.814Z"
   },
   {
    "duration": 402,
    "start_time": "2022-10-28T14:35:06.994Z"
   },
   {
    "duration": 166,
    "start_time": "2022-10-28T14:35:07.398Z"
   },
   {
    "duration": 163,
    "start_time": "2022-10-28T14:35:07.566Z"
   },
   {
    "duration": 28,
    "start_time": "2022-10-28T14:35:07.730Z"
   },
   {
    "duration": 6,
    "start_time": "2022-10-28T14:35:07.760Z"
   },
   {
    "duration": 29,
    "start_time": "2022-10-28T14:35:07.768Z"
   },
   {
    "duration": 25,
    "start_time": "2022-10-28T14:35:07.798Z"
   },
   {
    "duration": 4,
    "start_time": "2022-10-28T14:35:07.825Z"
   },
   {
    "duration": 29,
    "start_time": "2022-10-28T14:35:07.831Z"
   },
   {
    "duration": 23,
    "start_time": "2022-10-28T14:35:07.862Z"
   },
   {
    "duration": 24,
    "start_time": "2022-10-28T14:35:07.891Z"
   },
   {
    "duration": 84,
    "start_time": "2022-10-28T14:35:07.917Z"
   },
   {
    "duration": 75,
    "start_time": "2022-10-28T14:35:08.003Z"
   },
   {
    "duration": 61,
    "start_time": "2022-10-28T14:35:08.090Z"
   },
   {
    "duration": 80,
    "start_time": "2022-10-28T14:35:08.152Z"
   },
   {
    "duration": 12,
    "start_time": "2022-10-28T14:35:08.233Z"
   },
   {
    "duration": 91,
    "start_time": "2022-10-28T14:35:08.247Z"
   },
   {
    "duration": 2,
    "start_time": "2022-10-28T14:35:08.340Z"
   },
   {
    "duration": 5,
    "start_time": "2022-10-28T14:35:08.343Z"
   },
   {
    "duration": 23,
    "start_time": "2022-10-28T14:35:08.349Z"
   },
   {
    "duration": 33,
    "start_time": "2022-10-28T14:35:08.373Z"
   },
   {
    "duration": 27,
    "start_time": "2022-10-28T14:35:08.408Z"
   },
   {
    "duration": 24,
    "start_time": "2022-10-28T14:35:08.437Z"
   },
   {
    "duration": 16,
    "start_time": "2022-10-28T14:35:08.463Z"
   },
   {
    "duration": 10,
    "start_time": "2022-10-28T14:35:08.481Z"
   },
   {
    "duration": 11,
    "start_time": "2022-10-28T14:35:08.492Z"
   },
   {
    "duration": 14,
    "start_time": "2022-10-28T14:35:08.505Z"
   },
   {
    "duration": 11,
    "start_time": "2022-10-28T14:35:08.521Z"
   },
   {
    "duration": 16,
    "start_time": "2022-10-28T14:35:08.534Z"
   },
   {
    "duration": 279,
    "start_time": "2022-10-28T14:35:08.551Z"
   },
   {
    "duration": 0,
    "start_time": "2022-10-28T14:35:08.832Z"
   },
   {
    "duration": 0,
    "start_time": "2022-10-28T14:35:08.833Z"
   },
   {
    "duration": 0,
    "start_time": "2022-10-28T14:35:08.835Z"
   },
   {
    "duration": 1,
    "start_time": "2022-10-28T14:35:08.836Z"
   },
   {
    "duration": 0,
    "start_time": "2022-10-28T14:35:08.838Z"
   },
   {
    "duration": 0,
    "start_time": "2022-10-28T14:35:08.840Z"
   },
   {
    "duration": 0,
    "start_time": "2022-10-28T14:35:08.841Z"
   },
   {
    "duration": 0,
    "start_time": "2022-10-28T14:35:08.843Z"
   },
   {
    "duration": 382,
    "start_time": "2022-10-28T14:35:48.125Z"
   },
   {
    "duration": 170,
    "start_time": "2022-10-28T14:35:48.509Z"
   },
   {
    "duration": 167,
    "start_time": "2022-10-28T14:35:48.681Z"
   },
   {
    "duration": 28,
    "start_time": "2022-10-28T14:35:48.850Z"
   },
   {
    "duration": 11,
    "start_time": "2022-10-28T14:35:48.880Z"
   },
   {
    "duration": 9,
    "start_time": "2022-10-28T14:35:48.893Z"
   },
   {
    "duration": 11,
    "start_time": "2022-10-28T14:35:48.904Z"
   },
   {
    "duration": 11,
    "start_time": "2022-10-28T14:35:48.917Z"
   },
   {
    "duration": 29,
    "start_time": "2022-10-28T14:35:48.930Z"
   },
   {
    "duration": 39,
    "start_time": "2022-10-28T14:35:48.961Z"
   },
   {
    "duration": 22,
    "start_time": "2022-10-28T14:35:49.002Z"
   },
   {
    "duration": 79,
    "start_time": "2022-10-28T14:35:49.025Z"
   },
   {
    "duration": 71,
    "start_time": "2022-10-28T14:35:49.106Z"
   },
   {
    "duration": 61,
    "start_time": "2022-10-28T14:35:49.190Z"
   },
   {
    "duration": 71,
    "start_time": "2022-10-28T14:35:49.253Z"
   },
   {
    "duration": 0,
    "start_time": "2022-10-28T14:35:49.326Z"
   },
   {
    "duration": 0,
    "start_time": "2022-10-28T14:35:49.327Z"
   },
   {
    "duration": 0,
    "start_time": "2022-10-28T14:35:49.328Z"
   },
   {
    "duration": 0,
    "start_time": "2022-10-28T14:35:49.329Z"
   },
   {
    "duration": 0,
    "start_time": "2022-10-28T14:35:49.330Z"
   },
   {
    "duration": 0,
    "start_time": "2022-10-28T14:35:49.331Z"
   },
   {
    "duration": 0,
    "start_time": "2022-10-28T14:35:49.332Z"
   },
   {
    "duration": 0,
    "start_time": "2022-10-28T14:35:49.333Z"
   },
   {
    "duration": 0,
    "start_time": "2022-10-28T14:35:49.334Z"
   },
   {
    "duration": 0,
    "start_time": "2022-10-28T14:35:49.334Z"
   },
   {
    "duration": 0,
    "start_time": "2022-10-28T14:35:49.335Z"
   },
   {
    "duration": 0,
    "start_time": "2022-10-28T14:35:49.336Z"
   },
   {
    "duration": 0,
    "start_time": "2022-10-28T14:35:49.337Z"
   },
   {
    "duration": 0,
    "start_time": "2022-10-28T14:35:49.339Z"
   },
   {
    "duration": 0,
    "start_time": "2022-10-28T14:35:49.340Z"
   },
   {
    "duration": 0,
    "start_time": "2022-10-28T14:35:49.342Z"
   },
   {
    "duration": 0,
    "start_time": "2022-10-28T14:35:49.343Z"
   },
   {
    "duration": 0,
    "start_time": "2022-10-28T14:35:49.344Z"
   },
   {
    "duration": 0,
    "start_time": "2022-10-28T14:35:49.346Z"
   },
   {
    "duration": 0,
    "start_time": "2022-10-28T14:35:49.347Z"
   },
   {
    "duration": 0,
    "start_time": "2022-10-28T14:35:49.391Z"
   },
   {
    "duration": 0,
    "start_time": "2022-10-28T14:35:49.393Z"
   },
   {
    "duration": 0,
    "start_time": "2022-10-28T14:35:49.394Z"
   },
   {
    "duration": 351,
    "start_time": "2022-10-28T14:36:13.743Z"
   },
   {
    "duration": 168,
    "start_time": "2022-10-28T14:36:14.096Z"
   },
   {
    "duration": 164,
    "start_time": "2022-10-28T14:36:14.266Z"
   },
   {
    "duration": 32,
    "start_time": "2022-10-28T14:36:14.433Z"
   },
   {
    "duration": 3,
    "start_time": "2022-10-28T14:36:14.467Z"
   },
   {
    "duration": 25,
    "start_time": "2022-10-28T14:36:14.471Z"
   },
   {
    "duration": 13,
    "start_time": "2022-10-28T14:36:14.499Z"
   },
   {
    "duration": 5,
    "start_time": "2022-10-28T14:36:14.514Z"
   },
   {
    "duration": 30,
    "start_time": "2022-10-28T14:36:14.521Z"
   },
   {
    "duration": 51,
    "start_time": "2022-10-28T14:36:14.555Z"
   },
   {
    "duration": 23,
    "start_time": "2022-10-28T14:36:14.608Z"
   },
   {
    "duration": 98,
    "start_time": "2022-10-28T14:36:14.633Z"
   },
   {
    "duration": 77,
    "start_time": "2022-10-28T14:36:14.732Z"
   },
   {
    "duration": 58,
    "start_time": "2022-10-28T14:36:14.811Z"
   },
   {
    "duration": 51,
    "start_time": "2022-10-28T14:36:14.871Z"
   },
   {
    "duration": 10,
    "start_time": "2022-10-28T14:36:14.923Z"
   },
   {
    "duration": 76,
    "start_time": "2022-10-28T14:36:14.935Z"
   },
   {
    "duration": 3,
    "start_time": "2022-10-28T14:36:15.013Z"
   },
   {
    "duration": 16,
    "start_time": "2022-10-28T14:36:15.017Z"
   },
   {
    "duration": 19,
    "start_time": "2022-10-28T14:36:15.035Z"
   },
   {
    "duration": 18,
    "start_time": "2022-10-28T14:36:15.056Z"
   },
   {
    "duration": 3,
    "start_time": "2022-10-28T14:36:15.076Z"
   },
   {
    "duration": 4,
    "start_time": "2022-10-28T14:36:15.081Z"
   },
   {
    "duration": 6,
    "start_time": "2022-10-28T14:36:15.087Z"
   },
   {
    "duration": 8,
    "start_time": "2022-10-28T14:36:15.094Z"
   },
   {
    "duration": 10,
    "start_time": "2022-10-28T14:36:15.103Z"
   },
   {
    "duration": 5,
    "start_time": "2022-10-28T14:36:15.114Z"
   },
   {
    "duration": 3,
    "start_time": "2022-10-28T14:36:15.121Z"
   },
   {
    "duration": 3,
    "start_time": "2022-10-28T14:36:15.126Z"
   },
   {
    "duration": 94,
    "start_time": "2022-10-28T14:36:15.130Z"
   },
   {
    "duration": 0,
    "start_time": "2022-10-28T14:36:15.226Z"
   },
   {
    "duration": 0,
    "start_time": "2022-10-28T14:36:15.227Z"
   },
   {
    "duration": 0,
    "start_time": "2022-10-28T14:36:15.228Z"
   },
   {
    "duration": 0,
    "start_time": "2022-10-28T14:36:15.229Z"
   },
   {
    "duration": 0,
    "start_time": "2022-10-28T14:36:15.230Z"
   },
   {
    "duration": 0,
    "start_time": "2022-10-28T14:36:15.231Z"
   },
   {
    "duration": 0,
    "start_time": "2022-10-28T14:36:15.233Z"
   },
   {
    "duration": 0,
    "start_time": "2022-10-28T14:36:15.235Z"
   },
   {
    "duration": 17,
    "start_time": "2022-10-28T14:37:48.556Z"
   },
   {
    "duration": 62,
    "start_time": "2022-10-28T14:38:01.939Z"
   },
   {
    "duration": 932,
    "start_time": "2022-10-28T14:38:27.210Z"
   },
   {
    "duration": 408,
    "start_time": "2022-10-28T14:39:07.581Z"
   },
   {
    "duration": 173,
    "start_time": "2022-10-28T14:39:07.991Z"
   },
   {
    "duration": 163,
    "start_time": "2022-10-28T14:39:08.166Z"
   },
   {
    "duration": 27,
    "start_time": "2022-10-28T14:39:08.331Z"
   },
   {
    "duration": 8,
    "start_time": "2022-10-28T14:39:08.360Z"
   },
   {
    "duration": 20,
    "start_time": "2022-10-28T14:39:08.370Z"
   },
   {
    "duration": 12,
    "start_time": "2022-10-28T14:39:08.392Z"
   },
   {
    "duration": 6,
    "start_time": "2022-10-28T14:39:08.405Z"
   },
   {
    "duration": 24,
    "start_time": "2022-10-28T14:39:08.413Z"
   },
   {
    "duration": 18,
    "start_time": "2022-10-28T14:39:08.439Z"
   },
   {
    "duration": 44,
    "start_time": "2022-10-28T14:39:08.458Z"
   },
   {
    "duration": 64,
    "start_time": "2022-10-28T14:39:08.503Z"
   },
   {
    "duration": 94,
    "start_time": "2022-10-28T14:39:08.568Z"
   },
   {
    "duration": 83,
    "start_time": "2022-10-28T14:39:08.665Z"
   },
   {
    "duration": 46,
    "start_time": "2022-10-28T14:39:08.750Z"
   },
   {
    "duration": 9,
    "start_time": "2022-10-28T14:39:08.799Z"
   },
   {
    "duration": 38,
    "start_time": "2022-10-28T14:39:08.810Z"
   },
   {
    "duration": 2,
    "start_time": "2022-10-28T14:39:08.850Z"
   },
   {
    "duration": 3,
    "start_time": "2022-10-28T14:39:08.854Z"
   },
   {
    "duration": 32,
    "start_time": "2022-10-28T14:39:08.859Z"
   },
   {
    "duration": 2,
    "start_time": "2022-10-28T14:39:08.893Z"
   },
   {
    "duration": 6,
    "start_time": "2022-10-28T14:39:08.896Z"
   },
   {
    "duration": 3,
    "start_time": "2022-10-28T14:39:08.904Z"
   },
   {
    "duration": 5,
    "start_time": "2022-10-28T14:39:08.909Z"
   },
   {
    "duration": 4,
    "start_time": "2022-10-28T14:39:08.915Z"
   },
   {
    "duration": 4,
    "start_time": "2022-10-28T14:39:08.920Z"
   },
   {
    "duration": 5,
    "start_time": "2022-10-28T14:39:08.925Z"
   },
   {
    "duration": 3,
    "start_time": "2022-10-28T14:39:08.932Z"
   },
   {
    "duration": 4,
    "start_time": "2022-10-28T14:39:08.936Z"
   },
   {
    "duration": 100,
    "start_time": "2022-10-28T14:39:08.941Z"
   },
   {
    "duration": 0,
    "start_time": "2022-10-28T14:39:09.043Z"
   },
   {
    "duration": 0,
    "start_time": "2022-10-28T14:39:09.045Z"
   },
   {
    "duration": 0,
    "start_time": "2022-10-28T14:39:09.046Z"
   },
   {
    "duration": 0,
    "start_time": "2022-10-28T14:39:09.047Z"
   },
   {
    "duration": 0,
    "start_time": "2022-10-28T14:39:09.048Z"
   },
   {
    "duration": 0,
    "start_time": "2022-10-28T14:39:09.050Z"
   },
   {
    "duration": 0,
    "start_time": "2022-10-28T14:39:09.051Z"
   },
   {
    "duration": 0,
    "start_time": "2022-10-28T14:39:09.052Z"
   },
   {
    "duration": 4,
    "start_time": "2022-10-28T14:41:31.893Z"
   },
   {
    "duration": 4382,
    "start_time": "2022-10-28T14:42:33.173Z"
   },
   {
    "duration": 4580,
    "start_time": "2022-10-28T14:42:53.045Z"
   },
   {
    "duration": 3,
    "start_time": "2022-10-28T14:50:55.773Z"
   },
   {
    "duration": 3,
    "start_time": "2022-10-28T14:52:43.181Z"
   },
   {
    "duration": 4,
    "start_time": "2022-10-28T14:52:48.221Z"
   },
   {
    "duration": 4,
    "start_time": "2022-10-28T14:53:12.051Z"
   },
   {
    "duration": 423,
    "start_time": "2022-10-28T14:54:09.069Z"
   },
   {
    "duration": 174,
    "start_time": "2022-10-28T14:54:09.494Z"
   },
   {
    "duration": 167,
    "start_time": "2022-10-28T14:54:09.670Z"
   },
   {
    "duration": 28,
    "start_time": "2022-10-28T14:54:09.839Z"
   },
   {
    "duration": 3,
    "start_time": "2022-10-28T14:54:09.869Z"
   },
   {
    "duration": 21,
    "start_time": "2022-10-28T14:54:09.873Z"
   },
   {
    "duration": 15,
    "start_time": "2022-10-28T14:54:09.895Z"
   },
   {
    "duration": 5,
    "start_time": "2022-10-28T14:54:09.912Z"
   },
   {
    "duration": 27,
    "start_time": "2022-10-28T14:54:09.919Z"
   },
   {
    "duration": 45,
    "start_time": "2022-10-28T14:54:09.948Z"
   },
   {
    "duration": 23,
    "start_time": "2022-10-28T14:54:09.995Z"
   },
   {
    "duration": 106,
    "start_time": "2022-10-28T14:54:10.019Z"
   },
   {
    "duration": 82,
    "start_time": "2022-10-28T14:54:10.126Z"
   },
   {
    "duration": 58,
    "start_time": "2022-10-28T14:54:10.211Z"
   },
   {
    "duration": 50,
    "start_time": "2022-10-28T14:54:10.271Z"
   },
   {
    "duration": 10,
    "start_time": "2022-10-28T14:54:10.323Z"
   },
   {
    "duration": 56,
    "start_time": "2022-10-28T14:54:10.335Z"
   },
   {
    "duration": 3,
    "start_time": "2022-10-28T14:54:10.393Z"
   },
   {
    "duration": 0,
    "start_time": "2022-10-28T14:54:10.398Z"
   },
   {
    "duration": 0,
    "start_time": "2022-10-28T14:54:10.399Z"
   },
   {
    "duration": 0,
    "start_time": "2022-10-28T14:54:10.400Z"
   },
   {
    "duration": 0,
    "start_time": "2022-10-28T14:54:10.402Z"
   },
   {
    "duration": 0,
    "start_time": "2022-10-28T14:54:10.403Z"
   },
   {
    "duration": 0,
    "start_time": "2022-10-28T14:54:10.404Z"
   },
   {
    "duration": 0,
    "start_time": "2022-10-28T14:54:10.405Z"
   },
   {
    "duration": 0,
    "start_time": "2022-10-28T14:54:10.406Z"
   },
   {
    "duration": 0,
    "start_time": "2022-10-28T14:54:10.407Z"
   },
   {
    "duration": 0,
    "start_time": "2022-10-28T14:54:10.408Z"
   },
   {
    "duration": 0,
    "start_time": "2022-10-28T14:54:10.409Z"
   },
   {
    "duration": 0,
    "start_time": "2022-10-28T14:54:10.411Z"
   },
   {
    "duration": 0,
    "start_time": "2022-10-28T14:54:10.412Z"
   },
   {
    "duration": 0,
    "start_time": "2022-10-28T14:54:10.413Z"
   },
   {
    "duration": 0,
    "start_time": "2022-10-28T14:54:10.414Z"
   },
   {
    "duration": 0,
    "start_time": "2022-10-28T14:54:10.416Z"
   },
   {
    "duration": 0,
    "start_time": "2022-10-28T14:54:10.417Z"
   },
   {
    "duration": 0,
    "start_time": "2022-10-28T14:54:10.418Z"
   },
   {
    "duration": 0,
    "start_time": "2022-10-28T14:54:10.419Z"
   },
   {
    "duration": 0,
    "start_time": "2022-10-28T14:54:10.421Z"
   },
   {
    "duration": 426,
    "start_time": "2022-10-28T14:54:24.798Z"
   },
   {
    "duration": 182,
    "start_time": "2022-10-28T14:54:25.226Z"
   },
   {
    "duration": 178,
    "start_time": "2022-10-28T14:54:25.410Z"
   },
   {
    "duration": 29,
    "start_time": "2022-10-28T14:54:25.591Z"
   },
   {
    "duration": 2,
    "start_time": "2022-10-28T14:54:25.622Z"
   },
   {
    "duration": 13,
    "start_time": "2022-10-28T14:54:25.626Z"
   },
   {
    "duration": 16,
    "start_time": "2022-10-28T14:54:25.640Z"
   },
   {
    "duration": 5,
    "start_time": "2022-10-28T14:54:25.658Z"
   },
   {
    "duration": 48,
    "start_time": "2022-10-28T14:54:25.665Z"
   },
   {
    "duration": 18,
    "start_time": "2022-10-28T14:54:25.716Z"
   },
   {
    "duration": 33,
    "start_time": "2022-10-28T14:54:25.736Z"
   },
   {
    "duration": 85,
    "start_time": "2022-10-28T14:54:25.770Z"
   },
   {
    "duration": 88,
    "start_time": "2022-10-28T14:54:25.857Z"
   },
   {
    "duration": 73,
    "start_time": "2022-10-28T14:54:25.947Z"
   },
   {
    "duration": 40,
    "start_time": "2022-10-28T14:54:26.022Z"
   },
   {
    "duration": 28,
    "start_time": "2022-10-28T14:54:26.063Z"
   },
   {
    "duration": 40,
    "start_time": "2022-10-28T14:54:26.093Z"
   },
   {
    "duration": 3,
    "start_time": "2022-10-28T14:54:26.135Z"
   },
   {
    "duration": 9,
    "start_time": "2022-10-28T14:54:26.140Z"
   },
   {
    "duration": 8,
    "start_time": "2022-10-28T14:54:26.152Z"
   },
   {
    "duration": 9,
    "start_time": "2022-10-28T14:54:26.161Z"
   },
   {
    "duration": 19,
    "start_time": "2022-10-28T14:54:26.172Z"
   },
   {
    "duration": 2,
    "start_time": "2022-10-28T14:54:26.193Z"
   },
   {
    "duration": 5,
    "start_time": "2022-10-28T14:54:26.197Z"
   },
   {
    "duration": 7,
    "start_time": "2022-10-28T14:54:26.204Z"
   },
   {
    "duration": 5,
    "start_time": "2022-10-28T14:54:26.212Z"
   },
   {
    "duration": 10,
    "start_time": "2022-10-28T14:54:26.219Z"
   },
   {
    "duration": 3,
    "start_time": "2022-10-28T14:54:26.233Z"
   },
   {
    "duration": 5,
    "start_time": "2022-10-28T14:54:26.238Z"
   },
   {
    "duration": 72,
    "start_time": "2022-10-28T14:54:26.244Z"
   },
   {
    "duration": 0,
    "start_time": "2022-10-28T14:54:26.317Z"
   },
   {
    "duration": 0,
    "start_time": "2022-10-28T14:54:26.319Z"
   },
   {
    "duration": 0,
    "start_time": "2022-10-28T14:54:26.321Z"
   },
   {
    "duration": 0,
    "start_time": "2022-10-28T14:54:26.322Z"
   },
   {
    "duration": 0,
    "start_time": "2022-10-28T14:54:26.324Z"
   },
   {
    "duration": 0,
    "start_time": "2022-10-28T14:54:26.325Z"
   },
   {
    "duration": 0,
    "start_time": "2022-10-28T14:54:26.327Z"
   },
   {
    "duration": 0,
    "start_time": "2022-10-28T14:54:26.328Z"
   },
   {
    "duration": 85,
    "start_time": "2022-10-28T14:55:35.661Z"
   },
   {
    "duration": 418,
    "start_time": "2022-10-28T14:55:47.690Z"
   },
   {
    "duration": 176,
    "start_time": "2022-10-28T14:55:48.110Z"
   },
   {
    "duration": 164,
    "start_time": "2022-10-28T14:55:48.288Z"
   },
   {
    "duration": 44,
    "start_time": "2022-10-28T14:55:48.455Z"
   },
   {
    "duration": 56,
    "start_time": "2022-10-28T14:55:48.502Z"
   },
   {
    "duration": 14,
    "start_time": "2022-10-28T14:55:48.560Z"
   },
   {
    "duration": 13,
    "start_time": "2022-10-28T14:55:48.576Z"
   },
   {
    "duration": 4,
    "start_time": "2022-10-28T14:55:48.591Z"
   },
   {
    "duration": 23,
    "start_time": "2022-10-28T14:55:48.596Z"
   },
   {
    "duration": 18,
    "start_time": "2022-10-28T14:55:48.620Z"
   },
   {
    "duration": 25,
    "start_time": "2022-10-28T14:55:48.640Z"
   },
   {
    "duration": 88,
    "start_time": "2022-10-28T14:55:48.667Z"
   },
   {
    "duration": 89,
    "start_time": "2022-10-28T14:55:48.756Z"
   },
   {
    "duration": 64,
    "start_time": "2022-10-28T14:55:48.848Z"
   },
   {
    "duration": 38,
    "start_time": "2022-10-28T14:55:48.914Z"
   },
   {
    "duration": 11,
    "start_time": "2022-10-28T14:55:48.954Z"
   },
   {
    "duration": 59,
    "start_time": "2022-10-28T14:55:48.967Z"
   },
   {
    "duration": 85,
    "start_time": "2022-10-28T14:55:49.028Z"
   },
   {
    "duration": 0,
    "start_time": "2022-10-28T14:55:49.115Z"
   },
   {
    "duration": 0,
    "start_time": "2022-10-28T14:55:49.116Z"
   },
   {
    "duration": 0,
    "start_time": "2022-10-28T14:55:49.117Z"
   },
   {
    "duration": 0,
    "start_time": "2022-10-28T14:55:49.118Z"
   },
   {
    "duration": 0,
    "start_time": "2022-10-28T14:55:49.119Z"
   },
   {
    "duration": 0,
    "start_time": "2022-10-28T14:55:49.120Z"
   },
   {
    "duration": 0,
    "start_time": "2022-10-28T14:55:49.122Z"
   },
   {
    "duration": 0,
    "start_time": "2022-10-28T14:55:49.122Z"
   },
   {
    "duration": 0,
    "start_time": "2022-10-28T14:55:49.124Z"
   },
   {
    "duration": 0,
    "start_time": "2022-10-28T14:55:49.125Z"
   },
   {
    "duration": 0,
    "start_time": "2022-10-28T14:55:49.126Z"
   },
   {
    "duration": 0,
    "start_time": "2022-10-28T14:55:49.127Z"
   },
   {
    "duration": 0,
    "start_time": "2022-10-28T14:55:49.128Z"
   },
   {
    "duration": 0,
    "start_time": "2022-10-28T14:55:49.130Z"
   },
   {
    "duration": 0,
    "start_time": "2022-10-28T14:55:49.131Z"
   },
   {
    "duration": 0,
    "start_time": "2022-10-28T14:55:49.132Z"
   },
   {
    "duration": 0,
    "start_time": "2022-10-28T14:55:49.134Z"
   },
   {
    "duration": 0,
    "start_time": "2022-10-28T14:55:49.135Z"
   },
   {
    "duration": 0,
    "start_time": "2022-10-28T14:55:49.137Z"
   },
   {
    "duration": 0,
    "start_time": "2022-10-28T14:55:49.138Z"
   },
   {
    "duration": 33,
    "start_time": "2022-10-28T14:56:01.965Z"
   },
   {
    "duration": 43,
    "start_time": "2022-10-28T14:57:00.707Z"
   },
   {
    "duration": 6,
    "start_time": "2022-10-28T14:58:21.286Z"
   },
   {
    "duration": 433,
    "start_time": "2022-10-28T14:58:30.985Z"
   },
   {
    "duration": 187,
    "start_time": "2022-10-28T14:58:31.421Z"
   },
   {
    "duration": 175,
    "start_time": "2022-10-28T14:58:31.610Z"
   },
   {
    "duration": 30,
    "start_time": "2022-10-28T14:58:31.790Z"
   },
   {
    "duration": 3,
    "start_time": "2022-10-28T14:58:31.821Z"
   },
   {
    "duration": 10,
    "start_time": "2022-10-28T14:58:31.826Z"
   },
   {
    "duration": 14,
    "start_time": "2022-10-28T14:58:31.837Z"
   },
   {
    "duration": 4,
    "start_time": "2022-10-28T14:58:31.853Z"
   },
   {
    "duration": 56,
    "start_time": "2022-10-28T14:58:31.859Z"
   },
   {
    "duration": 17,
    "start_time": "2022-10-28T14:58:31.918Z"
   },
   {
    "duration": 22,
    "start_time": "2022-10-28T14:58:31.937Z"
   },
   {
    "duration": 92,
    "start_time": "2022-10-28T14:58:31.961Z"
   },
   {
    "duration": 78,
    "start_time": "2022-10-28T14:58:32.055Z"
   },
   {
    "duration": 71,
    "start_time": "2022-10-28T14:58:32.135Z"
   },
   {
    "duration": 41,
    "start_time": "2022-10-28T14:58:32.208Z"
   },
   {
    "duration": 10,
    "start_time": "2022-10-28T14:58:32.251Z"
   },
   {
    "duration": 61,
    "start_time": "2022-10-28T14:58:32.263Z"
   },
   {
    "duration": 31,
    "start_time": "2022-10-28T14:58:32.326Z"
   },
   {
    "duration": 8,
    "start_time": "2022-10-28T14:58:32.359Z"
   },
   {
    "duration": 24,
    "start_time": "2022-10-28T14:58:32.368Z"
   },
   {
    "duration": 9,
    "start_time": "2022-10-28T14:58:32.394Z"
   },
   {
    "duration": 4,
    "start_time": "2022-10-28T14:58:32.405Z"
   },
   {
    "duration": 4,
    "start_time": "2022-10-28T14:58:32.411Z"
   },
   {
    "duration": 6,
    "start_time": "2022-10-28T14:58:32.417Z"
   },
   {
    "duration": 9,
    "start_time": "2022-10-28T14:58:32.424Z"
   },
   {
    "duration": 6,
    "start_time": "2022-10-28T14:58:32.435Z"
   },
   {
    "duration": 8,
    "start_time": "2022-10-28T14:58:32.442Z"
   },
   {
    "duration": 8,
    "start_time": "2022-10-28T14:58:32.453Z"
   },
   {
    "duration": 15,
    "start_time": "2022-10-28T14:58:32.463Z"
   },
   {
    "duration": 69,
    "start_time": "2022-10-28T14:58:32.481Z"
   },
   {
    "duration": 0,
    "start_time": "2022-10-28T14:58:32.552Z"
   },
   {
    "duration": 0,
    "start_time": "2022-10-28T14:58:32.553Z"
   },
   {
    "duration": 0,
    "start_time": "2022-10-28T14:58:32.554Z"
   },
   {
    "duration": 0,
    "start_time": "2022-10-28T14:58:32.556Z"
   },
   {
    "duration": 0,
    "start_time": "2022-10-28T14:58:32.557Z"
   },
   {
    "duration": 0,
    "start_time": "2022-10-28T14:58:32.558Z"
   },
   {
    "duration": 0,
    "start_time": "2022-10-28T14:58:32.559Z"
   },
   {
    "duration": 0,
    "start_time": "2022-10-28T14:58:32.560Z"
   },
   {
    "duration": 415,
    "start_time": "2022-10-28T15:01:32.454Z"
   },
   {
    "duration": 176,
    "start_time": "2022-10-28T15:01:32.871Z"
   },
   {
    "duration": 164,
    "start_time": "2022-10-28T15:01:33.049Z"
   },
   {
    "duration": 28,
    "start_time": "2022-10-28T15:01:33.215Z"
   },
   {
    "duration": 10,
    "start_time": "2022-10-28T15:01:33.245Z"
   },
   {
    "duration": 27,
    "start_time": "2022-10-28T15:01:33.257Z"
   },
   {
    "duration": 13,
    "start_time": "2022-10-28T15:01:33.286Z"
   },
   {
    "duration": 13,
    "start_time": "2022-10-28T15:01:33.300Z"
   },
   {
    "duration": 31,
    "start_time": "2022-10-28T15:01:33.315Z"
   },
   {
    "duration": 23,
    "start_time": "2022-10-28T15:01:33.348Z"
   },
   {
    "duration": 21,
    "start_time": "2022-10-28T15:01:33.373Z"
   },
   {
    "duration": 67,
    "start_time": "2022-10-28T15:01:33.396Z"
   },
   {
    "duration": 89,
    "start_time": "2022-10-28T15:01:33.464Z"
   },
   {
    "duration": 76,
    "start_time": "2022-10-28T15:01:33.555Z"
   },
   {
    "duration": 40,
    "start_time": "2022-10-28T15:01:33.632Z"
   },
   {
    "duration": 23,
    "start_time": "2022-10-28T15:01:33.673Z"
   },
   {
    "duration": 40,
    "start_time": "2022-10-28T15:01:33.698Z"
   },
   {
    "duration": 51,
    "start_time": "2022-10-28T15:01:33.740Z"
   },
   {
    "duration": 83,
    "start_time": "2022-10-28T15:01:33.793Z"
   },
   {
    "duration": 0,
    "start_time": "2022-10-28T15:01:33.877Z"
   },
   {
    "duration": 0,
    "start_time": "2022-10-28T15:01:33.879Z"
   },
   {
    "duration": 0,
    "start_time": "2022-10-28T15:01:33.891Z"
   },
   {
    "duration": 0,
    "start_time": "2022-10-28T15:01:33.892Z"
   },
   {
    "duration": 0,
    "start_time": "2022-10-28T15:01:33.893Z"
   },
   {
    "duration": 0,
    "start_time": "2022-10-28T15:01:33.894Z"
   },
   {
    "duration": 0,
    "start_time": "2022-10-28T15:01:33.896Z"
   },
   {
    "duration": 0,
    "start_time": "2022-10-28T15:01:33.897Z"
   },
   {
    "duration": 0,
    "start_time": "2022-10-28T15:01:33.898Z"
   },
   {
    "duration": 0,
    "start_time": "2022-10-28T15:01:33.899Z"
   },
   {
    "duration": 0,
    "start_time": "2022-10-28T15:01:33.900Z"
   },
   {
    "duration": 0,
    "start_time": "2022-10-28T15:01:33.901Z"
   },
   {
    "duration": 0,
    "start_time": "2022-10-28T15:01:33.903Z"
   },
   {
    "duration": 0,
    "start_time": "2022-10-28T15:01:33.904Z"
   },
   {
    "duration": 0,
    "start_time": "2022-10-28T15:01:33.905Z"
   },
   {
    "duration": 0,
    "start_time": "2022-10-28T15:01:33.906Z"
   },
   {
    "duration": 0,
    "start_time": "2022-10-28T15:01:33.907Z"
   },
   {
    "duration": 0,
    "start_time": "2022-10-28T15:01:33.908Z"
   },
   {
    "duration": 0,
    "start_time": "2022-10-28T15:01:33.909Z"
   },
   {
    "duration": 25,
    "start_time": "2022-10-28T15:04:31.405Z"
   },
   {
    "duration": 359,
    "start_time": "2022-10-28T15:05:41.941Z"
   },
   {
    "duration": 172,
    "start_time": "2022-10-28T15:05:42.302Z"
   },
   {
    "duration": 162,
    "start_time": "2022-10-28T15:05:42.475Z"
   },
   {
    "duration": 30,
    "start_time": "2022-10-28T15:05:42.639Z"
   },
   {
    "duration": 18,
    "start_time": "2022-10-28T15:05:42.673Z"
   },
   {
    "duration": 10,
    "start_time": "2022-10-28T15:05:42.693Z"
   },
   {
    "duration": 13,
    "start_time": "2022-10-28T15:05:42.704Z"
   },
   {
    "duration": 5,
    "start_time": "2022-10-28T15:05:42.718Z"
   },
   {
    "duration": 37,
    "start_time": "2022-10-28T15:05:42.724Z"
   },
   {
    "duration": 34,
    "start_time": "2022-10-28T15:05:42.762Z"
   },
   {
    "duration": 24,
    "start_time": "2022-10-28T15:05:42.798Z"
   },
   {
    "duration": 89,
    "start_time": "2022-10-28T15:05:42.824Z"
   },
   {
    "duration": 78,
    "start_time": "2022-10-28T15:05:42.915Z"
   },
   {
    "duration": 61,
    "start_time": "2022-10-28T15:05:42.996Z"
   },
   {
    "duration": 51,
    "start_time": "2022-10-28T15:05:43.059Z"
   },
   {
    "duration": 9,
    "start_time": "2022-10-28T15:05:43.112Z"
   },
   {
    "duration": 45,
    "start_time": "2022-10-28T15:05:43.123Z"
   },
   {
    "duration": 48,
    "start_time": "2022-10-28T15:05:43.170Z"
   },
   {
    "duration": 10,
    "start_time": "2022-10-28T15:05:43.220Z"
   },
   {
    "duration": 3,
    "start_time": "2022-10-28T15:05:43.231Z"
   },
   {
    "duration": 8,
    "start_time": "2022-10-28T15:05:43.235Z"
   },
   {
    "duration": 6,
    "start_time": "2022-10-28T15:05:43.244Z"
   },
   {
    "duration": 4,
    "start_time": "2022-10-28T15:05:43.251Z"
   },
   {
    "duration": 3,
    "start_time": "2022-10-28T15:05:43.256Z"
   },
   {
    "duration": 16,
    "start_time": "2022-10-28T15:05:43.261Z"
   },
   {
    "duration": 15,
    "start_time": "2022-10-28T15:05:43.279Z"
   },
   {
    "duration": 7,
    "start_time": "2022-10-28T15:05:43.295Z"
   },
   {
    "duration": 5,
    "start_time": "2022-10-28T15:05:43.303Z"
   },
   {
    "duration": 7,
    "start_time": "2022-10-28T15:05:43.309Z"
   },
   {
    "duration": 71,
    "start_time": "2022-10-28T15:05:43.318Z"
   },
   {
    "duration": 0,
    "start_time": "2022-10-28T15:05:43.391Z"
   },
   {
    "duration": 0,
    "start_time": "2022-10-28T15:05:43.392Z"
   },
   {
    "duration": 0,
    "start_time": "2022-10-28T15:05:43.393Z"
   },
   {
    "duration": 0,
    "start_time": "2022-10-28T15:05:43.394Z"
   },
   {
    "duration": 0,
    "start_time": "2022-10-28T15:05:43.395Z"
   },
   {
    "duration": 0,
    "start_time": "2022-10-28T15:05:43.396Z"
   },
   {
    "duration": 0,
    "start_time": "2022-10-28T15:05:43.397Z"
   },
   {
    "duration": 0,
    "start_time": "2022-10-28T15:05:43.398Z"
   },
   {
    "duration": 419,
    "start_time": "2022-10-28T15:06:34.695Z"
   },
   {
    "duration": 175,
    "start_time": "2022-10-28T15:06:35.116Z"
   },
   {
    "duration": 170,
    "start_time": "2022-10-28T15:06:35.295Z"
   },
   {
    "duration": 34,
    "start_time": "2022-10-28T15:06:35.467Z"
   },
   {
    "duration": 2,
    "start_time": "2022-10-28T15:06:35.503Z"
   },
   {
    "duration": 10,
    "start_time": "2022-10-28T15:06:35.507Z"
   },
   {
    "duration": 13,
    "start_time": "2022-10-28T15:06:35.519Z"
   },
   {
    "duration": 5,
    "start_time": "2022-10-28T15:06:35.534Z"
   },
   {
    "duration": 62,
    "start_time": "2022-10-28T15:06:35.541Z"
   },
   {
    "duration": 26,
    "start_time": "2022-10-28T15:06:35.605Z"
   },
   {
    "duration": 31,
    "start_time": "2022-10-28T15:06:35.633Z"
   },
   {
    "duration": 81,
    "start_time": "2022-10-28T15:06:35.665Z"
   },
   {
    "duration": 88,
    "start_time": "2022-10-28T15:06:35.749Z"
   },
   {
    "duration": 70,
    "start_time": "2022-10-28T15:06:35.839Z"
   },
   {
    "duration": 44,
    "start_time": "2022-10-28T15:06:35.911Z"
   },
   {
    "duration": 11,
    "start_time": "2022-10-28T15:06:35.957Z"
   },
   {
    "duration": 41,
    "start_time": "2022-10-28T15:06:35.991Z"
   },
   {
    "duration": 30,
    "start_time": "2022-10-28T15:06:36.034Z"
   },
   {
    "duration": 32,
    "start_time": "2022-10-28T15:06:36.066Z"
   },
   {
    "duration": 4,
    "start_time": "2022-10-28T15:06:36.100Z"
   },
   {
    "duration": 4,
    "start_time": "2022-10-28T15:06:36.106Z"
   },
   {
    "duration": 4,
    "start_time": "2022-10-28T15:06:36.112Z"
   },
   {
    "duration": 6,
    "start_time": "2022-10-28T15:06:36.118Z"
   },
   {
    "duration": 9,
    "start_time": "2022-10-28T15:06:36.125Z"
   },
   {
    "duration": 6,
    "start_time": "2022-10-28T15:06:36.136Z"
   },
   {
    "duration": 5,
    "start_time": "2022-10-28T15:06:36.143Z"
   },
   {
    "duration": 20,
    "start_time": "2022-10-28T15:06:36.150Z"
   },
   {
    "duration": 4,
    "start_time": "2022-10-28T15:06:36.172Z"
   },
   {
    "duration": 13,
    "start_time": "2022-10-28T15:06:36.178Z"
   },
   {
    "duration": 366,
    "start_time": "2022-10-28T15:06:36.193Z"
   },
   {
    "duration": 0,
    "start_time": "2022-10-28T15:06:36.562Z"
   },
   {
    "duration": 0,
    "start_time": "2022-10-28T15:06:36.567Z"
   },
   {
    "duration": 0,
    "start_time": "2022-10-28T15:06:36.568Z"
   },
   {
    "duration": 0,
    "start_time": "2022-10-28T15:06:36.570Z"
   },
   {
    "duration": 0,
    "start_time": "2022-10-28T15:06:36.571Z"
   },
   {
    "duration": 0,
    "start_time": "2022-10-28T15:06:36.573Z"
   },
   {
    "duration": 0,
    "start_time": "2022-10-28T15:06:36.575Z"
   },
   {
    "duration": 0,
    "start_time": "2022-10-28T15:06:36.577Z"
   },
   {
    "duration": 66,
    "start_time": "2022-10-28T15:12:30.228Z"
   },
   {
    "duration": 374,
    "start_time": "2022-10-28T15:12:43.253Z"
   },
   {
    "duration": 175,
    "start_time": "2022-10-28T15:12:43.629Z"
   },
   {
    "duration": 164,
    "start_time": "2022-10-28T15:12:43.806Z"
   },
   {
    "duration": 32,
    "start_time": "2022-10-28T15:12:43.972Z"
   },
   {
    "duration": 2,
    "start_time": "2022-10-28T15:12:44.006Z"
   },
   {
    "duration": 9,
    "start_time": "2022-10-28T15:12:44.010Z"
   },
   {
    "duration": 12,
    "start_time": "2022-10-28T15:12:44.021Z"
   },
   {
    "duration": 6,
    "start_time": "2022-10-28T15:12:44.035Z"
   },
   {
    "duration": 50,
    "start_time": "2022-10-28T15:12:44.042Z"
   },
   {
    "duration": 18,
    "start_time": "2022-10-28T15:12:44.094Z"
   },
   {
    "duration": 22,
    "start_time": "2022-10-28T15:12:44.113Z"
   },
   {
    "duration": 86,
    "start_time": "2022-10-28T15:12:44.137Z"
   },
   {
    "duration": 77,
    "start_time": "2022-10-28T15:12:44.225Z"
   },
   {
    "duration": 60,
    "start_time": "2022-10-28T15:12:44.304Z"
   },
   {
    "duration": 53,
    "start_time": "2022-10-28T15:12:44.366Z"
   },
   {
    "duration": 12,
    "start_time": "2022-10-28T15:12:44.421Z"
   },
   {
    "duration": 64,
    "start_time": "2022-10-28T15:12:44.434Z"
   },
   {
    "duration": 34,
    "start_time": "2022-10-28T15:12:44.500Z"
   },
   {
    "duration": 10,
    "start_time": "2022-10-28T15:12:44.536Z"
   },
   {
    "duration": 4,
    "start_time": "2022-10-28T15:12:44.548Z"
   },
   {
    "duration": 97,
    "start_time": "2022-10-28T15:12:44.553Z"
   },
   {
    "duration": 0,
    "start_time": "2022-10-28T15:12:44.652Z"
   },
   {
    "duration": 0,
    "start_time": "2022-10-28T15:12:44.653Z"
   },
   {
    "duration": 0,
    "start_time": "2022-10-28T15:12:44.654Z"
   },
   {
    "duration": 0,
    "start_time": "2022-10-28T15:12:44.656Z"
   },
   {
    "duration": 0,
    "start_time": "2022-10-28T15:12:44.656Z"
   },
   {
    "duration": 0,
    "start_time": "2022-10-28T15:12:44.657Z"
   },
   {
    "duration": 0,
    "start_time": "2022-10-28T15:12:44.659Z"
   },
   {
    "duration": 0,
    "start_time": "2022-10-28T15:12:44.660Z"
   },
   {
    "duration": 0,
    "start_time": "2022-10-28T15:12:44.661Z"
   },
   {
    "duration": 0,
    "start_time": "2022-10-28T15:12:44.662Z"
   },
   {
    "duration": 0,
    "start_time": "2022-10-28T15:12:44.663Z"
   },
   {
    "duration": 0,
    "start_time": "2022-10-28T15:12:44.664Z"
   },
   {
    "duration": 0,
    "start_time": "2022-10-28T15:12:44.665Z"
   },
   {
    "duration": 0,
    "start_time": "2022-10-28T15:12:44.666Z"
   },
   {
    "duration": 0,
    "start_time": "2022-10-28T15:12:44.691Z"
   },
   {
    "duration": 0,
    "start_time": "2022-10-28T15:12:44.692Z"
   },
   {
    "duration": 0,
    "start_time": "2022-10-28T15:12:44.693Z"
   },
   {
    "duration": 395,
    "start_time": "2022-10-28T15:13:36.710Z"
   },
   {
    "duration": 170,
    "start_time": "2022-10-28T15:13:37.107Z"
   },
   {
    "duration": 175,
    "start_time": "2022-10-28T15:13:37.279Z"
   },
   {
    "duration": 36,
    "start_time": "2022-10-28T15:13:37.456Z"
   },
   {
    "duration": 2,
    "start_time": "2022-10-28T15:13:37.495Z"
   },
   {
    "duration": 13,
    "start_time": "2022-10-28T15:13:37.499Z"
   },
   {
    "duration": 18,
    "start_time": "2022-10-28T15:13:37.514Z"
   },
   {
    "duration": 4,
    "start_time": "2022-10-28T15:13:37.534Z"
   },
   {
    "duration": 27,
    "start_time": "2022-10-28T15:13:37.539Z"
   },
   {
    "duration": 38,
    "start_time": "2022-10-28T15:13:37.568Z"
   },
   {
    "duration": 23,
    "start_time": "2022-10-28T15:13:37.607Z"
   },
   {
    "duration": 86,
    "start_time": "2022-10-28T15:13:37.632Z"
   },
   {
    "duration": 78,
    "start_time": "2022-10-28T15:13:37.720Z"
   },
   {
    "duration": 58,
    "start_time": "2022-10-28T15:13:37.801Z"
   },
   {
    "duration": 53,
    "start_time": "2022-10-28T15:13:37.861Z"
   },
   {
    "duration": 10,
    "start_time": "2022-10-28T15:13:37.916Z"
   },
   {
    "duration": 37,
    "start_time": "2022-10-28T15:13:37.928Z"
   },
   {
    "duration": 46,
    "start_time": "2022-10-28T15:13:37.967Z"
   },
   {
    "duration": 10,
    "start_time": "2022-10-28T15:13:38.014Z"
   },
   {
    "duration": 3,
    "start_time": "2022-10-28T15:13:38.026Z"
   },
   {
    "duration": 88,
    "start_time": "2022-10-28T15:13:38.031Z"
   },
   {
    "duration": 0,
    "start_time": "2022-10-28T15:13:38.121Z"
   },
   {
    "duration": 0,
    "start_time": "2022-10-28T15:13:38.122Z"
   },
   {
    "duration": 0,
    "start_time": "2022-10-28T15:13:38.122Z"
   },
   {
    "duration": 0,
    "start_time": "2022-10-28T15:13:38.124Z"
   },
   {
    "duration": 0,
    "start_time": "2022-10-28T15:13:38.125Z"
   },
   {
    "duration": 0,
    "start_time": "2022-10-28T15:13:38.126Z"
   },
   {
    "duration": 0,
    "start_time": "2022-10-28T15:13:38.127Z"
   },
   {
    "duration": 0,
    "start_time": "2022-10-28T15:13:38.127Z"
   },
   {
    "duration": 1,
    "start_time": "2022-10-28T15:13:38.128Z"
   },
   {
    "duration": 0,
    "start_time": "2022-10-28T15:13:38.130Z"
   },
   {
    "duration": 0,
    "start_time": "2022-10-28T15:13:38.131Z"
   },
   {
    "duration": 0,
    "start_time": "2022-10-28T15:13:38.132Z"
   },
   {
    "duration": 0,
    "start_time": "2022-10-28T15:13:38.133Z"
   },
   {
    "duration": 0,
    "start_time": "2022-10-28T15:13:38.134Z"
   },
   {
    "duration": 0,
    "start_time": "2022-10-28T15:13:38.135Z"
   },
   {
    "duration": 0,
    "start_time": "2022-10-28T15:13:38.137Z"
   },
   {
    "duration": 0,
    "start_time": "2022-10-28T15:13:38.138Z"
   },
   {
    "duration": 422,
    "start_time": "2022-10-28T15:14:17.975Z"
   },
   {
    "duration": 189,
    "start_time": "2022-10-28T15:14:18.399Z"
   },
   {
    "duration": 171,
    "start_time": "2022-10-28T15:14:18.589Z"
   },
   {
    "duration": 34,
    "start_time": "2022-10-28T15:14:18.762Z"
   },
   {
    "duration": 3,
    "start_time": "2022-10-28T15:14:18.798Z"
   },
   {
    "duration": 11,
    "start_time": "2022-10-28T15:14:18.802Z"
   },
   {
    "duration": 14,
    "start_time": "2022-10-28T15:14:18.814Z"
   },
   {
    "duration": 4,
    "start_time": "2022-10-28T15:14:18.830Z"
   },
   {
    "duration": 31,
    "start_time": "2022-10-28T15:14:18.835Z"
   },
   {
    "duration": 18,
    "start_time": "2022-10-28T15:14:18.891Z"
   },
   {
    "duration": 25,
    "start_time": "2022-10-28T15:14:18.911Z"
   },
   {
    "duration": 87,
    "start_time": "2022-10-28T15:14:18.937Z"
   },
   {
    "duration": 79,
    "start_time": "2022-10-28T15:14:19.026Z"
   },
   {
    "duration": 60,
    "start_time": "2022-10-28T15:14:19.108Z"
   },
   {
    "duration": 52,
    "start_time": "2022-10-28T15:14:19.169Z"
   },
   {
    "duration": 11,
    "start_time": "2022-10-28T15:14:19.223Z"
   },
   {
    "duration": 56,
    "start_time": "2022-10-28T15:14:19.235Z"
   },
   {
    "duration": 30,
    "start_time": "2022-10-28T15:14:19.293Z"
   },
   {
    "duration": 10,
    "start_time": "2022-10-28T15:14:19.324Z"
   },
   {
    "duration": 3,
    "start_time": "2022-10-28T15:14:19.336Z"
   },
   {
    "duration": 93,
    "start_time": "2022-10-28T15:14:19.341Z"
   },
   {
    "duration": 0,
    "start_time": "2022-10-28T15:14:19.436Z"
   },
   {
    "duration": 0,
    "start_time": "2022-10-28T15:14:19.437Z"
   },
   {
    "duration": 0,
    "start_time": "2022-10-28T15:14:19.438Z"
   },
   {
    "duration": 0,
    "start_time": "2022-10-28T15:14:19.439Z"
   },
   {
    "duration": 0,
    "start_time": "2022-10-28T15:14:19.440Z"
   },
   {
    "duration": 0,
    "start_time": "2022-10-28T15:14:19.441Z"
   },
   {
    "duration": 0,
    "start_time": "2022-10-28T15:14:19.442Z"
   },
   {
    "duration": 0,
    "start_time": "2022-10-28T15:14:19.443Z"
   },
   {
    "duration": 0,
    "start_time": "2022-10-28T15:14:19.445Z"
   },
   {
    "duration": 0,
    "start_time": "2022-10-28T15:14:19.446Z"
   },
   {
    "duration": 0,
    "start_time": "2022-10-28T15:14:19.447Z"
   },
   {
    "duration": 0,
    "start_time": "2022-10-28T15:14:19.448Z"
   },
   {
    "duration": 0,
    "start_time": "2022-10-28T15:14:19.449Z"
   },
   {
    "duration": 0,
    "start_time": "2022-10-28T15:14:19.450Z"
   },
   {
    "duration": 0,
    "start_time": "2022-10-28T15:14:19.451Z"
   },
   {
    "duration": 0,
    "start_time": "2022-10-28T15:14:19.452Z"
   },
   {
    "duration": 0,
    "start_time": "2022-10-28T15:14:19.453Z"
   },
   {
    "duration": 21,
    "start_time": "2022-10-28T15:16:07.502Z"
   },
   {
    "duration": 73,
    "start_time": "2022-10-28T15:16:34.419Z"
   },
   {
    "duration": 13,
    "start_time": "2022-10-28T15:16:52.881Z"
   },
   {
    "duration": 355,
    "start_time": "2022-10-28T15:18:51.742Z"
   },
   {
    "duration": 162,
    "start_time": "2022-10-28T15:18:52.099Z"
   },
   {
    "duration": 151,
    "start_time": "2022-10-28T15:18:52.263Z"
   },
   {
    "duration": 33,
    "start_time": "2022-10-28T15:18:52.416Z"
   },
   {
    "duration": 3,
    "start_time": "2022-10-28T15:18:52.452Z"
   },
   {
    "duration": 11,
    "start_time": "2022-10-28T15:18:52.456Z"
   },
   {
    "duration": 27,
    "start_time": "2022-10-28T15:18:52.468Z"
   },
   {
    "duration": 4,
    "start_time": "2022-10-28T15:18:52.497Z"
   },
   {
    "duration": 22,
    "start_time": "2022-10-28T15:18:52.502Z"
   },
   {
    "duration": 17,
    "start_time": "2022-10-28T15:18:52.526Z"
   },
   {
    "duration": 47,
    "start_time": "2022-10-28T15:18:52.545Z"
   },
   {
    "duration": 71,
    "start_time": "2022-10-28T15:18:52.594Z"
   },
   {
    "duration": 86,
    "start_time": "2022-10-28T15:18:52.667Z"
   },
   {
    "duration": 64,
    "start_time": "2022-10-28T15:18:52.756Z"
   },
   {
    "duration": 36,
    "start_time": "2022-10-28T15:18:52.822Z"
   },
   {
    "duration": 9,
    "start_time": "2022-10-28T15:18:52.860Z"
   },
   {
    "duration": 54,
    "start_time": "2022-10-28T15:18:52.871Z"
   },
   {
    "duration": 29,
    "start_time": "2022-10-28T15:18:52.926Z"
   },
   {
    "duration": 9,
    "start_time": "2022-10-28T15:18:52.956Z"
   },
   {
    "duration": 4,
    "start_time": "2022-10-28T15:18:52.990Z"
   },
   {
    "duration": 1518,
    "start_time": "2022-10-28T15:18:52.995Z"
   },
   {
    "duration": 0,
    "start_time": "2022-10-28T15:18:54.515Z"
   },
   {
    "duration": 0,
    "start_time": "2022-10-28T15:18:54.519Z"
   },
   {
    "duration": 0,
    "start_time": "2022-10-28T15:18:54.521Z"
   },
   {
    "duration": 0,
    "start_time": "2022-10-28T15:18:54.525Z"
   },
   {
    "duration": 0,
    "start_time": "2022-10-28T15:18:54.526Z"
   },
   {
    "duration": 0,
    "start_time": "2022-10-28T15:18:54.528Z"
   },
   {
    "duration": 0,
    "start_time": "2022-10-28T15:18:54.529Z"
   },
   {
    "duration": 0,
    "start_time": "2022-10-28T15:18:54.531Z"
   },
   {
    "duration": 0,
    "start_time": "2022-10-28T15:18:54.532Z"
   },
   {
    "duration": 0,
    "start_time": "2022-10-28T15:18:54.534Z"
   },
   {
    "duration": 0,
    "start_time": "2022-10-28T15:18:54.537Z"
   },
   {
    "duration": 0,
    "start_time": "2022-10-28T15:18:54.538Z"
   },
   {
    "duration": 0,
    "start_time": "2022-10-28T15:18:54.539Z"
   },
   {
    "duration": 0,
    "start_time": "2022-10-28T15:18:54.540Z"
   },
   {
    "duration": 0,
    "start_time": "2022-10-28T15:18:54.541Z"
   },
   {
    "duration": 0,
    "start_time": "2022-10-28T15:18:54.543Z"
   },
   {
    "duration": 0,
    "start_time": "2022-10-28T15:18:54.544Z"
   },
   {
    "duration": 1277,
    "start_time": "2022-10-28T15:19:54.013Z"
   },
   {
    "duration": 380,
    "start_time": "2022-10-28T15:22:15.550Z"
   },
   {
    "duration": 165,
    "start_time": "2022-10-28T15:22:15.932Z"
   },
   {
    "duration": 153,
    "start_time": "2022-10-28T15:22:16.099Z"
   },
   {
    "duration": 26,
    "start_time": "2022-10-28T15:22:16.253Z"
   },
   {
    "duration": 3,
    "start_time": "2022-10-28T15:22:16.291Z"
   },
   {
    "duration": 11,
    "start_time": "2022-10-28T15:22:16.295Z"
   },
   {
    "duration": 13,
    "start_time": "2022-10-28T15:22:16.308Z"
   },
   {
    "duration": 4,
    "start_time": "2022-10-28T15:22:16.323Z"
   },
   {
    "duration": 24,
    "start_time": "2022-10-28T15:22:16.328Z"
   },
   {
    "duration": 40,
    "start_time": "2022-10-28T15:22:16.354Z"
   },
   {
    "duration": 23,
    "start_time": "2022-10-28T15:22:16.396Z"
   },
   {
    "duration": 83,
    "start_time": "2022-10-28T15:22:16.421Z"
   },
   {
    "duration": 68,
    "start_time": "2022-10-28T15:22:16.506Z"
   },
   {
    "duration": 92,
    "start_time": "2022-10-28T15:22:16.578Z"
   },
   {
    "duration": 58,
    "start_time": "2022-10-28T15:22:16.672Z"
   },
   {
    "duration": 13,
    "start_time": "2022-10-28T15:22:16.732Z"
   },
   {
    "duration": 64,
    "start_time": "2022-10-28T15:22:16.747Z"
   },
   {
    "duration": 36,
    "start_time": "2022-10-28T15:22:16.813Z"
   },
   {
    "duration": 10,
    "start_time": "2022-10-28T15:22:16.851Z"
   },
   {
    "duration": 28,
    "start_time": "2022-10-28T15:22:16.863Z"
   },
   {
    "duration": 1325,
    "start_time": "2022-10-28T15:22:16.893Z"
   },
   {
    "duration": 0,
    "start_time": "2022-10-28T15:22:18.220Z"
   },
   {
    "duration": 0,
    "start_time": "2022-10-28T15:22:18.221Z"
   },
   {
    "duration": 0,
    "start_time": "2022-10-28T15:22:18.222Z"
   },
   {
    "duration": 0,
    "start_time": "2022-10-28T15:22:18.223Z"
   },
   {
    "duration": 0,
    "start_time": "2022-10-28T15:22:18.224Z"
   },
   {
    "duration": 0,
    "start_time": "2022-10-28T15:22:18.225Z"
   },
   {
    "duration": 0,
    "start_time": "2022-10-28T15:22:18.226Z"
   },
   {
    "duration": 0,
    "start_time": "2022-10-28T15:22:18.227Z"
   },
   {
    "duration": 0,
    "start_time": "2022-10-28T15:22:18.229Z"
   },
   {
    "duration": 0,
    "start_time": "2022-10-28T15:22:18.230Z"
   },
   {
    "duration": 0,
    "start_time": "2022-10-28T15:22:18.231Z"
   },
   {
    "duration": 0,
    "start_time": "2022-10-28T15:22:18.232Z"
   },
   {
    "duration": 0,
    "start_time": "2022-10-28T15:22:18.233Z"
   },
   {
    "duration": 0,
    "start_time": "2022-10-28T15:22:18.234Z"
   },
   {
    "duration": 0,
    "start_time": "2022-10-28T15:22:18.235Z"
   },
   {
    "duration": 0,
    "start_time": "2022-10-28T15:22:18.236Z"
   },
   {
    "duration": 0,
    "start_time": "2022-10-28T15:22:18.237Z"
   },
   {
    "duration": 5,
    "start_time": "2022-10-28T15:23:47.144Z"
   },
   {
    "duration": 1313,
    "start_time": "2022-10-28T15:23:58.710Z"
   },
   {
    "duration": 3,
    "start_time": "2022-10-28T15:24:00.082Z"
   },
   {
    "duration": 365,
    "start_time": "2022-10-28T15:24:57.429Z"
   },
   {
    "duration": 158,
    "start_time": "2022-10-28T15:24:57.796Z"
   },
   {
    "duration": 149,
    "start_time": "2022-10-28T15:24:57.956Z"
   },
   {
    "duration": 26,
    "start_time": "2022-10-28T15:24:58.107Z"
   },
   {
    "duration": 2,
    "start_time": "2022-10-28T15:24:58.135Z"
   },
   {
    "duration": 9,
    "start_time": "2022-10-28T15:24:58.138Z"
   },
   {
    "duration": 12,
    "start_time": "2022-10-28T15:24:58.148Z"
   },
   {
    "duration": 3,
    "start_time": "2022-10-28T15:24:58.162Z"
   },
   {
    "duration": 30,
    "start_time": "2022-10-28T15:24:58.191Z"
   },
   {
    "duration": 24,
    "start_time": "2022-10-28T15:24:58.224Z"
   },
   {
    "duration": 42,
    "start_time": "2022-10-28T15:24:58.249Z"
   },
   {
    "duration": 64,
    "start_time": "2022-10-28T15:24:58.293Z"
   },
   {
    "duration": 83,
    "start_time": "2022-10-28T15:24:58.359Z"
   },
   {
    "duration": 73,
    "start_time": "2022-10-28T15:24:58.444Z"
   },
   {
    "duration": 40,
    "start_time": "2022-10-28T15:24:58.518Z"
   },
   {
    "duration": 10,
    "start_time": "2022-10-28T15:24:58.560Z"
   },
   {
    "duration": 56,
    "start_time": "2022-10-28T15:24:58.572Z"
   },
   {
    "duration": 31,
    "start_time": "2022-10-28T15:24:58.630Z"
   },
   {
    "duration": 31,
    "start_time": "2022-10-28T15:24:58.663Z"
   },
   {
    "duration": 4,
    "start_time": "2022-10-28T15:24:58.696Z"
   },
   {
    "duration": 1390,
    "start_time": "2022-10-28T15:24:58.702Z"
   },
   {
    "duration": 0,
    "start_time": "2022-10-28T15:25:00.094Z"
   },
   {
    "duration": 0,
    "start_time": "2022-10-28T15:25:00.095Z"
   },
   {
    "duration": 0,
    "start_time": "2022-10-28T15:25:00.096Z"
   },
   {
    "duration": 1,
    "start_time": "2022-10-28T15:25:00.097Z"
   },
   {
    "duration": 0,
    "start_time": "2022-10-28T15:25:00.098Z"
   },
   {
    "duration": 0,
    "start_time": "2022-10-28T15:25:00.100Z"
   },
   {
    "duration": 0,
    "start_time": "2022-10-28T15:25:00.101Z"
   },
   {
    "duration": 0,
    "start_time": "2022-10-28T15:25:00.103Z"
   },
   {
    "duration": 0,
    "start_time": "2022-10-28T15:25:00.104Z"
   },
   {
    "duration": 0,
    "start_time": "2022-10-28T15:25:00.105Z"
   },
   {
    "duration": 0,
    "start_time": "2022-10-28T15:25:00.106Z"
   },
   {
    "duration": 0,
    "start_time": "2022-10-28T15:25:00.107Z"
   },
   {
    "duration": 0,
    "start_time": "2022-10-28T15:25:00.108Z"
   },
   {
    "duration": 0,
    "start_time": "2022-10-28T15:25:00.108Z"
   },
   {
    "duration": 0,
    "start_time": "2022-10-28T15:25:00.109Z"
   },
   {
    "duration": 0,
    "start_time": "2022-10-28T15:25:00.111Z"
   },
   {
    "duration": 0,
    "start_time": "2022-10-28T15:25:00.111Z"
   },
   {
    "duration": 9,
    "start_time": "2022-10-28T15:25:40.868Z"
   },
   {
    "duration": 408,
    "start_time": "2022-10-28T15:26:51.068Z"
   },
   {
    "duration": 158,
    "start_time": "2022-10-28T15:26:51.477Z"
   },
   {
    "duration": 159,
    "start_time": "2022-10-28T15:26:51.637Z"
   },
   {
    "duration": 26,
    "start_time": "2022-10-28T15:26:51.798Z"
   },
   {
    "duration": 10,
    "start_time": "2022-10-28T15:26:51.826Z"
   },
   {
    "duration": 13,
    "start_time": "2022-10-28T15:26:51.837Z"
   },
   {
    "duration": 14,
    "start_time": "2022-10-28T15:26:51.852Z"
   },
   {
    "duration": 4,
    "start_time": "2022-10-28T15:26:51.868Z"
   },
   {
    "duration": 43,
    "start_time": "2022-10-28T15:26:51.873Z"
   },
   {
    "duration": 22,
    "start_time": "2022-10-28T15:26:51.919Z"
   },
   {
    "duration": 23,
    "start_time": "2022-10-28T15:26:51.943Z"
   },
   {
    "duration": 73,
    "start_time": "2022-10-28T15:26:51.968Z"
   },
   {
    "duration": 71,
    "start_time": "2022-10-28T15:26:52.043Z"
   },
   {
    "duration": 54,
    "start_time": "2022-10-28T15:26:52.116Z"
   },
   {
    "duration": 46,
    "start_time": "2022-10-28T15:26:52.172Z"
   },
   {
    "duration": 9,
    "start_time": "2022-10-28T15:26:52.220Z"
   },
   {
    "duration": 37,
    "start_time": "2022-10-28T15:26:52.231Z"
   },
   {
    "duration": 47,
    "start_time": "2022-10-28T15:26:52.270Z"
   },
   {
    "duration": 9,
    "start_time": "2022-10-28T15:26:52.319Z"
   },
   {
    "duration": 4,
    "start_time": "2022-10-28T15:26:52.330Z"
   },
   {
    "duration": 1399,
    "start_time": "2022-10-28T15:26:52.336Z"
   },
   {
    "duration": 0,
    "start_time": "2022-10-28T15:26:53.737Z"
   },
   {
    "duration": 1,
    "start_time": "2022-10-28T15:26:53.738Z"
   },
   {
    "duration": 0,
    "start_time": "2022-10-28T15:26:53.739Z"
   },
   {
    "duration": 0,
    "start_time": "2022-10-28T15:26:53.741Z"
   },
   {
    "duration": 0,
    "start_time": "2022-10-28T15:26:53.742Z"
   },
   {
    "duration": 0,
    "start_time": "2022-10-28T15:26:53.743Z"
   },
   {
    "duration": 0,
    "start_time": "2022-10-28T15:26:53.745Z"
   },
   {
    "duration": 0,
    "start_time": "2022-10-28T15:26:53.746Z"
   },
   {
    "duration": 0,
    "start_time": "2022-10-28T15:26:53.747Z"
   },
   {
    "duration": 0,
    "start_time": "2022-10-28T15:26:53.748Z"
   },
   {
    "duration": 0,
    "start_time": "2022-10-28T15:26:53.749Z"
   },
   {
    "duration": 0,
    "start_time": "2022-10-28T15:26:53.750Z"
   },
   {
    "duration": 0,
    "start_time": "2022-10-28T15:26:53.751Z"
   },
   {
    "duration": 0,
    "start_time": "2022-10-28T15:26:53.752Z"
   },
   {
    "duration": 0,
    "start_time": "2022-10-28T15:26:53.753Z"
   },
   {
    "duration": 0,
    "start_time": "2022-10-28T15:26:53.755Z"
   },
   {
    "duration": 0,
    "start_time": "2022-10-28T15:26:53.756Z"
   },
   {
    "duration": 385,
    "start_time": "2022-10-28T15:27:25.015Z"
   },
   {
    "duration": 164,
    "start_time": "2022-10-28T15:27:25.402Z"
   },
   {
    "duration": 148,
    "start_time": "2022-10-28T15:27:25.568Z"
   },
   {
    "duration": 33,
    "start_time": "2022-10-28T15:27:25.719Z"
   },
   {
    "duration": 2,
    "start_time": "2022-10-28T15:27:25.754Z"
   },
   {
    "duration": 9,
    "start_time": "2022-10-28T15:27:25.758Z"
   },
   {
    "duration": 29,
    "start_time": "2022-10-28T15:27:25.768Z"
   },
   {
    "duration": 4,
    "start_time": "2022-10-28T15:27:25.798Z"
   },
   {
    "duration": 24,
    "start_time": "2022-10-28T15:27:25.804Z"
   },
   {
    "duration": 17,
    "start_time": "2022-10-28T15:27:25.831Z"
   },
   {
    "duration": 46,
    "start_time": "2022-10-28T15:27:25.850Z"
   },
   {
    "duration": 65,
    "start_time": "2022-10-28T15:27:25.898Z"
   },
   {
    "duration": 90,
    "start_time": "2022-10-28T15:27:25.964Z"
   },
   {
    "duration": 59,
    "start_time": "2022-10-28T15:27:26.056Z"
   },
   {
    "duration": 36,
    "start_time": "2022-10-28T15:27:26.117Z"
   },
   {
    "duration": 9,
    "start_time": "2022-10-28T15:27:26.155Z"
   },
   {
    "duration": 57,
    "start_time": "2022-10-28T15:27:26.166Z"
   },
   {
    "duration": 30,
    "start_time": "2022-10-28T15:27:26.224Z"
   },
   {
    "duration": 10,
    "start_time": "2022-10-28T15:27:26.255Z"
   },
   {
    "duration": 25,
    "start_time": "2022-10-28T15:27:26.266Z"
   },
   {
    "duration": 1323,
    "start_time": "2022-10-28T15:27:26.293Z"
   },
   {
    "duration": 0,
    "start_time": "2022-10-28T15:27:27.618Z"
   },
   {
    "duration": 0,
    "start_time": "2022-10-28T15:27:27.620Z"
   },
   {
    "duration": 0,
    "start_time": "2022-10-28T15:27:27.621Z"
   },
   {
    "duration": 0,
    "start_time": "2022-10-28T15:27:27.623Z"
   },
   {
    "duration": 0,
    "start_time": "2022-10-28T15:27:27.624Z"
   },
   {
    "duration": 0,
    "start_time": "2022-10-28T15:27:27.625Z"
   },
   {
    "duration": 0,
    "start_time": "2022-10-28T15:27:27.626Z"
   },
   {
    "duration": 1,
    "start_time": "2022-10-28T15:27:27.627Z"
   },
   {
    "duration": 0,
    "start_time": "2022-10-28T15:27:27.629Z"
   },
   {
    "duration": 0,
    "start_time": "2022-10-28T15:27:27.630Z"
   },
   {
    "duration": 0,
    "start_time": "2022-10-28T15:27:27.631Z"
   },
   {
    "duration": 0,
    "start_time": "2022-10-28T15:27:27.632Z"
   },
   {
    "duration": 0,
    "start_time": "2022-10-28T15:27:27.634Z"
   },
   {
    "duration": 0,
    "start_time": "2022-10-28T15:27:27.635Z"
   },
   {
    "duration": 0,
    "start_time": "2022-10-28T15:27:27.636Z"
   },
   {
    "duration": 0,
    "start_time": "2022-10-28T15:27:27.638Z"
   },
   {
    "duration": 0,
    "start_time": "2022-10-28T15:27:27.639Z"
   },
   {
    "duration": 393,
    "start_time": "2022-10-28T15:29:56.543Z"
   },
   {
    "duration": 164,
    "start_time": "2022-10-28T15:29:56.937Z"
   },
   {
    "duration": 152,
    "start_time": "2022-10-28T15:29:57.103Z"
   },
   {
    "duration": 39,
    "start_time": "2022-10-28T15:29:57.257Z"
   },
   {
    "duration": 2,
    "start_time": "2022-10-28T15:29:57.298Z"
   },
   {
    "duration": 11,
    "start_time": "2022-10-28T15:29:57.302Z"
   },
   {
    "duration": 13,
    "start_time": "2022-10-28T15:29:57.315Z"
   },
   {
    "duration": 4,
    "start_time": "2022-10-28T15:29:57.329Z"
   },
   {
    "duration": 27,
    "start_time": "2022-10-28T15:29:57.335Z"
   },
   {
    "duration": 36,
    "start_time": "2022-10-28T15:29:57.365Z"
   },
   {
    "duration": 21,
    "start_time": "2022-10-28T15:29:57.402Z"
   },
   {
    "duration": 72,
    "start_time": "2022-10-28T15:29:57.425Z"
   },
   {
    "duration": 69,
    "start_time": "2022-10-28T15:29:57.499Z"
   },
   {
    "duration": 65,
    "start_time": "2022-10-28T15:29:57.570Z"
   },
   {
    "duration": 36,
    "start_time": "2022-10-28T15:29:57.636Z"
   },
   {
    "duration": 25,
    "start_time": "2022-10-28T15:29:57.673Z"
   },
   {
    "duration": 37,
    "start_time": "2022-10-28T15:29:57.700Z"
   },
   {
    "duration": 29,
    "start_time": "2022-10-28T15:29:57.739Z"
   },
   {
    "duration": 10,
    "start_time": "2022-10-28T15:29:57.790Z"
   },
   {
    "duration": 4,
    "start_time": "2022-10-28T15:29:57.802Z"
   },
   {
    "duration": 159,
    "start_time": "2022-10-28T15:29:57.808Z"
   },
   {
    "duration": 2,
    "start_time": "2022-10-28T15:29:57.969Z"
   },
   {
    "duration": 4,
    "start_time": "2022-10-28T15:29:57.973Z"
   },
   {
    "duration": 2,
    "start_time": "2022-10-28T15:29:57.991Z"
   },
   {
    "duration": 4,
    "start_time": "2022-10-28T15:29:57.994Z"
   },
   {
    "duration": 4,
    "start_time": "2022-10-28T15:29:57.999Z"
   },
   {
    "duration": 5,
    "start_time": "2022-10-28T15:29:58.004Z"
   },
   {
    "duration": 2,
    "start_time": "2022-10-28T15:29:58.012Z"
   },
   {
    "duration": 4,
    "start_time": "2022-10-28T15:29:58.016Z"
   },
   {
    "duration": 76,
    "start_time": "2022-10-28T15:29:58.022Z"
   },
   {
    "duration": 0,
    "start_time": "2022-10-28T15:29:58.100Z"
   },
   {
    "duration": 0,
    "start_time": "2022-10-28T15:29:58.102Z"
   },
   {
    "duration": 0,
    "start_time": "2022-10-28T15:29:58.103Z"
   },
   {
    "duration": 0,
    "start_time": "2022-10-28T15:29:58.104Z"
   },
   {
    "duration": 0,
    "start_time": "2022-10-28T15:29:58.106Z"
   },
   {
    "duration": 0,
    "start_time": "2022-10-28T15:29:58.108Z"
   },
   {
    "duration": 0,
    "start_time": "2022-10-28T15:29:58.109Z"
   },
   {
    "duration": 0,
    "start_time": "2022-10-28T15:29:58.110Z"
   },
   {
    "duration": 368,
    "start_time": "2022-10-28T15:30:45.812Z"
   },
   {
    "duration": 160,
    "start_time": "2022-10-28T15:30:46.182Z"
   },
   {
    "duration": 152,
    "start_time": "2022-10-28T15:30:46.344Z"
   },
   {
    "duration": 27,
    "start_time": "2022-10-28T15:30:46.498Z"
   },
   {
    "duration": 2,
    "start_time": "2022-10-28T15:30:46.527Z"
   },
   {
    "duration": 9,
    "start_time": "2022-10-28T15:30:46.531Z"
   },
   {
    "duration": 12,
    "start_time": "2022-10-28T15:30:46.541Z"
   },
   {
    "duration": 6,
    "start_time": "2022-10-28T15:30:46.555Z"
   },
   {
    "duration": 24,
    "start_time": "2022-10-28T15:30:46.591Z"
   },
   {
    "duration": 21,
    "start_time": "2022-10-28T15:30:46.617Z"
   },
   {
    "duration": 25,
    "start_time": "2022-10-28T15:30:46.640Z"
   },
   {
    "duration": 101,
    "start_time": "2022-10-28T15:30:46.668Z"
   },
   {
    "duration": 104,
    "start_time": "2022-10-28T15:30:46.771Z"
   },
   {
    "duration": 66,
    "start_time": "2022-10-28T15:30:46.890Z"
   },
   {
    "duration": 45,
    "start_time": "2022-10-28T15:30:46.958Z"
   },
   {
    "duration": 9,
    "start_time": "2022-10-28T15:30:47.005Z"
   },
   {
    "duration": 40,
    "start_time": "2022-10-28T15:30:47.016Z"
   },
   {
    "duration": 48,
    "start_time": "2022-10-28T15:30:47.057Z"
   },
   {
    "duration": 9,
    "start_time": "2022-10-28T15:30:47.107Z"
   },
   {
    "duration": 3,
    "start_time": "2022-10-28T15:30:47.118Z"
   },
   {
    "duration": 161,
    "start_time": "2022-10-28T15:30:47.123Z"
   },
   {
    "duration": 6,
    "start_time": "2022-10-28T15:30:47.285Z"
   },
   {
    "duration": 4,
    "start_time": "2022-10-28T15:30:47.293Z"
   },
   {
    "duration": 6,
    "start_time": "2022-10-28T15:30:47.298Z"
   },
   {
    "duration": 4,
    "start_time": "2022-10-28T15:30:47.305Z"
   },
   {
    "duration": 3,
    "start_time": "2022-10-28T15:30:47.311Z"
   },
   {
    "duration": 4,
    "start_time": "2022-10-28T15:30:47.315Z"
   },
   {
    "duration": 3,
    "start_time": "2022-10-28T15:30:47.320Z"
   },
   {
    "duration": 3,
    "start_time": "2022-10-28T15:30:47.325Z"
   },
   {
    "duration": 71,
    "start_time": "2022-10-28T15:30:47.330Z"
   },
   {
    "duration": 0,
    "start_time": "2022-10-28T15:30:47.402Z"
   },
   {
    "duration": 0,
    "start_time": "2022-10-28T15:30:47.403Z"
   },
   {
    "duration": 0,
    "start_time": "2022-10-28T15:30:47.404Z"
   },
   {
    "duration": 0,
    "start_time": "2022-10-28T15:30:47.405Z"
   },
   {
    "duration": 0,
    "start_time": "2022-10-28T15:30:47.406Z"
   },
   {
    "duration": 0,
    "start_time": "2022-10-28T15:30:47.407Z"
   },
   {
    "duration": 0,
    "start_time": "2022-10-28T15:30:47.408Z"
   },
   {
    "duration": 0,
    "start_time": "2022-10-28T15:30:47.409Z"
   },
   {
    "duration": 399,
    "start_time": "2022-10-28T15:31:13.323Z"
   },
   {
    "duration": 175,
    "start_time": "2022-10-28T15:31:13.724Z"
   },
   {
    "duration": 164,
    "start_time": "2022-10-28T15:31:13.901Z"
   },
   {
    "duration": 32,
    "start_time": "2022-10-28T15:31:14.067Z"
   },
   {
    "duration": 3,
    "start_time": "2022-10-28T15:31:14.101Z"
   },
   {
    "duration": 10,
    "start_time": "2022-10-28T15:31:14.105Z"
   },
   {
    "duration": 12,
    "start_time": "2022-10-28T15:31:14.116Z"
   },
   {
    "duration": 4,
    "start_time": "2022-10-28T15:31:14.130Z"
   },
   {
    "duration": 25,
    "start_time": "2022-10-28T15:31:14.135Z"
   },
   {
    "duration": 20,
    "start_time": "2022-10-28T15:31:14.194Z"
   },
   {
    "duration": 23,
    "start_time": "2022-10-28T15:31:14.216Z"
   },
   {
    "duration": 98,
    "start_time": "2022-10-28T15:31:14.241Z"
   },
   {
    "duration": 116,
    "start_time": "2022-10-28T15:31:14.340Z"
   },
   {
    "duration": 97,
    "start_time": "2022-10-28T15:31:14.458Z"
   },
   {
    "duration": 54,
    "start_time": "2022-10-28T15:31:14.557Z"
   },
   {
    "duration": 11,
    "start_time": "2022-10-28T15:31:14.613Z"
   },
   {
    "duration": 43,
    "start_time": "2022-10-28T15:31:14.626Z"
   },
   {
    "duration": 32,
    "start_time": "2022-10-28T15:31:14.691Z"
   },
   {
    "duration": 10,
    "start_time": "2022-10-28T15:31:14.725Z"
   },
   {
    "duration": 5,
    "start_time": "2022-10-28T15:31:14.737Z"
   },
   {
    "duration": 188,
    "start_time": "2022-10-28T15:31:14.743Z"
   },
   {
    "duration": 3,
    "start_time": "2022-10-28T15:31:14.933Z"
   },
   {
    "duration": 4,
    "start_time": "2022-10-28T15:31:14.937Z"
   },
   {
    "duration": 4,
    "start_time": "2022-10-28T15:31:14.943Z"
   },
   {
    "duration": 5,
    "start_time": "2022-10-28T15:31:14.949Z"
   },
   {
    "duration": 8,
    "start_time": "2022-10-28T15:31:14.955Z"
   },
   {
    "duration": 5,
    "start_time": "2022-10-28T15:31:14.964Z"
   },
   {
    "duration": 3,
    "start_time": "2022-10-28T15:31:14.990Z"
   },
   {
    "duration": 28,
    "start_time": "2022-10-28T15:31:14.995Z"
   },
   {
    "duration": 82,
    "start_time": "2022-10-28T15:31:15.025Z"
   },
   {
    "duration": 0,
    "start_time": "2022-10-28T15:31:15.109Z"
   },
   {
    "duration": 0,
    "start_time": "2022-10-28T15:31:15.111Z"
   },
   {
    "duration": 0,
    "start_time": "2022-10-28T15:31:15.112Z"
   },
   {
    "duration": 0,
    "start_time": "2022-10-28T15:31:15.114Z"
   },
   {
    "duration": 0,
    "start_time": "2022-10-28T15:31:15.116Z"
   },
   {
    "duration": 0,
    "start_time": "2022-10-28T15:31:15.117Z"
   },
   {
    "duration": 0,
    "start_time": "2022-10-28T15:31:15.118Z"
   },
   {
    "duration": 0,
    "start_time": "2022-10-28T15:31:15.120Z"
   },
   {
    "duration": 398,
    "start_time": "2022-10-28T15:31:44.402Z"
   },
   {
    "duration": 168,
    "start_time": "2022-10-28T15:31:44.802Z"
   },
   {
    "duration": 158,
    "start_time": "2022-10-28T15:31:44.971Z"
   },
   {
    "duration": 28,
    "start_time": "2022-10-28T15:31:45.131Z"
   },
   {
    "duration": 2,
    "start_time": "2022-10-28T15:31:45.162Z"
   },
   {
    "duration": 26,
    "start_time": "2022-10-28T15:31:45.166Z"
   },
   {
    "duration": 13,
    "start_time": "2022-10-28T15:31:45.194Z"
   },
   {
    "duration": 4,
    "start_time": "2022-10-28T15:31:45.209Z"
   },
   {
    "duration": 26,
    "start_time": "2022-10-28T15:31:45.215Z"
   },
   {
    "duration": 48,
    "start_time": "2022-10-28T15:31:45.243Z"
   },
   {
    "duration": 23,
    "start_time": "2022-10-28T15:31:45.293Z"
   },
   {
    "duration": 80,
    "start_time": "2022-10-28T15:31:45.318Z"
   },
   {
    "duration": 67,
    "start_time": "2022-10-28T15:31:45.400Z"
   },
   {
    "duration": 69,
    "start_time": "2022-10-28T15:31:45.470Z"
   },
   {
    "duration": 39,
    "start_time": "2022-10-28T15:31:45.541Z"
   },
   {
    "duration": 17,
    "start_time": "2022-10-28T15:31:45.582Z"
   },
   {
    "duration": 40,
    "start_time": "2022-10-28T15:31:45.601Z"
   },
   {
    "duration": 51,
    "start_time": "2022-10-28T15:31:45.643Z"
   },
   {
    "duration": 9,
    "start_time": "2022-10-28T15:31:45.696Z"
   },
   {
    "duration": 5,
    "start_time": "2022-10-28T15:31:45.707Z"
   },
   {
    "duration": 172,
    "start_time": "2022-10-28T15:31:45.713Z"
   },
   {
    "duration": 2,
    "start_time": "2022-10-28T15:31:45.891Z"
   },
   {
    "duration": 4,
    "start_time": "2022-10-28T15:31:45.894Z"
   },
   {
    "duration": 4,
    "start_time": "2022-10-28T15:31:45.899Z"
   },
   {
    "duration": 4,
    "start_time": "2022-10-28T15:31:45.904Z"
   },
   {
    "duration": 4,
    "start_time": "2022-10-28T15:31:45.910Z"
   },
   {
    "duration": 4,
    "start_time": "2022-10-28T15:31:45.916Z"
   },
   {
    "duration": 3,
    "start_time": "2022-10-28T15:31:45.921Z"
   },
   {
    "duration": 4,
    "start_time": "2022-10-28T15:31:45.925Z"
   },
   {
    "duration": 70,
    "start_time": "2022-10-28T15:31:45.930Z"
   },
   {
    "duration": 0,
    "start_time": "2022-10-28T15:31:46.002Z"
   },
   {
    "duration": 0,
    "start_time": "2022-10-28T15:31:46.003Z"
   },
   {
    "duration": 0,
    "start_time": "2022-10-28T15:31:46.004Z"
   },
   {
    "duration": 0,
    "start_time": "2022-10-28T15:31:46.005Z"
   },
   {
    "duration": 0,
    "start_time": "2022-10-28T15:31:46.006Z"
   },
   {
    "duration": 0,
    "start_time": "2022-10-28T15:31:46.007Z"
   },
   {
    "duration": 0,
    "start_time": "2022-10-28T15:31:46.008Z"
   },
   {
    "duration": 0,
    "start_time": "2022-10-28T15:31:46.009Z"
   },
   {
    "duration": 5,
    "start_time": "2022-10-28T15:36:54.307Z"
   },
   {
    "duration": 69,
    "start_time": "2022-10-28T15:37:00.198Z"
   },
   {
    "duration": 4,
    "start_time": "2022-10-28T15:37:46.065Z"
   },
   {
    "duration": 12,
    "start_time": "2022-10-28T15:37:50.845Z"
   },
   {
    "duration": 4,
    "start_time": "2022-10-28T15:39:07.366Z"
   },
   {
    "duration": 13,
    "start_time": "2022-10-28T15:39:09.414Z"
   },
   {
    "duration": 4,
    "start_time": "2022-10-28T15:40:33.852Z"
   },
   {
    "duration": 15,
    "start_time": "2022-10-28T15:40:35.978Z"
   },
   {
    "duration": 4,
    "start_time": "2022-10-28T15:42:12.961Z"
   },
   {
    "duration": 14,
    "start_time": "2022-10-28T15:42:15.854Z"
   },
   {
    "duration": 5,
    "start_time": "2022-10-28T15:51:26.301Z"
   },
   {
    "duration": 9,
    "start_time": "2022-10-28T15:51:28.755Z"
   },
   {
    "duration": 16,
    "start_time": "2022-10-28T15:51:35.718Z"
   },
   {
    "duration": 14,
    "start_time": "2022-10-28T15:53:25.883Z"
   },
   {
    "duration": 10,
    "start_time": "2022-10-28T15:53:26.896Z"
   },
   {
    "duration": 10,
    "start_time": "2022-10-28T15:53:27.668Z"
   },
   {
    "duration": 15,
    "start_time": "2022-10-28T15:53:28.537Z"
   },
   {
    "duration": 13,
    "start_time": "2022-10-28T15:53:30.319Z"
   },
   {
    "duration": 16,
    "start_time": "2022-10-28T15:55:09.931Z"
   },
   {
    "duration": 112,
    "start_time": "2022-10-28T15:57:54.725Z"
   },
   {
    "duration": 71,
    "start_time": "2022-10-28T15:58:01.426Z"
   },
   {
    "duration": 77,
    "start_time": "2022-10-28T15:58:06.876Z"
   },
   {
    "duration": 74,
    "start_time": "2022-10-28T15:58:43.603Z"
   },
   {
    "duration": 420,
    "start_time": "2022-10-28T15:58:49.083Z"
   },
   {
    "duration": 183,
    "start_time": "2022-10-28T15:58:49.505Z"
   },
   {
    "duration": 190,
    "start_time": "2022-10-28T15:58:49.690Z"
   },
   {
    "duration": 30,
    "start_time": "2022-10-28T15:58:49.882Z"
   },
   {
    "duration": 2,
    "start_time": "2022-10-28T15:58:49.914Z"
   },
   {
    "duration": 23,
    "start_time": "2022-10-28T15:58:49.918Z"
   },
   {
    "duration": 14,
    "start_time": "2022-10-28T15:58:49.943Z"
   },
   {
    "duration": 3,
    "start_time": "2022-10-28T15:58:49.959Z"
   },
   {
    "duration": 34,
    "start_time": "2022-10-28T15:58:49.964Z"
   },
   {
    "duration": 17,
    "start_time": "2022-10-28T15:58:50.001Z"
   },
   {
    "duration": 22,
    "start_time": "2022-10-28T15:58:50.020Z"
   },
   {
    "duration": 90,
    "start_time": "2022-10-28T15:58:50.043Z"
   },
   {
    "duration": 78,
    "start_time": "2022-10-28T15:58:50.134Z"
   },
   {
    "duration": 58,
    "start_time": "2022-10-28T15:58:50.213Z"
   },
   {
    "duration": 53,
    "start_time": "2022-10-28T15:58:50.272Z"
   },
   {
    "duration": 10,
    "start_time": "2022-10-28T15:58:50.327Z"
   },
   {
    "duration": 55,
    "start_time": "2022-10-28T15:58:50.338Z"
   },
   {
    "duration": 40,
    "start_time": "2022-10-28T15:58:50.395Z"
   },
   {
    "duration": 13,
    "start_time": "2022-10-28T15:58:50.436Z"
   },
   {
    "duration": 4,
    "start_time": "2022-10-28T15:58:50.451Z"
   },
   {
    "duration": 42,
    "start_time": "2022-10-28T15:58:50.456Z"
   },
   {
    "duration": 15,
    "start_time": "2022-10-28T15:58:50.501Z"
   },
   {
    "duration": 11,
    "start_time": "2022-10-28T15:58:50.517Z"
   },
   {
    "duration": 14,
    "start_time": "2022-10-28T15:58:50.530Z"
   },
   {
    "duration": 18,
    "start_time": "2022-10-28T15:58:50.546Z"
   },
   {
    "duration": 38,
    "start_time": "2022-10-28T15:58:50.566Z"
   },
   {
    "duration": 76,
    "start_time": "2022-10-28T15:58:50.605Z"
   },
   {
    "duration": 0,
    "start_time": "2022-10-28T15:58:50.683Z"
   },
   {
    "duration": 0,
    "start_time": "2022-10-28T15:58:50.684Z"
   },
   {
    "duration": 0,
    "start_time": "2022-10-28T15:58:50.685Z"
   },
   {
    "duration": 0,
    "start_time": "2022-10-28T15:58:50.686Z"
   },
   {
    "duration": 0,
    "start_time": "2022-10-28T15:58:50.687Z"
   },
   {
    "duration": 0,
    "start_time": "2022-10-28T15:58:50.688Z"
   },
   {
    "duration": 0,
    "start_time": "2022-10-28T15:58:50.690Z"
   },
   {
    "duration": 0,
    "start_time": "2022-10-28T15:58:50.691Z"
   },
   {
    "duration": 0,
    "start_time": "2022-10-28T15:58:50.692Z"
   },
   {
    "duration": 0,
    "start_time": "2022-10-28T15:58:50.693Z"
   },
   {
    "duration": 0,
    "start_time": "2022-10-28T15:58:50.694Z"
   },
   {
    "duration": 3,
    "start_time": "2022-10-28T15:59:13.145Z"
   },
   {
    "duration": 92,
    "start_time": "2022-10-28T15:59:25.061Z"
   },
   {
    "duration": 73,
    "start_time": "2022-10-28T15:59:56.582Z"
   },
   {
    "duration": 384,
    "start_time": "2022-10-28T16:00:44.917Z"
   },
   {
    "duration": 173,
    "start_time": "2022-10-28T16:00:45.303Z"
   },
   {
    "duration": 166,
    "start_time": "2022-10-28T16:00:45.478Z"
   },
   {
    "duration": 28,
    "start_time": "2022-10-28T16:00:45.647Z"
   },
   {
    "duration": 15,
    "start_time": "2022-10-28T16:00:45.677Z"
   },
   {
    "duration": 14,
    "start_time": "2022-10-28T16:00:45.694Z"
   },
   {
    "duration": 16,
    "start_time": "2022-10-28T16:00:45.710Z"
   },
   {
    "duration": 6,
    "start_time": "2022-10-28T16:00:45.728Z"
   },
   {
    "duration": 33,
    "start_time": "2022-10-28T16:00:45.735Z"
   },
   {
    "duration": 30,
    "start_time": "2022-10-28T16:00:45.771Z"
   },
   {
    "duration": 23,
    "start_time": "2022-10-28T16:00:45.802Z"
   },
   {
    "duration": 82,
    "start_time": "2022-10-28T16:00:45.827Z"
   },
   {
    "duration": 68,
    "start_time": "2022-10-28T16:00:45.911Z"
   },
   {
    "duration": 72,
    "start_time": "2022-10-28T16:00:45.981Z"
   },
   {
    "duration": 60,
    "start_time": "2022-10-28T16:00:46.055Z"
   },
   {
    "duration": 11,
    "start_time": "2022-10-28T16:00:46.117Z"
   },
   {
    "duration": 40,
    "start_time": "2022-10-28T16:00:46.130Z"
   },
   {
    "duration": 31,
    "start_time": "2022-10-28T16:00:46.192Z"
   },
   {
    "duration": 11,
    "start_time": "2022-10-28T16:00:46.225Z"
   },
   {
    "duration": 3,
    "start_time": "2022-10-28T16:00:46.238Z"
   },
   {
    "duration": 17,
    "start_time": "2022-10-28T16:00:46.243Z"
   },
   {
    "duration": 43,
    "start_time": "2022-10-28T16:00:46.262Z"
   },
   {
    "duration": 11,
    "start_time": "2022-10-28T16:00:46.306Z"
   },
   {
    "duration": 10,
    "start_time": "2022-10-28T16:00:46.318Z"
   },
   {
    "duration": 16,
    "start_time": "2022-10-28T16:00:46.330Z"
   },
   {
    "duration": 44,
    "start_time": "2022-10-28T16:00:46.348Z"
   },
   {
    "duration": 70,
    "start_time": "2022-10-28T16:00:46.394Z"
   },
   {
    "duration": 0,
    "start_time": "2022-10-28T16:00:46.466Z"
   },
   {
    "duration": 0,
    "start_time": "2022-10-28T16:00:46.467Z"
   },
   {
    "duration": 0,
    "start_time": "2022-10-28T16:00:46.468Z"
   },
   {
    "duration": 0,
    "start_time": "2022-10-28T16:00:46.469Z"
   },
   {
    "duration": 0,
    "start_time": "2022-10-28T16:00:46.470Z"
   },
   {
    "duration": 0,
    "start_time": "2022-10-28T16:00:46.471Z"
   },
   {
    "duration": 0,
    "start_time": "2022-10-28T16:00:46.472Z"
   },
   {
    "duration": 0,
    "start_time": "2022-10-28T16:00:46.473Z"
   },
   {
    "duration": 0,
    "start_time": "2022-10-28T16:00:46.474Z"
   },
   {
    "duration": 0,
    "start_time": "2022-10-28T16:00:46.475Z"
   },
   {
    "duration": 0,
    "start_time": "2022-10-28T16:00:46.476Z"
   },
   {
    "duration": 76,
    "start_time": "2022-10-28T16:02:15.709Z"
   },
   {
    "duration": 11,
    "start_time": "2022-10-28T16:02:34.604Z"
   },
   {
    "duration": 11,
    "start_time": "2022-10-28T16:05:59.207Z"
   },
   {
    "duration": 12,
    "start_time": "2022-10-28T16:06:00.353Z"
   },
   {
    "duration": 83,
    "start_time": "2022-10-28T16:11:08.458Z"
   },
   {
    "duration": 91,
    "start_time": "2022-10-28T16:11:30.208Z"
   },
   {
    "duration": 77,
    "start_time": "2022-10-28T16:12:18.948Z"
   },
   {
    "duration": 80,
    "start_time": "2022-10-28T16:13:57.977Z"
   },
   {
    "duration": 94,
    "start_time": "2022-10-28T16:14:24.249Z"
   },
   {
    "duration": 4,
    "start_time": "2022-10-28T16:14:45.831Z"
   },
   {
    "duration": 81,
    "start_time": "2022-10-28T16:15:32.996Z"
   },
   {
    "duration": 21,
    "start_time": "2022-10-28T16:15:58.376Z"
   },
   {
    "duration": 434,
    "start_time": "2022-10-28T16:16:20.220Z"
   },
   {
    "duration": 177,
    "start_time": "2022-10-28T16:16:20.656Z"
   },
   {
    "duration": 171,
    "start_time": "2022-10-28T16:16:20.835Z"
   },
   {
    "duration": 40,
    "start_time": "2022-10-28T16:16:21.010Z"
   },
   {
    "duration": 3,
    "start_time": "2022-10-28T16:16:21.052Z"
   },
   {
    "duration": 11,
    "start_time": "2022-10-28T16:16:21.057Z"
   },
   {
    "duration": 12,
    "start_time": "2022-10-28T16:16:21.092Z"
   },
   {
    "duration": 7,
    "start_time": "2022-10-28T16:16:21.106Z"
   },
   {
    "duration": 29,
    "start_time": "2022-10-28T16:16:21.115Z"
   },
   {
    "duration": 44,
    "start_time": "2022-10-28T16:16:21.148Z"
   },
   {
    "duration": 23,
    "start_time": "2022-10-28T16:16:21.195Z"
   },
   {
    "duration": 84,
    "start_time": "2022-10-28T16:16:21.220Z"
   },
   {
    "duration": 71,
    "start_time": "2022-10-28T16:16:21.306Z"
   },
   {
    "duration": 63,
    "start_time": "2022-10-28T16:16:21.391Z"
   },
   {
    "duration": 51,
    "start_time": "2022-10-28T16:16:21.457Z"
   },
   {
    "duration": 10,
    "start_time": "2022-10-28T16:16:21.510Z"
   },
   {
    "duration": 40,
    "start_time": "2022-10-28T16:16:21.521Z"
   },
   {
    "duration": 56,
    "start_time": "2022-10-28T16:16:21.563Z"
   },
   {
    "duration": 11,
    "start_time": "2022-10-28T16:16:21.620Z"
   },
   {
    "duration": 4,
    "start_time": "2022-10-28T16:16:21.633Z"
   },
   {
    "duration": 20,
    "start_time": "2022-10-28T16:16:21.639Z"
   },
   {
    "duration": 37,
    "start_time": "2022-10-28T16:16:21.661Z"
   },
   {
    "duration": 11,
    "start_time": "2022-10-28T16:16:21.699Z"
   },
   {
    "duration": 14,
    "start_time": "2022-10-28T16:16:21.711Z"
   },
   {
    "duration": 17,
    "start_time": "2022-10-28T16:16:21.726Z"
   },
   {
    "duration": 51,
    "start_time": "2022-10-28T16:16:21.745Z"
   },
   {
    "duration": 11,
    "start_time": "2022-10-28T16:16:21.797Z"
   },
   {
    "duration": 25,
    "start_time": "2022-10-28T16:16:21.811Z"
   },
   {
    "duration": 10,
    "start_time": "2022-10-28T16:16:21.838Z"
   },
   {
    "duration": 5,
    "start_time": "2022-10-28T16:16:21.851Z"
   },
   {
    "duration": 123,
    "start_time": "2022-10-28T16:16:21.857Z"
   },
   {
    "duration": 0,
    "start_time": "2022-10-28T16:16:21.982Z"
   },
   {
    "duration": 0,
    "start_time": "2022-10-28T16:16:21.983Z"
   },
   {
    "duration": 0,
    "start_time": "2022-10-28T16:16:21.984Z"
   },
   {
    "duration": 0,
    "start_time": "2022-10-28T16:16:21.986Z"
   },
   {
    "duration": 0,
    "start_time": "2022-10-28T16:16:21.991Z"
   },
   {
    "duration": 0,
    "start_time": "2022-10-28T16:16:21.993Z"
   },
   {
    "duration": 0,
    "start_time": "2022-10-28T16:16:21.994Z"
   },
   {
    "duration": 30,
    "start_time": "2022-10-28T16:17:35.350Z"
   },
   {
    "duration": 77,
    "start_time": "2022-10-28T16:18:17.577Z"
   },
   {
    "duration": 21,
    "start_time": "2022-10-28T16:18:39.175Z"
   },
   {
    "duration": 19,
    "start_time": "2022-10-28T16:19:37.756Z"
   },
   {
    "duration": 19,
    "start_time": "2022-10-28T16:20:04.856Z"
   },
   {
    "duration": 437,
    "start_time": "2022-10-28T16:20:27.576Z"
   },
   {
    "duration": 186,
    "start_time": "2022-10-28T16:20:28.015Z"
   },
   {
    "duration": 183,
    "start_time": "2022-10-28T16:20:28.203Z"
   },
   {
    "duration": 33,
    "start_time": "2022-10-28T16:20:28.390Z"
   },
   {
    "duration": 3,
    "start_time": "2022-10-28T16:20:28.425Z"
   },
   {
    "duration": 16,
    "start_time": "2022-10-28T16:20:28.430Z"
   },
   {
    "duration": 43,
    "start_time": "2022-10-28T16:20:28.448Z"
   },
   {
    "duration": 5,
    "start_time": "2022-10-28T16:20:28.493Z"
   },
   {
    "duration": 28,
    "start_time": "2022-10-28T16:20:28.500Z"
   },
   {
    "duration": 21,
    "start_time": "2022-10-28T16:20:28.531Z"
   },
   {
    "duration": 48,
    "start_time": "2022-10-28T16:20:28.554Z"
   },
   {
    "duration": 95,
    "start_time": "2022-10-28T16:20:28.604Z"
   },
   {
    "duration": 113,
    "start_time": "2022-10-28T16:20:28.701Z"
   },
   {
    "duration": 64,
    "start_time": "2022-10-28T16:20:28.816Z"
   },
   {
    "duration": 59,
    "start_time": "2022-10-28T16:20:28.890Z"
   },
   {
    "duration": 11,
    "start_time": "2022-10-28T16:20:28.952Z"
   },
   {
    "duration": 60,
    "start_time": "2022-10-28T16:20:28.965Z"
   },
   {
    "duration": 32,
    "start_time": "2022-10-28T16:20:29.027Z"
   },
   {
    "duration": 34,
    "start_time": "2022-10-28T16:20:29.061Z"
   },
   {
    "duration": 4,
    "start_time": "2022-10-28T16:20:29.096Z"
   },
   {
    "duration": 35,
    "start_time": "2022-10-28T16:20:29.102Z"
   },
   {
    "duration": 22,
    "start_time": "2022-10-28T16:20:29.139Z"
   },
   {
    "duration": 11,
    "start_time": "2022-10-28T16:20:29.163Z"
   },
   {
    "duration": 11,
    "start_time": "2022-10-28T16:20:29.191Z"
   },
   {
    "duration": 17,
    "start_time": "2022-10-28T16:20:29.204Z"
   },
   {
    "duration": 14,
    "start_time": "2022-10-28T16:20:29.224Z"
   },
   {
    "duration": 10,
    "start_time": "2022-10-28T16:20:29.240Z"
   },
   {
    "duration": 12,
    "start_time": "2022-10-28T16:20:29.291Z"
   },
   {
    "duration": 10,
    "start_time": "2022-10-28T16:20:29.304Z"
   },
   {
    "duration": 6,
    "start_time": "2022-10-28T16:20:29.316Z"
   },
   {
    "duration": 99,
    "start_time": "2022-10-28T16:20:29.323Z"
   },
   {
    "duration": 0,
    "start_time": "2022-10-28T16:20:29.424Z"
   },
   {
    "duration": 0,
    "start_time": "2022-10-28T16:20:29.425Z"
   },
   {
    "duration": 0,
    "start_time": "2022-10-28T16:20:29.426Z"
   },
   {
    "duration": 0,
    "start_time": "2022-10-28T16:20:29.427Z"
   },
   {
    "duration": 0,
    "start_time": "2022-10-28T16:20:29.428Z"
   },
   {
    "duration": 0,
    "start_time": "2022-10-28T16:20:29.429Z"
   },
   {
    "duration": 0,
    "start_time": "2022-10-28T16:20:29.430Z"
   },
   {
    "duration": 30,
    "start_time": "2022-10-28T16:20:48.826Z"
   },
   {
    "duration": 16,
    "start_time": "2022-10-28T16:22:31.814Z"
   },
   {
    "duration": 16,
    "start_time": "2022-10-28T16:23:02.123Z"
   },
   {
    "duration": 5,
    "start_time": "2022-10-28T16:25:57.058Z"
   },
   {
    "duration": 19,
    "start_time": "2022-10-28T16:26:00.261Z"
   },
   {
    "duration": 16,
    "start_time": "2022-10-28T16:26:10.913Z"
   },
   {
    "duration": 4,
    "start_time": "2022-10-28T16:27:53.569Z"
   },
   {
    "duration": 5,
    "start_time": "2022-10-28T16:28:26.921Z"
   },
   {
    "duration": 19,
    "start_time": "2022-10-28T16:28:29.584Z"
   },
   {
    "duration": 15,
    "start_time": "2022-10-28T16:28:34.921Z"
   },
   {
    "duration": 19,
    "start_time": "2022-10-28T16:29:09.425Z"
   },
   {
    "duration": 17,
    "start_time": "2022-10-28T16:31:03.047Z"
   },
   {
    "duration": 17,
    "start_time": "2022-10-28T16:31:36.717Z"
   },
   {
    "duration": 5,
    "start_time": "2022-10-28T16:33:19.931Z"
   },
   {
    "duration": 19,
    "start_time": "2022-10-28T16:33:23.722Z"
   },
   {
    "duration": 19,
    "start_time": "2022-10-28T16:34:31.212Z"
   },
   {
    "duration": 405,
    "start_time": "2022-10-28T16:34:43.288Z"
   },
   {
    "duration": 176,
    "start_time": "2022-10-28T16:34:43.695Z"
   },
   {
    "duration": 164,
    "start_time": "2022-10-28T16:34:43.873Z"
   },
   {
    "duration": 28,
    "start_time": "2022-10-28T16:34:44.039Z"
   },
   {
    "duration": 3,
    "start_time": "2022-10-28T16:34:44.068Z"
   },
   {
    "duration": 8,
    "start_time": "2022-10-28T16:34:44.091Z"
   },
   {
    "duration": 19,
    "start_time": "2022-10-28T16:34:44.100Z"
   },
   {
    "duration": 4,
    "start_time": "2022-10-28T16:34:44.121Z"
   },
   {
    "duration": 24,
    "start_time": "2022-10-28T16:34:44.126Z"
   },
   {
    "duration": 17,
    "start_time": "2022-10-28T16:34:44.153Z"
   },
   {
    "duration": 24,
    "start_time": "2022-10-28T16:34:44.190Z"
   },
   {
    "duration": 77,
    "start_time": "2022-10-28T16:34:44.216Z"
   },
   {
    "duration": 77,
    "start_time": "2022-10-28T16:34:44.295Z"
   },
   {
    "duration": 89,
    "start_time": "2022-10-28T16:34:44.374Z"
   },
   {
    "duration": 67,
    "start_time": "2022-10-28T16:34:44.465Z"
   },
   {
    "duration": 12,
    "start_time": "2022-10-28T16:34:44.534Z"
   },
   {
    "duration": 60,
    "start_time": "2022-10-28T16:34:44.548Z"
   },
   {
    "duration": 30,
    "start_time": "2022-10-28T16:34:44.610Z"
   },
   {
    "duration": 10,
    "start_time": "2022-10-28T16:34:44.642Z"
   },
   {
    "duration": 3,
    "start_time": "2022-10-28T16:34:44.654Z"
   },
   {
    "duration": 39,
    "start_time": "2022-10-28T16:34:44.659Z"
   },
   {
    "duration": 16,
    "start_time": "2022-10-28T16:34:44.699Z"
   },
   {
    "duration": 10,
    "start_time": "2022-10-28T16:34:44.717Z"
   },
   {
    "duration": 15,
    "start_time": "2022-10-28T16:34:44.729Z"
   },
   {
    "duration": 19,
    "start_time": "2022-10-28T16:34:44.745Z"
   },
   {
    "duration": 33,
    "start_time": "2022-10-28T16:34:44.766Z"
   },
   {
    "duration": 10,
    "start_time": "2022-10-28T16:34:44.801Z"
   },
   {
    "duration": 10,
    "start_time": "2022-10-28T16:34:44.814Z"
   },
   {
    "duration": 8,
    "start_time": "2022-10-28T16:34:44.826Z"
   },
   {
    "duration": 4,
    "start_time": "2022-10-28T16:34:44.836Z"
   },
   {
    "duration": 113,
    "start_time": "2022-10-28T16:34:44.841Z"
   },
   {
    "duration": 0,
    "start_time": "2022-10-28T16:34:44.956Z"
   },
   {
    "duration": 0,
    "start_time": "2022-10-28T16:34:44.957Z"
   },
   {
    "duration": 0,
    "start_time": "2022-10-28T16:34:44.958Z"
   },
   {
    "duration": 0,
    "start_time": "2022-10-28T16:34:44.959Z"
   },
   {
    "duration": 0,
    "start_time": "2022-10-28T16:34:44.959Z"
   },
   {
    "duration": 0,
    "start_time": "2022-10-28T16:34:44.960Z"
   },
   {
    "duration": 0,
    "start_time": "2022-10-28T16:34:44.961Z"
   },
   {
    "duration": 20,
    "start_time": "2022-10-28T16:35:17.848Z"
   },
   {
    "duration": 20,
    "start_time": "2022-10-28T16:36:44.948Z"
   },
   {
    "duration": 32,
    "start_time": "2022-10-28T16:36:56.790Z"
   },
   {
    "duration": 19,
    "start_time": "2022-10-28T16:37:33.488Z"
   },
   {
    "duration": 28,
    "start_time": "2022-10-28T16:40:49.949Z"
   },
   {
    "duration": 21,
    "start_time": "2022-10-28T16:41:42.863Z"
   },
   {
    "duration": 20,
    "start_time": "2022-10-28T16:42:10.910Z"
   },
   {
    "duration": 19,
    "start_time": "2022-10-28T16:42:38.153Z"
   },
   {
    "duration": 17,
    "start_time": "2022-10-28T16:43:23.747Z"
   },
   {
    "duration": 5,
    "start_time": "2022-10-28T16:45:17.781Z"
   },
   {
    "duration": 22,
    "start_time": "2022-10-28T16:45:20.451Z"
   },
   {
    "duration": 17,
    "start_time": "2022-10-28T16:45:25.215Z"
   },
   {
    "duration": 403,
    "start_time": "2022-10-28T16:45:30.855Z"
   },
   {
    "duration": 179,
    "start_time": "2022-10-28T16:45:31.261Z"
   },
   {
    "duration": 177,
    "start_time": "2022-10-28T16:45:31.443Z"
   },
   {
    "duration": 28,
    "start_time": "2022-10-28T16:45:31.622Z"
   },
   {
    "duration": 3,
    "start_time": "2022-10-28T16:45:31.652Z"
   },
   {
    "duration": 12,
    "start_time": "2022-10-28T16:45:31.657Z"
   },
   {
    "duration": 15,
    "start_time": "2022-10-28T16:45:31.692Z"
   },
   {
    "duration": 9,
    "start_time": "2022-10-28T16:45:31.709Z"
   },
   {
    "duration": 50,
    "start_time": "2022-10-28T16:45:31.719Z"
   },
   {
    "duration": 22,
    "start_time": "2022-10-28T16:45:31.772Z"
   },
   {
    "duration": 24,
    "start_time": "2022-10-28T16:45:31.796Z"
   },
   {
    "duration": 80,
    "start_time": "2022-10-28T16:45:31.822Z"
   },
   {
    "duration": 71,
    "start_time": "2022-10-28T16:45:31.904Z"
   },
   {
    "duration": 71,
    "start_time": "2022-10-28T16:45:31.977Z"
   },
   {
    "duration": 50,
    "start_time": "2022-10-28T16:45:32.050Z"
   },
   {
    "duration": 10,
    "start_time": "2022-10-28T16:45:32.102Z"
   },
   {
    "duration": 54,
    "start_time": "2022-10-28T16:45:32.113Z"
   },
   {
    "duration": 39,
    "start_time": "2022-10-28T16:45:32.168Z"
   },
   {
    "duration": 12,
    "start_time": "2022-10-28T16:45:32.209Z"
   },
   {
    "duration": 4,
    "start_time": "2022-10-28T16:45:32.223Z"
   },
   {
    "duration": 25,
    "start_time": "2022-10-28T16:45:32.229Z"
   },
   {
    "duration": 46,
    "start_time": "2022-10-28T16:45:32.256Z"
   },
   {
    "duration": 12,
    "start_time": "2022-10-28T16:45:32.304Z"
   },
   {
    "duration": 13,
    "start_time": "2022-10-28T16:45:32.317Z"
   },
   {
    "duration": 21,
    "start_time": "2022-10-28T16:45:32.332Z"
   },
   {
    "duration": 37,
    "start_time": "2022-10-28T16:45:32.355Z"
   },
   {
    "duration": 18,
    "start_time": "2022-10-28T16:45:32.393Z"
   },
   {
    "duration": 19,
    "start_time": "2022-10-28T16:45:32.414Z"
   },
   {
    "duration": 12,
    "start_time": "2022-10-28T16:45:32.435Z"
   },
   {
    "duration": 8,
    "start_time": "2022-10-28T16:45:32.449Z"
   },
   {
    "duration": 98,
    "start_time": "2022-10-28T16:45:32.459Z"
   },
   {
    "duration": 0,
    "start_time": "2022-10-28T16:45:32.558Z"
   },
   {
    "duration": 0,
    "start_time": "2022-10-28T16:45:32.559Z"
   },
   {
    "duration": 0,
    "start_time": "2022-10-28T16:45:32.561Z"
   },
   {
    "duration": 0,
    "start_time": "2022-10-28T16:45:32.562Z"
   },
   {
    "duration": 0,
    "start_time": "2022-10-28T16:45:32.563Z"
   },
   {
    "duration": 0,
    "start_time": "2022-10-28T16:45:32.564Z"
   },
   {
    "duration": 0,
    "start_time": "2022-10-28T16:45:32.565Z"
   },
   {
    "duration": 21,
    "start_time": "2022-10-28T16:55:56.485Z"
   },
   {
    "duration": 5,
    "start_time": "2022-10-28T16:56:24.582Z"
   },
   {
    "duration": 23,
    "start_time": "2022-10-28T16:56:30.488Z"
   },
   {
    "duration": 16,
    "start_time": "2022-10-28T16:56:34.073Z"
   },
   {
    "duration": 29,
    "start_time": "2022-10-28T16:56:35.325Z"
   },
   {
    "duration": 26,
    "start_time": "2022-10-28T16:56:36.563Z"
   },
   {
    "duration": 27,
    "start_time": "2022-10-28T17:00:01.608Z"
   },
   {
    "duration": 27,
    "start_time": "2022-10-28T17:00:31.360Z"
   },
   {
    "duration": 26,
    "start_time": "2022-10-28T17:00:39.069Z"
   },
   {
    "duration": 5,
    "start_time": "2022-10-28T17:01:40.055Z"
   },
   {
    "duration": 26,
    "start_time": "2022-10-28T17:01:59.588Z"
   },
   {
    "duration": 12,
    "start_time": "2022-10-28T17:02:52.569Z"
   },
   {
    "duration": 8,
    "start_time": "2022-10-28T17:03:01.481Z"
   },
   {
    "duration": 4,
    "start_time": "2022-10-28T17:03:05.482Z"
   },
   {
    "duration": 11,
    "start_time": "2022-10-28T17:04:50.004Z"
   },
   {
    "duration": 6,
    "start_time": "2022-10-28T17:05:08.956Z"
   },
   {
    "duration": 5,
    "start_time": "2022-10-28T17:05:31.683Z"
   },
   {
    "duration": 63,
    "start_time": "2022-10-28T17:11:03.364Z"
   },
   {
    "duration": 66,
    "start_time": "2022-10-28T17:11:35.209Z"
   },
   {
    "duration": 8,
    "start_time": "2022-10-28T17:13:40.500Z"
   },
   {
    "duration": 52,
    "start_time": "2022-10-28T17:13:51.672Z"
   },
   {
    "duration": 55,
    "start_time": "2022-10-28T17:15:54.918Z"
   },
   {
    "duration": 55,
    "start_time": "2022-10-28T17:16:02.418Z"
   },
   {
    "duration": 84,
    "start_time": "2022-10-28T17:17:01.486Z"
   },
   {
    "duration": 58,
    "start_time": "2022-10-28T17:17:25.643Z"
   },
   {
    "duration": 8,
    "start_time": "2022-10-28T17:18:17.044Z"
   },
   {
    "duration": 78,
    "start_time": "2022-10-28T17:18:23.847Z"
   },
   {
    "duration": 75,
    "start_time": "2022-10-28T17:18:45.779Z"
   },
   {
    "duration": 73,
    "start_time": "2022-10-28T17:18:55.148Z"
   },
   {
    "duration": 66,
    "start_time": "2022-10-28T17:19:39.264Z"
   },
   {
    "duration": 88,
    "start_time": "2022-10-28T17:20:12.154Z"
   },
   {
    "duration": 343,
    "start_time": "2022-10-28T17:20:29.151Z"
   },
   {
    "duration": 174,
    "start_time": "2022-10-28T17:20:29.496Z"
   },
   {
    "duration": 150,
    "start_time": "2022-10-28T17:20:29.672Z"
   },
   {
    "duration": 26,
    "start_time": "2022-10-28T17:20:29.824Z"
   },
   {
    "duration": 2,
    "start_time": "2022-10-28T17:20:29.852Z"
   },
   {
    "duration": 9,
    "start_time": "2022-10-28T17:20:29.856Z"
   },
   {
    "duration": 32,
    "start_time": "2022-10-28T17:20:29.866Z"
   },
   {
    "duration": 4,
    "start_time": "2022-10-28T17:20:29.899Z"
   },
   {
    "duration": 23,
    "start_time": "2022-10-28T17:20:29.905Z"
   },
   {
    "duration": 17,
    "start_time": "2022-10-28T17:20:29.930Z"
   },
   {
    "duration": 42,
    "start_time": "2022-10-28T17:20:29.950Z"
   },
   {
    "duration": 64,
    "start_time": "2022-10-28T17:20:29.993Z"
   },
   {
    "duration": 85,
    "start_time": "2022-10-28T17:20:30.059Z"
   },
   {
    "duration": 65,
    "start_time": "2022-10-28T17:20:30.147Z"
   },
   {
    "duration": 35,
    "start_time": "2022-10-28T17:20:30.213Z"
   },
   {
    "duration": 10,
    "start_time": "2022-10-28T17:20:30.250Z"
   },
   {
    "duration": 53,
    "start_time": "2022-10-28T17:20:30.262Z"
   },
   {
    "duration": 29,
    "start_time": "2022-10-28T17:20:30.317Z"
   },
   {
    "duration": 9,
    "start_time": "2022-10-28T17:20:30.347Z"
   },
   {
    "duration": 7,
    "start_time": "2022-10-28T17:20:30.358Z"
   },
   {
    "duration": 40,
    "start_time": "2022-10-28T17:20:30.366Z"
   },
   {
    "duration": 23,
    "start_time": "2022-10-28T17:20:30.408Z"
   },
   {
    "duration": 20,
    "start_time": "2022-10-28T17:20:30.433Z"
   },
   {
    "duration": 20,
    "start_time": "2022-10-28T17:20:30.455Z"
   },
   {
    "duration": 21,
    "start_time": "2022-10-28T17:20:30.476Z"
   },
   {
    "duration": 23,
    "start_time": "2022-10-28T17:20:30.499Z"
   },
   {
    "duration": 23,
    "start_time": "2022-10-28T17:20:30.523Z"
   },
   {
    "duration": 29,
    "start_time": "2022-10-28T17:20:30.548Z"
   },
   {
    "duration": 18,
    "start_time": "2022-10-28T17:20:30.579Z"
   },
   {
    "duration": 29,
    "start_time": "2022-10-28T17:20:30.599Z"
   },
   {
    "duration": 48,
    "start_time": "2022-10-28T17:20:30.629Z"
   },
   {
    "duration": 15,
    "start_time": "2022-10-28T17:20:30.679Z"
   },
   {
    "duration": 35,
    "start_time": "2022-10-28T17:20:30.696Z"
   },
   {
    "duration": 19,
    "start_time": "2022-10-28T17:20:30.733Z"
   },
   {
    "duration": 7,
    "start_time": "2022-10-28T17:20:30.754Z"
   },
   {
    "duration": 18,
    "start_time": "2022-10-28T17:20:30.763Z"
   },
   {
    "duration": 15,
    "start_time": "2022-10-28T17:20:30.783Z"
   },
   {
    "duration": 4,
    "start_time": "2022-10-28T17:20:30.800Z"
   },
   {
    "duration": 35,
    "start_time": "2022-10-28T17:22:04.994Z"
   },
   {
    "duration": 62,
    "start_time": "2022-10-28T17:23:05.145Z"
   },
   {
    "duration": 11,
    "start_time": "2022-10-28T17:23:38.807Z"
   },
   {
    "duration": 3,
    "start_time": "2022-10-28T17:29:53.192Z"
   },
   {
    "duration": 16,
    "start_time": "2022-10-28T17:29:56.757Z"
   },
   {
    "duration": 16,
    "start_time": "2022-10-28T17:29:58.246Z"
   },
   {
    "duration": 10,
    "start_time": "2022-10-28T17:29:59.148Z"
   },
   {
    "duration": 9,
    "start_time": "2022-10-28T17:29:59.966Z"
   },
   {
    "duration": 16,
    "start_time": "2022-10-28T17:30:00.721Z"
   },
   {
    "duration": 14,
    "start_time": "2022-10-28T17:30:01.548Z"
   },
   {
    "duration": 15,
    "start_time": "2022-10-28T17:42:27.702Z"
   },
   {
    "duration": 10,
    "start_time": "2022-10-28T17:43:04.016Z"
   },
   {
    "duration": 15,
    "start_time": "2022-10-28T17:43:05.115Z"
   },
   {
    "duration": 13,
    "start_time": "2022-10-28T17:43:06.454Z"
   },
   {
    "duration": 9,
    "start_time": "2022-10-28T17:43:09.172Z"
   },
   {
    "duration": 15,
    "start_time": "2022-10-28T17:43:10.046Z"
   },
   {
    "duration": 399,
    "start_time": "2022-10-28T17:43:16.605Z"
   },
   {
    "duration": 170,
    "start_time": "2022-10-28T17:43:17.006Z"
   },
   {
    "duration": 156,
    "start_time": "2022-10-28T17:43:17.178Z"
   },
   {
    "duration": 29,
    "start_time": "2022-10-28T17:43:17.336Z"
   },
   {
    "duration": 3,
    "start_time": "2022-10-28T17:43:17.368Z"
   },
   {
    "duration": 22,
    "start_time": "2022-10-28T17:43:17.372Z"
   },
   {
    "duration": 13,
    "start_time": "2022-10-28T17:43:17.395Z"
   },
   {
    "duration": 4,
    "start_time": "2022-10-28T17:43:17.410Z"
   },
   {
    "duration": 24,
    "start_time": "2022-10-28T17:43:17.415Z"
   },
   {
    "duration": 18,
    "start_time": "2022-10-28T17:43:17.441Z"
   },
   {
    "duration": 49,
    "start_time": "2022-10-28T17:43:17.461Z"
   },
   {
    "duration": 60,
    "start_time": "2022-10-28T17:43:17.512Z"
   },
   {
    "duration": 81,
    "start_time": "2022-10-28T17:43:17.573Z"
   },
   {
    "duration": 66,
    "start_time": "2022-10-28T17:43:17.657Z"
   },
   {
    "duration": 33,
    "start_time": "2022-10-28T17:43:17.725Z"
   },
   {
    "duration": 11,
    "start_time": "2022-10-28T17:43:17.760Z"
   },
   {
    "duration": 48,
    "start_time": "2022-10-28T17:43:17.772Z"
   },
   {
    "duration": 10,
    "start_time": "2022-10-28T17:43:17.822Z"
   },
   {
    "duration": 8,
    "start_time": "2022-10-28T17:43:17.834Z"
   },
   {
    "duration": 3,
    "start_time": "2022-10-28T17:43:17.844Z"
   },
   {
    "duration": 15,
    "start_time": "2022-10-28T17:43:17.849Z"
   },
   {
    "duration": 13,
    "start_time": "2022-10-28T17:43:17.890Z"
   },
   {
    "duration": 9,
    "start_time": "2022-10-28T17:43:17.905Z"
   },
   {
    "duration": 11,
    "start_time": "2022-10-28T17:43:17.915Z"
   },
   {
    "duration": 15,
    "start_time": "2022-10-28T17:43:17.927Z"
   },
   {
    "duration": 11,
    "start_time": "2022-10-28T17:43:17.944Z"
   },
   {
    "duration": 38,
    "start_time": "2022-10-28T17:43:17.957Z"
   },
   {
    "duration": 15,
    "start_time": "2022-10-28T17:43:17.997Z"
   },
   {
    "duration": 8,
    "start_time": "2022-10-28T17:43:18.014Z"
   },
   {
    "duration": 5,
    "start_time": "2022-10-28T17:43:18.024Z"
   },
   {
    "duration": 21,
    "start_time": "2022-10-28T17:43:18.030Z"
   },
   {
    "duration": 45,
    "start_time": "2022-10-28T17:43:18.053Z"
   },
   {
    "duration": 26,
    "start_time": "2022-10-28T17:43:18.099Z"
   },
   {
    "duration": 19,
    "start_time": "2022-10-28T17:43:18.126Z"
   },
   {
    "duration": 7,
    "start_time": "2022-10-28T17:43:18.146Z"
   },
   {
    "duration": 18,
    "start_time": "2022-10-28T17:43:18.155Z"
   },
   {
    "duration": 20,
    "start_time": "2022-10-28T17:43:18.175Z"
   },
   {
    "duration": 5,
    "start_time": "2022-10-28T17:43:18.196Z"
   },
   {
    "duration": 3,
    "start_time": "2022-10-28T17:44:18.030Z"
   },
   {
    "duration": 5,
    "start_time": "2022-10-28T17:45:48.229Z"
   },
   {
    "duration": 4,
    "start_time": "2022-10-28T17:53:31.133Z"
   },
   {
    "duration": 3,
    "start_time": "2022-10-28T17:53:40.836Z"
   },
   {
    "duration": 4,
    "start_time": "2022-10-28T17:58:11.859Z"
   },
   {
    "duration": 16,
    "start_time": "2022-10-28T17:58:15.219Z"
   },
   {
    "duration": 371,
    "start_time": "2022-10-28T18:00:14.145Z"
   },
   {
    "duration": 178,
    "start_time": "2022-10-28T18:00:14.519Z"
   },
   {
    "duration": 159,
    "start_time": "2022-10-28T18:00:14.699Z"
   },
   {
    "duration": 32,
    "start_time": "2022-10-28T18:00:14.859Z"
   },
   {
    "duration": 7,
    "start_time": "2022-10-28T18:00:14.892Z"
   },
   {
    "duration": 20,
    "start_time": "2022-10-28T18:00:14.901Z"
   },
   {
    "duration": 34,
    "start_time": "2022-10-28T18:00:14.922Z"
   },
   {
    "duration": 39,
    "start_time": "2022-10-28T18:00:14.957Z"
   },
   {
    "duration": 79,
    "start_time": "2022-10-28T18:00:14.997Z"
   },
   {
    "duration": 31,
    "start_time": "2022-10-28T18:00:15.079Z"
   },
   {
    "duration": 33,
    "start_time": "2022-10-28T18:00:15.112Z"
   },
   {
    "duration": 92,
    "start_time": "2022-10-28T18:00:15.147Z"
   },
   {
    "duration": 89,
    "start_time": "2022-10-28T18:00:15.241Z"
   },
   {
    "duration": 67,
    "start_time": "2022-10-28T18:00:15.332Z"
   },
   {
    "duration": 34,
    "start_time": "2022-10-28T18:00:15.401Z"
   },
   {
    "duration": 10,
    "start_time": "2022-10-28T18:00:15.436Z"
   },
   {
    "duration": 53,
    "start_time": "2022-10-28T18:00:15.448Z"
   },
   {
    "duration": 10,
    "start_time": "2022-10-28T18:00:15.503Z"
   },
   {
    "duration": 11,
    "start_time": "2022-10-28T18:00:15.515Z"
   },
   {
    "duration": 3,
    "start_time": "2022-10-28T18:00:15.528Z"
   },
   {
    "duration": 19,
    "start_time": "2022-10-28T18:00:15.532Z"
   },
   {
    "duration": 62,
    "start_time": "2022-10-28T18:00:15.553Z"
   },
   {
    "duration": 16,
    "start_time": "2022-10-28T18:00:15.617Z"
   },
   {
    "duration": 33,
    "start_time": "2022-10-28T18:00:15.634Z"
   },
   {
    "duration": 17,
    "start_time": "2022-10-28T18:00:15.669Z"
   },
   {
    "duration": 29,
    "start_time": "2022-10-28T18:00:15.688Z"
   },
   {
    "duration": 23,
    "start_time": "2022-10-28T18:00:15.719Z"
   },
   {
    "duration": 23,
    "start_time": "2022-10-28T18:00:15.745Z"
   },
   {
    "duration": 16,
    "start_time": "2022-10-28T18:00:15.770Z"
   },
   {
    "duration": 6,
    "start_time": "2022-10-28T18:00:15.788Z"
   },
   {
    "duration": 54,
    "start_time": "2022-10-28T18:00:15.796Z"
   },
   {
    "duration": 16,
    "start_time": "2022-10-28T18:00:15.851Z"
   },
   {
    "duration": 37,
    "start_time": "2022-10-28T18:00:15.868Z"
   },
   {
    "duration": 19,
    "start_time": "2022-10-28T18:00:15.907Z"
   },
   {
    "duration": 8,
    "start_time": "2022-10-28T18:00:15.928Z"
   },
   {
    "duration": 26,
    "start_time": "2022-10-28T18:00:15.937Z"
   },
   {
    "duration": 36,
    "start_time": "2022-10-28T18:00:15.964Z"
   },
   {
    "duration": 19,
    "start_time": "2022-10-28T18:00:16.001Z"
   },
   {
    "duration": 61,
    "start_time": "2022-10-28T18:01:12.720Z"
   },
   {
    "duration": 4,
    "start_time": "2022-10-28T18:01:35.943Z"
   },
   {
    "duration": 16,
    "start_time": "2022-10-28T18:01:41.715Z"
   },
   {
    "duration": 17,
    "start_time": "2022-10-28T18:02:23.206Z"
   },
   {
    "duration": 16,
    "start_time": "2022-10-28T18:02:28.072Z"
   },
   {
    "duration": 14,
    "start_time": "2022-10-28T18:02:31.446Z"
   },
   {
    "duration": 429,
    "start_time": "2022-10-28T18:03:47.785Z"
   },
   {
    "duration": 156,
    "start_time": "2022-10-28T18:03:48.217Z"
   },
   {
    "duration": 168,
    "start_time": "2022-10-28T18:03:48.375Z"
   },
   {
    "duration": 27,
    "start_time": "2022-10-28T18:03:48.544Z"
   },
   {
    "duration": 2,
    "start_time": "2022-10-28T18:03:48.574Z"
   },
   {
    "duration": 8,
    "start_time": "2022-10-28T18:03:48.590Z"
   },
   {
    "duration": 11,
    "start_time": "2022-10-28T18:03:48.599Z"
   },
   {
    "duration": 3,
    "start_time": "2022-10-28T18:03:48.612Z"
   },
   {
    "duration": 30,
    "start_time": "2022-10-28T18:03:48.617Z"
   },
   {
    "duration": 43,
    "start_time": "2022-10-28T18:03:48.648Z"
   },
   {
    "duration": 34,
    "start_time": "2022-10-28T18:03:48.693Z"
   },
   {
    "duration": 82,
    "start_time": "2022-10-28T18:03:48.729Z"
   },
   {
    "duration": 79,
    "start_time": "2022-10-28T18:03:48.814Z"
   },
   {
    "duration": 58,
    "start_time": "2022-10-28T18:03:48.897Z"
   },
   {
    "duration": 50,
    "start_time": "2022-10-28T18:03:48.956Z"
   },
   {
    "duration": 11,
    "start_time": "2022-10-28T18:03:49.008Z"
   },
   {
    "duration": 33,
    "start_time": "2022-10-28T18:03:49.021Z"
   },
   {
    "duration": 12,
    "start_time": "2022-10-28T18:03:49.055Z"
   },
   {
    "duration": 29,
    "start_time": "2022-10-28T18:03:49.069Z"
   },
   {
    "duration": 4,
    "start_time": "2022-10-28T18:03:49.099Z"
   },
   {
    "duration": 25,
    "start_time": "2022-10-28T18:03:49.105Z"
   },
   {
    "duration": 12,
    "start_time": "2022-10-28T18:03:49.131Z"
   },
   {
    "duration": 13,
    "start_time": "2022-10-28T18:03:49.145Z"
   },
   {
    "duration": 37,
    "start_time": "2022-10-28T18:03:49.160Z"
   },
   {
    "duration": 16,
    "start_time": "2022-10-28T18:03:49.198Z"
   },
   {
    "duration": 14,
    "start_time": "2022-10-28T18:03:49.215Z"
   },
   {
    "duration": 10,
    "start_time": "2022-10-28T18:03:49.230Z"
   },
   {
    "duration": 17,
    "start_time": "2022-10-28T18:03:49.241Z"
   },
   {
    "duration": 37,
    "start_time": "2022-10-28T18:03:49.260Z"
   },
   {
    "duration": 5,
    "start_time": "2022-10-28T18:03:49.298Z"
   },
   {
    "duration": 23,
    "start_time": "2022-10-28T18:03:49.304Z"
   },
   {
    "duration": 14,
    "start_time": "2022-10-28T18:03:49.328Z"
   },
   {
    "duration": 48,
    "start_time": "2022-10-28T18:03:49.344Z"
   },
   {
    "duration": 20,
    "start_time": "2022-10-28T18:03:49.393Z"
   },
   {
    "duration": 8,
    "start_time": "2022-10-28T18:03:49.415Z"
   },
   {
    "duration": 5,
    "start_time": "2022-10-28T18:03:49.424Z"
   },
   {
    "duration": 6,
    "start_time": "2022-10-28T18:03:49.430Z"
   },
   {
    "duration": 3,
    "start_time": "2022-10-28T18:03:49.438Z"
   },
   {
    "duration": 3,
    "start_time": "2022-10-28T18:05:29.732Z"
   },
   {
    "duration": 18,
    "start_time": "2022-10-28T18:05:31.148Z"
   },
   {
    "duration": 4,
    "start_time": "2022-10-28T18:05:33.851Z"
   },
   {
    "duration": 17,
    "start_time": "2022-10-28T18:05:34.267Z"
   },
   {
    "duration": 16,
    "start_time": "2022-10-28T18:05:34.462Z"
   },
   {
    "duration": 14,
    "start_time": "2022-10-28T18:05:34.678Z"
   },
   {
    "duration": 14,
    "start_time": "2022-10-28T18:05:35.032Z"
   },
   {
    "duration": 15,
    "start_time": "2022-10-28T18:05:35.313Z"
   },
   {
    "duration": 14,
    "start_time": "2022-10-28T18:05:35.592Z"
   },
   {
    "duration": 8,
    "start_time": "2022-10-28T18:05:36.049Z"
   },
   {
    "duration": 370,
    "start_time": "2022-10-28T18:06:12.711Z"
   },
   {
    "duration": 166,
    "start_time": "2022-10-28T18:06:13.083Z"
   },
   {
    "duration": 158,
    "start_time": "2022-10-28T18:06:13.250Z"
   },
   {
    "duration": 29,
    "start_time": "2022-10-28T18:06:13.411Z"
   },
   {
    "duration": 3,
    "start_time": "2022-10-28T18:06:13.442Z"
   },
   {
    "duration": 9,
    "start_time": "2022-10-28T18:06:13.447Z"
   },
   {
    "duration": 37,
    "start_time": "2022-10-28T18:06:13.458Z"
   },
   {
    "duration": 6,
    "start_time": "2022-10-28T18:06:13.497Z"
   },
   {
    "duration": 27,
    "start_time": "2022-10-28T18:06:13.505Z"
   },
   {
    "duration": 18,
    "start_time": "2022-10-28T18:06:13.536Z"
   },
   {
    "duration": 47,
    "start_time": "2022-10-28T18:06:13.556Z"
   },
   {
    "duration": 67,
    "start_time": "2022-10-28T18:06:13.605Z"
   },
   {
    "duration": 97,
    "start_time": "2022-10-28T18:06:13.674Z"
   },
   {
    "duration": 74,
    "start_time": "2022-10-28T18:06:13.772Z"
   },
   {
    "duration": 43,
    "start_time": "2022-10-28T18:06:13.848Z"
   },
   {
    "duration": 12,
    "start_time": "2022-10-28T18:06:13.892Z"
   },
   {
    "duration": 44,
    "start_time": "2022-10-28T18:06:13.905Z"
   },
   {
    "duration": 11,
    "start_time": "2022-10-28T18:06:13.951Z"
   },
   {
    "duration": 34,
    "start_time": "2022-10-28T18:06:13.964Z"
   },
   {
    "duration": 4,
    "start_time": "2022-10-28T18:06:14.000Z"
   },
   {
    "duration": 22,
    "start_time": "2022-10-28T18:06:14.006Z"
   },
   {
    "duration": 14,
    "start_time": "2022-10-28T18:06:14.030Z"
   },
   {
    "duration": 13,
    "start_time": "2022-10-28T18:06:14.046Z"
   },
   {
    "duration": 38,
    "start_time": "2022-10-28T18:06:14.061Z"
   },
   {
    "duration": 15,
    "start_time": "2022-10-28T18:06:14.101Z"
   },
   {
    "duration": 14,
    "start_time": "2022-10-28T18:06:14.118Z"
   },
   {
    "duration": 14,
    "start_time": "2022-10-28T18:06:14.134Z"
   },
   {
    "duration": 45,
    "start_time": "2022-10-28T18:06:14.151Z"
   },
   {
    "duration": 9,
    "start_time": "2022-10-28T18:06:14.198Z"
   },
   {
    "duration": 5,
    "start_time": "2022-10-28T18:06:14.209Z"
   },
   {
    "duration": 23,
    "start_time": "2022-10-28T18:06:14.215Z"
   },
   {
    "duration": 14,
    "start_time": "2022-10-28T18:06:14.240Z"
   },
   {
    "duration": 56,
    "start_time": "2022-10-28T18:06:14.256Z"
   },
   {
    "duration": 19,
    "start_time": "2022-10-28T18:06:14.314Z"
   },
   {
    "duration": 8,
    "start_time": "2022-10-28T18:06:14.335Z"
   },
   {
    "duration": 5,
    "start_time": "2022-10-28T18:06:14.344Z"
   },
   {
    "duration": 8,
    "start_time": "2022-10-28T18:06:14.351Z"
   },
   {
    "duration": 31,
    "start_time": "2022-10-28T18:06:14.361Z"
   },
   {
    "duration": 410,
    "start_time": "2022-10-28T18:07:21.564Z"
   },
   {
    "duration": 162,
    "start_time": "2022-10-28T18:07:21.976Z"
   },
   {
    "duration": 152,
    "start_time": "2022-10-28T18:07:22.139Z"
   },
   {
    "duration": 27,
    "start_time": "2022-10-28T18:07:22.293Z"
   },
   {
    "duration": 3,
    "start_time": "2022-10-28T18:07:22.322Z"
   },
   {
    "duration": 11,
    "start_time": "2022-10-28T18:07:22.326Z"
   },
   {
    "duration": 13,
    "start_time": "2022-10-28T18:07:22.338Z"
   },
   {
    "duration": 4,
    "start_time": "2022-10-28T18:07:22.353Z"
   },
   {
    "duration": 54,
    "start_time": "2022-10-28T18:07:22.358Z"
   },
   {
    "duration": 20,
    "start_time": "2022-10-28T18:07:22.413Z"
   },
   {
    "duration": 24,
    "start_time": "2022-10-28T18:07:22.435Z"
   },
   {
    "duration": 87,
    "start_time": "2022-10-28T18:07:22.461Z"
   },
   {
    "duration": 74,
    "start_time": "2022-10-28T18:07:22.550Z"
   },
   {
    "duration": 65,
    "start_time": "2022-10-28T18:07:22.627Z"
   },
   {
    "duration": 33,
    "start_time": "2022-10-28T18:07:22.694Z"
   },
   {
    "duration": 11,
    "start_time": "2022-10-28T18:07:22.729Z"
   },
   {
    "duration": 54,
    "start_time": "2022-10-28T18:07:22.741Z"
   },
   {
    "duration": 11,
    "start_time": "2022-10-28T18:07:22.797Z"
   },
   {
    "duration": 10,
    "start_time": "2022-10-28T18:07:22.810Z"
   },
   {
    "duration": 4,
    "start_time": "2022-10-28T18:07:22.821Z"
   },
   {
    "duration": 22,
    "start_time": "2022-10-28T18:07:22.826Z"
   },
   {
    "duration": 13,
    "start_time": "2022-10-28T18:07:22.850Z"
   },
   {
    "duration": 15,
    "start_time": "2022-10-28T18:07:22.891Z"
   },
   {
    "duration": 13,
    "start_time": "2022-10-28T18:07:22.907Z"
   },
   {
    "duration": 17,
    "start_time": "2022-10-28T18:07:22.922Z"
   },
   {
    "duration": 13,
    "start_time": "2022-10-28T18:07:22.940Z"
   },
   {
    "duration": 41,
    "start_time": "2022-10-28T18:07:22.955Z"
   },
   {
    "duration": 16,
    "start_time": "2022-10-28T18:07:22.998Z"
   },
   {
    "duration": 13,
    "start_time": "2022-10-28T18:07:23.015Z"
   },
   {
    "duration": 6,
    "start_time": "2022-10-28T18:07:23.029Z"
   },
   {
    "duration": 23,
    "start_time": "2022-10-28T18:07:23.037Z"
   },
   {
    "duration": 39,
    "start_time": "2022-10-28T18:07:23.061Z"
   },
   {
    "duration": 28,
    "start_time": "2022-10-28T18:07:23.101Z"
   },
   {
    "duration": 20,
    "start_time": "2022-10-28T18:07:23.130Z"
   },
   {
    "duration": 8,
    "start_time": "2022-10-28T18:07:23.151Z"
   },
   {
    "duration": 32,
    "start_time": "2022-10-28T18:07:23.160Z"
   },
   {
    "duration": 8,
    "start_time": "2022-10-28T18:07:23.194Z"
   },
   {
    "duration": 4,
    "start_time": "2022-10-28T18:07:23.203Z"
   },
   {
    "duration": 89,
    "start_time": "2022-10-28T18:09:33.468Z"
   },
   {
    "duration": 5,
    "start_time": "2022-10-28T18:09:42.345Z"
   },
   {
    "duration": 4,
    "start_time": "2022-10-28T18:10:26.978Z"
   },
   {
    "duration": 5,
    "start_time": "2022-10-28T18:12:36.573Z"
   },
   {
    "duration": 11,
    "start_time": "2022-10-28T18:16:22.522Z"
   },
   {
    "duration": 397,
    "start_time": "2022-10-28T18:17:37.705Z"
   },
   {
    "duration": 178,
    "start_time": "2022-10-28T18:17:38.104Z"
   },
   {
    "duration": 173,
    "start_time": "2022-10-28T18:17:38.284Z"
   },
   {
    "duration": 36,
    "start_time": "2022-10-28T18:17:38.459Z"
   },
   {
    "duration": 3,
    "start_time": "2022-10-28T18:17:38.496Z"
   },
   {
    "duration": 13,
    "start_time": "2022-10-28T18:17:38.501Z"
   },
   {
    "duration": 16,
    "start_time": "2022-10-28T18:17:38.516Z"
   },
   {
    "duration": 7,
    "start_time": "2022-10-28T18:17:38.534Z"
   },
   {
    "duration": 50,
    "start_time": "2022-10-28T18:17:38.542Z"
   },
   {
    "duration": 18,
    "start_time": "2022-10-28T18:17:38.595Z"
   },
   {
    "duration": 24,
    "start_time": "2022-10-28T18:17:38.615Z"
   },
   {
    "duration": 93,
    "start_time": "2022-10-28T18:17:38.641Z"
   },
   {
    "duration": 81,
    "start_time": "2022-10-28T18:17:38.736Z"
   },
   {
    "duration": 83,
    "start_time": "2022-10-28T18:17:38.819Z"
   },
   {
    "duration": 36,
    "start_time": "2022-10-28T18:17:38.905Z"
   },
   {
    "duration": 12,
    "start_time": "2022-10-28T18:17:38.943Z"
   },
   {
    "duration": 58,
    "start_time": "2022-10-28T18:17:38.958Z"
   },
   {
    "duration": 12,
    "start_time": "2022-10-28T18:17:39.018Z"
   },
   {
    "duration": 12,
    "start_time": "2022-10-28T18:17:39.031Z"
   },
   {
    "duration": 4,
    "start_time": "2022-10-28T18:17:39.044Z"
   },
   {
    "duration": 46,
    "start_time": "2022-10-28T18:17:39.050Z"
   },
   {
    "duration": 16,
    "start_time": "2022-10-28T18:17:39.098Z"
   },
   {
    "duration": 17,
    "start_time": "2022-10-28T18:17:39.116Z"
   },
   {
    "duration": 17,
    "start_time": "2022-10-28T18:17:39.135Z"
   },
   {
    "duration": 49,
    "start_time": "2022-10-28T18:17:39.155Z"
   },
   {
    "duration": 16,
    "start_time": "2022-10-28T18:17:39.206Z"
   },
   {
    "duration": 10,
    "start_time": "2022-10-28T18:17:39.224Z"
   },
   {
    "duration": 12,
    "start_time": "2022-10-28T18:17:39.236Z"
   },
   {
    "duration": 41,
    "start_time": "2022-10-28T18:17:39.250Z"
   },
   {
    "duration": 7,
    "start_time": "2022-10-28T18:17:39.293Z"
   },
   {
    "duration": 27,
    "start_time": "2022-10-28T18:17:39.302Z"
   },
   {
    "duration": 13,
    "start_time": "2022-10-28T18:17:39.331Z"
   },
   {
    "duration": 19,
    "start_time": "2022-10-28T18:17:39.345Z"
   },
   {
    "duration": 15,
    "start_time": "2022-10-28T18:17:39.391Z"
   },
   {
    "duration": 12,
    "start_time": "2022-10-28T18:17:39.408Z"
   },
   {
    "duration": 4,
    "start_time": "2022-10-28T18:17:39.422Z"
   },
   {
    "duration": 7,
    "start_time": "2022-10-28T18:17:39.428Z"
   },
   {
    "duration": 4,
    "start_time": "2022-10-28T18:17:39.437Z"
   },
   {
    "duration": 15,
    "start_time": "2022-10-28T18:19:01.999Z"
   },
   {
    "duration": 21,
    "start_time": "2022-10-28T18:19:33.553Z"
   },
   {
    "duration": 13,
    "start_time": "2022-10-28T18:19:37.731Z"
   },
   {
    "duration": 12,
    "start_time": "2022-10-28T18:23:06.297Z"
   },
   {
    "duration": 17,
    "start_time": "2022-10-28T18:23:12.897Z"
   },
   {
    "duration": 359,
    "start_time": "2022-10-28T18:23:18.249Z"
   },
   {
    "duration": 159,
    "start_time": "2022-10-28T18:23:18.611Z"
   },
   {
    "duration": 145,
    "start_time": "2022-10-28T18:23:18.772Z"
   },
   {
    "duration": 27,
    "start_time": "2022-10-28T18:23:18.919Z"
   },
   {
    "duration": 3,
    "start_time": "2022-10-28T18:23:18.947Z"
   },
   {
    "duration": 9,
    "start_time": "2022-10-28T18:23:18.951Z"
   },
   {
    "duration": 35,
    "start_time": "2022-10-28T18:23:18.961Z"
   },
   {
    "duration": 5,
    "start_time": "2022-10-28T18:23:18.998Z"
   },
   {
    "duration": 24,
    "start_time": "2022-10-28T18:23:19.005Z"
   },
   {
    "duration": 17,
    "start_time": "2022-10-28T18:23:19.031Z"
   },
   {
    "duration": 42,
    "start_time": "2022-10-28T18:23:19.050Z"
   },
   {
    "duration": 59,
    "start_time": "2022-10-28T18:23:19.093Z"
   },
   {
    "duration": 83,
    "start_time": "2022-10-28T18:23:19.153Z"
   },
   {
    "duration": 62,
    "start_time": "2022-10-28T18:23:19.238Z"
   },
   {
    "duration": 33,
    "start_time": "2022-10-28T18:23:19.301Z"
   },
   {
    "duration": 10,
    "start_time": "2022-10-28T18:23:19.336Z"
   },
   {
    "duration": 52,
    "start_time": "2022-10-28T18:23:19.348Z"
   },
   {
    "duration": 12,
    "start_time": "2022-10-28T18:23:19.402Z"
   },
   {
    "duration": 13,
    "start_time": "2022-10-28T18:23:19.415Z"
   },
   {
    "duration": 4,
    "start_time": "2022-10-28T18:23:19.430Z"
   },
   {
    "duration": 20,
    "start_time": "2022-10-28T18:23:19.435Z"
   },
   {
    "duration": 41,
    "start_time": "2022-10-28T18:23:19.456Z"
   },
   {
    "duration": 13,
    "start_time": "2022-10-28T18:23:19.498Z"
   },
   {
    "duration": 11,
    "start_time": "2022-10-28T18:23:19.512Z"
   },
   {
    "duration": 15,
    "start_time": "2022-10-28T18:23:19.524Z"
   },
   {
    "duration": 13,
    "start_time": "2022-10-28T18:23:19.541Z"
   },
   {
    "duration": 40,
    "start_time": "2022-10-28T18:23:19.555Z"
   },
   {
    "duration": 12,
    "start_time": "2022-10-28T18:23:19.599Z"
   },
   {
    "duration": 9,
    "start_time": "2022-10-28T18:23:19.613Z"
   },
   {
    "duration": 5,
    "start_time": "2022-10-28T18:23:19.623Z"
   },
   {
    "duration": 23,
    "start_time": "2022-10-28T18:23:19.629Z"
   },
   {
    "duration": 39,
    "start_time": "2022-10-28T18:23:19.654Z"
   },
   {
    "duration": 18,
    "start_time": "2022-10-28T18:23:19.695Z"
   },
   {
    "duration": 11,
    "start_time": "2022-10-28T18:23:19.715Z"
   },
   {
    "duration": 6,
    "start_time": "2022-10-28T18:23:19.728Z"
   },
   {
    "duration": 4,
    "start_time": "2022-10-28T18:23:19.735Z"
   },
   {
    "duration": 6,
    "start_time": "2022-10-28T18:23:19.740Z"
   },
   {
    "duration": 4,
    "start_time": "2022-10-28T18:23:19.747Z"
   }
  ],
  "colab": {
   "collapsed_sections": [
    "E0vqbgi9ay0H",
    "VUC88oWjTJw2"
   ],
   "name": "automatization_template_upd4.ipynb",
   "provenance": []
  },
  "kernelspec": {
   "display_name": "Python 3 (ipykernel)",
   "language": "python",
   "name": "python3"
  },
  "language_info": {
   "codemirror_mode": {
    "name": "ipython",
    "version": 3
   },
   "file_extension": ".py",
   "mimetype": "text/x-python",
   "name": "python",
   "nbconvert_exporter": "python",
   "pygments_lexer": "ipython3",
   "version": "3.9.5"
  },
  "toc": {
   "base_numbering": 1,
   "nav_menu": {
    "height": "215px",
    "width": "403px"
   },
   "number_sections": true,
   "sideBar": true,
   "skip_h1_title": true,
   "title_cell": "Table of Contents",
   "title_sidebar": "Contents",
   "toc_cell": false,
   "toc_position": {
    "height": "calc(100% - 180px)",
    "left": "10px",
    "top": "150px",
    "width": "285.825px"
   },
   "toc_section_display": true,
   "toc_window_display": false
  }
 },
 "nbformat": 4,
 "nbformat_minor": 1
}
