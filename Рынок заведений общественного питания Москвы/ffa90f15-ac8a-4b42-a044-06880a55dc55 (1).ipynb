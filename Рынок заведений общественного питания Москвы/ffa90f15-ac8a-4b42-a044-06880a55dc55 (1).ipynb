{
 "cells": [
  {
   "cell_type": "markdown",
   "metadata": {},
   "source": [
    "<div style=\"border:solid Chocolate 2px; padding: 40px\">\n",
    "Люда, привет! Исследования по кофейням и презентации так и не наблюдаю. В чем проблема? Ты мне не исправленный проект второй раз отправляешь.\n",
    "  "
   ]
  },
  {
   "cell_type": "markdown",
   "metadata": {},
   "source": [
    " <div class=\"alert alert-info\"><b>добрый день! Исследование по кофейням Шаг4. ССылка на презентацию не сохранилась. Исправила.</b> </div>"
   ]
  },
  {
   "cell_type": "markdown",
   "metadata": {},
   "source": [
    "<div class=\"alert alert-success\">\n",
    "<h2> Комментарий ревьюера v3<a class=\"tocSkip\"> </h2>\n",
    "\n",
    "<b>Отлично!✅:</b> Теперь все нашла и оценила! Работа принята, хорошего дня:)\n",
    "</div>"
   ]
  },
  {
   "cell_type": "markdown",
   "metadata": {},
   "source": [
    "<div style=\"border:solid Chocolate 2px; padding: 40px\">\n",
    "\n",
    "<b>Людмила, приветствую!</b>\n",
    "\n",
    "Буду рада с тобой познакомиться. Меня зовут Евгения Маракова и я буду ревьюером твоего проекта. Если ты не против, то предлагаю общаться на \"ты\":) Если удобнее на \"вы\", то нет проблем, только скажи об этом.\n",
    "\n",
    "В процессе работы ты встретишь комментарии <font color='green'>зеленого</font>, <font color='gold'>желтого</font> и <font color='red'>красного</font> цветов. Что они значат, смотри ниже:\n",
    "    <br/>\n",
    "\n",
    "<div class=\"alert alert-success\">\n",
    "<h2> Комментарий ревьюера <a class=\"tocSkip\"> </h2>\n",
    "\n",
    "<b>Отлично!✅:</b> Решение на этом шаге является полностью правильным.\n",
    "</div>\n",
    "\n",
    "<br/>\n",
    "\n",
    "<div class=\"alert alert-warning\">\n",
    "    <h2> Комментарий ревьюера <a class=\"tocSkip\"> </h2>\n",
    "    \n",
    "<b>Можно лучше⚠️:</b> Решение на этом шаге станет еще лучше, если внести небольшие коррективы.\n",
    "</div>\n",
    "\n",
    "\n",
    "<br/>\n",
    "<div class=\"alert alert-block alert-danger\">\n",
    "<h2> Комментарий ревьюера <a class=\"tocSkip\"></h2>\n",
    "\n",
    "    \n",
    "<b>Необходимо исправить❌:</b>\n",
    " Решение на этом шаге требует существенной переработки и внесения правок. Напоминаю, что проект не может быть принят с первого раза, если ревью содержит комментарии, рекомендующие доработать шаги.\n",
    "</div>\n",
    "    \n",
    "Увидев мой комментарий, не удаляй его, он будет очень полезен в случае повторной проверки работы😊\n",
    "    \n",
    "Свой комментарий помечай так, как показано ниже, тогда нам будет легче вести диалог, а мне выполнить повторную проверку проекта.\n",
    "    <div class=\"alert alert-info\"> <b>Комментарий студента: </b> </div>\n",
    "    \n"
   ]
  },
  {
   "cell_type": "markdown",
   "metadata": {},
   "source": [
    "# Рынок заведений общественного питания Москвы"
   ]
  },
  {
   "cell_type": "markdown",
   "metadata": {},
   "source": [
    "Презентация: <https://cloud.mail.ru/public/VWyT/jYDC9Pmjh> "
   ]
  },
  {
   "cell_type": "code",
   "execution_count": 1,
   "metadata": {},
   "outputs": [
    {
     "name": "stdout",
     "output_type": "stream",
     "text": [
      "Requirement already satisfied: nbconvert in /opt/conda/lib/python3.9/site-packages (6.1.0)\n",
      "Requirement already satisfied: jupyterlab-pygments in /opt/conda/lib/python3.9/site-packages (from nbconvert) (0.1.2)\n",
      "Requirement already satisfied: pygments>=2.4.1 in /opt/conda/lib/python3.9/site-packages (from nbconvert) (2.9.0)\n",
      "Requirement already satisfied: defusedxml in /opt/conda/lib/python3.9/site-packages (from nbconvert) (0.7.1)\n",
      "Requirement already satisfied: entrypoints>=0.2.2 in /opt/conda/lib/python3.9/site-packages (from nbconvert) (0.3)\n",
      "Requirement already satisfied: jinja2>=2.4 in /opt/conda/lib/python3.9/site-packages (from nbconvert) (3.0.1)\n",
      "Requirement already satisfied: jupyter-core in /opt/conda/lib/python3.9/site-packages (from nbconvert) (4.7.1)\n",
      "Requirement already satisfied: bleach in /opt/conda/lib/python3.9/site-packages (from nbconvert) (3.3.0)\n",
      "Requirement already satisfied: mistune<2,>=0.8.1 in /opt/conda/lib/python3.9/site-packages (from nbconvert) (0.8.4)\n",
      "Requirement already satisfied: testpath in /opt/conda/lib/python3.9/site-packages (from nbconvert) (0.5.0)\n",
      "Requirement already satisfied: traitlets>=5.0 in /opt/conda/lib/python3.9/site-packages (from nbconvert) (5.0.5)\n",
      "Requirement already satisfied: nbformat>=4.4 in /opt/conda/lib/python3.9/site-packages (from nbconvert) (5.1.3)\n",
      "Requirement already satisfied: pandocfilters>=1.4.1 in /opt/conda/lib/python3.9/site-packages (from nbconvert) (1.4.2)\n",
      "Requirement already satisfied: nbclient<0.6.0,>=0.5.0 in /opt/conda/lib/python3.9/site-packages (from nbconvert) (0.5.3)\n",
      "Requirement already satisfied: MarkupSafe>=2.0 in /opt/conda/lib/python3.9/site-packages (from jinja2>=2.4->nbconvert) (2.1.1)\n",
      "Requirement already satisfied: async-generator in /opt/conda/lib/python3.9/site-packages (from nbclient<0.6.0,>=0.5.0->nbconvert) (1.10)\n",
      "Requirement already satisfied: nest-asyncio in /opt/conda/lib/python3.9/site-packages (from nbclient<0.6.0,>=0.5.0->nbconvert) (1.5.1)\n",
      "Requirement already satisfied: jupyter-client>=6.1.5 in /opt/conda/lib/python3.9/site-packages (from nbclient<0.6.0,>=0.5.0->nbconvert) (6.1.12)\n",
      "Requirement already satisfied: python-dateutil>=2.1 in /opt/conda/lib/python3.9/site-packages (from jupyter-client>=6.1.5->nbclient<0.6.0,>=0.5.0->nbconvert) (2.8.1)\n",
      "Requirement already satisfied: pyzmq>=13 in /opt/conda/lib/python3.9/site-packages (from jupyter-client>=6.1.5->nbclient<0.6.0,>=0.5.0->nbconvert) (22.1.0)\n",
      "Requirement already satisfied: tornado>=4.1 in /opt/conda/lib/python3.9/site-packages (from jupyter-client>=6.1.5->nbclient<0.6.0,>=0.5.0->nbconvert) (6.1)\n",
      "Requirement already satisfied: ipython-genutils in /opt/conda/lib/python3.9/site-packages (from nbformat>=4.4->nbconvert) (0.2.0)\n",
      "Requirement already satisfied: jsonschema!=2.5.0,>=2.4 in /opt/conda/lib/python3.9/site-packages (from nbformat>=4.4->nbconvert) (3.2.0)\n",
      "Requirement already satisfied: six>=1.11.0 in /opt/conda/lib/python3.9/site-packages (from jsonschema!=2.5.0,>=2.4->nbformat>=4.4->nbconvert) (1.16.0)\n",
      "Requirement already satisfied: pyrsistent>=0.14.0 in /opt/conda/lib/python3.9/site-packages (from jsonschema!=2.5.0,>=2.4->nbformat>=4.4->nbconvert) (0.17.3)\n",
      "Requirement already satisfied: setuptools in /opt/conda/lib/python3.9/site-packages (from jsonschema!=2.5.0,>=2.4->nbformat>=4.4->nbconvert) (49.6.0.post20210108)\n",
      "Requirement already satisfied: attrs>=17.4.0 in /opt/conda/lib/python3.9/site-packages (from jsonschema!=2.5.0,>=2.4->nbformat>=4.4->nbconvert) (21.2.0)\n",
      "Requirement already satisfied: webencodings in /opt/conda/lib/python3.9/site-packages (from bleach->nbconvert) (0.5.1)\n",
      "Requirement already satisfied: packaging in /opt/conda/lib/python3.9/site-packages (from bleach->nbconvert) (21.3)\n",
      "Requirement already satisfied: pyparsing!=3.0.5,>=2.0.2 in /opt/conda/lib/python3.9/site-packages (from packaging->bleach->nbconvert) (2.4.7)\n"
     ]
    }
   ],
   "source": [
    "!pip install nbconvert"
   ]
  },
  {
   "cell_type": "code",
   "execution_count": 2,
   "metadata": {},
   "outputs": [
    {
     "name": "stdout",
     "output_type": "stream",
     "text": [
      "Requirement already satisfied: bokeh in /opt/conda/lib/python3.9/site-packages (3.2.1)\n",
      "Requirement already satisfied: Jinja2>=2.9 in /opt/conda/lib/python3.9/site-packages (from bokeh) (3.0.1)\n",
      "Requirement already satisfied: numpy>=1.16 in /opt/conda/lib/python3.9/site-packages (from bokeh) (1.21.1)\n",
      "Requirement already satisfied: xyzservices>=2021.09.1 in /opt/conda/lib/python3.9/site-packages (from bokeh) (2023.7.0)\n",
      "Requirement already satisfied: packaging>=16.8 in /opt/conda/lib/python3.9/site-packages (from bokeh) (21.3)\n",
      "Requirement already satisfied: pillow>=7.1.0 in /opt/conda/lib/python3.9/site-packages (from bokeh) (8.4.0)\n",
      "Requirement already satisfied: contourpy>=1 in /opt/conda/lib/python3.9/site-packages (from bokeh) (1.1.0)\n",
      "Requirement already satisfied: PyYAML>=3.10 in /opt/conda/lib/python3.9/site-packages (from bokeh) (6.0)\n",
      "Requirement already satisfied: tornado>=5.1 in /opt/conda/lib/python3.9/site-packages (from bokeh) (6.1)\n",
      "Requirement already satisfied: pandas>=1.2 in /opt/conda/lib/python3.9/site-packages (from bokeh) (1.2.4)\n",
      "Requirement already satisfied: MarkupSafe>=2.0 in /opt/conda/lib/python3.9/site-packages (from Jinja2>=2.9->bokeh) (2.1.1)\n",
      "Requirement already satisfied: pyparsing!=3.0.5,>=2.0.2 in /opt/conda/lib/python3.9/site-packages (from packaging>=16.8->bokeh) (2.4.7)\n",
      "Requirement already satisfied: python-dateutil>=2.7.3 in /opt/conda/lib/python3.9/site-packages (from pandas>=1.2->bokeh) (2.8.1)\n",
      "Requirement already satisfied: pytz>=2017.3 in /opt/conda/lib/python3.9/site-packages (from pandas>=1.2->bokeh) (2021.1)\n",
      "Requirement already satisfied: six>=1.5 in /opt/conda/lib/python3.9/site-packages (from python-dateutil>=2.7.3->pandas>=1.2->bokeh) (1.16.0)\n"
     ]
    }
   ],
   "source": [
    "!pip install bokeh"
   ]
  },
  {
   "cell_type": "code",
   "execution_count": 3,
   "metadata": {},
   "outputs": [
    {
     "name": "stdout",
     "output_type": "stream",
     "text": [
      "Requirement already satisfied: folium in /opt/conda/lib/python3.9/site-packages (0.12.1.post1)\r\n",
      "Requirement already satisfied: jinja2>=2.9 in /opt/conda/lib/python3.9/site-packages (from folium) (3.0.1)\r\n",
      "Requirement already satisfied: numpy in /opt/conda/lib/python3.9/site-packages (from folium) (1.21.1)\r\n",
      "Requirement already satisfied: requests in /opt/conda/lib/python3.9/site-packages (from folium) (2.25.1)\r\n",
      "Requirement already satisfied: branca>=0.3.0 in /opt/conda/lib/python3.9/site-packages (from folium) (0.5.0)\r\n",
      "Requirement already satisfied: MarkupSafe>=2.0 in /opt/conda/lib/python3.9/site-packages (from jinja2>=2.9->folium) (2.1.1)\r\n",
      "Requirement already satisfied: chardet<5,>=3.0.2 in /opt/conda/lib/python3.9/site-packages (from requests->folium) (4.0.0)\r\n",
      "Requirement already satisfied: idna<3,>=2.5 in /opt/conda/lib/python3.9/site-packages (from requests->folium) (2.10)\r\n",
      "Requirement already satisfied: certifi>=2017.4.17 in /opt/conda/lib/python3.9/site-packages (from requests->folium) (2022.6.15)\r\n",
      "Requirement already satisfied: urllib3<1.27,>=1.21.1 in /opt/conda/lib/python3.9/site-packages (from requests->folium) (1.26.6)\r\n"
     ]
    }
   ],
   "source": [
    "!pip install folium"
   ]
  },
  {
   "cell_type": "code",
   "execution_count": 4,
   "metadata": {},
   "outputs": [
    {
     "name": "stdout",
     "output_type": "stream",
     "text": [
      "Requirement already satisfied: geopandas in /opt/conda/lib/python3.9/site-packages (0.13.2)\n",
      "Requirement already satisfied: pandas>=1.1.0 in /opt/conda/lib/python3.9/site-packages (from geopandas) (1.2.4)\n",
      "Requirement already satisfied: packaging in /opt/conda/lib/python3.9/site-packages (from geopandas) (21.3)\n",
      "Requirement already satisfied: pyproj>=3.0.1 in /opt/conda/lib/python3.9/site-packages (from geopandas) (3.6.0)\n",
      "Requirement already satisfied: shapely>=1.7.1 in /opt/conda/lib/python3.9/site-packages (from geopandas) (2.0.1)\n",
      "Requirement already satisfied: fiona>=1.8.19 in /opt/conda/lib/python3.9/site-packages (from geopandas) (1.9.4.post1)\n",
      "Requirement already satisfied: click-plugins>=1.0 in /opt/conda/lib/python3.9/site-packages (from fiona>=1.8.19->geopandas) (1.1.1)\n",
      "Requirement already satisfied: certifi in /opt/conda/lib/python3.9/site-packages (from fiona>=1.8.19->geopandas) (2022.6.15)\n",
      "Requirement already satisfied: click~=8.0 in /opt/conda/lib/python3.9/site-packages (from fiona>=1.8.19->geopandas) (8.1.3)\n",
      "Requirement already satisfied: attrs>=19.2.0 in /opt/conda/lib/python3.9/site-packages (from fiona>=1.8.19->geopandas) (21.2.0)\n",
      "Requirement already satisfied: importlib-metadata in /opt/conda/lib/python3.9/site-packages (from fiona>=1.8.19->geopandas) (4.6.1)\n",
      "Requirement already satisfied: six in /opt/conda/lib/python3.9/site-packages (from fiona>=1.8.19->geopandas) (1.16.0)\n",
      "Requirement already satisfied: cligj>=0.5 in /opt/conda/lib/python3.9/site-packages (from fiona>=1.8.19->geopandas) (0.7.2)\n",
      "Requirement already satisfied: python-dateutil>=2.7.3 in /opt/conda/lib/python3.9/site-packages (from pandas>=1.1.0->geopandas) (2.8.1)\n",
      "Requirement already satisfied: pytz>=2017.3 in /opt/conda/lib/python3.9/site-packages (from pandas>=1.1.0->geopandas) (2021.1)\n",
      "Requirement already satisfied: numpy>=1.16.5 in /opt/conda/lib/python3.9/site-packages (from pandas>=1.1.0->geopandas) (1.21.1)\n",
      "Requirement already satisfied: zipp>=0.5 in /opt/conda/lib/python3.9/site-packages (from importlib-metadata->fiona>=1.8.19->geopandas) (3.5.0)\n",
      "Requirement already satisfied: pyparsing!=3.0.5,>=2.0.2 in /opt/conda/lib/python3.9/site-packages (from packaging->geopandas) (2.4.7)\n"
     ]
    }
   ],
   "source": [
    "!pip install geopandas"
   ]
  },
  {
   "cell_type": "code",
   "execution_count": 5,
   "metadata": {},
   "outputs": [
    {
     "name": "stdout",
     "output_type": "stream",
     "text": [
      "Requirement already satisfied: pyyaml in /opt/conda/lib/python3.9/site-packages (6.0)\r\n"
     ]
    }
   ],
   "source": [
    "!pip install pyyaml"
   ]
  },
  {
   "cell_type": "markdown",
   "metadata": {},
   "source": [
    "<br/>\n",
    "<div class=\"alert alert-block alert-danger\">\n",
    "<h2> Комментарий ревьюера <a class=\"tocSkip\"></h2>\n",
    "\n",
    "    \n",
    "<b>Необходимо исправить❌:</b>\n",
    "Дан неверный путь к файлу."
   ]
  },
  {
   "cell_type": "markdown",
   "metadata": {},
   "source": [
    "<div class=\"alert alert-success\">\n",
    "<h2> Комментарий ревьюера v3<a class=\"tocSkip\"> </h2>\n",
    "\n",
    "<b>Отлично!✅:</b> Отличная информативная презентация!\n",
    "</div>"
   ]
  },
  {
   "cell_type": "markdown",
   "metadata": {},
   "source": [
    "Описание проекта\n",
    "Инвесторы из фонда «Shut Up and Take My Money» решили попробовать себя в новой области и открыть заведение общественного питания в Москве. Заказчики ещё не знают, что это будет за место: кафе, ресторан, пиццерия, паб или бар, — и какими будут расположение, меню и цены.\n",
    "Для начала они просят вас — аналитика — подготовить исследование рынка Москвы, найти интересные особенности и презентовать полученные результаты, которые в будущем помогут в выборе подходящего инвесторам места.\n",
    "Постарайтесь сделать презентацию информативной и лаконичной. Её структура и оформление сильно влияют на восприятие информации читателями вашего исследования. Выбирать инструменты (matplotlib, seaborn и другие) и типы визуализаций вы можете самостоятельно.\n",
    "Вам доступен датасет с заведениями общественного питания Москвы, составленный на основе данных сервисов Яндекс Карты и Яндекс Бизнес на лето 2022 года. Информация, размещённая в сервисе Яндекс Бизнес, могла быть добавлена пользователями или найдена в общедоступных источниках. Она носит исключительно справочный характер.\n"
   ]
  },
  {
   "cell_type": "markdown",
   "metadata": {},
   "source": [
    "Описание данных\n",
    "\n",
    "\n",
    "Файл moscow_places.csv:\n",
    "name — название заведения;\n",
    "address — адрес заведения;\n",
    "category — категория заведения, например «кафе», «пиццерия» или «кофейня»;\n",
    "hours — информация о днях и часах работы;\n",
    "lat — широта географической точки, в которой находится заведение;\n",
    "lng — долгота географической точки, в которой находится заведение;\n",
    "rating — рейтинг заведения по оценкам пользователей в Яндекс Картах (высшая оценка — 5.0);\n",
    "price — категория цен в заведении, например «средние», «ниже среднего», «выше среднего» и так далее;\n",
    "avg_bill — строка, которая хранит среднюю стоимость заказа в виде диапазона, например:\n",
    "«Средний счёт: 1000–1500 ₽»;\n",
    "«Цена чашки капучино: 130–220 ₽»;\n",
    "«Цена бокала пива: 400–600 ₽».\n",
    "и так далее;\n",
    "middle_avg_bill — число с оценкой среднего чека, которое указано только для значений из столбца avg_bill, начинающихся с подстроки «Средний счёт»:\n",
    "Если в строке указан ценовой диапазон из двух значений, в столбец войдёт медиана этих двух значений.\n",
    "Если в строке указано одно число — цена без диапазона, то в столбец войдёт это число.\n",
    "Если значения нет или оно не начинается с подстроки «Средний счёт», то в столбец ничего не войдёт.\n",
    "middle_coffee_cup — число с оценкой одной чашки капучино, которое указано только для значений из столбца avg_bill, начинающихся с подстроки «Цена одной чашки капучино»:\n",
    "Если в строке указан ценовой диапазон из двух значений, в столбец войдёт медиана этих двух значений.\n",
    "Если в строке указано одно число — цена без диапазона, то в столбец войдёт это число.\n",
    "Если значения нет или оно не начинается с подстроки «Цена одной чашки капучино», то в столбец ничего не войдёт.\n",
    "chain — число, выраженное 0 или 1, которое показывает, является ли заведение сетевым (для маленьких сетей могут встречаться ошибки):\n",
    "0 — заведение не является сетевым\n",
    "1 — заведение является сетевым\n",
    "district — административный район, в котором находится заведение, например Центральный административный округ;\n",
    "seats — количество посадочных мест."
   ]
  },
  {
   "cell_type": "markdown",
   "metadata": {},
   "source": [
    "# Шаг 1. Загрузим данные и изучим общую информацию"
   ]
  },
  {
   "cell_type": "code",
   "execution_count": 6,
   "metadata": {},
   "outputs": [],
   "source": [
    "import pandas as pd\n",
    "import re\n",
    "import seaborn as sns\n",
    "import matplotlib.pyplot as plt\n",
    "import plotly.express as px\n",
    "import numpy as np\n",
    "from plotly import graph_objects as go"
   ]
  },
  {
   "cell_type": "code",
   "execution_count": 7,
   "metadata": {},
   "outputs": [
    {
     "name": "stdout",
     "output_type": "stream",
     "text": [
      "<class 'pandas.core.frame.DataFrame'>\n",
      "RangeIndex: 8406 entries, 0 to 8405\n",
      "Data columns (total 14 columns):\n",
      " #   Column             Non-Null Count  Dtype  \n",
      "---  ------             --------------  -----  \n",
      " 0   name               8406 non-null   object \n",
      " 1   category           8406 non-null   object \n",
      " 2   address            8406 non-null   object \n",
      " 3   district           8406 non-null   object \n",
      " 4   hours              7870 non-null   object \n",
      " 5   lat                8406 non-null   float64\n",
      " 6   lng                8406 non-null   float64\n",
      " 7   rating             8406 non-null   float64\n",
      " 8   price              3315 non-null   object \n",
      " 9   avg_bill           3816 non-null   object \n",
      " 10  middle_avg_bill    3149 non-null   float64\n",
      " 11  middle_coffee_cup  535 non-null    float64\n",
      " 12  chain              8406 non-null   int64  \n",
      " 13  seats              4795 non-null   float64\n",
      "dtypes: float64(6), int64(1), object(7)\n",
      "memory usage: 919.5+ KB\n"
     ]
    }
   ],
   "source": [
    "data = pd.read_csv('/datasets/moscow_places.csv')\n",
    "data.info()"
   ]
  },
  {
   "cell_type": "code",
   "execution_count": 8,
   "metadata": {},
   "outputs": [
    {
     "data": {
      "text/html": [
       "<div>\n",
       "<style scoped>\n",
       "    .dataframe tbody tr th:only-of-type {\n",
       "        vertical-align: middle;\n",
       "    }\n",
       "\n",
       "    .dataframe tbody tr th {\n",
       "        vertical-align: top;\n",
       "    }\n",
       "\n",
       "    .dataframe thead th {\n",
       "        text-align: right;\n",
       "    }\n",
       "</style>\n",
       "<table border=\"1\" class=\"dataframe\">\n",
       "  <thead>\n",
       "    <tr style=\"text-align: right;\">\n",
       "      <th></th>\n",
       "      <th>name</th>\n",
       "      <th>category</th>\n",
       "      <th>address</th>\n",
       "      <th>district</th>\n",
       "      <th>hours</th>\n",
       "      <th>lat</th>\n",
       "      <th>lng</th>\n",
       "      <th>rating</th>\n",
       "      <th>price</th>\n",
       "      <th>avg_bill</th>\n",
       "      <th>middle_avg_bill</th>\n",
       "      <th>middle_coffee_cup</th>\n",
       "      <th>chain</th>\n",
       "      <th>seats</th>\n",
       "    </tr>\n",
       "  </thead>\n",
       "  <tbody>\n",
       "    <tr>\n",
       "      <th>0</th>\n",
       "      <td>WoWфли</td>\n",
       "      <td>кафе</td>\n",
       "      <td>Москва, улица Дыбенко, 7/1</td>\n",
       "      <td>Северный административный округ</td>\n",
       "      <td>ежедневно, 10:00–22:00</td>\n",
       "      <td>55.878494</td>\n",
       "      <td>37.478860</td>\n",
       "      <td>5.0</td>\n",
       "      <td>NaN</td>\n",
       "      <td>NaN</td>\n",
       "      <td>NaN</td>\n",
       "      <td>NaN</td>\n",
       "      <td>0</td>\n",
       "      <td>NaN</td>\n",
       "    </tr>\n",
       "    <tr>\n",
       "      <th>1</th>\n",
       "      <td>Четыре комнаты</td>\n",
       "      <td>ресторан</td>\n",
       "      <td>Москва, улица Дыбенко, 36, корп. 1</td>\n",
       "      <td>Северный административный округ</td>\n",
       "      <td>ежедневно, 10:00–22:00</td>\n",
       "      <td>55.875801</td>\n",
       "      <td>37.484479</td>\n",
       "      <td>4.5</td>\n",
       "      <td>выше среднего</td>\n",
       "      <td>Средний счёт:1500–1600 ₽</td>\n",
       "      <td>1550.0</td>\n",
       "      <td>NaN</td>\n",
       "      <td>0</td>\n",
       "      <td>4.0</td>\n",
       "    </tr>\n",
       "    <tr>\n",
       "      <th>2</th>\n",
       "      <td>Хазри</td>\n",
       "      <td>кафе</td>\n",
       "      <td>Москва, Клязьминская улица, 15</td>\n",
       "      <td>Северный административный округ</td>\n",
       "      <td>пн-чт 11:00–02:00; пт,сб 11:00–05:00; вс 11:00...</td>\n",
       "      <td>55.889146</td>\n",
       "      <td>37.525901</td>\n",
       "      <td>4.6</td>\n",
       "      <td>средние</td>\n",
       "      <td>Средний счёт:от 1000 ₽</td>\n",
       "      <td>1000.0</td>\n",
       "      <td>NaN</td>\n",
       "      <td>0</td>\n",
       "      <td>45.0</td>\n",
       "    </tr>\n",
       "    <tr>\n",
       "      <th>3</th>\n",
       "      <td>Dormouse Coffee Shop</td>\n",
       "      <td>кофейня</td>\n",
       "      <td>Москва, улица Маршала Федоренко, 12</td>\n",
       "      <td>Северный административный округ</td>\n",
       "      <td>ежедневно, 09:00–22:00</td>\n",
       "      <td>55.881608</td>\n",
       "      <td>37.488860</td>\n",
       "      <td>5.0</td>\n",
       "      <td>NaN</td>\n",
       "      <td>Цена чашки капучино:155–185 ₽</td>\n",
       "      <td>NaN</td>\n",
       "      <td>170.0</td>\n",
       "      <td>0</td>\n",
       "      <td>NaN</td>\n",
       "    </tr>\n",
       "    <tr>\n",
       "      <th>4</th>\n",
       "      <td>Иль Марко</td>\n",
       "      <td>пиццерия</td>\n",
       "      <td>Москва, Правобережная улица, 1Б</td>\n",
       "      <td>Северный административный округ</td>\n",
       "      <td>ежедневно, 10:00–22:00</td>\n",
       "      <td>55.881166</td>\n",
       "      <td>37.449357</td>\n",
       "      <td>5.0</td>\n",
       "      <td>средние</td>\n",
       "      <td>Средний счёт:400–600 ₽</td>\n",
       "      <td>500.0</td>\n",
       "      <td>NaN</td>\n",
       "      <td>1</td>\n",
       "      <td>148.0</td>\n",
       "    </tr>\n",
       "    <tr>\n",
       "      <th>...</th>\n",
       "      <td>...</td>\n",
       "      <td>...</td>\n",
       "      <td>...</td>\n",
       "      <td>...</td>\n",
       "      <td>...</td>\n",
       "      <td>...</td>\n",
       "      <td>...</td>\n",
       "      <td>...</td>\n",
       "      <td>...</td>\n",
       "      <td>...</td>\n",
       "      <td>...</td>\n",
       "      <td>...</td>\n",
       "      <td>...</td>\n",
       "      <td>...</td>\n",
       "    </tr>\n",
       "    <tr>\n",
       "      <th>8401</th>\n",
       "      <td>Суши Мания</td>\n",
       "      <td>кафе</td>\n",
       "      <td>Москва, Профсоюзная улица, 56</td>\n",
       "      <td>Юго-Западный административный округ</td>\n",
       "      <td>ежедневно, 09:00–02:00</td>\n",
       "      <td>55.670021</td>\n",
       "      <td>37.552480</td>\n",
       "      <td>4.4</td>\n",
       "      <td>NaN</td>\n",
       "      <td>NaN</td>\n",
       "      <td>NaN</td>\n",
       "      <td>NaN</td>\n",
       "      <td>0</td>\n",
       "      <td>86.0</td>\n",
       "    </tr>\n",
       "    <tr>\n",
       "      <th>8402</th>\n",
       "      <td>Миславнес</td>\n",
       "      <td>кафе</td>\n",
       "      <td>Москва, Пролетарский проспект, 19, корп. 1</td>\n",
       "      <td>Южный административный округ</td>\n",
       "      <td>ежедневно, 08:00–22:00</td>\n",
       "      <td>55.640875</td>\n",
       "      <td>37.656553</td>\n",
       "      <td>4.8</td>\n",
       "      <td>NaN</td>\n",
       "      <td>NaN</td>\n",
       "      <td>NaN</td>\n",
       "      <td>NaN</td>\n",
       "      <td>0</td>\n",
       "      <td>150.0</td>\n",
       "    </tr>\n",
       "    <tr>\n",
       "      <th>8403</th>\n",
       "      <td>Самовар</td>\n",
       "      <td>кафе</td>\n",
       "      <td>Москва, Люблинская улица, 112А, стр. 1</td>\n",
       "      <td>Юго-Восточный административный округ</td>\n",
       "      <td>ежедневно, круглосуточно</td>\n",
       "      <td>55.648859</td>\n",
       "      <td>37.743219</td>\n",
       "      <td>3.9</td>\n",
       "      <td>NaN</td>\n",
       "      <td>Средний счёт:от 150 ₽</td>\n",
       "      <td>150.0</td>\n",
       "      <td>NaN</td>\n",
       "      <td>0</td>\n",
       "      <td>150.0</td>\n",
       "    </tr>\n",
       "    <tr>\n",
       "      <th>8404</th>\n",
       "      <td>Чайхана Sabr</td>\n",
       "      <td>кафе</td>\n",
       "      <td>Москва, Люблинская улица, 112А, стр. 1</td>\n",
       "      <td>Юго-Восточный административный округ</td>\n",
       "      <td>ежедневно, круглосуточно</td>\n",
       "      <td>55.648849</td>\n",
       "      <td>37.743222</td>\n",
       "      <td>4.2</td>\n",
       "      <td>NaN</td>\n",
       "      <td>NaN</td>\n",
       "      <td>NaN</td>\n",
       "      <td>NaN</td>\n",
       "      <td>1</td>\n",
       "      <td>150.0</td>\n",
       "    </tr>\n",
       "    <tr>\n",
       "      <th>8405</th>\n",
       "      <td>Kebab Time</td>\n",
       "      <td>кафе</td>\n",
       "      <td>Москва, Россошанский проезд, 6</td>\n",
       "      <td>Южный административный округ</td>\n",
       "      <td>ежедневно, круглосуточно</td>\n",
       "      <td>55.598229</td>\n",
       "      <td>37.604702</td>\n",
       "      <td>3.9</td>\n",
       "      <td>NaN</td>\n",
       "      <td>NaN</td>\n",
       "      <td>NaN</td>\n",
       "      <td>NaN</td>\n",
       "      <td>0</td>\n",
       "      <td>12.0</td>\n",
       "    </tr>\n",
       "  </tbody>\n",
       "</table>\n",
       "<p>8406 rows × 14 columns</p>\n",
       "</div>"
      ],
      "text/plain": [
       "                      name  category  \\\n",
       "0                   WoWфли      кафе   \n",
       "1           Четыре комнаты  ресторан   \n",
       "2                    Хазри      кафе   \n",
       "3     Dormouse Coffee Shop   кофейня   \n",
       "4                Иль Марко  пиццерия   \n",
       "...                    ...       ...   \n",
       "8401            Суши Мания      кафе   \n",
       "8402             Миславнес      кафе   \n",
       "8403               Самовар      кафе   \n",
       "8404          Чайхана Sabr      кафе   \n",
       "8405            Kebab Time      кафе   \n",
       "\n",
       "                                         address  \\\n",
       "0                     Москва, улица Дыбенко, 7/1   \n",
       "1             Москва, улица Дыбенко, 36, корп. 1   \n",
       "2                 Москва, Клязьминская улица, 15   \n",
       "3            Москва, улица Маршала Федоренко, 12   \n",
       "4                Москва, Правобережная улица, 1Б   \n",
       "...                                          ...   \n",
       "8401               Москва, Профсоюзная улица, 56   \n",
       "8402  Москва, Пролетарский проспект, 19, корп. 1   \n",
       "8403      Москва, Люблинская улица, 112А, стр. 1   \n",
       "8404      Москва, Люблинская улица, 112А, стр. 1   \n",
       "8405              Москва, Россошанский проезд, 6   \n",
       "\n",
       "                                  district  \\\n",
       "0          Северный административный округ   \n",
       "1          Северный административный округ   \n",
       "2          Северный административный округ   \n",
       "3          Северный административный округ   \n",
       "4          Северный административный округ   \n",
       "...                                    ...   \n",
       "8401   Юго-Западный административный округ   \n",
       "8402          Южный административный округ   \n",
       "8403  Юго-Восточный административный округ   \n",
       "8404  Юго-Восточный административный округ   \n",
       "8405          Южный административный округ   \n",
       "\n",
       "                                                  hours        lat        lng  \\\n",
       "0                                ежедневно, 10:00–22:00  55.878494  37.478860   \n",
       "1                                ежедневно, 10:00–22:00  55.875801  37.484479   \n",
       "2     пн-чт 11:00–02:00; пт,сб 11:00–05:00; вс 11:00...  55.889146  37.525901   \n",
       "3                                ежедневно, 09:00–22:00  55.881608  37.488860   \n",
       "4                                ежедневно, 10:00–22:00  55.881166  37.449357   \n",
       "...                                                 ...        ...        ...   \n",
       "8401                             ежедневно, 09:00–02:00  55.670021  37.552480   \n",
       "8402                             ежедневно, 08:00–22:00  55.640875  37.656553   \n",
       "8403                           ежедневно, круглосуточно  55.648859  37.743219   \n",
       "8404                           ежедневно, круглосуточно  55.648849  37.743222   \n",
       "8405                           ежедневно, круглосуточно  55.598229  37.604702   \n",
       "\n",
       "      rating          price                       avg_bill  middle_avg_bill  \\\n",
       "0        5.0            NaN                            NaN              NaN   \n",
       "1        4.5  выше среднего       Средний счёт:1500–1600 ₽           1550.0   \n",
       "2        4.6        средние         Средний счёт:от 1000 ₽           1000.0   \n",
       "3        5.0            NaN  Цена чашки капучино:155–185 ₽              NaN   \n",
       "4        5.0        средние         Средний счёт:400–600 ₽            500.0   \n",
       "...      ...            ...                            ...              ...   \n",
       "8401     4.4            NaN                            NaN              NaN   \n",
       "8402     4.8            NaN                            NaN              NaN   \n",
       "8403     3.9            NaN          Средний счёт:от 150 ₽            150.0   \n",
       "8404     4.2            NaN                            NaN              NaN   \n",
       "8405     3.9            NaN                            NaN              NaN   \n",
       "\n",
       "      middle_coffee_cup  chain  seats  \n",
       "0                   NaN      0    NaN  \n",
       "1                   NaN      0    4.0  \n",
       "2                   NaN      0   45.0  \n",
       "3                 170.0      0    NaN  \n",
       "4                   NaN      1  148.0  \n",
       "...                 ...    ...    ...  \n",
       "8401                NaN      0   86.0  \n",
       "8402                NaN      0  150.0  \n",
       "8403                NaN      0  150.0  \n",
       "8404                NaN      1  150.0  \n",
       "8405                NaN      0   12.0  \n",
       "\n",
       "[8406 rows x 14 columns]"
      ]
     },
     "execution_count": 8,
     "metadata": {},
     "output_type": "execute_result"
    }
   ],
   "source": [
    "data"
   ]
  },
  {
   "cell_type": "markdown",
   "metadata": {},
   "source": [
    "Всего 8406 заведений. "
   ]
  },
  {
   "cell_type": "markdown",
   "metadata": {},
   "source": [
    "Всего 8406 заведений представлено. "
   ]
  },
  {
   "cell_type": "markdown",
   "metadata": {},
   "source": [
    "<div class=\"alert alert-success\">\n",
    "<h2> Комментарий ревьюера <a class=\"tocSkip\"> </h2>\n",
    "\n",
    "<b>Отлично!✅:</b> Молодец, ты отлично познакомилась с данными!\n",
    "</div>"
   ]
  },
  {
   "cell_type": "markdown",
   "metadata": {},
   "source": [
    "# Шаг 2. Выполним предобработку данных"
   ]
  },
  {
   "cell_type": "markdown",
   "metadata": {},
   "source": [
    "Проверим данные на пропуски и дубликаты."
   ]
  },
  {
   "cell_type": "code",
   "execution_count": 9,
   "metadata": {
    "scrolled": true
   },
   "outputs": [
    {
     "data": {
      "text/plain": [
       "name                    0\n",
       "category                0\n",
       "address                 0\n",
       "district                0\n",
       "hours                 536\n",
       "lat                     0\n",
       "lng                     0\n",
       "rating                  0\n",
       "price                5091\n",
       "avg_bill             4590\n",
       "middle_avg_bill      5257\n",
       "middle_coffee_cup    7871\n",
       "chain                   0\n",
       "seats                3611\n",
       "dtype: int64"
      ]
     },
     "execution_count": 9,
     "metadata": {},
     "output_type": "execute_result"
    }
   ],
   "source": [
    "data.isnull().sum()"
   ]
  },
  {
   "cell_type": "markdown",
   "metadata": {},
   "source": [
    "В данных есть пропуски. Пропущены данные в столбце hours(информация о днях и часах работы заведения). Скорее всего либо нет данных или данные искажены, либо кафе уже не работает. Также нет информации в ценном сегменте и в количесте посадочных мест. У больше половины данных пропущены цены. Оставим пропуски неизменными. "
   ]
  },
  {
   "cell_type": "markdown",
   "metadata": {},
   "source": [
    "<div class=\"alert alert-success\">\n",
    "<h2> Комментарий ревьюера <a class=\"tocSkip\"> </h2>\n",
    "\n",
    "<b>Отлично!✅:</b> Верное решение! Удаление или заполнение пропусков исказит исследование.\n",
    "</div>"
   ]
  },
  {
   "cell_type": "code",
   "execution_count": 10,
   "metadata": {},
   "outputs": [
    {
     "data": {
      "text/plain": [
       "0"
      ]
     },
     "execution_count": 10,
     "metadata": {},
     "output_type": "execute_result"
    }
   ],
   "source": [
    "data.duplicated().sum()"
   ]
  },
  {
   "cell_type": "markdown",
   "metadata": {},
   "source": [
    "Дубликатов нет."
   ]
  },
  {
   "cell_type": "markdown",
   "metadata": {},
   "source": [
    "<div class=\"alert alert-success\">\n",
    "<h2> Комментарий ревьюера <a class=\"tocSkip\"> </h2>\n",
    "\n",
    "<b>Отлично!✅:</b> Датасет на наличие явных дублей проверен верно!\n",
    "</div>"
   ]
  },
  {
   "cell_type": "markdown",
   "metadata": {},
   "source": [
    "Проверим на неявные дубликаты с учётом регистра."
   ]
  },
  {
   "cell_type": "code",
   "execution_count": 11,
   "metadata": {},
   "outputs": [],
   "source": [
    "data['address'] = data['address'].str.lower()\n",
    "data['name']  = data['name'].str.lower()"
   ]
  },
  {
   "cell_type": "code",
   "execution_count": 12,
   "metadata": {},
   "outputs": [
    {
     "data": {
      "text/plain": [
       "0"
      ]
     },
     "execution_count": 12,
     "metadata": {},
     "output_type": "execute_result"
    }
   ],
   "source": [
    "data.duplicated().sum()"
   ]
  },
  {
   "cell_type": "markdown",
   "metadata": {},
   "source": [
    "Неявных дубликатов нет."
   ]
  },
  {
   "cell_type": "markdown",
   "metadata": {},
   "source": [
    "<br/>\n",
    "<div class=\"alert alert-block alert-danger\">\n",
    "<h2> Комментарий ревьюера <a class=\"tocSkip\"></h2>\n",
    "\n",
    "    \n",
    "<b>Необходимо исправить❌:</b>\n",
    "Необходимо также рассмотреть неявные дубли.  Неявные дубликаты могут появиться в случаях, когда данные собирались из разных источников или в системе были какие-то сбои при логировании.\n",
    "</div>"
   ]
  },
  {
   "cell_type": "markdown",
   "metadata": {},
   "source": [
    "<div class=\"alert alert-success\">\n",
    "<h2> Комментарий ревьюера v2<a class=\"tocSkip\"> </h2>\n",
    "\n",
    "<b>Отлично!✅:</b> Проверка выполнена!\n",
    "</div>"
   ]
  },
  {
   "cell_type": "code",
   "execution_count": 13,
   "metadata": {},
   "outputs": [],
   "source": [
    "words = ['улица','ул','переулок','шоссе','проспект','площадь','проезд',\n",
    "         'село','аллея','бульвар','набережная','тупик','линия']\n",
    "\n",
    "str_pat = r\".*,\\s*\\b([^,]*?(?:{})\\b[^,]*)[,$]+\".format(\"|\".join(words))\n",
    "data['street'] = data['address'].str.extract(str_pat, flags=re.I)\n"
   ]
  },
  {
   "cell_type": "code",
   "execution_count": 14,
   "metadata": {},
   "outputs": [],
   "source": [
    "data['is_24/7'] = data['hours']. str.contains('ежедневно, круглосуточно')"
   ]
  },
  {
   "cell_type": "code",
   "execution_count": 15,
   "metadata": {},
   "outputs": [
    {
     "data": {
      "text/html": [
       "<div>\n",
       "<style scoped>\n",
       "    .dataframe tbody tr th:only-of-type {\n",
       "        vertical-align: middle;\n",
       "    }\n",
       "\n",
       "    .dataframe tbody tr th {\n",
       "        vertical-align: top;\n",
       "    }\n",
       "\n",
       "    .dataframe thead th {\n",
       "        text-align: right;\n",
       "    }\n",
       "</style>\n",
       "<table border=\"1\" class=\"dataframe\">\n",
       "  <thead>\n",
       "    <tr style=\"text-align: right;\">\n",
       "      <th></th>\n",
       "      <th>name</th>\n",
       "      <th>category</th>\n",
       "      <th>address</th>\n",
       "      <th>district</th>\n",
       "      <th>hours</th>\n",
       "      <th>lat</th>\n",
       "      <th>lng</th>\n",
       "      <th>rating</th>\n",
       "      <th>price</th>\n",
       "      <th>avg_bill</th>\n",
       "      <th>middle_avg_bill</th>\n",
       "      <th>middle_coffee_cup</th>\n",
       "      <th>chain</th>\n",
       "      <th>seats</th>\n",
       "      <th>street</th>\n",
       "      <th>is_24/7</th>\n",
       "    </tr>\n",
       "  </thead>\n",
       "  <tbody>\n",
       "    <tr>\n",
       "      <th>0</th>\n",
       "      <td>wowфли</td>\n",
       "      <td>кафе</td>\n",
       "      <td>москва, улица дыбенко, 7/1</td>\n",
       "      <td>Северный административный округ</td>\n",
       "      <td>ежедневно, 10:00–22:00</td>\n",
       "      <td>55.878494</td>\n",
       "      <td>37.478860</td>\n",
       "      <td>5.0</td>\n",
       "      <td>NaN</td>\n",
       "      <td>NaN</td>\n",
       "      <td>NaN</td>\n",
       "      <td>NaN</td>\n",
       "      <td>0</td>\n",
       "      <td>NaN</td>\n",
       "      <td>улица дыбенко</td>\n",
       "      <td>False</td>\n",
       "    </tr>\n",
       "    <tr>\n",
       "      <th>1</th>\n",
       "      <td>четыре комнаты</td>\n",
       "      <td>ресторан</td>\n",
       "      <td>москва, улица дыбенко, 36, корп. 1</td>\n",
       "      <td>Северный административный округ</td>\n",
       "      <td>ежедневно, 10:00–22:00</td>\n",
       "      <td>55.875801</td>\n",
       "      <td>37.484479</td>\n",
       "      <td>4.5</td>\n",
       "      <td>выше среднего</td>\n",
       "      <td>Средний счёт:1500–1600 ₽</td>\n",
       "      <td>1550.0</td>\n",
       "      <td>NaN</td>\n",
       "      <td>0</td>\n",
       "      <td>4.0</td>\n",
       "      <td>улица дыбенко</td>\n",
       "      <td>False</td>\n",
       "    </tr>\n",
       "    <tr>\n",
       "      <th>2</th>\n",
       "      <td>хазри</td>\n",
       "      <td>кафе</td>\n",
       "      <td>москва, клязьминская улица, 15</td>\n",
       "      <td>Северный административный округ</td>\n",
       "      <td>пн-чт 11:00–02:00; пт,сб 11:00–05:00; вс 11:00...</td>\n",
       "      <td>55.889146</td>\n",
       "      <td>37.525901</td>\n",
       "      <td>4.6</td>\n",
       "      <td>средние</td>\n",
       "      <td>Средний счёт:от 1000 ₽</td>\n",
       "      <td>1000.0</td>\n",
       "      <td>NaN</td>\n",
       "      <td>0</td>\n",
       "      <td>45.0</td>\n",
       "      <td>клязьминская улица</td>\n",
       "      <td>False</td>\n",
       "    </tr>\n",
       "    <tr>\n",
       "      <th>3</th>\n",
       "      <td>dormouse coffee shop</td>\n",
       "      <td>кофейня</td>\n",
       "      <td>москва, улица маршала федоренко, 12</td>\n",
       "      <td>Северный административный округ</td>\n",
       "      <td>ежедневно, 09:00–22:00</td>\n",
       "      <td>55.881608</td>\n",
       "      <td>37.488860</td>\n",
       "      <td>5.0</td>\n",
       "      <td>NaN</td>\n",
       "      <td>Цена чашки капучино:155–185 ₽</td>\n",
       "      <td>NaN</td>\n",
       "      <td>170.0</td>\n",
       "      <td>0</td>\n",
       "      <td>NaN</td>\n",
       "      <td>улица маршала федоренко</td>\n",
       "      <td>False</td>\n",
       "    </tr>\n",
       "    <tr>\n",
       "      <th>4</th>\n",
       "      <td>иль марко</td>\n",
       "      <td>пиццерия</td>\n",
       "      <td>москва, правобережная улица, 1б</td>\n",
       "      <td>Северный административный округ</td>\n",
       "      <td>ежедневно, 10:00–22:00</td>\n",
       "      <td>55.881166</td>\n",
       "      <td>37.449357</td>\n",
       "      <td>5.0</td>\n",
       "      <td>средние</td>\n",
       "      <td>Средний счёт:400–600 ₽</td>\n",
       "      <td>500.0</td>\n",
       "      <td>NaN</td>\n",
       "      <td>1</td>\n",
       "      <td>148.0</td>\n",
       "      <td>правобережная улица</td>\n",
       "      <td>False</td>\n",
       "    </tr>\n",
       "    <tr>\n",
       "      <th>5</th>\n",
       "      <td>sergio pizza</td>\n",
       "      <td>пиццерия</td>\n",
       "      <td>москва, ижорская улица, вл8б</td>\n",
       "      <td>Северный административный округ</td>\n",
       "      <td>ежедневно, 10:00–23:00</td>\n",
       "      <td>55.888010</td>\n",
       "      <td>37.509573</td>\n",
       "      <td>4.6</td>\n",
       "      <td>средние</td>\n",
       "      <td>NaN</td>\n",
       "      <td>NaN</td>\n",
       "      <td>NaN</td>\n",
       "      <td>0</td>\n",
       "      <td>NaN</td>\n",
       "      <td>ижорская улица</td>\n",
       "      <td>False</td>\n",
       "    </tr>\n",
       "    <tr>\n",
       "      <th>6</th>\n",
       "      <td>огни города</td>\n",
       "      <td>бар,паб</td>\n",
       "      <td>москва, клязьминская улица, 9, стр. 3</td>\n",
       "      <td>Северный административный округ</td>\n",
       "      <td>пн 15:00–04:00; вт-вс 15:00–05:00</td>\n",
       "      <td>55.890752</td>\n",
       "      <td>37.524653</td>\n",
       "      <td>4.4</td>\n",
       "      <td>средние</td>\n",
       "      <td>Средний счёт:199 ₽</td>\n",
       "      <td>199.0</td>\n",
       "      <td>NaN</td>\n",
       "      <td>0</td>\n",
       "      <td>45.0</td>\n",
       "      <td>клязьминская улица</td>\n",
       "      <td>False</td>\n",
       "    </tr>\n",
       "    <tr>\n",
       "      <th>7</th>\n",
       "      <td>mr. уголёк</td>\n",
       "      <td>быстрое питание</td>\n",
       "      <td>москва, клязьминская улица, 9, стр. 3</td>\n",
       "      <td>Северный административный округ</td>\n",
       "      <td>пн-чт 10:00–22:00; пт,сб 10:00–23:00; вс 10:00...</td>\n",
       "      <td>55.890636</td>\n",
       "      <td>37.524303</td>\n",
       "      <td>4.7</td>\n",
       "      <td>средние</td>\n",
       "      <td>Средний счёт:200–300 ₽</td>\n",
       "      <td>250.0</td>\n",
       "      <td>NaN</td>\n",
       "      <td>0</td>\n",
       "      <td>45.0</td>\n",
       "      <td>клязьминская улица</td>\n",
       "      <td>False</td>\n",
       "    </tr>\n",
       "    <tr>\n",
       "      <th>8</th>\n",
       "      <td>donna maria</td>\n",
       "      <td>ресторан</td>\n",
       "      <td>москва, дмитровское шоссе, 107, корп. 4</td>\n",
       "      <td>Северный административный округ</td>\n",
       "      <td>ежедневно, 10:00–22:00</td>\n",
       "      <td>55.880045</td>\n",
       "      <td>37.539006</td>\n",
       "      <td>4.8</td>\n",
       "      <td>средние</td>\n",
       "      <td>Средний счёт:от 500 ₽</td>\n",
       "      <td>500.0</td>\n",
       "      <td>NaN</td>\n",
       "      <td>0</td>\n",
       "      <td>79.0</td>\n",
       "      <td>дмитровское шоссе</td>\n",
       "      <td>False</td>\n",
       "    </tr>\n",
       "    <tr>\n",
       "      <th>9</th>\n",
       "      <td>готика</td>\n",
       "      <td>кафе</td>\n",
       "      <td>москва, ангарская улица, 39</td>\n",
       "      <td>Северный административный округ</td>\n",
       "      <td>ежедневно, 12:00–00:00</td>\n",
       "      <td>55.879038</td>\n",
       "      <td>37.524487</td>\n",
       "      <td>4.3</td>\n",
       "      <td>средние</td>\n",
       "      <td>Средний счёт:1000–1200 ₽</td>\n",
       "      <td>1100.0</td>\n",
       "      <td>NaN</td>\n",
       "      <td>0</td>\n",
       "      <td>65.0</td>\n",
       "      <td>ангарская улица</td>\n",
       "      <td>False</td>\n",
       "    </tr>\n",
       "    <tr>\n",
       "      <th>10</th>\n",
       "      <td>great room bar</td>\n",
       "      <td>бар,паб</td>\n",
       "      <td>москва, левобережная улица, 12</td>\n",
       "      <td>Северный административный округ</td>\n",
       "      <td>ежедневно, круглосуточно</td>\n",
       "      <td>55.877832</td>\n",
       "      <td>37.469171</td>\n",
       "      <td>4.5</td>\n",
       "      <td>средние</td>\n",
       "      <td>Цена бокала пива:250–350 ₽</td>\n",
       "      <td>NaN</td>\n",
       "      <td>NaN</td>\n",
       "      <td>0</td>\n",
       "      <td>102.0</td>\n",
       "      <td>левобережная улица</td>\n",
       "      <td>True</td>\n",
       "    </tr>\n",
       "    <tr>\n",
       "      <th>11</th>\n",
       "      <td>шашлык шефф</td>\n",
       "      <td>кафе</td>\n",
       "      <td>москва, улица маршала федоренко, 10с1</td>\n",
       "      <td>Северный административный округ</td>\n",
       "      <td>ежедневно, 10:00–21:00</td>\n",
       "      <td>55.881770</td>\n",
       "      <td>37.492362</td>\n",
       "      <td>4.9</td>\n",
       "      <td>NaN</td>\n",
       "      <td>NaN</td>\n",
       "      <td>NaN</td>\n",
       "      <td>NaN</td>\n",
       "      <td>0</td>\n",
       "      <td>NaN</td>\n",
       "      <td>улица маршала федоренко</td>\n",
       "      <td>False</td>\n",
       "    </tr>\n",
       "    <tr>\n",
       "      <th>12</th>\n",
       "      <td>заправка</td>\n",
       "      <td>кафе</td>\n",
       "      <td>москва, мкад, 80-й километр, 1</td>\n",
       "      <td>Северный административный округ</td>\n",
       "      <td>вт-сб 09:00–18:00</td>\n",
       "      <td>55.899938</td>\n",
       "      <td>37.517958</td>\n",
       "      <td>4.3</td>\n",
       "      <td>средние</td>\n",
       "      <td>Средний счёт:330 ₽</td>\n",
       "      <td>330.0</td>\n",
       "      <td>NaN</td>\n",
       "      <td>0</td>\n",
       "      <td>NaN</td>\n",
       "      <td>NaN</td>\n",
       "      <td>False</td>\n",
       "    </tr>\n",
       "    <tr>\n",
       "      <th>13</th>\n",
       "      <td>буханка</td>\n",
       "      <td>булочная</td>\n",
       "      <td>москва, базовская улица, 15, корп. 1</td>\n",
       "      <td>Северный административный округ</td>\n",
       "      <td>ежедневно, 08:00–22:00</td>\n",
       "      <td>55.877007</td>\n",
       "      <td>37.504980</td>\n",
       "      <td>4.8</td>\n",
       "      <td>NaN</td>\n",
       "      <td>NaN</td>\n",
       "      <td>NaN</td>\n",
       "      <td>NaN</td>\n",
       "      <td>1</td>\n",
       "      <td>180.0</td>\n",
       "      <td>базовская улица</td>\n",
       "      <td>False</td>\n",
       "    </tr>\n",
       "    <tr>\n",
       "      <th>14</th>\n",
       "      <td>у сильвы</td>\n",
       "      <td>бар,паб</td>\n",
       "      <td>москва, ангарская улица, 42с1</td>\n",
       "      <td>Северный административный округ</td>\n",
       "      <td>ежедневно, 13:00–00:00</td>\n",
       "      <td>55.885528</td>\n",
       "      <td>37.528371</td>\n",
       "      <td>4.2</td>\n",
       "      <td>выше среднего</td>\n",
       "      <td>Средний счёт:1500 ₽</td>\n",
       "      <td>1500.0</td>\n",
       "      <td>NaN</td>\n",
       "      <td>0</td>\n",
       "      <td>NaN</td>\n",
       "      <td>ангарская улица</td>\n",
       "      <td>False</td>\n",
       "    </tr>\n",
       "  </tbody>\n",
       "</table>\n",
       "</div>"
      ],
      "text/plain": [
       "                    name         category  \\\n",
       "0                 wowфли             кафе   \n",
       "1         четыре комнаты         ресторан   \n",
       "2                  хазри             кафе   \n",
       "3   dormouse coffee shop          кофейня   \n",
       "4              иль марко         пиццерия   \n",
       "5           sergio pizza         пиццерия   \n",
       "6            огни города          бар,паб   \n",
       "7             mr. уголёк  быстрое питание   \n",
       "8            donna maria         ресторан   \n",
       "9                 готика             кафе   \n",
       "10        great room bar          бар,паб   \n",
       "11           шашлык шефф             кафе   \n",
       "12              заправка             кафе   \n",
       "13               буханка         булочная   \n",
       "14              у сильвы          бар,паб   \n",
       "\n",
       "                                    address                         district  \\\n",
       "0                москва, улица дыбенко, 7/1  Северный административный округ   \n",
       "1        москва, улица дыбенко, 36, корп. 1  Северный административный округ   \n",
       "2            москва, клязьминская улица, 15  Северный административный округ   \n",
       "3       москва, улица маршала федоренко, 12  Северный административный округ   \n",
       "4           москва, правобережная улица, 1б  Северный административный округ   \n",
       "5              москва, ижорская улица, вл8б  Северный административный округ   \n",
       "6     москва, клязьминская улица, 9, стр. 3  Северный административный округ   \n",
       "7     москва, клязьминская улица, 9, стр. 3  Северный административный округ   \n",
       "8   москва, дмитровское шоссе, 107, корп. 4  Северный административный округ   \n",
       "9               москва, ангарская улица, 39  Северный административный округ   \n",
       "10           москва, левобережная улица, 12  Северный административный округ   \n",
       "11    москва, улица маршала федоренко, 10с1  Северный административный округ   \n",
       "12           москва, мкад, 80-й километр, 1  Северный административный округ   \n",
       "13     москва, базовская улица, 15, корп. 1  Северный административный округ   \n",
       "14            москва, ангарская улица, 42с1  Северный административный округ   \n",
       "\n",
       "                                                hours        lat        lng  \\\n",
       "0                              ежедневно, 10:00–22:00  55.878494  37.478860   \n",
       "1                              ежедневно, 10:00–22:00  55.875801  37.484479   \n",
       "2   пн-чт 11:00–02:00; пт,сб 11:00–05:00; вс 11:00...  55.889146  37.525901   \n",
       "3                              ежедневно, 09:00–22:00  55.881608  37.488860   \n",
       "4                              ежедневно, 10:00–22:00  55.881166  37.449357   \n",
       "5                              ежедневно, 10:00–23:00  55.888010  37.509573   \n",
       "6                   пн 15:00–04:00; вт-вс 15:00–05:00  55.890752  37.524653   \n",
       "7   пн-чт 10:00–22:00; пт,сб 10:00–23:00; вс 10:00...  55.890636  37.524303   \n",
       "8                              ежедневно, 10:00–22:00  55.880045  37.539006   \n",
       "9                              ежедневно, 12:00–00:00  55.879038  37.524487   \n",
       "10                           ежедневно, круглосуточно  55.877832  37.469171   \n",
       "11                             ежедневно, 10:00–21:00  55.881770  37.492362   \n",
       "12                                  вт-сб 09:00–18:00  55.899938  37.517958   \n",
       "13                             ежедневно, 08:00–22:00  55.877007  37.504980   \n",
       "14                             ежедневно, 13:00–00:00  55.885528  37.528371   \n",
       "\n",
       "    rating          price                       avg_bill  middle_avg_bill  \\\n",
       "0      5.0            NaN                            NaN              NaN   \n",
       "1      4.5  выше среднего       Средний счёт:1500–1600 ₽           1550.0   \n",
       "2      4.6        средние         Средний счёт:от 1000 ₽           1000.0   \n",
       "3      5.0            NaN  Цена чашки капучино:155–185 ₽              NaN   \n",
       "4      5.0        средние         Средний счёт:400–600 ₽            500.0   \n",
       "5      4.6        средние                            NaN              NaN   \n",
       "6      4.4        средние             Средний счёт:199 ₽            199.0   \n",
       "7      4.7        средние         Средний счёт:200–300 ₽            250.0   \n",
       "8      4.8        средние          Средний счёт:от 500 ₽            500.0   \n",
       "9      4.3        средние       Средний счёт:1000–1200 ₽           1100.0   \n",
       "10     4.5        средние     Цена бокала пива:250–350 ₽              NaN   \n",
       "11     4.9            NaN                            NaN              NaN   \n",
       "12     4.3        средние             Средний счёт:330 ₽            330.0   \n",
       "13     4.8            NaN                            NaN              NaN   \n",
       "14     4.2  выше среднего            Средний счёт:1500 ₽           1500.0   \n",
       "\n",
       "    middle_coffee_cup  chain  seats                   street is_24/7  \n",
       "0                 NaN      0    NaN            улица дыбенко   False  \n",
       "1                 NaN      0    4.0            улица дыбенко   False  \n",
       "2                 NaN      0   45.0       клязьминская улица   False  \n",
       "3               170.0      0    NaN  улица маршала федоренко   False  \n",
       "4                 NaN      1  148.0      правобережная улица   False  \n",
       "5                 NaN      0    NaN           ижорская улица   False  \n",
       "6                 NaN      0   45.0       клязьминская улица   False  \n",
       "7                 NaN      0   45.0       клязьминская улица   False  \n",
       "8                 NaN      0   79.0        дмитровское шоссе   False  \n",
       "9                 NaN      0   65.0          ангарская улица   False  \n",
       "10                NaN      0  102.0       левобережная улица    True  \n",
       "11                NaN      0    NaN  улица маршала федоренко   False  \n",
       "12                NaN      0    NaN                      NaN   False  \n",
       "13                NaN      1  180.0          базовская улица   False  \n",
       "14                NaN      0    NaN          ангарская улица   False  "
      ]
     },
     "execution_count": 15,
     "metadata": {},
     "output_type": "execute_result"
    }
   ],
   "source": [
    "data.head(15)"
   ]
  },
  {
   "cell_type": "markdown",
   "metadata": {},
   "source": [
    "<div class=\"alert alert-warning\">\n",
    "    <h2> Комментарий ревьюера <a class=\"tocSkip\"> </h2>\n",
    "    \n",
    "<b>Можно лучше⚠️:</b> Стоит вывести таблицу с добавленными столбцами, чтобы убедиться в корректности проделанной работы:)\n",
    "</div>"
   ]
  },
  {
   "cell_type": "markdown",
   "metadata": {},
   "source": [
    "<div class=\"alert alert-success\">\n",
    "<h2> Комментарий ревьюера v2<a class=\"tocSkip\"> </h2>\n",
    "\n",
    "<b>Отлично!✅:</b> Умничка!\n",
    "</div>"
   ]
  },
  {
   "cell_type": "markdown",
   "metadata": {},
   "source": [
    "# Шаг 3. Анализ данных"
   ]
  },
  {
   "cell_type": "code",
   "execution_count": 16,
   "metadata": {},
   "outputs": [
    {
     "data": {
      "text/plain": [
       "array(['кафе', 'ресторан', 'кофейня', 'пиццерия', 'бар,паб',\n",
       "       'быстрое питание', 'булочная', 'столовая'], dtype=object)"
      ]
     },
     "execution_count": 16,
     "metadata": {},
     "output_type": "execute_result"
    }
   ],
   "source": [
    "data['category'].unique()"
   ]
  },
  {
   "cell_type": "markdown",
   "metadata": {},
   "source": [
    "'кафе', 'ресторан', 'кофейня', 'пиццерия', 'бар,паб' и т.д. - категории заведений представлены в данных. "
   ]
  },
  {
   "cell_type": "code",
   "execution_count": null,
   "metadata": {},
   "outputs": [],
   "source": [
    "category = data.groupby('category').agg({'category':'count'})\n",
    "category.columns ={'count'}\n",
    "fig = px.bar(category.sort_values(by ='count',ascending=False)).update_xaxes(tickangle=45)\n",
    "fig.update_layout(\n",
    "    title='Соотношение видов объектов общественного питания по количеству',\n",
    "    xaxis_title=\"Тип объекта\",\n",
    "    yaxis_title=\"Количество\")"
   ]
  },
  {
   "cell_type": "markdown",
   "metadata": {},
   "source": [
    "В Москве больше всего кафе, ресторанов и кофеинь. "
   ]
  },
  {
   "cell_type": "markdown",
   "metadata": {},
   "source": [
    "<div class=\"alert alert-success\">\n",
    "<h2> Комментарий ревьюера <a class=\"tocSkip\"> </h2>\n",
    "\n",
    "<b>Отлично!✅:</b> Задание выполнено верно!\n",
    "</div>"
   ]
  },
  {
   "cell_type": "code",
   "execution_count": null,
   "metadata": {},
   "outputs": [],
   "source": [
    "m = data.pivot_table(index ='category',values='seats',aggfunc='median')\n",
    "m.columns={'mean_seat'}\n",
    "m['mean_seat'] = round(m['mean_seat'])\n",
    "fig =px.bar(m.sort_values(by ='mean_seat',ascending=False)).update_xaxes(tickangle=45)\n",
    "fig.update_layout(\n",
    "    title='Соотношение видов объектов общественного питания по количеству мест ',\n",
    "    xaxis_title=\"Тип объекта\",\n",
    "    yaxis_title=\"Количество\")"
   ]
  },
  {
   "cell_type": "markdown",
   "metadata": {},
   "source": [
    "Лидируют рестораны, бары,пабы,кофейни и столовые по количеству мест."
   ]
  },
  {
   "cell_type": "markdown",
   "metadata": {},
   "source": [
    "<div class=\"alert alert-success\">\n",
    "<h2> Комментарий ревьюера <a class=\"tocSkip\"> </h2>\n",
    "\n",
    "<b>Отлично!✅:</b> Молодец, что использовала именно медиану, в данных имеются приличные выбросы!\n",
    "</div>"
   ]
  },
  {
   "cell_type": "code",
   "execution_count": null,
   "metadata": {},
   "outputs": [],
   "source": [
    "fig = go.Figure(data=[go.Pie(labels=data['chain'].value_counts().reset_index()['index'], values = data['chain'].value_counts())])\n",
    "fig.update_layout(\n",
    "    title='Соотношение сетевых и несетевых заведений в датасете')\n",
    "fig.show()"
   ]
  },
  {
   "cell_type": "markdown",
   "metadata": {},
   "source": [
    "Из диаграммы видно,что сетевых всего 38.1%.Что занимает треть заведений в датасете."
   ]
  },
  {
   "cell_type": "markdown",
   "metadata": {},
   "source": [
    "<div class=\"alert alert-success\">\n",
    "<h2> Комментарий ревьюера <a class=\"tocSkip\"> </h2>\n",
    "\n",
    "<b>Отлично!✅:</b> Круговая диаграмма для данного параметра хорошее решение, даже лучше, чем столбчатая. Молодец, что визуализировала доли, а не суммарное количество!"
   ]
  },
  {
   "cell_type": "code",
   "execution_count": null,
   "metadata": {},
   "outputs": [],
   "source": [
    "dt = data.query('chain ==1')\n",
    "fig = go.Figure(data=[go.Pie(labels=dt['category'].value_counts().reset_index()['index'], values = dt['category'].value_counts())])\n",
    "fig.update_layout(\n",
    "    title='Соотношение сетевых заведений по категориям в датасете')\n",
    "fig.show()"
   ]
  },
  {
   "cell_type": "code",
   "execution_count": null,
   "metadata": {},
   "outputs": [],
   "source": [
    "df = data.pivot_table(index = 'category',columns ='chain',values ='name',aggfunc ='count')\n",
    "df.columns = {'n_chain','chain'}\n",
    "df = df.sort_values(by ='n_chain',ascending =False)\n",
    "df.columns = {'n_chain','chain'}\n",
    "fig =px.bar(df).update_xaxes(tickangle=45)\n",
    "fig.update_layout(\n",
    "    title='Количество заведений сетевых и несетевых',\n",
    "    xaxis_title=\"Название сети\",\n",
    "    yaxis_title=\"Количество\")"
   ]
  },
  {
   "cell_type": "code",
   "execution_count": null,
   "metadata": {},
   "outputs": [],
   "source": [
    "df['share'] =df['chain']/(df['chain']+df['n_chain'])*100\n",
    "fig =px.bar(df['share'].sort_values(ascending =False)).update_xaxes(tickangle=45)\n",
    "fig.update_layout(\n",
    "    title=' категории сетевых заведений, которые преобладают из всех сетевых, относительно общей выборки.  ',\n",
    "    xaxis_title=\"Название сети\",\n",
    "    yaxis_title=\"%\")"
   ]
  },
  {
   "cell_type": "markdown",
   "metadata": {},
   "source": [
    "Чаще всего  булочные, пиццерии и кофейни являются сетевыми."
   ]
  },
  {
   "cell_type": "markdown",
   "metadata": {},
   "source": [
    "<div class=\"alert alert-success\">\n",
    "<h2> Комментарий ревьюера <a class=\"tocSkip\"> </h2>\n",
    "\n",
    "<b>Отлично!✅:</b> Если смотреть по суммарному показателю, то да! Думаю логично, что чаще бывают сетевыми кафе, рестораны и кофейни, так как они преобладают по количеству во всем датасете:)"
   ]
  },
  {
   "cell_type": "markdown",
   "metadata": {},
   "source": [
    "<div class=\"alert alert-success\">\n",
    "<h2> Комментарий ревьюера v2<a class=\"tocSkip\"> </h2>\n",
    "\n",
    "<b>Отлично!✅:</b> Теперь преобладают булочные, пиццерии и кофейни:)\n",
    "</div>"
   ]
  },
  {
   "cell_type": "code",
   "execution_count": null,
   "metadata": {},
   "outputs": [],
   "source": [
    "name = data.query('chain ==1').groupby(by ='name').agg({'name':'count','seats':'median'})\n",
    "name.columns ={'count','median'}\n",
    "name['median'] = round(name['median'])\n",
    "name = name.sort_values(by='count',ascending =False)\n",
    "name = name.head(15)\n",
    "name"
   ]
  },
  {
   "cell_type": "code",
   "execution_count": null,
   "metadata": {},
   "outputs": [],
   "source": [
    "fig =px.bar(name).update_xaxes(tickangle=45)\n",
    "fig.update_layout(\n",
    "    title='Количество заведений ТОП-15 сетей  ',\n",
    "    xaxis_title=\"Название сети\",\n",
    "    yaxis_title=\"Количество\")"
   ]
  },
  {
   "cell_type": "markdown",
   "metadata": {},
   "source": [
    "ТОП 15 сетей вошли Шоколадница,Домино'с Пицца, Додо Пицца, One Price Coffee, Яндекс Лавка, Cofix и т.д. Среди них первые 6 довольно известные.\n",
    "Обычно сетевые заведения характерны большим количеством заведений,но с маленькой посадкой внутри.\n",
    "Они характерны к категориям заведений:\n",
    "кафе,\n",
    "кофейня,\n",
    "пиццерия,\n",
    "буханка,\n",
    "ресторан."
   ]
  },
  {
   "cell_type": "markdown",
   "metadata": {},
   "source": [
    "<br/>\n",
    "<div class=\"alert alert-block alert-danger\">\n",
    "<h2> Комментарий ревьюера <a class=\"tocSkip\"></h2>\n",
    "\n",
    "    \n",
    "<b>Необходимо исправить❌:</b>\n",
    "Вывод то верный, но что-то с графиком не сходится... Ищем ошибку и исправляем:)"
   ]
  },
  {
   "cell_type": "markdown",
   "metadata": {},
   "source": [
    "<div class=\"alert alert-success\">\n",
    "<h2> Комментарий ревьюера v2<a class=\"tocSkip\"> </h2>\n",
    "\n",
    "<b>Отлично!✅:</b> Молодец!\n",
    "</div>"
   ]
  },
  {
   "cell_type": "markdown",
   "metadata": {},
   "source": [
    "Следующие административные районы представлены в датасете:"
   ]
  },
  {
   "cell_type": "code",
   "execution_count": null,
   "metadata": {},
   "outputs": [],
   "source": [
    "data['district'].unique()"
   ]
  },
  {
   "cell_type": "code",
   "execution_count": null,
   "metadata": {},
   "outputs": [],
   "source": [
    "dt = data.pivot_table(index =['district'],columns=['category'],aggfunc={'name': 'count'})\n",
    "dtt = data.pivot_table(index =['district'],aggfunc={'name': 'count'})\n",
    "dtt.columns={'total'}\n",
    "dt = dt.merge(dtt,on ='district')\n",
    "dt"
   ]
  },
  {
   "cell_type": "code",
   "execution_count": null,
   "metadata": {},
   "outputs": [],
   "source": [
    "fig, ax = plt.subplots(figsize=(20, 15))\n",
    "sns.heatmap(dt,annot=True,cbar=False)"
   ]
  },
  {
   "cell_type": "markdown",
   "metadata": {},
   "source": [
    "На тепловой карте видно,что самое большое число завений в Центральном административном округе. Больше всего заведений категории кафе и рестораны во всех районах.Меньше всего завежений в Северо-Западном центральном округе."
   ]
  },
  {
   "cell_type": "markdown",
   "metadata": {},
   "source": [
    "<div class=\"alert alert-success\">\n",
    "<h2> Комментарий ревьюера <a class=\"tocSkip\"> </h2>\n",
    "\n",
    "<b>Отлично!✅:</b> Отлично!\n",
    "</div>"
   ]
  },
  {
   "cell_type": "code",
   "execution_count": null,
   "metadata": {},
   "outputs": [],
   "source": [
    "fig = px.bar(data.pivot_table(index ='category',values='rating',aggfunc='mean').sort_values(by ='rating',ascending =False))\n",
    "fig.update_layout(\n",
    "    title=' Средний рейтинг по категориям заведений ',\n",
    "    xaxis_title=\"рейтинг\",\n",
    "    yaxis_title=\"Категория\")"
   ]
  },
  {
   "cell_type": "markdown",
   "metadata": {},
   "source": [
    "<br/>\n",
    "<div class=\"alert alert-block alert-danger\">\n",
    "<h2> Комментарий ревьюера <a class=\"tocSkip\"></h2>\n",
    "\n",
    "    \n",
    "<b>Необходимо исправить❌:</b>\n",
    "Необходимо подписать название графика и отсортировать значения."
   ]
  },
  {
   "cell_type": "markdown",
   "metadata": {},
   "source": [
    "<div class=\"alert alert-success\">\n",
    "<h2> Комментарий ревьюера v2<a class=\"tocSkip\"> </h2>\n",
    "\n",
    "<b>Отлично!✅:</b> Плюсик\n",
    "</div>"
   ]
  },
  {
   "cell_type": "markdown",
   "metadata": {},
   "source": [
    "Средний рейтинг по категориям заведений в среднем больше 4. Не сильно различаются усреднённые рейтинги в разных типах общепита."
   ]
  },
  {
   "cell_type": "markdown",
   "metadata": {},
   "source": [
    "<div class=\"alert alert-success\">\n",
    "<h2> Комментарий ревьюера <a class=\"tocSkip\"> </h2>\n",
    "\n",
    "<b>Отлично!✅:</b> Хорошо!\n",
    "</div>"
   ]
  },
  {
   "cell_type": "code",
   "execution_count": null,
   "metadata": {},
   "outputs": [],
   "source": [
    "rating_data = data.groupby('district', as_index=False)['rating'].agg('median')\n",
    "rating_data"
   ]
  },
  {
   "cell_type": "code",
   "execution_count": null,
   "metadata": {},
   "outputs": [],
   "source": [
    "# подключаем модуль для работы с JSON-форматом\n",
    "import json\n",
    "\n",
    "# читаем файл и сохраняем в переменной\n",
    "with open('/datasets/admin_level_geomap.geojson', 'r') as f:\n",
    "    geo_json = json.load(f)\n",
    "\n",
    "print(json.dumps(geo_json, indent=2, ensure_ascii=False, sort_keys=True))"
   ]
  },
  {
   "cell_type": "code",
   "execution_count": null,
   "metadata": {},
   "outputs": [],
   "source": [
    "# импортируем карту и хороплет\n",
    "from folium import Map, Choropleth\n",
    "\n",
    "# загружаем JSON-файл с границами округов Москвы\n",
    "state_geo = '/datasets/admin_level_geomap.geojson'\n",
    "# moscow_lat - широта центра Москвы, moscow_lng - долгота центра Москвы\n",
    "moscow_lat, moscow_lng = 55.751244, 37.618423\n",
    "\n",
    "# создаём карту Москвы\n",
    "m = Map(location=[moscow_lat, moscow_lng], zoom_start=10)\n",
    "\n",
    "# создаём хороплет с помощью конструктора Choropleth и добавляем его на карту\n",
    "Choropleth(\n",
    "    geo_data=state_geo,\n",
    "    data=rating_data,\n",
    "    columns=['district', 'rating'],\n",
    "    key_on='feature.name',\n",
    "    fill_color='YlGn',\n",
    "    fill_opacity=0.8,\n",
    "    legend_name='Медианный рейтинг заведений по районам',\n",
    ").add_to(m)\n",
    "\n",
    "# выводим карту\n",
    "m"
   ]
  },
  {
   "cell_type": "markdown",
   "metadata": {},
   "source": [
    "В среднем заведения с высокими рейтингами находятся в центре Москвы. "
   ]
  },
  {
   "cell_type": "markdown",
   "metadata": {},
   "source": [
    "<div class=\"alert alert-success\">\n",
    "<h2> Комментарий ревьюера <a class=\"tocSkip\"> </h2>\n",
    "\n",
    "<b>Отлично!✅:</b> Решение на этом шаге является полностью правильным.\n",
    "</div>"
   ]
  },
  {
   "cell_type": "code",
   "execution_count": null,
   "metadata": {},
   "outputs": [],
   "source": [
    "# импортируем карту и маркер\n",
    "from folium import Map, Marker\n",
    "# импортируем кластер\n",
    "from folium.plugins import MarkerCluster\n",
    "\n",
    "# moscow_lat - широта центра Москвы, moscow_lng - долгота центра Москвы\n",
    "moscow_lat, moscow_lng = 55.751244, 37.618423\n",
    "\n",
    "# создаём карту Москвы\n",
    "m = Map(location=[moscow_lat, moscow_lng], zoom_start=10)\n",
    "# создаём пустой кластер, добавляем его на карту\n",
    "marker_cluster = MarkerCluster().add_to(m)\n",
    "\n",
    "# пишем функцию, которая принимает строку датафрейма,\n",
    "# создаёт маркер в текущей точке и добавляет его в кластер marker_cluster\n",
    "def create_clusters(row):\n",
    "    Marker(\n",
    "        [row['lat'], row['lng']],\n",
    "        popup=f\"{row['name']} {row['rating']}\",\n",
    "    ).add_to(marker_cluster)\n",
    "\n",
    "# применяем функцию create_clusters() к каждой строке датафрейма\n",
    "data.apply(create_clusters, axis=1)\n",
    "\n",
    "# выводим карту\n",
    "m"
   ]
  },
  {
   "cell_type": "markdown",
   "metadata": {},
   "source": [
    "<br/>\n",
    "<div class=\"alert alert-block alert-danger\">\n",
    "<h2> Комментарий ревьюера <a class=\"tocSkip\"></h2>\n",
    "\n",
    "    \n",
    "<b>Необходимо исправить❌:</b>\n",
    "Люда, нам необходимо вывести кластеры, а не маркеры. Для этого нужно добавить MarkerCluster.\n",
    "</div>"
   ]
  },
  {
   "cell_type": "markdown",
   "metadata": {},
   "source": [
    "<div class=\"alert alert-success\">\n",
    "<h2> Комментарий ревьюера v2<a class=\"tocSkip\"> </h2>\n",
    "\n",
    "<b>Отлично!✅:</b> Все отлично!\n",
    "</div>"
   ]
  },
  {
   "cell_type": "code",
   "execution_count": null,
   "metadata": {
    "scrolled": false
   },
   "outputs": [],
   "source": [
    "top_streets = data[data['street'].isin(data.groupby('street')['name'].count().sort_values(ascending = False).head(15).index)]\n",
    "streets_category = top_streets.groupby(['street','category'],as_index = False)['name'].count()\n",
    "streets_category.rename({'name':'count'},axis=1, inplace =True)\n",
    "fig = px.bar(streets_category,x ='street',y ='count',color = 'category')\n",
    "fig.update_layout(title ='Распредение количества заведений и их категорий по топ-15 улицам',\n",
    "                 xaxis_title ='Название улицы',\n",
    "                 yaxis_title='Количество заведений',\n",
    "                 autosize=False,\n",
    "                 width=900,\n",
    "                 height = 550,\n",
    "                 xaxis ={'categoryorder':'total descending'})\n",
    "fig.show()"
   ]
  },
  {
   "cell_type": "markdown",
   "metadata": {},
   "source": [
    "<br/>\n",
    "<div class=\"alert alert-block alert-danger\">\n",
    "<h2> Комментарий ревьюера <a class=\"tocSkip\"></h2>\n",
    "\n",
    "    \n",
    "<b>Необходимо исправить❌:</b>\n",
    "Сортировка.\n",
    "</div>"
   ]
  },
  {
   "cell_type": "markdown",
   "metadata": {},
   "source": [
    "<div class=\"alert alert-success\">\n",
    "<h2> Комментарий ревьюера v2<a class=\"tocSkip\"> </h2>\n",
    "\n",
    "<b>Отлично!✅:</b> +\n",
    "</div>"
   ]
  },
  {
   "cell_type": "markdown",
   "metadata": {},
   "source": [
    "Больше всего заведений на улице проспекта Мира. Лидируют категории ресторан, кофейня и кафе. "
   ]
  },
  {
   "cell_type": "markdown",
   "metadata": {},
   "source": [
    "<div class=\"alert alert-success\">\n",
    "<h2> Комментарий ревьюера <a class=\"tocSkip\"> </h2>\n",
    "\n",
    "<b>Отлично!✅:</b> Хорошо!\n",
    "</div>"
   ]
  },
  {
   "cell_type": "code",
   "execution_count": null,
   "metadata": {},
   "outputs": [],
   "source": [
    "streets = data[data['street'].isin(data.groupby('street')['name'].count().sort_values(ascending = False).index)]\n",
    "streets_1  = streets.groupby(['street'],as_index = False)['name'].count()\n",
    "streets_1.rename({'name':'count'},axis=1, inplace =True)\n",
    "streets_1 = streets_1.query('count ==1')\n"
   ]
  },
  {
   "cell_type": "code",
   "execution_count": null,
   "metadata": {},
   "outputs": [],
   "source": [
    "street = streets_1.merge(streets,how ='left', on = 'street')\n",
    "street"
   ]
  },
  {
   "cell_type": "markdown",
   "metadata": {},
   "source": [
    "Всего 414 улиц с 1 объектом общепита."
   ]
  },
  {
   "cell_type": "markdown",
   "metadata": {},
   "source": [
    "<div class=\"alert alert-success\">\n",
    "<h2> Комментарий ревьюера <a class=\"tocSkip\"> </h2>\n",
    "\n",
    "<b>Отлично!✅:</b> Верно!\n",
    "</div>"
   ]
  },
  {
   "cell_type": "code",
   "execution_count": null,
   "metadata": {},
   "outputs": [],
   "source": [
    "street.groupby('district', as_index=False)['rating'].agg(['count','median'])"
   ]
  },
  {
   "cell_type": "markdown",
   "metadata": {},
   "source": [
    "Во всех районах есть улица с одним общественным заведением. Больше всего их в центре, где очень узкие и малеькие улицы."
   ]
  },
  {
   "cell_type": "markdown",
   "metadata": {},
   "source": [
    "<br/>\n",
    "<div class=\"alert alert-block alert-danger\">\n",
    "<h2> Комментарий ревьюера <a class=\"tocSkip\"></h2>\n",
    "\n",
    "    \n",
    "<b>Необходимо исправить❌:</b>\n",
    "По данным улицам необходимо провести какое-нибудь исследование. Можешь рассмотреть рейтинги или расположение по округам.\n",
    "</div>"
   ]
  },
  {
   "cell_type": "markdown",
   "metadata": {},
   "source": [
    "<div class=\"alert alert-success\">\n",
    "<h2> Комментарий ревьюера v2<a class=\"tocSkip\"> </h2>\n",
    "\n",
    "<b>Отлично!✅:</b> Принято!\n",
    "</div>"
   ]
  },
  {
   "cell_type": "code",
   "execution_count": null,
   "metadata": {},
   "outputs": [],
   "source": [
    "data['middle_avg_bill'].isnull().sum()/len(data['name'])*100"
   ]
  },
  {
   "cell_type": "markdown",
   "metadata": {},
   "source": [
    "В столбце middle_avg_bill пропущено 62%. Сгруппируем данные по районам и заменим пропущенные данные мединным значением."
   ]
  },
  {
   "cell_type": "code",
   "execution_count": null,
   "metadata": {},
   "outputs": [],
   "source": [
    "for i in data['district'].unique():\n",
    "    data.loc[(data['district'] == i) &(data['middle_avg_bill'].isna()),'middle_avg_bill'] = data.loc[(data['district'] ==i),'middle_avg_bill'].median()\n"
   ]
  },
  {
   "cell_type": "code",
   "execution_count": null,
   "metadata": {},
   "outputs": [],
   "source": [
    "data['middle_avg_bill'].isnull().sum()"
   ]
  },
  {
   "cell_type": "code",
   "execution_count": null,
   "metadata": {},
   "outputs": [],
   "source": [
    "district_middle = data.groupby('district')['middle_avg_bill'].median()\n",
    "district_middle"
   ]
  },
  {
   "cell_type": "code",
   "execution_count": null,
   "metadata": {},
   "outputs": [],
   "source": [
    "# импортируем карту и хороплет\n",
    "from folium import Map, Choropleth\n",
    "\n",
    "# загружаем JSON-файл с границами округов Москвы\n",
    "state_geo = '/datasets/admin_level_geomap.geojson'\n",
    "# moscow_lat - широта центра Москвы, moscow_lng - долгота центра Москвы\n",
    "moscow_lat, moscow_lng = 55.751244, 37.618423\n",
    "\n",
    "# создаём карту Москвы\n",
    "m = Map(location=[moscow_lat, moscow_lng], zoom_start=10)\n",
    "\n",
    "# создаём хороплет с помощью конструктора Choropleth и добавляем его на карту\n",
    "Choropleth(\n",
    "    geo_data=state_geo,\n",
    "    data=district_middle,\n",
    "    columns=['district', 'middle_avg_bill'],\n",
    "    key_on='feature.name',\n",
    "    fill_color='YlGn',\n",
    "    fill_opacity=0.8,\n",
    "    legend_name='Медианный рейтинг заведений по районам',\n",
    ").add_to(m)\n",
    "\n",
    "# выводим карту\n",
    "m"
   ]
  },
  {
   "cell_type": "markdown",
   "metadata": {},
   "source": [
    "Самые высокие средние чеки в Центральном административном округе и Западном административном округе. Чем ближе к центре, тем выше средний чек.Средний чек зависит от района, в котором находится общепит. "
   ]
  },
  {
   "cell_type": "markdown",
   "metadata": {},
   "source": [
    "<div class=\"alert alert-success\">\n",
    "<h2> Комментарий ревьюера <a class=\"tocSkip\"> </h2>\n",
    "\n",
    "<b>Отлично!✅:</b> Совершенно верно!\n",
    "</div>"
   ]
  },
  {
   "cell_type": "code",
   "execution_count": null,
   "metadata": {},
   "outputs": [],
   "source": [
    "data['rating'].unique()"
   ]
  },
  {
   "cell_type": "code",
   "execution_count": null,
   "metadata": {},
   "outputs": [],
   "source": [
    "rating_bad = data.query('rating < 3')\n",
    "rating_bad"
   ]
  },
  {
   "cell_type": "code",
   "execution_count": null,
   "metadata": {},
   "outputs": [],
   "source": [
    "fig = px.bar(rating_bad.groupby('rating', as_index=False)['middle_avg_bill'].agg(['mean','count']).sort_values(by ='mean',ascending =False))\n",
    "fig.update_layout(title ='Распредение среденего чека  заведений от рейтинга',\n",
    "                 xaxis_title ='Рейтинг',\n",
    "                 yaxis_title='Сумма',\n",
    "                 autosize=False,\n",
    "                 width=900,\n",
    "                 height = 550,\n",
    "                 xaxis ={'categoryorder':'total descending'})\n",
    "fig.show()"
   ]
  },
  {
   "cell_type": "markdown",
   "metadata": {},
   "source": [
    "Чем больше рейтинг, тем больше посещаемость заведения. Тем больше средний чек. Но есть аномальные значения, в которых средний чек в два раза выше,чем в остальных такихже заведений с похожим рейтингом. Либо кафе реально плохое, плюс стоимость блюд выше, либо плохая проходимость, за счет этого высокий "
   ]
  },
  {
   "cell_type": "code",
   "execution_count": null,
   "metadata": {},
   "outputs": [],
   "source": [
    "fig = px.bar(rating_bad.groupby(['category'], as_index=False)['name'].agg(['count']).sort_values(by='count',ascending =False))\n",
    "fig.update_layout(title ='Распределение заведений с плохими отзывами по категориям ',\n",
    "                 xaxis_title ='Название категории ',\n",
    "                 yaxis_title='Количество заведений',\n",
    "                 autosize=False,\n",
    "                 width=900,\n",
    "                 height = 550,\n",
    "                 xaxis ={'categoryorder':'total descending'})\n",
    "fig.show()"
   ]
  },
  {
   "cell_type": "markdown",
   "metadata": {},
   "source": [
    "Лидируют кафе по количеству плохих отзывов, оно и понятно, так как их больше всего в датасете. Меньше всего в булочных. "
   ]
  },
  {
   "cell_type": "markdown",
   "metadata": {},
   "source": [
    "# Шаг 4. Детализируем исследование: открытие кофейни"
   ]
  },
  {
   "cell_type": "code",
   "execution_count": null,
   "metadata": {},
   "outputs": [],
   "source": [
    "cafe = data.query('category == \"кофейня\"')\n",
    "cafe['name'].count()"
   ]
  },
  {
   "cell_type": "markdown",
   "metadata": {},
   "source": [
    "Всего 1413 кофейн в датасете."
   ]
  },
  {
   "cell_type": "markdown",
   "metadata": {},
   "source": [
    "<div class=\"alert alert-success\">\n",
    "<h2> Комментарий ревьюера v3<a class=\"tocSkip\"> </h2>\n",
    "\n",
    "<b>Отлично!✅:</b> Верно!\n",
    "</div>"
   ]
  },
  {
   "cell_type": "code",
   "execution_count": null,
   "metadata": {},
   "outputs": [],
   "source": [
    "fig = px.bar(cafe.groupby('district', as_index=False)['name'].agg(['count']).sort_values(by ='count',ascending =False))\n",
    "fig.update_layout(title ='Распределение кафейн по районам ',\n",
    "                 xaxis_title ='Название района ',\n",
    "                 yaxis_title='Количество заведений',\n",
    "                 autosize=False,\n",
    "                 width=900,\n",
    "                 height = 550,\n",
    "                 xaxis ={'categoryorder':'total descending'})\n",
    "fig.show()"
   ]
  },
  {
   "cell_type": "code",
   "execution_count": null,
   "metadata": {},
   "outputs": [],
   "source": [
    "\n",
    "c = cafe.groupby('district', as_index=False)['name'].count()\n",
    "# импортируем карту и хороплет\n",
    "from folium import Map, Choropleth\n",
    "\n",
    "# загружаем JSON-файл с границами округов Москвы\n",
    "state_geo = '/datasets/admin_level_geomap.geojson'\n",
    "# moscow_lat - широта центра Москвы, moscow_lng - долгота центра Москвы\n",
    "moscow_lat, moscow_lng = 55.751244, 37.618423\n",
    "\n",
    "# создаём карту Москвы\n",
    "m = Map(location=[moscow_lat, moscow_lng], zoom_start=10)\n",
    "\n",
    "Choropleth(\n",
    "    geo_data=state_geo,\n",
    "    data=c,\n",
    "    columns=['district','name'],\n",
    "    key_on='feature.name',\n",
    "    fill_color='YlGn',\n",
    "    fill_opacity=0.8,\n",
    "    legend_name='Количество кофейн по районам',\n",
    ").add_to(m)\n",
    "\n",
    "# \n",
    "m"
   ]
  },
  {
   "cell_type": "markdown",
   "metadata": {},
   "source": [
    "В центре кофейни преобладают. Чем ближе к центре, тем больше кофейн."
   ]
  },
  {
   "cell_type": "markdown",
   "metadata": {},
   "source": [
    "<div class=\"alert alert-success\">\n",
    "<h2> Комментарий ревьюера v3<a class=\"tocSkip\"> </h2>\n",
    "\n",
    "<b>Отлично!✅:</b> Отлично!\n",
    "</div>"
   ]
  },
  {
   "cell_type": "code",
   "execution_count": null,
   "metadata": {},
   "outputs": [],
   "source": [
    "is_24 = cafe[cafe['is_24/7'] ==True]\n",
    "is_24['name'].count()"
   ]
  },
  {
   "cell_type": "markdown",
   "metadata": {},
   "source": [
    "Из 1413 кофейн всего 59 кофейн работают круглосуточно. Почти половина из них находятся в центре Москвы."
   ]
  },
  {
   "cell_type": "markdown",
   "metadata": {},
   "source": [
    "<div class=\"alert alert-success\">\n",
    "<h2> Комментарий ревьюера v3<a class=\"tocSkip\"> </h2>\n",
    "\n",
    "<b>Отлично!✅:</b> Правильно!\n",
    "</div>"
   ]
  },
  {
   "cell_type": "code",
   "execution_count": null,
   "metadata": {},
   "outputs": [],
   "source": [
    "is_24.groupby('district', as_index=False)['name'].agg(['count'])"
   ]
  },
  {
   "cell_type": "code",
   "execution_count": null,
   "metadata": {},
   "outputs": [],
   "source": [
    "cafe.groupby('rating', as_index=False)['name'].agg(['count']).sort_values(by ='count',ascending =False)"
   ]
  },
  {
   "cell_type": "markdown",
   "metadata": {},
   "source": [
    "В среднем рейтинг кофейн больше 4. Что показывает хороший результат."
   ]
  },
  {
   "cell_type": "markdown",
   "metadata": {},
   "source": [
    "<div class=\"alert alert-success\">\n",
    "<h2> Комментарий ревьюера v2<a class=\"tocSkip\"> </h2>\n",
    "\n",
    "<b>Отлично!✅:</b> Согласна!\n",
    "</div>"
   ]
  },
  {
   "cell_type": "code",
   "execution_count": null,
   "metadata": {},
   "outputs": [],
   "source": [
    "cafe.groupby('district', as_index=False)['rating'].agg(['mean']).sort_values(by ='mean',ascending =False)"
   ]
  },
  {
   "cell_type": "markdown",
   "metadata": {},
   "source": [
    "Как говорилось ранее чем ближе к центру, тем лучше рейтинг заведения."
   ]
  },
  {
   "cell_type": "code",
   "execution_count": null,
   "metadata": {},
   "outputs": [],
   "source": [
    "cafe['middle_coffee_cup'].unique()"
   ]
  },
  {
   "cell_type": "markdown",
   "metadata": {},
   "source": [
    " Заменим пропущенные значения мединным значением сгруппированных данных по районам"
   ]
  },
  {
   "cell_type": "code",
   "execution_count": null,
   "metadata": {},
   "outputs": [],
   "source": [
    "for i in cafe['district'].unique():\n",
    "    cafe.loc[(data['district'] == i) &(cafe['middle_coffee_cup'].isna()),'middle_coffee_cup'] = cafe.loc[(cafe['district'] ==i),'middle_coffee_cup'].median()\n"
   ]
  },
  {
   "cell_type": "code",
   "execution_count": null,
   "metadata": {},
   "outputs": [],
   "source": [
    "cafe.groupby('district')['middle_coffee_cup'].agg(['mean']).sort_values(by ='mean',ascending =False)"
   ]
  },
  {
   "cell_type": "markdown",
   "metadata": {},
   "source": [
    "В центре чашка кафе обойдутся подороже, чем на окраине города."
   ]
  },
  {
   "cell_type": "markdown",
   "metadata": {},
   "source": [
    "<div class=\"alert alert-success\">\n",
    "<h2> Комментарий ревьюера v3<a class=\"tocSkip\"> </h2>\n",
    "\n",
    "<b>Отлично!✅:</b> Хорошо!\n",
    "</div>"
   ]
  },
  {
   "cell_type": "markdown",
   "metadata": {},
   "source": [
    "# Вывод:"
   ]
  },
  {
   "cell_type": "markdown",
   "metadata": {},
   "source": [
    "Итак,в датасете 8406 заведений. Из них 'кафе', 'ресторан', 'кофейня', 'пиццерия', 'бар,паб' и т.д. - категории заведений представлены в данных. По количеству заведений по категориям больше всего кафе и ресторанов.\n",
    "Представлены районы:\n",
    "'Северный административный округ',\n",
    "       'Северо-Восточный административный округ',\n",
    "       'Северо-Западный административный округ',\n",
    "       'Западный административный округ',\n",
    "       'Центральный административный округ',\n",
    "       'Восточный административный округ',\n",
    "       'Юго-Восточный административный округ',\n",
    "       'Южный административный округ',\n",
    "       'Юго-Западный административный округ'.\n",
    "       \n",
    "       Больше всего заведений в центре Москвы(Центральный административный округ). Что показывает самый высокий средний чек в Москве."
   ]
  },
  {
   "cell_type": "code",
   "execution_count": null,
   "metadata": {},
   "outputs": [],
   "source": [
    "data[data['is_24/7'] ==True]"
   ]
  },
  {
   "cell_type": "markdown",
   "metadata": {},
   "source": [
    "730 заведений работают круглосуточно. 62% заведений не сетевые. В среднем рейтинги заведений во всех районах больше 4. Лидирует Центральный административный округ по среднему рейтингу заведения.\n",
    "\n",
    "Больше всего заведений на улице проспекта Мира. Лидируют категории ресторан, кофейня и кафе. "
   ]
  },
  {
   "cell_type": "markdown",
   "metadata": {},
   "source": [
    "Рекомендация:\n",
    "    Основателям фонда «Shut Up and Take My Money» лучше всего открыть кафе в  Москвы, на одной из ТОП-15 улиц. Где проходимость наиболее всего и средний чек выше. Также стоит изучить расположение рядом бизнес-центров, университетов и т.п. для лушей проходисмоти и понимания какого сегмента открывать кафе. "
   ]
  },
  {
   "cell_type": "markdown",
   "metadata": {},
   "source": [
    "<div class=\"alert alert-success\">\n",
    "<h2> Комментарий ревьюера <a class=\"tocSkip\"> </h2>\n",
    "\n",
    "<b>Отлично!✅:</b> Отличный вывод!\n",
    "</div>"
   ]
  },
  {
   "cell_type": "markdown",
   "metadata": {},
   "source": [
    "<br/>\n",
    "<div class=\"alert alert-block alert-danger\">\n",
    "<h2> Комментарий ревьюера <a class=\"tocSkip\"></h2>\n",
    "\n",
    "    \n",
    "<b>Необходимо исправить❌:</b>\n",
    "Не выполнено исследование по кофейням.\n",
    "</div>"
   ]
  },
  {
   "cell_type": "markdown",
   "metadata": {},
   "source": [
    "<br/>\n",
    "<div class=\"alert alert-block alert-danger\">\n",
    "<h2> Комментарий ревьюера <a class=\"tocSkip\"></h2>\n",
    "\n",
    "    \n",
    "<b>Необходимо исправить❌:</b>\n",
    "Отсутствует презентация.\n",
    "</div>"
   ]
  },
  {
   "cell_type": "markdown",
   "metadata": {},
   "source": [
    "<div style=\"border:solid Chocolate 2px; padding: 40px\">\n",
    "Люда, давай подведем итоги. Ты большая молодец, что старалась и проделала такую большую работу. Мне понравилось, что ты наполнила проект развернутыми выводами и наглядно продемонстрировала каждое задание:)\n",
    "    \n",
    "    Разберем над чем стоит поработать:\n",
    "\n",
    "    1. Делая предобработку данных, не забывай про неявные дубликаты.\n",
    "\n",
    "    2. Рассмотреть сетевые заведения, относительно общей выборки.\n",
    "\n",
    "    3. Верно вывести визуализацию \"ТОП-15 сетей\".\n",
    "\n",
    "    4. Не забывай про сортировку.\n",
    "\n",
    "    5. Выполнить исследование по улицам с одним объектом общепита.\n",
    "    \n",
    "    6. Выполнить исследование по кофейням.\n",
    "    \n",
    "    7. Сделать презентацию.\n",
    "    \n",
    "    Пересмотри работу и исправь ошибки. Обязательно пиши, если я могу тебе еще чем-то помочь. Удачи!)\n",
    "  "
   ]
  },
  {
   "cell_type": "code",
   "execution_count": null,
   "metadata": {},
   "outputs": [],
   "source": []
  }
 ],
 "metadata": {
  "ExecuteTimeLog": [
   {
    "duration": 390,
    "start_time": "2023-03-17T09:49:17.874Z"
   },
   {
    "duration": 233,
    "start_time": "2023-03-17T09:50:06.198Z"
   },
   {
    "duration": 25,
    "start_time": "2023-03-17T09:50:19.024Z"
   },
   {
    "duration": 74,
    "start_time": "2023-03-17T11:11:28.277Z"
   },
   {
    "duration": 73,
    "start_time": "2023-03-20T11:27:16.585Z"
   },
   {
    "duration": 372,
    "start_time": "2023-03-20T11:27:22.569Z"
   },
   {
    "duration": 592,
    "start_time": "2023-03-20T11:27:22.943Z"
   },
   {
    "duration": 30,
    "start_time": "2023-03-20T11:27:23.538Z"
   },
   {
    "duration": 7,
    "start_time": "2023-03-20T11:27:23.569Z"
   },
   {
    "duration": 15,
    "start_time": "2023-03-20T11:27:45.976Z"
   },
   {
    "duration": 9,
    "start_time": "2023-03-20T11:28:34.389Z"
   },
   {
    "duration": 14,
    "start_time": "2023-03-20T11:28:35.162Z"
   },
   {
    "duration": 66,
    "start_time": "2023-03-20T11:42:55.168Z"
   },
   {
    "duration": 2,
    "start_time": "2023-03-20T11:43:32.632Z"
   },
   {
    "duration": 74,
    "start_time": "2023-03-20T11:43:35.739Z"
   },
   {
    "duration": 21,
    "start_time": "2023-03-20T11:43:41.085Z"
   },
   {
    "duration": 9,
    "start_time": "2023-03-20T11:53:16.406Z"
   },
   {
    "duration": 13,
    "start_time": "2023-03-20T11:54:44.228Z"
   },
   {
    "duration": 11,
    "start_time": "2023-03-20T11:54:56.309Z"
   },
   {
    "duration": 9,
    "start_time": "2023-03-20T11:55:42.316Z"
   },
   {
    "duration": 118,
    "start_time": "2023-03-20T11:55:58.614Z"
   },
   {
    "duration": 9,
    "start_time": "2023-03-20T11:56:06.510Z"
   },
   {
    "duration": 8,
    "start_time": "2023-03-20T11:56:17.473Z"
   },
   {
    "duration": 12,
    "start_time": "2023-03-20T11:57:17.568Z"
   },
   {
    "duration": 10,
    "start_time": "2023-03-20T11:57:28.813Z"
   },
   {
    "duration": 3,
    "start_time": "2023-03-20T11:57:51.268Z"
   },
   {
    "duration": 6,
    "start_time": "2023-03-20T11:58:10.724Z"
   },
   {
    "duration": 1781,
    "start_time": "2023-03-20T11:59:59.222Z"
   },
   {
    "duration": 12,
    "start_time": "2023-03-20T12:00:08.042Z"
   },
   {
    "duration": 5,
    "start_time": "2023-03-20T12:00:42.502Z"
   },
   {
    "duration": 10,
    "start_time": "2023-03-20T12:01:40.629Z"
   },
   {
    "duration": 5,
    "start_time": "2023-03-20T12:01:43.864Z"
   },
   {
    "duration": 23,
    "start_time": "2023-03-20T12:01:52.138Z"
   },
   {
    "duration": 39,
    "start_time": "2023-03-20T12:02:06.878Z"
   },
   {
    "duration": 5,
    "start_time": "2023-03-20T12:02:09.334Z"
   },
   {
    "duration": 22,
    "start_time": "2023-03-20T12:02:23.966Z"
   },
   {
    "duration": 5,
    "start_time": "2023-03-20T12:02:24.998Z"
   },
   {
    "duration": 5,
    "start_time": "2023-03-20T12:02:54.468Z"
   },
   {
    "duration": 27,
    "start_time": "2023-03-20T12:03:42.531Z"
   },
   {
    "duration": 5,
    "start_time": "2023-03-20T12:03:44.014Z"
   },
   {
    "duration": 48,
    "start_time": "2023-03-20T15:04:00.450Z"
   },
   {
    "duration": 413,
    "start_time": "2023-03-20T15:04:05.618Z"
   },
   {
    "duration": 255,
    "start_time": "2023-03-20T15:04:06.034Z"
   },
   {
    "duration": 30,
    "start_time": "2023-03-20T15:04:06.291Z"
   },
   {
    "duration": 8,
    "start_time": "2023-03-20T15:04:06.322Z"
   },
   {
    "duration": 15,
    "start_time": "2023-03-20T15:04:06.332Z"
   },
   {
    "duration": 86,
    "start_time": "2023-03-20T15:04:06.349Z"
   },
   {
    "duration": 25,
    "start_time": "2023-03-20T15:04:06.436Z"
   },
   {
    "duration": 5,
    "start_time": "2023-03-20T15:04:06.463Z"
   },
   {
    "duration": 7,
    "start_time": "2023-03-20T15:04:06.470Z"
   },
   {
    "duration": 11,
    "start_time": "2023-03-20T15:04:06.503Z"
   },
   {
    "duration": 12,
    "start_time": "2023-03-20T15:04:06.516Z"
   },
   {
    "duration": 26,
    "start_time": "2023-03-20T15:04:06.530Z"
   },
   {
    "duration": 68,
    "start_time": "2023-03-20T15:05:10.495Z"
   },
   {
    "duration": 4,
    "start_time": "2023-03-20T15:05:25.935Z"
   },
   {
    "duration": 11,
    "start_time": "2023-03-20T15:05:45.701Z"
   },
   {
    "duration": 5,
    "start_time": "2023-03-20T15:05:47.949Z"
   },
   {
    "duration": 14,
    "start_time": "2023-03-20T15:06:00.220Z"
   },
   {
    "duration": 6,
    "start_time": "2023-03-20T15:06:06.543Z"
   },
   {
    "duration": 6,
    "start_time": "2023-03-20T15:06:10.131Z"
   },
   {
    "duration": 7,
    "start_time": "2023-03-20T15:06:34.434Z"
   },
   {
    "duration": 5,
    "start_time": "2023-03-20T15:06:41.297Z"
   },
   {
    "duration": 5,
    "start_time": "2023-03-20T15:11:37.162Z"
   },
   {
    "duration": 29,
    "start_time": "2023-03-20T15:12:11.805Z"
   },
   {
    "duration": 6,
    "start_time": "2023-03-20T15:12:31.519Z"
   },
   {
    "duration": 27,
    "start_time": "2023-03-20T15:12:43.995Z"
   },
   {
    "duration": 9,
    "start_time": "2023-03-20T15:13:39.885Z"
   },
   {
    "duration": 8,
    "start_time": "2023-03-20T15:14:22.289Z"
   },
   {
    "duration": 8,
    "start_time": "2023-03-20T15:20:21.814Z"
   },
   {
    "duration": 5,
    "start_time": "2023-03-20T15:21:28.555Z"
   },
   {
    "duration": 35,
    "start_time": "2023-03-20T15:22:27.605Z"
   },
   {
    "duration": 5,
    "start_time": "2023-03-20T15:26:27.890Z"
   },
   {
    "duration": 955,
    "start_time": "2023-03-20T15:34:34.806Z"
   },
   {
    "duration": 162,
    "start_time": "2023-03-20T15:36:12.328Z"
   },
   {
    "duration": 121,
    "start_time": "2023-03-20T15:36:41.348Z"
   },
   {
    "duration": 119,
    "start_time": "2023-03-20T15:37:13.768Z"
   },
   {
    "duration": 76,
    "start_time": "2023-03-20T15:38:48.843Z"
   },
   {
    "duration": 121,
    "start_time": "2023-03-20T15:38:56.538Z"
   },
   {
    "duration": 177,
    "start_time": "2023-03-20T15:42:58.042Z"
   },
   {
    "duration": 71,
    "start_time": "2023-03-20T15:43:22.340Z"
   },
   {
    "duration": 23,
    "start_time": "2023-03-20T15:43:31.705Z"
   },
   {
    "duration": 12,
    "start_time": "2023-03-20T15:44:37.405Z"
   },
   {
    "duration": 20,
    "start_time": "2023-03-20T15:44:56.836Z"
   },
   {
    "duration": 19,
    "start_time": "2023-03-20T15:45:03.615Z"
   },
   {
    "duration": 156,
    "start_time": "2023-03-20T15:45:13.313Z"
   },
   {
    "duration": 12,
    "start_time": "2023-03-20T15:46:59.023Z"
   },
   {
    "duration": 16,
    "start_time": "2023-03-20T15:47:19.577Z"
   },
   {
    "duration": 9469,
    "start_time": "2023-03-20T15:47:50.046Z"
   },
   {
    "duration": 1331,
    "start_time": "2023-03-21T08:21:40.655Z"
   },
   {
    "duration": 253,
    "start_time": "2023-03-21T08:21:41.988Z"
   },
   {
    "duration": 23,
    "start_time": "2023-03-21T08:21:42.243Z"
   },
   {
    "duration": 7,
    "start_time": "2023-03-21T08:21:42.268Z"
   },
   {
    "duration": 15,
    "start_time": "2023-03-21T08:21:42.278Z"
   },
   {
    "duration": 63,
    "start_time": "2023-03-21T08:21:42.294Z"
   },
   {
    "duration": 18,
    "start_time": "2023-03-21T08:21:42.358Z"
   },
   {
    "duration": 6,
    "start_time": "2023-03-21T08:21:42.378Z"
   },
   {
    "duration": 71,
    "start_time": "2023-03-21T08:21:42.387Z"
   },
   {
    "duration": 0,
    "start_time": "2023-03-21T08:21:42.460Z"
   },
   {
    "duration": 103,
    "start_time": "2023-03-21T08:22:28.173Z"
   },
   {
    "duration": 171,
    "start_time": "2023-03-21T08:22:29.297Z"
   },
   {
    "duration": 16,
    "start_time": "2023-03-21T08:22:52.244Z"
   },
   {
    "duration": 115,
    "start_time": "2023-03-21T08:23:01.715Z"
   },
   {
    "duration": 113,
    "start_time": "2023-03-21T08:23:12.323Z"
   },
   {
    "duration": 14,
    "start_time": "2023-03-21T08:23:20.084Z"
   },
   {
    "duration": 165,
    "start_time": "2023-03-21T08:23:28.410Z"
   },
   {
    "duration": 17,
    "start_time": "2023-03-21T08:23:49.940Z"
   },
   {
    "duration": 16,
    "start_time": "2023-03-21T08:24:21.985Z"
   },
   {
    "duration": 12,
    "start_time": "2023-03-21T08:24:36.193Z"
   },
   {
    "duration": 120,
    "start_time": "2023-03-21T08:25:00.001Z"
   },
   {
    "duration": 139,
    "start_time": "2023-03-21T08:25:43.261Z"
   },
   {
    "duration": 14,
    "start_time": "2023-03-21T08:26:33.803Z"
   },
   {
    "duration": 164,
    "start_time": "2023-03-21T08:53:02.169Z"
   },
   {
    "duration": 151,
    "start_time": "2023-03-21T08:53:19.906Z"
   },
   {
    "duration": 738,
    "start_time": "2023-03-21T08:55:33.278Z"
   },
   {
    "duration": 17,
    "start_time": "2023-03-21T08:55:46.446Z"
   },
   {
    "duration": 171,
    "start_time": "2023-03-21T09:00:27.953Z"
   },
   {
    "duration": 149,
    "start_time": "2023-03-21T09:00:42.918Z"
   },
   {
    "duration": 3,
    "start_time": "2023-03-21T09:05:47.761Z"
   },
   {
    "duration": 148,
    "start_time": "2023-03-21T09:07:38.589Z"
   },
   {
    "duration": 140,
    "start_time": "2023-03-21T09:07:48.886Z"
   },
   {
    "duration": 140,
    "start_time": "2023-03-21T09:08:12.253Z"
   },
   {
    "duration": 11,
    "start_time": "2023-03-21T09:09:39.654Z"
   },
   {
    "duration": 145,
    "start_time": "2023-03-21T09:11:04.955Z"
   },
   {
    "duration": 10,
    "start_time": "2023-03-21T09:22:35.555Z"
   },
   {
    "duration": 180,
    "start_time": "2023-03-21T09:23:14.354Z"
   },
   {
    "duration": 169,
    "start_time": "2023-03-21T09:25:02.018Z"
   },
   {
    "duration": 13,
    "start_time": "2023-03-21T09:25:46.318Z"
   },
   {
    "duration": 125,
    "start_time": "2023-03-21T09:25:53.440Z"
   },
   {
    "duration": 172,
    "start_time": "2023-03-21T09:26:03.927Z"
   },
   {
    "duration": 163,
    "start_time": "2023-03-21T09:27:01.877Z"
   },
   {
    "duration": 174,
    "start_time": "2023-03-21T09:27:10.880Z"
   },
   {
    "duration": 282,
    "start_time": "2023-03-21T09:28:13.925Z"
   },
   {
    "duration": 115,
    "start_time": "2023-03-21T09:29:37.091Z"
   },
   {
    "duration": 172,
    "start_time": "2023-03-21T09:29:45.994Z"
   },
   {
    "duration": 163,
    "start_time": "2023-03-21T09:30:14.377Z"
   },
   {
    "duration": 171,
    "start_time": "2023-03-21T09:30:51.153Z"
   },
   {
    "duration": 166,
    "start_time": "2023-03-21T09:31:09.139Z"
   },
   {
    "duration": 192,
    "start_time": "2023-03-21T09:33:06.085Z"
   },
   {
    "duration": 140,
    "start_time": "2023-03-21T09:33:50.793Z"
   },
   {
    "duration": 175,
    "start_time": "2023-03-21T09:34:08.185Z"
   },
   {
    "duration": 106,
    "start_time": "2023-03-21T09:43:40.221Z"
   },
   {
    "duration": 9,
    "start_time": "2023-03-21T09:43:58.733Z"
   },
   {
    "duration": 15,
    "start_time": "2023-03-21T09:44:12.998Z"
   },
   {
    "duration": 14,
    "start_time": "2023-03-21T09:46:58.331Z"
   },
   {
    "duration": 12,
    "start_time": "2023-03-21T09:47:27.668Z"
   },
   {
    "duration": 14,
    "start_time": "2023-03-21T09:47:50.101Z"
   },
   {
    "duration": 9,
    "start_time": "2023-03-21T09:47:56.301Z"
   },
   {
    "duration": 6,
    "start_time": "2023-03-21T09:56:17.125Z"
   },
   {
    "duration": 10,
    "start_time": "2023-03-21T09:56:26.119Z"
   },
   {
    "duration": 172,
    "start_time": "2023-03-21T09:56:57.823Z"
   },
   {
    "duration": 52,
    "start_time": "2023-03-21T14:38:49.146Z"
   },
   {
    "duration": 1365,
    "start_time": "2023-03-21T14:38:54.054Z"
   },
   {
    "duration": 202,
    "start_time": "2023-03-21T14:38:55.422Z"
   },
   {
    "duration": 40,
    "start_time": "2023-03-21T14:38:55.626Z"
   },
   {
    "duration": 12,
    "start_time": "2023-03-21T14:38:55.669Z"
   },
   {
    "duration": 35,
    "start_time": "2023-03-21T14:38:55.683Z"
   },
   {
    "duration": 104,
    "start_time": "2023-03-21T14:38:55.720Z"
   },
   {
    "duration": 11,
    "start_time": "2023-03-21T14:38:55.826Z"
   },
   {
    "duration": 8,
    "start_time": "2023-03-21T14:38:55.839Z"
   },
   {
    "duration": 35,
    "start_time": "2023-03-21T14:38:55.849Z"
   },
   {
    "duration": 279,
    "start_time": "2023-03-21T14:38:55.886Z"
   },
   {
    "duration": 0,
    "start_time": "2023-03-21T14:38:56.167Z"
   },
   {
    "duration": 0,
    "start_time": "2023-03-21T14:38:56.174Z"
   },
   {
    "duration": 11,
    "start_time": "2023-03-21T14:39:13.479Z"
   },
   {
    "duration": 167,
    "start_time": "2023-03-21T14:39:14.243Z"
   },
   {
    "duration": 189,
    "start_time": "2023-03-21T14:39:35.230Z"
   },
   {
    "duration": 172,
    "start_time": "2023-03-21T14:40:00.780Z"
   },
   {
    "duration": 167,
    "start_time": "2023-03-21T14:40:12.174Z"
   },
   {
    "duration": 14,
    "start_time": "2023-03-21T14:40:32.312Z"
   },
   {
    "duration": 145,
    "start_time": "2023-03-21T14:40:44.315Z"
   },
   {
    "duration": 145,
    "start_time": "2023-03-21T14:41:18.861Z"
   },
   {
    "duration": 131,
    "start_time": "2023-03-21T14:42:27.129Z"
   },
   {
    "duration": 194,
    "start_time": "2023-03-21T14:42:46.944Z"
   },
   {
    "duration": 127,
    "start_time": "2023-03-21T14:42:57.289Z"
   },
   {
    "duration": 126,
    "start_time": "2023-03-21T14:48:21.089Z"
   },
   {
    "duration": 243,
    "start_time": "2023-03-21T14:54:45.438Z"
   },
   {
    "duration": 189,
    "start_time": "2023-03-21T14:54:55.833Z"
   },
   {
    "duration": 199,
    "start_time": "2023-03-21T14:55:34.996Z"
   },
   {
    "duration": 165,
    "start_time": "2023-03-21T14:56:27.103Z"
   },
   {
    "duration": 96,
    "start_time": "2023-03-21T14:57:04.700Z"
   },
   {
    "duration": 576,
    "start_time": "2023-03-21T14:57:25.045Z"
   },
   {
    "duration": 100,
    "start_time": "2023-03-21T14:57:59.579Z"
   },
   {
    "duration": 23,
    "start_time": "2023-03-21T14:58:38.104Z"
   },
   {
    "duration": 26,
    "start_time": "2023-03-21T14:58:49.549Z"
   },
   {
    "duration": 41,
    "start_time": "2023-03-21T14:58:59.869Z"
   },
   {
    "duration": 28,
    "start_time": "2023-03-21T14:59:07.575Z"
   },
   {
    "duration": 95,
    "start_time": "2023-03-21T14:59:30.450Z"
   },
   {
    "duration": 20,
    "start_time": "2023-03-21T15:00:04.838Z"
   },
   {
    "duration": 21,
    "start_time": "2023-03-21T15:00:23.744Z"
   },
   {
    "duration": 57,
    "start_time": "2023-03-21T15:00:33.025Z"
   },
   {
    "duration": 59,
    "start_time": "2023-03-21T15:00:56.799Z"
   },
   {
    "duration": 111,
    "start_time": "2023-03-21T15:01:16.433Z"
   },
   {
    "duration": 53,
    "start_time": "2023-03-21T15:06:27.999Z"
   },
   {
    "duration": 67,
    "start_time": "2023-03-21T15:06:58.273Z"
   },
   {
    "duration": 58,
    "start_time": "2023-03-21T15:08:41.802Z"
   },
   {
    "duration": 51,
    "start_time": "2023-03-21T15:08:59.809Z"
   },
   {
    "duration": 70,
    "start_time": "2023-03-21T15:09:47.925Z"
   },
   {
    "duration": 15,
    "start_time": "2023-03-21T15:11:13.629Z"
   },
   {
    "duration": 2,
    "start_time": "2023-03-21T15:11:38.015Z"
   },
   {
    "duration": 24,
    "start_time": "2023-03-21T15:11:41.096Z"
   },
   {
    "duration": 22,
    "start_time": "2023-03-21T15:12:30.337Z"
   },
   {
    "duration": 21,
    "start_time": "2023-03-21T15:12:36.931Z"
   },
   {
    "duration": 24,
    "start_time": "2023-03-21T15:13:56.789Z"
   },
   {
    "duration": 59,
    "start_time": "2023-03-21T15:14:06.301Z"
   },
   {
    "duration": 20,
    "start_time": "2023-03-21T15:23:33.565Z"
   },
   {
    "duration": 23,
    "start_time": "2023-03-21T15:23:59.966Z"
   },
   {
    "duration": 22,
    "start_time": "2023-03-21T15:24:15.881Z"
   },
   {
    "duration": 62,
    "start_time": "2023-03-21T15:24:47.867Z"
   },
   {
    "duration": 4,
    "start_time": "2023-03-21T15:27:09.448Z"
   },
   {
    "duration": 54,
    "start_time": "2023-03-21T15:35:09.016Z"
   },
   {
    "duration": 8,
    "start_time": "2023-03-21T15:36:23.138Z"
   },
   {
    "duration": 15,
    "start_time": "2023-03-21T15:36:47.173Z"
   },
   {
    "duration": 10,
    "start_time": "2023-03-21T15:38:28.022Z"
   },
   {
    "duration": 22,
    "start_time": "2023-03-21T15:38:51.668Z"
   },
   {
    "duration": 11,
    "start_time": "2023-03-21T15:39:53.908Z"
   },
   {
    "duration": 7,
    "start_time": "2023-03-21T15:43:25.240Z"
   },
   {
    "duration": 13,
    "start_time": "2023-03-21T15:43:25.996Z"
   },
   {
    "duration": 14,
    "start_time": "2023-03-21T15:47:10.189Z"
   },
   {
    "duration": 1234,
    "start_time": "2023-03-21T15:47:47.427Z"
   },
   {
    "duration": 83,
    "start_time": "2023-03-21T15:47:48.663Z"
   },
   {
    "duration": 27,
    "start_time": "2023-03-21T15:47:48.748Z"
   },
   {
    "duration": 11,
    "start_time": "2023-03-21T15:47:48.779Z"
   },
   {
    "duration": 17,
    "start_time": "2023-03-21T15:47:48.793Z"
   },
   {
    "duration": 91,
    "start_time": "2023-03-21T15:47:48.812Z"
   },
   {
    "duration": 8,
    "start_time": "2023-03-21T15:47:48.905Z"
   },
   {
    "duration": 10,
    "start_time": "2023-03-21T15:47:48.914Z"
   },
   {
    "duration": 410,
    "start_time": "2023-03-21T15:47:48.925Z"
   },
   {
    "duration": 81,
    "start_time": "2023-03-21T15:47:49.337Z"
   },
   {
    "duration": 64,
    "start_time": "2023-03-21T15:47:49.420Z"
   },
   {
    "duration": 17,
    "start_time": "2023-03-21T15:47:49.492Z"
   },
   {
    "duration": 12,
    "start_time": "2023-03-21T15:48:00.717Z"
   },
   {
    "duration": 4,
    "start_time": "2023-03-21T15:49:35.918Z"
   },
   {
    "duration": 16,
    "start_time": "2023-03-21T15:49:52.770Z"
   },
   {
    "duration": 130,
    "start_time": "2023-03-21T15:53:12.805Z"
   },
   {
    "duration": 175,
    "start_time": "2023-03-21T15:53:33.697Z"
   },
   {
    "duration": 140,
    "start_time": "2023-03-21T15:54:28.709Z"
   },
   {
    "duration": 64,
    "start_time": "2023-03-21T15:55:07.290Z"
   },
   {
    "duration": 13,
    "start_time": "2023-03-21T15:55:25.247Z"
   },
   {
    "duration": 18,
    "start_time": "2023-03-21T15:56:05.021Z"
   },
   {
    "duration": 12,
    "start_time": "2023-03-21T15:56:58.402Z"
   },
   {
    "duration": 26,
    "start_time": "2023-03-21T16:00:42.833Z"
   },
   {
    "duration": 20,
    "start_time": "2023-03-21T16:04:33.262Z"
   },
   {
    "duration": 27,
    "start_time": "2023-03-21T16:05:00.232Z"
   },
   {
    "duration": 5,
    "start_time": "2023-03-21T16:27:59.913Z"
   },
   {
    "duration": 27,
    "start_time": "2023-03-21T16:28:29.661Z"
   },
   {
    "duration": 25,
    "start_time": "2023-03-21T16:29:41.005Z"
   },
   {
    "duration": 16,
    "start_time": "2023-03-21T16:29:54.049Z"
   },
   {
    "duration": 28,
    "start_time": "2023-03-21T16:30:53.500Z"
   },
   {
    "duration": 14,
    "start_time": "2023-03-21T16:31:09.158Z"
   },
   {
    "duration": 15,
    "start_time": "2023-03-21T16:31:55.712Z"
   },
   {
    "duration": 17,
    "start_time": "2023-03-21T16:32:23.108Z"
   },
   {
    "duration": 15,
    "start_time": "2023-03-21T16:33:28.157Z"
   },
   {
    "duration": 76,
    "start_time": "2023-03-21T16:34:55.197Z"
   },
   {
    "duration": 69,
    "start_time": "2023-03-21T16:35:11.402Z"
   },
   {
    "duration": 53,
    "start_time": "2023-03-21T16:35:23.797Z"
   },
   {
    "duration": 66,
    "start_time": "2023-03-21T16:35:51.642Z"
   },
   {
    "duration": 89,
    "start_time": "2023-03-21T16:38:44.155Z"
   },
   {
    "duration": 11,
    "start_time": "2023-03-21T16:39:20.842Z"
   },
   {
    "duration": 57,
    "start_time": "2023-03-21T16:39:29.322Z"
   },
   {
    "duration": 69,
    "start_time": "2023-03-21T16:40:11.243Z"
   },
   {
    "duration": 1172,
    "start_time": "2023-03-21T20:34:33.048Z"
   },
   {
    "duration": 131,
    "start_time": "2023-03-21T20:34:34.223Z"
   },
   {
    "duration": 21,
    "start_time": "2023-03-21T20:34:34.356Z"
   },
   {
    "duration": 7,
    "start_time": "2023-03-21T20:34:34.379Z"
   },
   {
    "duration": 13,
    "start_time": "2023-03-21T20:34:34.388Z"
   },
   {
    "duration": 67,
    "start_time": "2023-03-21T20:34:34.403Z"
   },
   {
    "duration": 6,
    "start_time": "2023-03-21T20:34:34.472Z"
   },
   {
    "duration": 5,
    "start_time": "2023-03-21T20:34:34.480Z"
   },
   {
    "duration": 350,
    "start_time": "2023-03-21T20:34:34.486Z"
   },
   {
    "duration": 102,
    "start_time": "2023-03-21T20:34:34.838Z"
   },
   {
    "duration": 10,
    "start_time": "2023-03-21T20:34:34.941Z"
   },
   {
    "duration": 13,
    "start_time": "2023-03-21T20:34:34.953Z"
   },
   {
    "duration": 54,
    "start_time": "2023-03-21T20:34:34.968Z"
   },
   {
    "duration": 43,
    "start_time": "2023-03-21T20:34:35.024Z"
   },
   {
    "duration": 1386,
    "start_time": "2023-03-22T07:14:14.062Z"
   },
   {
    "duration": 339,
    "start_time": "2023-03-22T07:14:15.450Z"
   },
   {
    "duration": 26,
    "start_time": "2023-03-22T07:14:15.791Z"
   },
   {
    "duration": 7,
    "start_time": "2023-03-22T07:14:15.818Z"
   },
   {
    "duration": 16,
    "start_time": "2023-03-22T07:14:15.828Z"
   },
   {
    "duration": 77,
    "start_time": "2023-03-22T07:14:15.846Z"
   },
   {
    "duration": 7,
    "start_time": "2023-03-22T07:14:15.925Z"
   },
   {
    "duration": 5,
    "start_time": "2023-03-22T07:14:15.934Z"
   },
   {
    "duration": 397,
    "start_time": "2023-03-22T07:14:15.940Z"
   },
   {
    "duration": 103,
    "start_time": "2023-03-22T07:14:16.339Z"
   },
   {
    "duration": 12,
    "start_time": "2023-03-22T07:14:16.443Z"
   },
   {
    "duration": 17,
    "start_time": "2023-03-22T07:14:16.457Z"
   },
   {
    "duration": 57,
    "start_time": "2023-03-22T07:14:16.476Z"
   },
   {
    "duration": 53,
    "start_time": "2023-03-22T07:14:16.536Z"
   },
   {
    "duration": 177,
    "start_time": "2023-03-22T08:47:02.393Z"
   },
   {
    "duration": 166,
    "start_time": "2023-03-22T08:47:10.245Z"
   },
   {
    "duration": 14,
    "start_time": "2023-03-22T09:42:31.961Z"
   },
   {
    "duration": 19,
    "start_time": "2023-03-22T09:48:58.382Z"
   },
   {
    "duration": 15,
    "start_time": "2023-03-22T09:49:49.454Z"
   },
   {
    "duration": 19,
    "start_time": "2023-03-22T09:50:34.125Z"
   },
   {
    "duration": 17,
    "start_time": "2023-03-22T09:51:11.110Z"
   },
   {
    "duration": 81,
    "start_time": "2023-03-22T09:51:25.585Z"
   },
   {
    "duration": 25,
    "start_time": "2023-03-22T09:52:18.396Z"
   },
   {
    "duration": 59,
    "start_time": "2023-03-22T09:52:26.756Z"
   },
   {
    "duration": 20,
    "start_time": "2023-03-22T09:53:34.984Z"
   },
   {
    "duration": 52,
    "start_time": "2023-03-22T09:53:38.554Z"
   },
   {
    "duration": 1455,
    "start_time": "2023-03-22T16:03:48.908Z"
   },
   {
    "duration": 250,
    "start_time": "2023-03-22T16:03:50.367Z"
   },
   {
    "duration": 27,
    "start_time": "2023-03-22T16:03:50.619Z"
   },
   {
    "duration": 9,
    "start_time": "2023-03-22T16:03:50.647Z"
   },
   {
    "duration": 26,
    "start_time": "2023-03-22T16:03:50.659Z"
   },
   {
    "duration": 101,
    "start_time": "2023-03-22T16:03:50.686Z"
   },
   {
    "duration": 8,
    "start_time": "2023-03-22T16:03:50.803Z"
   },
   {
    "duration": 15,
    "start_time": "2023-03-22T16:03:50.813Z"
   },
   {
    "duration": 467,
    "start_time": "2023-03-22T16:03:50.829Z"
   },
   {
    "duration": 150,
    "start_time": "2023-03-22T16:03:51.298Z"
   },
   {
    "duration": 14,
    "start_time": "2023-03-22T16:03:51.450Z"
   },
   {
    "duration": 50,
    "start_time": "2023-03-22T16:03:51.466Z"
   },
   {
    "duration": 20,
    "start_time": "2023-03-22T16:03:51.518Z"
   },
   {
    "duration": 119,
    "start_time": "2023-03-22T16:03:51.540Z"
   },
   {
    "duration": 159,
    "start_time": "2023-03-22T16:04:00.487Z"
   },
   {
    "duration": 10672,
    "start_time": "2023-03-22T16:04:18.953Z"
   },
   {
    "duration": 9,
    "start_time": "2023-03-22T16:11:50.184Z"
   },
   {
    "duration": 10,
    "start_time": "2023-03-22T16:12:00.859Z"
   },
   {
    "duration": 11,
    "start_time": "2023-03-22T16:12:27.305Z"
   },
   {
    "duration": 8,
    "start_time": "2023-03-22T16:12:37.263Z"
   },
   {
    "duration": 21,
    "start_time": "2023-03-22T16:16:51.483Z"
   },
   {
    "duration": 31,
    "start_time": "2023-03-22T16:16:56.620Z"
   },
   {
    "duration": 39,
    "start_time": "2023-03-22T16:17:21.825Z"
   },
   {
    "duration": 21,
    "start_time": "2023-03-22T16:18:10.111Z"
   },
   {
    "duration": 35,
    "start_time": "2023-03-22T16:18:16.278Z"
   },
   {
    "duration": 31,
    "start_time": "2023-03-22T16:18:41.421Z"
   },
   {
    "duration": 24,
    "start_time": "2023-03-22T16:21:11.191Z"
   },
   {
    "duration": 24,
    "start_time": "2023-03-22T16:21:24.323Z"
   },
   {
    "duration": 22,
    "start_time": "2023-03-22T16:21:52.300Z"
   },
   {
    "duration": 16,
    "start_time": "2023-03-22T16:22:09.508Z"
   },
   {
    "duration": 24,
    "start_time": "2023-03-22T16:22:16.935Z"
   },
   {
    "duration": 37,
    "start_time": "2023-03-22T16:22:55.568Z"
   },
   {
    "duration": 40,
    "start_time": "2023-03-22T16:23:27.008Z"
   },
   {
    "duration": 31,
    "start_time": "2023-03-22T16:23:41.697Z"
   },
   {
    "duration": 34,
    "start_time": "2023-03-22T16:23:50.644Z"
   },
   {
    "duration": 34,
    "start_time": "2023-03-22T16:24:11.402Z"
   },
   {
    "duration": 45,
    "start_time": "2023-03-22T16:24:33.919Z"
   },
   {
    "duration": 31,
    "start_time": "2023-03-22T16:26:05.790Z"
   },
   {
    "duration": 19,
    "start_time": "2023-03-22T16:30:37.728Z"
   },
   {
    "duration": 21,
    "start_time": "2023-03-22T16:30:47.427Z"
   },
   {
    "duration": 26,
    "start_time": "2023-03-22T16:30:59.546Z"
   },
   {
    "duration": 29,
    "start_time": "2023-03-22T16:31:42.884Z"
   },
   {
    "duration": 18,
    "start_time": "2023-03-22T16:31:52.223Z"
   },
   {
    "duration": 25,
    "start_time": "2023-03-22T16:32:10.719Z"
   },
   {
    "duration": 1223,
    "start_time": "2023-03-22T16:32:28.935Z"
   },
   {
    "duration": 78,
    "start_time": "2023-03-22T16:32:30.160Z"
   },
   {
    "duration": 36,
    "start_time": "2023-03-22T16:32:30.240Z"
   },
   {
    "duration": 26,
    "start_time": "2023-03-22T16:32:30.278Z"
   },
   {
    "duration": 22,
    "start_time": "2023-03-22T16:32:30.308Z"
   },
   {
    "duration": 90,
    "start_time": "2023-03-22T16:32:30.332Z"
   },
   {
    "duration": 8,
    "start_time": "2023-03-22T16:32:30.424Z"
   },
   {
    "duration": 54,
    "start_time": "2023-03-22T16:32:30.435Z"
   },
   {
    "duration": 485,
    "start_time": "2023-03-22T16:32:30.492Z"
   },
   {
    "duration": 150,
    "start_time": "2023-03-22T16:32:30.979Z"
   },
   {
    "duration": 15,
    "start_time": "2023-03-22T16:32:31.131Z"
   },
   {
    "duration": 67,
    "start_time": "2023-03-22T16:32:31.148Z"
   },
   {
    "duration": 26,
    "start_time": "2023-03-22T16:32:31.217Z"
   },
   {
    "duration": 87,
    "start_time": "2023-03-22T16:32:31.246Z"
   },
   {
    "duration": 22,
    "start_time": "2023-03-22T16:32:31.335Z"
   },
   {
    "duration": 30,
    "start_time": "2023-03-22T16:32:45.767Z"
   },
   {
    "duration": 173,
    "start_time": "2023-03-22T16:38:38.317Z"
   },
   {
    "duration": 30,
    "start_time": "2023-03-22T16:38:56.728Z"
   },
   {
    "duration": 35,
    "start_time": "2023-03-22T16:39:30.433Z"
   },
   {
    "duration": 38,
    "start_time": "2023-03-22T16:40:11.056Z"
   },
   {
    "duration": 1271,
    "start_time": "2023-03-22T16:41:02.922Z"
   },
   {
    "duration": 75,
    "start_time": "2023-03-22T16:41:04.195Z"
   },
   {
    "duration": 28,
    "start_time": "2023-03-22T16:41:04.272Z"
   },
   {
    "duration": 13,
    "start_time": "2023-03-22T16:41:04.301Z"
   },
   {
    "duration": 23,
    "start_time": "2023-03-22T16:41:04.316Z"
   },
   {
    "duration": 86,
    "start_time": "2023-03-22T16:41:04.340Z"
   },
   {
    "duration": 8,
    "start_time": "2023-03-22T16:41:04.428Z"
   },
   {
    "duration": 8,
    "start_time": "2023-03-22T16:41:04.438Z"
   },
   {
    "duration": 417,
    "start_time": "2023-03-22T16:41:04.447Z"
   },
   {
    "duration": 73,
    "start_time": "2023-03-22T16:41:04.866Z"
   },
   {
    "duration": 70,
    "start_time": "2023-03-22T16:41:04.941Z"
   },
   {
    "duration": 20,
    "start_time": "2023-03-22T16:41:05.013Z"
   },
   {
    "duration": 33,
    "start_time": "2023-03-22T16:41:05.035Z"
   },
   {
    "duration": 106,
    "start_time": "2023-03-22T16:41:05.072Z"
   },
   {
    "duration": 51,
    "start_time": "2023-03-22T16:41:05.180Z"
   },
   {
    "duration": 47,
    "start_time": "2023-03-22T16:41:36.683Z"
   },
   {
    "duration": 34,
    "start_time": "2023-03-22T16:42:12.223Z"
   },
   {
    "duration": 23,
    "start_time": "2023-03-22T16:42:19.369Z"
   },
   {
    "duration": 24,
    "start_time": "2023-03-22T16:42:32.087Z"
   },
   {
    "duration": 21,
    "start_time": "2023-03-22T16:46:27.412Z"
   },
   {
    "duration": 168,
    "start_time": "2023-03-22T16:46:59.718Z"
   },
   {
    "duration": 26,
    "start_time": "2023-03-22T16:51:51.914Z"
   },
   {
    "duration": 30,
    "start_time": "2023-03-22T16:58:27.870Z"
   },
   {
    "duration": 19,
    "start_time": "2023-03-22T16:58:43.241Z"
   },
   {
    "duration": 82,
    "start_time": "2023-03-22T17:00:09.600Z"
   },
   {
    "duration": 20,
    "start_time": "2023-03-22T17:00:17.596Z"
   },
   {
    "duration": 23,
    "start_time": "2023-03-22T17:00:41.472Z"
   },
   {
    "duration": 16,
    "start_time": "2023-03-22T17:00:52.723Z"
   },
   {
    "duration": 21,
    "start_time": "2023-03-22T17:01:52.085Z"
   },
   {
    "duration": 24,
    "start_time": "2023-03-22T17:01:57.739Z"
   },
   {
    "duration": 125,
    "start_time": "2023-03-22T17:02:33.394Z"
   },
   {
    "duration": 1311,
    "start_time": "2023-03-22T17:02:51.542Z"
   },
   {
    "duration": 102,
    "start_time": "2023-03-22T17:02:52.855Z"
   },
   {
    "duration": 49,
    "start_time": "2023-03-22T17:02:52.959Z"
   },
   {
    "duration": 13,
    "start_time": "2023-03-22T17:02:53.010Z"
   },
   {
    "duration": 27,
    "start_time": "2023-03-22T17:02:53.026Z"
   },
   {
    "duration": 123,
    "start_time": "2023-03-22T17:02:53.056Z"
   },
   {
    "duration": 22,
    "start_time": "2023-03-22T17:02:53.182Z"
   },
   {
    "duration": 11,
    "start_time": "2023-03-22T17:02:53.207Z"
   },
   {
    "duration": 424,
    "start_time": "2023-03-22T17:02:53.221Z"
   },
   {
    "duration": 85,
    "start_time": "2023-03-22T17:02:53.647Z"
   },
   {
    "duration": 15,
    "start_time": "2023-03-22T17:02:53.734Z"
   },
   {
    "duration": 65,
    "start_time": "2023-03-22T17:02:53.751Z"
   },
   {
    "duration": 19,
    "start_time": "2023-03-22T17:02:53.817Z"
   },
   {
    "duration": 91,
    "start_time": "2023-03-22T17:02:53.839Z"
   },
   {
    "duration": 28,
    "start_time": "2023-03-22T17:02:53.932Z"
   },
   {
    "duration": 20,
    "start_time": "2023-03-22T17:03:49.454Z"
   },
   {
    "duration": 1240,
    "start_time": "2023-03-22T17:04:13.349Z"
   },
   {
    "duration": 79,
    "start_time": "2023-03-22T17:04:14.591Z"
   },
   {
    "duration": 29,
    "start_time": "2023-03-22T17:04:14.672Z"
   },
   {
    "duration": 9,
    "start_time": "2023-03-22T17:04:14.703Z"
   },
   {
    "duration": 17,
    "start_time": "2023-03-22T17:04:14.714Z"
   },
   {
    "duration": 100,
    "start_time": "2023-03-22T17:04:14.733Z"
   },
   {
    "duration": 8,
    "start_time": "2023-03-22T17:04:14.835Z"
   },
   {
    "duration": 7,
    "start_time": "2023-03-22T17:04:14.845Z"
   },
   {
    "duration": 431,
    "start_time": "2023-03-22T17:04:14.854Z"
   },
   {
    "duration": 122,
    "start_time": "2023-03-22T17:04:15.287Z"
   },
   {
    "duration": 16,
    "start_time": "2023-03-22T17:04:15.412Z"
   },
   {
    "duration": 19,
    "start_time": "2023-03-22T17:04:15.430Z"
   },
   {
    "duration": 57,
    "start_time": "2023-03-22T17:04:15.452Z"
   },
   {
    "duration": 64,
    "start_time": "2023-03-22T17:04:15.512Z"
   },
   {
    "duration": 45,
    "start_time": "2023-03-22T17:04:15.578Z"
   },
   {
    "duration": 180,
    "start_time": "2023-03-22T17:07:55.257Z"
   },
   {
    "duration": 21,
    "start_time": "2023-03-22T17:08:13.997Z"
   },
   {
    "duration": 17,
    "start_time": "2023-03-22T17:08:47.382Z"
   },
   {
    "duration": 6,
    "start_time": "2023-03-22T17:10:16.565Z"
   },
   {
    "duration": 41,
    "start_time": "2023-03-22T17:17:33.128Z"
   },
   {
    "duration": 15,
    "start_time": "2023-03-22T17:20:23.326Z"
   },
   {
    "duration": 73,
    "start_time": "2023-03-22T17:20:37.529Z"
   },
   {
    "duration": 73,
    "start_time": "2023-03-22T17:21:00.929Z"
   },
   {
    "duration": 67,
    "start_time": "2023-03-22T17:21:26.829Z"
   },
   {
    "duration": 61,
    "start_time": "2023-03-22T17:21:35.191Z"
   },
   {
    "duration": 21,
    "start_time": "2023-03-22T17:21:54.234Z"
   },
   {
    "duration": 22,
    "start_time": "2023-03-22T17:22:03.459Z"
   },
   {
    "duration": 22,
    "start_time": "2023-03-22T17:22:17.234Z"
   },
   {
    "duration": 85,
    "start_time": "2023-03-22T18:11:32.394Z"
   },
   {
    "duration": 70,
    "start_time": "2023-03-22T18:11:46.185Z"
   },
   {
    "duration": 17,
    "start_time": "2023-03-22T18:12:06.218Z"
   },
   {
    "duration": 22,
    "start_time": "2023-03-22T18:12:15.490Z"
   },
   {
    "duration": 31,
    "start_time": "2023-03-22T18:12:35.563Z"
   },
   {
    "duration": 14,
    "start_time": "2023-03-22T18:13:42.244Z"
   },
   {
    "duration": 22,
    "start_time": "2023-03-22T18:13:47.422Z"
   },
   {
    "duration": 22,
    "start_time": "2023-03-22T18:14:10.454Z"
   },
   {
    "duration": 1173,
    "start_time": "2023-03-22T18:14:22.318Z"
   },
   {
    "duration": 27,
    "start_time": "2023-03-22T18:14:31.867Z"
   },
   {
    "duration": 28,
    "start_time": "2023-03-22T18:15:27.950Z"
   },
   {
    "duration": 29,
    "start_time": "2023-03-22T18:15:44.441Z"
   },
   {
    "duration": 106,
    "start_time": "2023-03-22T18:16:10.622Z"
   },
   {
    "duration": 23,
    "start_time": "2023-03-22T18:16:28.387Z"
   },
   {
    "duration": 76,
    "start_time": "2023-03-22T18:16:53.283Z"
   },
   {
    "duration": 26,
    "start_time": "2023-03-22T18:17:01.377Z"
   },
   {
    "duration": 27,
    "start_time": "2023-03-22T18:17:08.551Z"
   },
   {
    "duration": 27,
    "start_time": "2023-03-22T18:17:19.370Z"
   },
   {
    "duration": 32,
    "start_time": "2023-03-22T18:17:32.637Z"
   },
   {
    "duration": 28,
    "start_time": "2023-03-22T18:17:38.765Z"
   },
   {
    "duration": 31,
    "start_time": "2023-03-22T18:17:56.021Z"
   },
   {
    "duration": 32,
    "start_time": "2023-03-22T18:19:34.067Z"
   },
   {
    "duration": 30,
    "start_time": "2023-03-22T18:19:44.429Z"
   },
   {
    "duration": 22,
    "start_time": "2023-03-22T18:20:01.688Z"
   },
   {
    "duration": 13,
    "start_time": "2023-03-22T18:20:08.725Z"
   },
   {
    "duration": 515,
    "start_time": "2023-03-22T18:25:41.873Z"
   },
   {
    "duration": 1714,
    "start_time": "2023-03-23T07:10:17.014Z"
   },
   {
    "duration": 289,
    "start_time": "2023-03-23T07:10:18.730Z"
   },
   {
    "duration": 33,
    "start_time": "2023-03-23T07:10:19.021Z"
   },
   {
    "duration": 9,
    "start_time": "2023-03-23T07:10:19.055Z"
   },
   {
    "duration": 32,
    "start_time": "2023-03-23T07:10:19.067Z"
   },
   {
    "duration": 89,
    "start_time": "2023-03-23T07:10:19.101Z"
   },
   {
    "duration": 14,
    "start_time": "2023-03-23T07:10:19.192Z"
   },
   {
    "duration": 12,
    "start_time": "2023-03-23T07:10:19.208Z"
   },
   {
    "duration": 473,
    "start_time": "2023-03-23T07:10:19.222Z"
   },
   {
    "duration": 135,
    "start_time": "2023-03-23T07:10:19.697Z"
   },
   {
    "duration": 66,
    "start_time": "2023-03-23T07:10:19.834Z"
   },
   {
    "duration": 17,
    "start_time": "2023-03-23T07:10:19.902Z"
   },
   {
    "duration": 18,
    "start_time": "2023-03-23T07:10:19.921Z"
   },
   {
    "duration": 104,
    "start_time": "2023-03-23T07:10:19.943Z"
   },
   {
    "duration": 6,
    "start_time": "2023-03-23T07:10:20.049Z"
   },
   {
    "duration": 59,
    "start_time": "2023-03-23T07:10:20.057Z"
   },
   {
    "duration": 12,
    "start_time": "2023-03-23T07:10:20.118Z"
   },
   {
    "duration": 689,
    "start_time": "2023-03-23T07:10:20.132Z"
   },
   {
    "duration": 1406,
    "start_time": "2023-03-23T07:10:28.895Z"
   },
   {
    "duration": 85,
    "start_time": "2023-03-23T07:10:30.303Z"
   },
   {
    "duration": 28,
    "start_time": "2023-03-23T07:10:30.390Z"
   },
   {
    "duration": 52,
    "start_time": "2023-03-23T07:10:30.420Z"
   },
   {
    "duration": 43,
    "start_time": "2023-03-23T07:10:30.474Z"
   },
   {
    "duration": 108,
    "start_time": "2023-03-23T07:10:30.518Z"
   },
   {
    "duration": 30,
    "start_time": "2023-03-23T07:10:30.628Z"
   },
   {
    "duration": 53,
    "start_time": "2023-03-23T07:10:30.660Z"
   },
   {
    "duration": 482,
    "start_time": "2023-03-23T07:10:30.714Z"
   },
   {
    "duration": 130,
    "start_time": "2023-03-23T07:10:31.198Z"
   },
   {
    "duration": 63,
    "start_time": "2023-03-23T07:10:31.330Z"
   },
   {
    "duration": 56,
    "start_time": "2023-03-23T07:10:31.395Z"
   },
   {
    "duration": 60,
    "start_time": "2023-03-23T07:10:31.453Z"
   },
   {
    "duration": 78,
    "start_time": "2023-03-23T07:10:31.516Z"
   },
   {
    "duration": 10,
    "start_time": "2023-03-23T07:10:31.596Z"
   },
   {
    "duration": 59,
    "start_time": "2023-03-23T07:10:31.608Z"
   },
   {
    "duration": 31,
    "start_time": "2023-03-23T07:10:31.669Z"
   },
   {
    "duration": 612,
    "start_time": "2023-03-23T07:10:31.702Z"
   },
   {
    "duration": 1591,
    "start_time": "2023-03-23T07:10:47.263Z"
   },
   {
    "duration": 78,
    "start_time": "2023-03-23T07:10:48.856Z"
   },
   {
    "duration": 28,
    "start_time": "2023-03-23T07:10:48.936Z"
   },
   {
    "duration": 25,
    "start_time": "2023-03-23T07:10:48.965Z"
   },
   {
    "duration": 20,
    "start_time": "2023-03-23T07:10:48.992Z"
   },
   {
    "duration": 88,
    "start_time": "2023-03-23T07:10:49.014Z"
   },
   {
    "duration": 8,
    "start_time": "2023-03-23T07:10:49.104Z"
   },
   {
    "duration": 14,
    "start_time": "2023-03-23T07:10:49.114Z"
   },
   {
    "duration": 420,
    "start_time": "2023-03-23T07:10:49.130Z"
   },
   {
    "duration": 72,
    "start_time": "2023-03-23T07:10:49.552Z"
   },
   {
    "duration": 63,
    "start_time": "2023-03-23T07:10:49.626Z"
   },
   {
    "duration": 27,
    "start_time": "2023-03-23T07:10:49.691Z"
   },
   {
    "duration": 19,
    "start_time": "2023-03-23T07:10:49.720Z"
   },
   {
    "duration": 84,
    "start_time": "2023-03-23T07:10:49.742Z"
   },
   {
    "duration": 5,
    "start_time": "2023-03-23T07:10:49.828Z"
   },
   {
    "duration": 36,
    "start_time": "2023-03-23T07:10:49.835Z"
   },
   {
    "duration": 26,
    "start_time": "2023-03-23T07:10:49.873Z"
   },
   {
    "duration": 620,
    "start_time": "2023-03-23T07:10:49.901Z"
   },
   {
    "duration": 60,
    "start_time": "2023-03-23T07:16:17.378Z"
   },
   {
    "duration": 153,
    "start_time": "2023-03-23T07:16:43.817Z"
   },
   {
    "duration": 12,
    "start_time": "2023-03-23T07:16:48.957Z"
   },
   {
    "duration": 11,
    "start_time": "2023-03-23T07:16:59.132Z"
   },
   {
    "duration": 53,
    "start_time": "2023-03-23T07:18:21.042Z"
   },
   {
    "duration": 16,
    "start_time": "2023-03-23T07:18:32.152Z"
   },
   {
    "duration": 10,
    "start_time": "2023-03-23T07:18:54.299Z"
   },
   {
    "duration": 48,
    "start_time": "2023-03-23T07:19:06.360Z"
   },
   {
    "duration": 15,
    "start_time": "2023-03-23T07:19:10.737Z"
   },
   {
    "duration": 62,
    "start_time": "2023-03-23T07:23:02.999Z"
   },
   {
    "duration": 3,
    "start_time": "2023-03-23T07:25:28.982Z"
   },
   {
    "duration": 895,
    "start_time": "2023-03-23T07:25:39.227Z"
   },
   {
    "duration": 414,
    "start_time": "2023-03-23T07:25:54.261Z"
   },
   {
    "duration": 890,
    "start_time": "2023-03-23T07:27:05.139Z"
   },
   {
    "duration": 21,
    "start_time": "2023-03-23T07:28:11.255Z"
   },
   {
    "duration": 24,
    "start_time": "2023-03-23T07:28:15.745Z"
   },
   {
    "duration": 28,
    "start_time": "2023-03-23T07:28:41.971Z"
   },
   {
    "duration": 775,
    "start_time": "2023-03-23T07:28:53.932Z"
   },
   {
    "duration": 8,
    "start_time": "2023-03-23T07:29:17.931Z"
   },
   {
    "duration": 48,
    "start_time": "2023-03-23T07:29:37.451Z"
   },
   {
    "duration": 32,
    "start_time": "2023-03-23T07:29:55.913Z"
   },
   {
    "duration": 880,
    "start_time": "2023-03-23T07:30:43.648Z"
   },
   {
    "duration": 841,
    "start_time": "2023-03-23T07:31:37.178Z"
   },
   {
    "duration": 706,
    "start_time": "2023-03-23T07:33:23.562Z"
   },
   {
    "duration": 23,
    "start_time": "2023-03-23T07:35:18.842Z"
   },
   {
    "duration": 32,
    "start_time": "2023-03-23T07:35:28.848Z"
   },
   {
    "duration": 1227,
    "start_time": "2023-03-23T07:35:41.285Z"
   },
   {
    "duration": 75,
    "start_time": "2023-03-23T07:35:42.514Z"
   },
   {
    "duration": 27,
    "start_time": "2023-03-23T07:35:42.591Z"
   },
   {
    "duration": 24,
    "start_time": "2023-03-23T07:35:42.619Z"
   },
   {
    "duration": 45,
    "start_time": "2023-03-23T07:35:42.645Z"
   },
   {
    "duration": 105,
    "start_time": "2023-03-23T07:35:42.692Z"
   },
   {
    "duration": 13,
    "start_time": "2023-03-23T07:35:42.798Z"
   },
   {
    "duration": 33,
    "start_time": "2023-03-23T07:35:42.813Z"
   },
   {
    "duration": 422,
    "start_time": "2023-03-23T07:35:42.847Z"
   },
   {
    "duration": 120,
    "start_time": "2023-03-23T07:35:43.271Z"
   },
   {
    "duration": 14,
    "start_time": "2023-03-23T07:35:43.393Z"
   },
   {
    "duration": 17,
    "start_time": "2023-03-23T07:35:43.408Z"
   },
   {
    "duration": 17,
    "start_time": "2023-03-23T07:35:43.427Z"
   },
   {
    "duration": 95,
    "start_time": "2023-03-23T07:35:43.447Z"
   },
   {
    "duration": 6,
    "start_time": "2023-03-23T07:35:43.544Z"
   },
   {
    "duration": 52,
    "start_time": "2023-03-23T07:35:43.551Z"
   },
   {
    "duration": 862,
    "start_time": "2023-03-23T07:35:43.604Z"
   },
   {
    "duration": 58,
    "start_time": "2023-03-23T07:35:44.468Z"
   },
   {
    "duration": 34,
    "start_time": "2023-03-23T07:36:30.906Z"
   },
   {
    "duration": 857,
    "start_time": "2023-03-23T07:36:39.995Z"
   },
   {
    "duration": 822,
    "start_time": "2023-03-23T07:39:24.236Z"
   },
   {
    "duration": 832,
    "start_time": "2023-03-23T07:39:36.828Z"
   },
   {
    "duration": 857,
    "start_time": "2023-03-23T07:39:47.553Z"
   },
   {
    "duration": 98,
    "start_time": "2023-03-23T07:50:56.834Z"
   },
   {
    "duration": 34,
    "start_time": "2023-03-23T07:51:05.098Z"
   },
   {
    "duration": 846,
    "start_time": "2023-03-23T07:51:10.148Z"
   },
   {
    "duration": 1486,
    "start_time": "2023-03-23T14:26:03.344Z"
   },
   {
    "duration": 228,
    "start_time": "2023-03-23T14:26:04.832Z"
   },
   {
    "duration": 31,
    "start_time": "2023-03-23T14:26:05.063Z"
   },
   {
    "duration": 11,
    "start_time": "2023-03-23T14:26:05.096Z"
   },
   {
    "duration": 68,
    "start_time": "2023-03-23T14:26:05.109Z"
   },
   {
    "duration": 114,
    "start_time": "2023-03-23T14:26:05.181Z"
   },
   {
    "duration": 9,
    "start_time": "2023-03-23T14:26:05.297Z"
   },
   {
    "duration": 39,
    "start_time": "2023-03-23T14:26:05.308Z"
   },
   {
    "duration": 508,
    "start_time": "2023-03-23T14:26:05.348Z"
   },
   {
    "duration": 107,
    "start_time": "2023-03-23T14:26:05.858Z"
   },
   {
    "duration": 66,
    "start_time": "2023-03-23T14:26:05.967Z"
   },
   {
    "duration": 26,
    "start_time": "2023-03-23T14:26:06.034Z"
   },
   {
    "duration": 26,
    "start_time": "2023-03-23T14:26:06.061Z"
   },
   {
    "duration": 69,
    "start_time": "2023-03-23T14:26:06.090Z"
   },
   {
    "duration": 5,
    "start_time": "2023-03-23T14:26:06.162Z"
   },
   {
    "duration": 39,
    "start_time": "2023-03-23T14:26:06.169Z"
   },
   {
    "duration": 913,
    "start_time": "2023-03-23T14:26:06.210Z"
   },
   {
    "duration": 12,
    "start_time": "2023-03-23T14:29:03.080Z"
   },
   {
    "duration": 73,
    "start_time": "2023-03-23T14:29:33.941Z"
   },
   {
    "duration": 57,
    "start_time": "2023-03-23T14:30:56.398Z"
   },
   {
    "duration": 48,
    "start_time": "2023-03-23T14:31:06.102Z"
   },
   {
    "duration": 158,
    "start_time": "2023-03-23T14:36:38.108Z"
   },
   {
    "duration": 17,
    "start_time": "2023-03-23T14:57:01.518Z"
   },
   {
    "duration": 69,
    "start_time": "2023-03-23T14:58:47.868Z"
   },
   {
    "duration": 129,
    "start_time": "2023-03-23T14:59:29.841Z"
   },
   {
    "duration": 13,
    "start_time": "2023-03-23T15:00:25.539Z"
   },
   {
    "duration": 13,
    "start_time": "2023-03-23T15:00:38.333Z"
   },
   {
    "duration": 421,
    "start_time": "2023-03-23T15:01:19.223Z"
   },
   {
    "duration": 11852,
    "start_time": "2023-03-23T15:06:29.096Z"
   },
   {
    "duration": 1546,
    "start_time": "2023-03-23T15:11:30.471Z"
   },
   {
    "duration": 105,
    "start_time": "2023-03-23T15:11:32.020Z"
   },
   {
    "duration": 42,
    "start_time": "2023-03-23T15:11:32.130Z"
   },
   {
    "duration": 54,
    "start_time": "2023-03-23T15:11:32.175Z"
   },
   {
    "duration": 68,
    "start_time": "2023-03-23T15:11:32.233Z"
   },
   {
    "duration": 163,
    "start_time": "2023-03-23T15:11:32.307Z"
   },
   {
    "duration": 9,
    "start_time": "2023-03-23T15:11:32.478Z"
   },
   {
    "duration": 46,
    "start_time": "2023-03-23T15:11:32.488Z"
   },
   {
    "duration": 500,
    "start_time": "2023-03-23T15:11:32.536Z"
   },
   {
    "duration": 148,
    "start_time": "2023-03-23T15:11:33.037Z"
   },
   {
    "duration": 22,
    "start_time": "2023-03-23T15:11:33.187Z"
   },
   {
    "duration": 42,
    "start_time": "2023-03-23T15:11:33.211Z"
   },
   {
    "duration": 58,
    "start_time": "2023-03-23T15:11:33.255Z"
   },
   {
    "duration": 90,
    "start_time": "2023-03-23T15:11:33.320Z"
   },
   {
    "duration": 4,
    "start_time": "2023-03-23T15:11:33.412Z"
   },
   {
    "duration": 43,
    "start_time": "2023-03-23T15:11:33.418Z"
   },
   {
    "duration": 1012,
    "start_time": "2023-03-23T15:11:33.463Z"
   },
   {
    "duration": 71,
    "start_time": "2023-03-23T15:11:34.482Z"
   },
   {
    "duration": 13,
    "start_time": "2023-03-23T15:11:34.554Z"
   },
   {
    "duration": 182,
    "start_time": "2023-03-23T15:11:34.569Z"
   },
   {
    "duration": 476,
    "start_time": "2023-03-23T15:11:34.753Z"
   },
   {
    "duration": 11230,
    "start_time": "2023-03-23T15:11:35.238Z"
   },
   {
    "duration": 1389,
    "start_time": "2023-03-23T15:16:07.900Z"
   },
   {
    "duration": 98,
    "start_time": "2023-03-23T15:16:09.303Z"
   },
   {
    "duration": 26,
    "start_time": "2023-03-23T15:16:09.406Z"
   },
   {
    "duration": 12,
    "start_time": "2023-03-23T15:16:09.434Z"
   },
   {
    "duration": 40,
    "start_time": "2023-03-23T15:16:09.449Z"
   },
   {
    "duration": 91,
    "start_time": "2023-03-23T15:16:09.497Z"
   },
   {
    "duration": 15,
    "start_time": "2023-03-23T15:16:09.593Z"
   },
   {
    "duration": 25,
    "start_time": "2023-03-23T15:16:09.612Z"
   },
   {
    "duration": 519,
    "start_time": "2023-03-23T15:16:09.638Z"
   },
   {
    "duration": 172,
    "start_time": "2023-03-23T15:16:10.159Z"
   },
   {
    "duration": 15,
    "start_time": "2023-03-23T15:16:10.333Z"
   },
   {
    "duration": 38,
    "start_time": "2023-03-23T15:16:10.349Z"
   },
   {
    "duration": 58,
    "start_time": "2023-03-23T15:16:10.392Z"
   },
   {
    "duration": 82,
    "start_time": "2023-03-23T15:16:10.452Z"
   },
   {
    "duration": 6,
    "start_time": "2023-03-23T15:16:10.535Z"
   },
   {
    "duration": 62,
    "start_time": "2023-03-23T15:16:10.543Z"
   },
   {
    "duration": 972,
    "start_time": "2023-03-23T15:16:10.609Z"
   },
   {
    "duration": 71,
    "start_time": "2023-03-23T15:16:11.586Z"
   },
   {
    "duration": 33,
    "start_time": "2023-03-23T15:16:11.660Z"
   },
   {
    "duration": 241,
    "start_time": "2023-03-23T15:16:11.696Z"
   },
   {
    "duration": 405,
    "start_time": "2023-03-23T15:16:11.946Z"
   },
   {
    "duration": 11980,
    "start_time": "2023-03-23T15:16:12.353Z"
   },
   {
    "duration": 95,
    "start_time": "2023-03-23T15:16:24.339Z"
   },
   {
    "duration": 1257,
    "start_time": "2023-03-23T16:43:38.951Z"
   },
   {
    "duration": 86,
    "start_time": "2023-03-23T16:43:40.210Z"
   },
   {
    "duration": 25,
    "start_time": "2023-03-23T16:43:40.297Z"
   },
   {
    "duration": 19,
    "start_time": "2023-03-23T16:43:40.326Z"
   },
   {
    "duration": 34,
    "start_time": "2023-03-23T16:43:40.347Z"
   },
   {
    "duration": 98,
    "start_time": "2023-03-23T16:43:40.383Z"
   },
   {
    "duration": 10,
    "start_time": "2023-03-23T16:43:40.483Z"
   },
   {
    "duration": 17,
    "start_time": "2023-03-23T16:43:40.495Z"
   },
   {
    "duration": 378,
    "start_time": "2023-03-23T16:43:40.515Z"
   },
   {
    "duration": 122,
    "start_time": "2023-03-23T16:43:40.896Z"
   },
   {
    "duration": 77,
    "start_time": "2023-03-23T16:43:41.020Z"
   },
   {
    "duration": 22,
    "start_time": "2023-03-23T16:43:41.099Z"
   },
   {
    "duration": 19,
    "start_time": "2023-03-23T16:43:41.123Z"
   },
   {
    "duration": 77,
    "start_time": "2023-03-23T16:43:41.144Z"
   },
   {
    "duration": 7,
    "start_time": "2023-03-23T16:43:41.222Z"
   },
   {
    "duration": 62,
    "start_time": "2023-03-23T16:43:41.232Z"
   },
   {
    "duration": 863,
    "start_time": "2023-03-23T16:43:41.296Z"
   },
   {
    "duration": 95,
    "start_time": "2023-03-23T16:43:42.161Z"
   },
   {
    "duration": 39,
    "start_time": "2023-03-23T16:43:42.258Z"
   },
   {
    "duration": 144,
    "start_time": "2023-03-23T16:43:42.299Z"
   },
   {
    "duration": 412,
    "start_time": "2023-03-23T16:43:42.445Z"
   },
   {
    "duration": 9344,
    "start_time": "2023-03-23T16:43:42.858Z"
   },
   {
    "duration": 70,
    "start_time": "2023-03-23T16:43:52.204Z"
   },
   {
    "duration": 41,
    "start_time": "2023-03-23T16:44:56.314Z"
   },
   {
    "duration": 20,
    "start_time": "2023-03-23T17:02:27.532Z"
   },
   {
    "duration": 95,
    "start_time": "2023-03-23T17:02:51.275Z"
   },
   {
    "duration": 92,
    "start_time": "2023-03-23T17:03:14.946Z"
   },
   {
    "duration": 82,
    "start_time": "2023-03-23T17:03:32.778Z"
   },
   {
    "duration": 73,
    "start_time": "2023-03-23T17:04:10.894Z"
   },
   {
    "duration": 29,
    "start_time": "2023-03-23T17:07:35.105Z"
   },
   {
    "duration": 18,
    "start_time": "2023-03-23T17:07:45.223Z"
   },
   {
    "duration": 23,
    "start_time": "2023-03-23T17:08:16.743Z"
   },
   {
    "duration": 55,
    "start_time": "2023-03-23T17:08:41.711Z"
   },
   {
    "duration": 18,
    "start_time": "2023-03-23T17:11:59.440Z"
   },
   {
    "duration": 19,
    "start_time": "2023-03-23T17:12:10.075Z"
   },
   {
    "duration": 16,
    "start_time": "2023-03-23T17:12:44.347Z"
   },
   {
    "duration": 33,
    "start_time": "2023-03-23T17:13:20.818Z"
   },
   {
    "duration": 74,
    "start_time": "2023-03-23T17:14:19.800Z"
   },
   {
    "duration": 69,
    "start_time": "2023-03-23T17:14:37.695Z"
   },
   {
    "duration": 97,
    "start_time": "2023-03-23T17:14:53.015Z"
   },
   {
    "duration": 18,
    "start_time": "2023-03-23T17:15:45.903Z"
   },
   {
    "duration": 58,
    "start_time": "2023-03-23T17:16:03.982Z"
   },
   {
    "duration": 73,
    "start_time": "2023-03-23T17:16:14.486Z"
   },
   {
    "duration": 46,
    "start_time": "2023-03-23T17:17:24.612Z"
   },
   {
    "duration": 97,
    "start_time": "2023-03-23T17:17:40.601Z"
   },
   {
    "duration": 40,
    "start_time": "2023-03-23T17:19:53.391Z"
   },
   {
    "duration": 30,
    "start_time": "2023-03-23T17:20:17.945Z"
   },
   {
    "duration": 42,
    "start_time": "2023-03-23T17:20:47.986Z"
   },
   {
    "duration": 33,
    "start_time": "2023-03-23T17:22:14.307Z"
   },
   {
    "duration": 26,
    "start_time": "2023-03-23T17:24:39.760Z"
   },
   {
    "duration": 68,
    "start_time": "2023-03-23T17:24:52.786Z"
   },
   {
    "duration": 62,
    "start_time": "2023-03-23T17:25:18.921Z"
   },
   {
    "duration": 57,
    "start_time": "2023-03-23T17:26:59.371Z"
   },
   {
    "duration": 56,
    "start_time": "2023-03-23T17:29:50.608Z"
   },
   {
    "duration": 56,
    "start_time": "2023-03-23T17:30:34.049Z"
   },
   {
    "duration": 31,
    "start_time": "2023-03-23T17:35:03.460Z"
   },
   {
    "duration": 47,
    "start_time": "2023-03-23T17:35:26.611Z"
   },
   {
    "duration": 46,
    "start_time": "2023-03-23T17:35:37.224Z"
   },
   {
    "duration": 42,
    "start_time": "2023-03-23T17:36:17.611Z"
   },
   {
    "duration": 48,
    "start_time": "2023-03-23T17:36:40.912Z"
   },
   {
    "duration": 39,
    "start_time": "2023-03-23T17:37:51.359Z"
   },
   {
    "duration": 16,
    "start_time": "2023-03-23T17:38:55.519Z"
   },
   {
    "duration": 42,
    "start_time": "2023-03-23T17:39:04.125Z"
   },
   {
    "duration": 35,
    "start_time": "2023-03-23T17:39:18.866Z"
   },
   {
    "duration": 46,
    "start_time": "2023-03-23T17:39:34.737Z"
   },
   {
    "duration": 49,
    "start_time": "2023-03-23T17:40:17.201Z"
   },
   {
    "duration": 9,
    "start_time": "2023-03-23T17:40:34.775Z"
   },
   {
    "duration": 60,
    "start_time": "2023-03-23T17:40:53.343Z"
   },
   {
    "duration": 27,
    "start_time": "2023-03-23T17:40:54.195Z"
   },
   {
    "duration": 9,
    "start_time": "2023-03-23T17:40:54.408Z"
   },
   {
    "duration": 14,
    "start_time": "2023-03-23T17:44:09.811Z"
   },
   {
    "duration": 28,
    "start_time": "2023-03-23T17:56:39.343Z"
   },
   {
    "duration": 6,
    "start_time": "2023-03-23T17:57:07.588Z"
   },
   {
    "duration": 13,
    "start_time": "2023-03-23T17:58:24.685Z"
   },
   {
    "duration": 9,
    "start_time": "2023-03-23T17:58:34.744Z"
   },
   {
    "duration": 902,
    "start_time": "2023-03-23T17:58:59.734Z"
   },
   {
    "duration": 978,
    "start_time": "2023-03-23T17:59:12.603Z"
   },
   {
    "duration": 20,
    "start_time": "2023-03-23T18:01:10.413Z"
   },
   {
    "duration": 1510,
    "start_time": "2023-03-24T12:45:06.673Z"
   },
   {
    "duration": 572,
    "start_time": "2023-03-24T12:45:08.186Z"
   },
   {
    "duration": 30,
    "start_time": "2023-03-24T12:45:08.760Z"
   },
   {
    "duration": 9,
    "start_time": "2023-03-24T12:45:08.792Z"
   },
   {
    "duration": 18,
    "start_time": "2023-03-24T12:45:08.803Z"
   },
   {
    "duration": 100,
    "start_time": "2023-03-24T12:45:08.822Z"
   },
   {
    "duration": 9,
    "start_time": "2023-03-24T12:45:08.923Z"
   },
   {
    "duration": 5,
    "start_time": "2023-03-24T12:45:08.934Z"
   },
   {
    "duration": 749,
    "start_time": "2023-03-24T12:45:08.961Z"
   },
   {
    "duration": 86,
    "start_time": "2023-03-24T12:45:09.714Z"
   },
   {
    "duration": 72,
    "start_time": "2023-03-24T12:45:09.802Z"
   },
   {
    "duration": 22,
    "start_time": "2023-03-24T12:45:09.877Z"
   },
   {
    "duration": 25,
    "start_time": "2023-03-24T12:45:09.901Z"
   },
   {
    "duration": 69,
    "start_time": "2023-03-24T12:45:09.963Z"
   },
   {
    "duration": 5,
    "start_time": "2023-03-24T12:45:10.033Z"
   },
   {
    "duration": 41,
    "start_time": "2023-03-24T12:45:10.061Z"
   },
   {
    "duration": 1105,
    "start_time": "2023-03-24T12:45:10.103Z"
   },
   {
    "duration": 64,
    "start_time": "2023-03-24T12:45:11.210Z"
   },
   {
    "duration": 11,
    "start_time": "2023-03-24T12:45:11.276Z"
   },
   {
    "duration": 229,
    "start_time": "2023-03-24T12:45:11.290Z"
   },
   {
    "duration": 345,
    "start_time": "2023-03-24T12:45:11.522Z"
   },
   {
    "duration": 10053,
    "start_time": "2023-03-24T12:45:11.869Z"
   },
   {
    "duration": 163,
    "start_time": "2023-03-24T12:45:21.923Z"
   },
   {
    "duration": 74,
    "start_time": "2023-03-24T12:45:22.088Z"
   },
   {
    "duration": 42,
    "start_time": "2023-03-24T12:45:22.164Z"
   },
   {
    "duration": 219,
    "start_time": "2023-03-24T12:45:22.208Z"
   },
   {
    "duration": 16,
    "start_time": "2023-03-24T12:48:37.078Z"
   },
   {
    "duration": 35,
    "start_time": "2023-03-24T12:48:42.979Z"
   },
   {
    "duration": 29,
    "start_time": "2023-03-24T12:49:52.110Z"
   },
   {
    "duration": 7,
    "start_time": "2023-03-24T12:50:02.158Z"
   },
   {
    "duration": 7,
    "start_time": "2023-03-24T13:02:46.830Z"
   },
   {
    "duration": 12,
    "start_time": "2023-03-24T13:08:31.827Z"
   },
   {
    "duration": 4,
    "start_time": "2023-03-24T13:08:43.534Z"
   },
   {
    "duration": 7,
    "start_time": "2023-03-24T13:13:31.429Z"
   },
   {
    "duration": 90,
    "start_time": "2023-03-24T13:13:39.042Z"
   },
   {
    "duration": 11,
    "start_time": "2023-03-24T13:13:42.384Z"
   },
   {
    "duration": 2224,
    "start_time": "2023-03-24T13:17:30.287Z"
   },
   {
    "duration": 6,
    "start_time": "2023-03-24T13:17:44.512Z"
   },
   {
    "duration": 2148,
    "start_time": "2023-03-24T13:20:22.445Z"
   },
   {
    "duration": 5,
    "start_time": "2023-03-24T13:20:24.594Z"
   },
   {
    "duration": 12829,
    "start_time": "2023-03-24T13:20:51.255Z"
   },
   {
    "duration": 7,
    "start_time": "2023-03-24T13:21:04.087Z"
   },
   {
    "duration": 11,
    "start_time": "2023-03-24T13:27:16.360Z"
   },
   {
    "duration": 6,
    "start_time": "2023-03-24T13:27:36.882Z"
   },
   {
    "duration": 7,
    "start_time": "2023-03-24T13:27:52.505Z"
   },
   {
    "duration": 8,
    "start_time": "2023-03-24T13:29:50.530Z"
   },
   {
    "duration": 6,
    "start_time": "2023-03-24T13:29:53.651Z"
   },
   {
    "duration": 7,
    "start_time": "2023-03-24T13:29:54.531Z"
   },
   {
    "duration": 1341,
    "start_time": "2023-03-24T13:30:06.332Z"
   },
   {
    "duration": 326,
    "start_time": "2023-03-24T13:30:07.675Z"
   },
   {
    "duration": 26,
    "start_time": "2023-03-24T13:30:08.003Z"
   },
   {
    "duration": 8,
    "start_time": "2023-03-24T13:30:08.031Z"
   },
   {
    "duration": 36,
    "start_time": "2023-03-24T13:30:08.041Z"
   },
   {
    "duration": 102,
    "start_time": "2023-03-24T13:30:08.079Z"
   },
   {
    "duration": 10,
    "start_time": "2023-03-24T13:30:08.183Z"
   },
   {
    "duration": 10,
    "start_time": "2023-03-24T13:30:08.195Z"
   },
   {
    "duration": 1413,
    "start_time": "2023-03-24T13:30:08.207Z"
   },
   {
    "duration": 161,
    "start_time": "2023-03-24T13:30:09.622Z"
   },
   {
    "duration": 16,
    "start_time": "2023-03-24T13:30:09.785Z"
   },
   {
    "duration": 18,
    "start_time": "2023-03-24T13:30:09.803Z"
   },
   {
    "duration": 57,
    "start_time": "2023-03-24T13:30:09.822Z"
   },
   {
    "duration": 54,
    "start_time": "2023-03-24T13:30:09.882Z"
   },
   {
    "duration": 5,
    "start_time": "2023-03-24T13:30:09.937Z"
   },
   {
    "duration": 54,
    "start_time": "2023-03-24T13:30:09.943Z"
   },
   {
    "duration": 1026,
    "start_time": "2023-03-24T13:30:09.999Z"
   },
   {
    "duration": 88,
    "start_time": "2023-03-24T13:30:11.027Z"
   },
   {
    "duration": 13,
    "start_time": "2023-03-24T13:30:11.117Z"
   },
   {
    "duration": 144,
    "start_time": "2023-03-24T13:30:11.132Z"
   },
   {
    "duration": 427,
    "start_time": "2023-03-24T13:30:11.278Z"
   },
   {
    "duration": 10765,
    "start_time": "2023-03-24T13:30:11.707Z"
   },
   {
    "duration": 195,
    "start_time": "2023-03-24T13:30:22.477Z"
   },
   {
    "duration": 21,
    "start_time": "2023-03-24T13:30:22.674Z"
   },
   {
    "duration": 96,
    "start_time": "2023-03-24T13:30:22.697Z"
   },
   {
    "duration": 5,
    "start_time": "2023-03-24T13:30:22.795Z"
   },
   {
    "duration": 13313,
    "start_time": "2023-03-24T13:30:22.803Z"
   },
   {
    "duration": 10,
    "start_time": "2023-03-24T13:30:36.118Z"
   },
   {
    "duration": 5,
    "start_time": "2023-03-24T13:30:36.129Z"
   },
   {
    "duration": 7,
    "start_time": "2023-03-24T13:30:36.136Z"
   },
   {
    "duration": 7,
    "start_time": "2023-03-24T13:30:53.283Z"
   },
   {
    "duration": 5,
    "start_time": "2023-03-24T13:30:53.975Z"
   },
   {
    "duration": 7,
    "start_time": "2023-03-24T13:30:54.880Z"
   },
   {
    "duration": 8,
    "start_time": "2023-03-24T13:31:10.747Z"
   },
   {
    "duration": 2115,
    "start_time": "2023-03-24T13:32:05.548Z"
   },
   {
    "duration": 9,
    "start_time": "2023-03-24T13:32:10.877Z"
   },
   {
    "duration": 8,
    "start_time": "2023-03-24T13:32:12.677Z"
   },
   {
    "duration": 6,
    "start_time": "2023-03-24T13:32:13.541Z"
   },
   {
    "duration": 16,
    "start_time": "2023-03-24T13:32:16.561Z"
   },
   {
    "duration": 79,
    "start_time": "2023-03-24T13:32:58.435Z"
   },
   {
    "duration": 2898,
    "start_time": "2023-03-24T13:33:13.477Z"
   },
   {
    "duration": 5,
    "start_time": "2023-03-24T13:33:17.833Z"
   },
   {
    "duration": 26,
    "start_time": "2023-03-24T13:33:33.721Z"
   },
   {
    "duration": 6,
    "start_time": "2023-03-24T13:33:38.236Z"
   },
   {
    "duration": 7,
    "start_time": "2023-03-24T13:33:41.711Z"
   },
   {
    "duration": 10,
    "start_time": "2023-03-24T13:34:03.281Z"
   },
   {
    "duration": 51,
    "start_time": "2023-03-24T13:36:01.479Z"
   },
   {
    "duration": 65,
    "start_time": "2023-03-24T13:36:07.359Z"
   },
   {
    "duration": 4,
    "start_time": "2023-03-24T13:39:01.001Z"
   },
   {
    "duration": 10,
    "start_time": "2023-03-24T13:39:06.043Z"
   },
   {
    "duration": 76,
    "start_time": "2023-03-24T13:40:20.780Z"
   },
   {
    "duration": 152,
    "start_time": "2023-03-24T13:40:29.165Z"
   },
   {
    "duration": 18,
    "start_time": "2023-03-24T13:57:04.012Z"
   },
   {
    "duration": 190,
    "start_time": "2023-03-24T14:00:22.309Z"
   },
   {
    "duration": 44,
    "start_time": "2023-03-24T14:00:57.155Z"
   },
   {
    "duration": 43,
    "start_time": "2023-03-24T14:01:27.820Z"
   },
   {
    "duration": 6,
    "start_time": "2023-03-24T14:02:40.917Z"
   },
   {
    "duration": 27,
    "start_time": "2023-03-24T14:03:00.052Z"
   },
   {
    "duration": 14,
    "start_time": "2023-03-24T14:03:08.780Z"
   },
   {
    "duration": 25,
    "start_time": "2023-03-24T14:03:16.852Z"
   },
   {
    "duration": 1042,
    "start_time": "2023-03-25T11:06:48.666Z"
   },
   {
    "duration": 72,
    "start_time": "2023-03-25T11:06:49.709Z"
   },
   {
    "duration": 29,
    "start_time": "2023-03-25T11:06:49.783Z"
   },
   {
    "duration": 9,
    "start_time": "2023-03-25T11:06:49.814Z"
   },
   {
    "duration": 30,
    "start_time": "2023-03-25T11:06:49.824Z"
   },
   {
    "duration": 52,
    "start_time": "2023-03-25T11:06:49.855Z"
   },
   {
    "duration": 6,
    "start_time": "2023-03-25T11:06:49.908Z"
   },
   {
    "duration": 7,
    "start_time": "2023-03-25T11:06:49.916Z"
   },
   {
    "duration": 349,
    "start_time": "2023-03-25T11:06:49.925Z"
   },
   {
    "duration": 84,
    "start_time": "2023-03-25T11:06:50.277Z"
   },
   {
    "duration": 10,
    "start_time": "2023-03-25T11:06:50.362Z"
   },
   {
    "duration": 16,
    "start_time": "2023-03-25T11:06:50.373Z"
   },
   {
    "duration": 64,
    "start_time": "2023-03-25T11:06:50.391Z"
   },
   {
    "duration": 46,
    "start_time": "2023-03-25T11:06:50.456Z"
   },
   {
    "duration": 14,
    "start_time": "2023-03-25T11:06:50.504Z"
   },
   {
    "duration": 37,
    "start_time": "2023-03-25T11:06:50.520Z"
   },
   {
    "duration": 756,
    "start_time": "2023-03-25T11:06:50.558Z"
   },
   {
    "duration": 51,
    "start_time": "2023-03-25T11:06:51.315Z"
   },
   {
    "duration": 9,
    "start_time": "2023-03-25T11:06:51.368Z"
   },
   {
    "duration": 102,
    "start_time": "2023-03-25T11:06:51.378Z"
   },
   {
    "duration": 279,
    "start_time": "2023-03-25T11:06:51.481Z"
   },
   {
    "duration": 8040,
    "start_time": "2023-03-25T11:06:51.761Z"
   },
   {
    "duration": 149,
    "start_time": "2023-03-25T11:06:59.803Z"
   },
   {
    "duration": 18,
    "start_time": "2023-03-25T11:06:59.954Z"
   },
   {
    "duration": 85,
    "start_time": "2023-03-25T11:06:59.973Z"
   },
   {
    "duration": 4,
    "start_time": "2023-03-25T11:07:00.060Z"
   },
   {
    "duration": 37,
    "start_time": "2023-03-25T11:07:00.066Z"
   },
   {
    "duration": 4,
    "start_time": "2023-03-25T11:07:00.105Z"
   },
   {
    "duration": 38,
    "start_time": "2023-03-25T11:07:00.111Z"
   },
   {
    "duration": 116,
    "start_time": "2023-03-25T11:07:00.151Z"
   },
   {
    "duration": 29,
    "start_time": "2023-03-25T11:07:00.269Z"
   },
   {
    "duration": 49,
    "start_time": "2023-03-25T13:23:20.086Z"
   },
   {
    "duration": 1544,
    "start_time": "2023-03-25T13:23:25.702Z"
   },
   {
    "duration": 140,
    "start_time": "2023-03-25T13:23:27.248Z"
   },
   {
    "duration": 29,
    "start_time": "2023-03-25T13:23:27.390Z"
   },
   {
    "duration": 9,
    "start_time": "2023-03-25T13:23:27.421Z"
   },
   {
    "duration": 24,
    "start_time": "2023-03-25T13:23:27.432Z"
   },
   {
    "duration": 11,
    "start_time": "2023-03-25T13:23:27.457Z"
   },
   {
    "duration": 95,
    "start_time": "2023-03-25T13:23:27.469Z"
   },
   {
    "duration": 8,
    "start_time": "2023-03-25T13:23:27.566Z"
   },
   {
    "duration": 8,
    "start_time": "2023-03-25T13:23:27.576Z"
   },
   {
    "duration": 407,
    "start_time": "2023-03-25T13:23:27.586Z"
   },
   {
    "duration": 128,
    "start_time": "2023-03-25T13:23:27.995Z"
   },
   {
    "duration": 14,
    "start_time": "2023-03-25T13:23:28.125Z"
   },
   {
    "duration": 17,
    "start_time": "2023-03-25T13:23:28.140Z"
   },
   {
    "duration": 70,
    "start_time": "2023-03-25T13:23:28.160Z"
   },
   {
    "duration": 61,
    "start_time": "2023-03-25T13:23:28.232Z"
   },
   {
    "duration": 5,
    "start_time": "2023-03-25T13:23:28.317Z"
   },
   {
    "duration": 36,
    "start_time": "2023-03-25T13:23:28.323Z"
   },
   {
    "duration": 1046,
    "start_time": "2023-03-25T13:23:28.361Z"
   },
   {
    "duration": 61,
    "start_time": "2023-03-25T13:23:29.409Z"
   },
   {
    "duration": 11,
    "start_time": "2023-03-25T13:23:29.472Z"
   },
   {
    "duration": 162,
    "start_time": "2023-03-25T13:23:29.485Z"
   },
   {
    "duration": 350,
    "start_time": "2023-03-25T13:23:29.650Z"
   },
   {
    "duration": 1266,
    "start_time": "2023-03-25T13:23:35.146Z"
   },
   {
    "duration": 80,
    "start_time": "2023-03-25T13:23:36.417Z"
   },
   {
    "duration": 27,
    "start_time": "2023-03-25T13:23:36.498Z"
   },
   {
    "duration": 9,
    "start_time": "2023-03-25T13:23:36.527Z"
   },
   {
    "duration": 19,
    "start_time": "2023-03-25T13:23:36.538Z"
   },
   {
    "duration": 9,
    "start_time": "2023-03-25T13:23:36.559Z"
   },
   {
    "duration": 101,
    "start_time": "2023-03-25T13:23:36.570Z"
   },
   {
    "duration": 8,
    "start_time": "2023-03-25T13:23:36.673Z"
   },
   {
    "duration": 16,
    "start_time": "2023-03-25T13:23:36.682Z"
   },
   {
    "duration": 408,
    "start_time": "2023-03-25T13:23:36.700Z"
   },
   {
    "duration": 114,
    "start_time": "2023-03-25T13:23:37.110Z"
   },
   {
    "duration": 13,
    "start_time": "2023-03-25T13:23:37.225Z"
   },
   {
    "duration": 17,
    "start_time": "2023-03-25T13:23:37.240Z"
   },
   {
    "duration": 72,
    "start_time": "2023-03-25T13:23:37.260Z"
   },
   {
    "duration": 66,
    "start_time": "2023-03-25T13:23:37.335Z"
   },
   {
    "duration": 15,
    "start_time": "2023-03-25T13:23:37.403Z"
   },
   {
    "duration": 39,
    "start_time": "2023-03-25T13:23:37.420Z"
   },
   {
    "duration": 973,
    "start_time": "2023-03-25T13:23:37.461Z"
   },
   {
    "duration": 52,
    "start_time": "2023-03-25T13:23:38.436Z"
   },
   {
    "duration": 28,
    "start_time": "2023-03-25T13:23:38.490Z"
   },
   {
    "duration": 100,
    "start_time": "2023-03-25T13:23:38.520Z"
   },
   {
    "duration": 301,
    "start_time": "2023-03-25T13:23:38.622Z"
   },
   {
    "duration": 10247,
    "start_time": "2023-03-25T13:23:38.925Z"
   },
   {
    "duration": 161,
    "start_time": "2023-03-25T13:23:49.175Z"
   },
   {
    "duration": 17,
    "start_time": "2023-03-25T13:23:49.338Z"
   },
   {
    "duration": 97,
    "start_time": "2023-03-25T13:23:49.356Z"
   },
   {
    "duration": 5,
    "start_time": "2023-03-25T13:23:49.455Z"
   },
   {
    "duration": 70,
    "start_time": "2023-03-25T13:23:49.462Z"
   },
   {
    "duration": 5,
    "start_time": "2023-03-25T13:23:49.534Z"
   },
   {
    "duration": 25,
    "start_time": "2023-03-25T13:23:49.541Z"
   },
   {
    "duration": 143,
    "start_time": "2023-03-25T13:23:49.568Z"
   },
   {
    "duration": 30,
    "start_time": "2023-03-25T13:23:49.713Z"
   },
   {
    "duration": 20,
    "start_time": "2023-03-25T13:24:05.461Z"
   },
   {
    "duration": 163,
    "start_time": "2023-03-25T13:26:29.899Z"
   },
   {
    "duration": 9,
    "start_time": "2023-03-25T13:28:35.969Z"
   },
   {
    "duration": 17,
    "start_time": "2023-03-25T13:30:46.731Z"
   },
   {
    "duration": 21,
    "start_time": "2023-03-25T13:30:57.730Z"
   },
   {
    "duration": 25,
    "start_time": "2023-03-25T13:44:37.045Z"
   },
   {
    "duration": 70,
    "start_time": "2023-03-25T13:56:38.894Z"
   },
   {
    "duration": 316,
    "start_time": "2023-03-25T13:56:43.451Z"
   },
   {
    "duration": 514,
    "start_time": "2023-03-25T13:57:11.506Z"
   },
   {
    "duration": 300,
    "start_time": "2023-03-25T13:57:45.346Z"
   },
   {
    "duration": 1332,
    "start_time": "2023-03-25T13:58:08.145Z"
   },
   {
    "duration": 78,
    "start_time": "2023-03-25T13:58:09.479Z"
   },
   {
    "duration": 28,
    "start_time": "2023-03-25T13:58:09.559Z"
   },
   {
    "duration": 9,
    "start_time": "2023-03-25T13:58:09.589Z"
   },
   {
    "duration": 32,
    "start_time": "2023-03-25T13:58:09.599Z"
   },
   {
    "duration": 13,
    "start_time": "2023-03-25T13:58:09.633Z"
   },
   {
    "duration": 20,
    "start_time": "2023-03-25T13:58:09.647Z"
   },
   {
    "duration": 105,
    "start_time": "2023-03-25T13:58:09.669Z"
   },
   {
    "duration": 0,
    "start_time": "2023-03-25T13:58:09.777Z"
   },
   {
    "duration": 0,
    "start_time": "2023-03-25T13:58:09.778Z"
   },
   {
    "duration": 0,
    "start_time": "2023-03-25T13:58:09.779Z"
   },
   {
    "duration": 0,
    "start_time": "2023-03-25T13:58:09.780Z"
   },
   {
    "duration": 0,
    "start_time": "2023-03-25T13:58:09.781Z"
   },
   {
    "duration": 0,
    "start_time": "2023-03-25T13:58:09.783Z"
   },
   {
    "duration": 0,
    "start_time": "2023-03-25T13:58:09.784Z"
   },
   {
    "duration": 0,
    "start_time": "2023-03-25T13:58:09.786Z"
   },
   {
    "duration": 0,
    "start_time": "2023-03-25T13:58:09.788Z"
   },
   {
    "duration": 0,
    "start_time": "2023-03-25T13:58:09.789Z"
   },
   {
    "duration": 0,
    "start_time": "2023-03-25T13:58:09.790Z"
   },
   {
    "duration": 0,
    "start_time": "2023-03-25T13:58:09.791Z"
   },
   {
    "duration": 0,
    "start_time": "2023-03-25T13:58:09.792Z"
   },
   {
    "duration": 0,
    "start_time": "2023-03-25T13:58:09.794Z"
   },
   {
    "duration": 0,
    "start_time": "2023-03-25T13:58:09.795Z"
   },
   {
    "duration": 0,
    "start_time": "2023-03-25T13:58:09.797Z"
   },
   {
    "duration": 0,
    "start_time": "2023-03-25T13:58:09.798Z"
   },
   {
    "duration": 0,
    "start_time": "2023-03-25T13:58:09.800Z"
   },
   {
    "duration": 0,
    "start_time": "2023-03-25T13:58:09.801Z"
   },
   {
    "duration": 0,
    "start_time": "2023-03-25T13:58:09.803Z"
   },
   {
    "duration": 0,
    "start_time": "2023-03-25T13:58:09.804Z"
   },
   {
    "duration": 0,
    "start_time": "2023-03-25T13:58:09.805Z"
   },
   {
    "duration": 0,
    "start_time": "2023-03-25T13:58:09.806Z"
   },
   {
    "duration": 0,
    "start_time": "2023-03-25T13:58:09.807Z"
   },
   {
    "duration": 0,
    "start_time": "2023-03-25T13:58:09.808Z"
   },
   {
    "duration": 0,
    "start_time": "2023-03-25T13:58:09.809Z"
   },
   {
    "duration": 0,
    "start_time": "2023-03-25T13:58:09.810Z"
   },
   {
    "duration": 0,
    "start_time": "2023-03-25T13:58:09.811Z"
   },
   {
    "duration": 1259,
    "start_time": "2023-03-25T13:58:59.115Z"
   },
   {
    "duration": 80,
    "start_time": "2023-03-25T13:59:00.377Z"
   },
   {
    "duration": 28,
    "start_time": "2023-03-25T13:59:00.459Z"
   },
   {
    "duration": 40,
    "start_time": "2023-03-25T13:59:00.490Z"
   },
   {
    "duration": 59,
    "start_time": "2023-03-25T13:59:00.532Z"
   },
   {
    "duration": 25,
    "start_time": "2023-03-25T13:59:00.593Z"
   },
   {
    "duration": 62,
    "start_time": "2023-03-25T13:59:00.620Z"
   },
   {
    "duration": 80,
    "start_time": "2023-03-25T13:59:00.684Z"
   },
   {
    "duration": 8,
    "start_time": "2023-03-25T13:59:00.766Z"
   },
   {
    "duration": 51,
    "start_time": "2023-03-25T13:59:00.776Z"
   },
   {
    "duration": 34,
    "start_time": "2023-03-25T13:59:00.828Z"
   },
   {
    "duration": 445,
    "start_time": "2023-03-25T13:59:00.864Z"
   },
   {
    "duration": 118,
    "start_time": "2023-03-25T13:59:01.311Z"
   },
   {
    "duration": 15,
    "start_time": "2023-03-25T13:59:01.431Z"
   },
   {
    "duration": 70,
    "start_time": "2023-03-25T13:59:01.448Z"
   },
   {
    "duration": 497,
    "start_time": "2023-03-25T13:59:01.520Z"
   },
   {
    "duration": 21,
    "start_time": "2023-03-25T13:59:02.020Z"
   },
   {
    "duration": 88,
    "start_time": "2023-03-25T13:59:02.044Z"
   },
   {
    "duration": 6,
    "start_time": "2023-03-25T13:59:02.134Z"
   },
   {
    "duration": 43,
    "start_time": "2023-03-25T13:59:02.142Z"
   },
   {
    "duration": 980,
    "start_time": "2023-03-25T13:59:02.188Z"
   },
   {
    "duration": 87,
    "start_time": "2023-03-25T13:59:03.170Z"
   },
   {
    "duration": 14,
    "start_time": "2023-03-25T13:59:03.259Z"
   },
   {
    "duration": 109,
    "start_time": "2023-03-25T13:59:03.274Z"
   },
   {
    "duration": 363,
    "start_time": "2023-03-25T13:59:03.385Z"
   },
   {
    "duration": 10514,
    "start_time": "2023-03-25T13:59:03.750Z"
   },
   {
    "duration": 171,
    "start_time": "2023-03-25T13:59:14.266Z"
   },
   {
    "duration": 21,
    "start_time": "2023-03-25T13:59:14.441Z"
   },
   {
    "duration": 166,
    "start_time": "2023-03-25T13:59:14.464Z"
   },
   {
    "duration": 6,
    "start_time": "2023-03-25T13:59:14.632Z"
   },
   {
    "duration": 32,
    "start_time": "2023-03-25T13:59:14.639Z"
   },
   {
    "duration": 5,
    "start_time": "2023-03-25T13:59:14.673Z"
   },
   {
    "duration": 55,
    "start_time": "2023-03-25T13:59:14.680Z"
   },
   {
    "duration": 134,
    "start_time": "2023-03-25T13:59:14.737Z"
   },
   {
    "duration": 48,
    "start_time": "2023-03-25T13:59:14.873Z"
   },
   {
    "duration": 301,
    "start_time": "2023-03-25T13:59:40.634Z"
   },
   {
    "duration": 1388,
    "start_time": "2023-03-25T13:59:54.732Z"
   },
   {
    "duration": 80,
    "start_time": "2023-03-25T13:59:56.122Z"
   },
   {
    "duration": 26,
    "start_time": "2023-03-25T13:59:56.204Z"
   },
   {
    "duration": 10,
    "start_time": "2023-03-25T13:59:56.232Z"
   },
   {
    "duration": 23,
    "start_time": "2023-03-25T13:59:56.244Z"
   },
   {
    "duration": 17,
    "start_time": "2023-03-25T13:59:56.268Z"
   },
   {
    "duration": 35,
    "start_time": "2023-03-25T13:59:56.287Z"
   },
   {
    "duration": 77,
    "start_time": "2023-03-25T13:59:56.323Z"
   },
   {
    "duration": 16,
    "start_time": "2023-03-25T13:59:56.402Z"
   },
   {
    "duration": 43,
    "start_time": "2023-03-25T13:59:56.420Z"
   },
   {
    "duration": 22,
    "start_time": "2023-03-25T13:59:56.465Z"
   },
   {
    "duration": 426,
    "start_time": "2023-03-25T13:59:56.489Z"
   },
   {
    "duration": 115,
    "start_time": "2023-03-25T13:59:56.916Z"
   },
   {
    "duration": 14,
    "start_time": "2023-03-25T13:59:57.034Z"
   },
   {
    "duration": 78,
    "start_time": "2023-03-25T13:59:57.050Z"
   },
   {
    "duration": 469,
    "start_time": "2023-03-25T13:59:57.131Z"
   },
   {
    "duration": 26,
    "start_time": "2023-03-25T13:59:57.602Z"
   },
   {
    "duration": 64,
    "start_time": "2023-03-25T13:59:57.630Z"
   },
   {
    "duration": 24,
    "start_time": "2023-03-25T13:59:57.696Z"
   },
   {
    "duration": 38,
    "start_time": "2023-03-25T13:59:57.722Z"
   },
   {
    "duration": 881,
    "start_time": "2023-03-25T13:59:57.762Z"
   },
   {
    "duration": 55,
    "start_time": "2023-03-25T13:59:58.645Z"
   },
   {
    "duration": 24,
    "start_time": "2023-03-25T13:59:58.702Z"
   },
   {
    "duration": 114,
    "start_time": "2023-03-25T13:59:58.728Z"
   },
   {
    "duration": 354,
    "start_time": "2023-03-25T13:59:58.844Z"
   },
   {
    "duration": 10119,
    "start_time": "2023-03-25T13:59:59.201Z"
   },
   {
    "duration": 141,
    "start_time": "2023-03-25T14:00:09.322Z"
   },
   {
    "duration": 74,
    "start_time": "2023-03-25T14:00:09.464Z"
   },
   {
    "duration": 88,
    "start_time": "2023-03-25T14:00:09.540Z"
   },
   {
    "duration": 5,
    "start_time": "2023-03-25T14:00:09.629Z"
   },
   {
    "duration": 45,
    "start_time": "2023-03-25T14:00:09.635Z"
   },
   {
    "duration": 5,
    "start_time": "2023-03-25T14:00:09.681Z"
   },
   {
    "duration": 35,
    "start_time": "2023-03-25T14:00:09.687Z"
   },
   {
    "duration": 129,
    "start_time": "2023-03-25T14:00:09.724Z"
   },
   {
    "duration": 35,
    "start_time": "2023-03-25T14:00:09.855Z"
   },
   {
    "duration": 1189,
    "start_time": "2023-03-25T14:00:54.955Z"
   },
   {
    "duration": 1271,
    "start_time": "2023-03-25T14:01:03.094Z"
   },
   {
    "duration": 80,
    "start_time": "2023-03-25T14:01:04.367Z"
   },
   {
    "duration": 26,
    "start_time": "2023-03-25T14:01:04.448Z"
   },
   {
    "duration": 9,
    "start_time": "2023-03-25T14:01:04.476Z"
   },
   {
    "duration": 38,
    "start_time": "2023-03-25T14:01:04.487Z"
   },
   {
    "duration": 15,
    "start_time": "2023-03-25T14:01:04.527Z"
   },
   {
    "duration": 72,
    "start_time": "2023-03-25T14:01:04.544Z"
   },
   {
    "duration": 73,
    "start_time": "2023-03-25T14:01:04.618Z"
   },
   {
    "duration": 8,
    "start_time": "2023-03-25T14:01:04.693Z"
   },
   {
    "duration": 42,
    "start_time": "2023-03-25T14:01:04.703Z"
   },
   {
    "duration": 14,
    "start_time": "2023-03-25T14:01:04.747Z"
   },
   {
    "duration": 401,
    "start_time": "2023-03-25T14:01:04.763Z"
   },
   {
    "duration": 97,
    "start_time": "2023-03-25T14:01:05.166Z"
   },
   {
    "duration": 66,
    "start_time": "2023-03-25T14:01:05.264Z"
   },
   {
    "duration": 17,
    "start_time": "2023-03-25T14:01:05.332Z"
   },
   {
    "duration": 284,
    "start_time": "2023-03-25T14:01:05.351Z"
   },
   {
    "duration": 17,
    "start_time": "2023-03-25T14:01:05.637Z"
   },
   {
    "duration": 77,
    "start_time": "2023-03-25T14:01:05.656Z"
   },
   {
    "duration": 6,
    "start_time": "2023-03-25T14:01:05.735Z"
   },
   {
    "duration": 68,
    "start_time": "2023-03-25T14:01:05.743Z"
   },
   {
    "duration": 934,
    "start_time": "2023-03-25T14:01:05.812Z"
   },
   {
    "duration": 76,
    "start_time": "2023-03-25T14:01:06.748Z"
   },
   {
    "duration": 15,
    "start_time": "2023-03-25T14:01:06.826Z"
   },
   {
    "duration": 130,
    "start_time": "2023-03-25T14:01:06.842Z"
   },
   {
    "duration": 367,
    "start_time": "2023-03-25T14:01:06.975Z"
   },
   {
    "duration": 10238,
    "start_time": "2023-03-25T14:01:07.344Z"
   },
   {
    "duration": 154,
    "start_time": "2023-03-25T14:01:17.585Z"
   },
   {
    "duration": 20,
    "start_time": "2023-03-25T14:01:17.742Z"
   },
   {
    "duration": 86,
    "start_time": "2023-03-25T14:01:17.763Z"
   },
   {
    "duration": 4,
    "start_time": "2023-03-25T14:01:17.851Z"
   },
   {
    "duration": 82,
    "start_time": "2023-03-25T14:01:17.857Z"
   },
   {
    "duration": 4,
    "start_time": "2023-03-25T14:01:17.940Z"
   },
   {
    "duration": 10,
    "start_time": "2023-03-25T14:01:17.946Z"
   },
   {
    "duration": 120,
    "start_time": "2023-03-25T14:01:17.957Z"
   },
   {
    "duration": 43,
    "start_time": "2023-03-25T14:01:18.078Z"
   },
   {
    "duration": 943,
    "start_time": "2023-03-25T14:03:04.973Z"
   },
   {
    "duration": 1310,
    "start_time": "2023-03-25T14:03:26.974Z"
   },
   {
    "duration": 77,
    "start_time": "2023-03-25T14:03:28.286Z"
   },
   {
    "duration": 27,
    "start_time": "2023-03-25T14:03:28.364Z"
   },
   {
    "duration": 25,
    "start_time": "2023-03-25T14:03:28.393Z"
   },
   {
    "duration": 17,
    "start_time": "2023-03-25T14:03:28.421Z"
   },
   {
    "duration": 13,
    "start_time": "2023-03-25T14:03:28.439Z"
   },
   {
    "duration": 42,
    "start_time": "2023-03-25T14:03:28.454Z"
   },
   {
    "duration": 81,
    "start_time": "2023-03-25T14:03:28.498Z"
   },
   {
    "duration": 8,
    "start_time": "2023-03-25T14:03:28.580Z"
   },
   {
    "duration": 44,
    "start_time": "2023-03-25T14:03:28.590Z"
   },
   {
    "duration": 7,
    "start_time": "2023-03-25T14:03:28.636Z"
   },
   {
    "duration": 397,
    "start_time": "2023-03-25T14:03:28.644Z"
   },
   {
    "duration": 93,
    "start_time": "2023-03-25T14:03:29.042Z"
   },
   {
    "duration": 12,
    "start_time": "2023-03-25T14:03:29.138Z"
   },
   {
    "duration": 77,
    "start_time": "2023-03-25T14:03:29.151Z"
   },
   {
    "duration": 366,
    "start_time": "2023-03-25T14:03:29.229Z"
   },
   {
    "duration": 32,
    "start_time": "2023-03-25T14:03:29.597Z"
   },
   {
    "duration": 64,
    "start_time": "2023-03-25T14:03:29.631Z"
   },
   {
    "duration": 25,
    "start_time": "2023-03-25T14:03:29.697Z"
   },
   {
    "duration": 45,
    "start_time": "2023-03-25T14:03:29.724Z"
   },
   {
    "duration": 959,
    "start_time": "2023-03-25T14:03:29.771Z"
   },
   {
    "duration": 58,
    "start_time": "2023-03-25T14:03:30.732Z"
   },
   {
    "duration": 32,
    "start_time": "2023-03-25T14:03:30.792Z"
   },
   {
    "duration": 108,
    "start_time": "2023-03-25T14:03:30.826Z"
   },
   {
    "duration": 379,
    "start_time": "2023-03-25T14:03:30.936Z"
   },
   {
    "duration": 10555,
    "start_time": "2023-03-25T14:03:31.319Z"
   },
   {
    "duration": 175,
    "start_time": "2023-03-25T14:03:41.876Z"
   },
   {
    "duration": 71,
    "start_time": "2023-03-25T14:03:42.054Z"
   },
   {
    "duration": 91,
    "start_time": "2023-03-25T14:03:42.127Z"
   },
   {
    "duration": 6,
    "start_time": "2023-03-25T14:03:42.220Z"
   },
   {
    "duration": 38,
    "start_time": "2023-03-25T14:03:42.228Z"
   },
   {
    "duration": 5,
    "start_time": "2023-03-25T14:03:42.267Z"
   },
   {
    "duration": 14,
    "start_time": "2023-03-25T14:03:42.274Z"
   },
   {
    "duration": 133,
    "start_time": "2023-03-25T14:03:42.317Z"
   },
   {
    "duration": 46,
    "start_time": "2023-03-25T14:03:42.452Z"
   },
   {
    "duration": 1035,
    "start_time": "2023-03-25T14:04:37.687Z"
   },
   {
    "duration": 1314,
    "start_time": "2023-03-25T14:04:46.338Z"
   },
   {
    "duration": 83,
    "start_time": "2023-03-25T14:04:47.655Z"
   },
   {
    "duration": 26,
    "start_time": "2023-03-25T14:04:47.740Z"
   },
   {
    "duration": 9,
    "start_time": "2023-03-25T14:04:47.768Z"
   },
   {
    "duration": 40,
    "start_time": "2023-03-25T14:04:47.779Z"
   },
   {
    "duration": 15,
    "start_time": "2023-03-25T14:04:47.821Z"
   },
   {
    "duration": 27,
    "start_time": "2023-03-25T14:04:47.837Z"
   },
   {
    "duration": 95,
    "start_time": "2023-03-25T14:04:47.866Z"
   },
   {
    "duration": 8,
    "start_time": "2023-03-25T14:04:47.962Z"
   },
   {
    "duration": 35,
    "start_time": "2023-03-25T14:04:47.973Z"
   },
   {
    "duration": 5,
    "start_time": "2023-03-25T14:04:48.017Z"
   },
   {
    "duration": 409,
    "start_time": "2023-03-25T14:04:48.023Z"
   },
   {
    "duration": 129,
    "start_time": "2023-03-25T14:04:48.433Z"
   },
   {
    "duration": 63,
    "start_time": "2023-03-25T14:04:48.564Z"
   },
   {
    "duration": 38,
    "start_time": "2023-03-25T14:04:48.628Z"
   },
   {
    "duration": 502,
    "start_time": "2023-03-25T14:04:48.668Z"
   },
   {
    "duration": 0,
    "start_time": "2023-03-25T14:04:49.172Z"
   },
   {
    "duration": 0,
    "start_time": "2023-03-25T14:04:49.173Z"
   },
   {
    "duration": 0,
    "start_time": "2023-03-25T14:04:49.175Z"
   },
   {
    "duration": 0,
    "start_time": "2023-03-25T14:04:49.176Z"
   },
   {
    "duration": 0,
    "start_time": "2023-03-25T14:04:49.178Z"
   },
   {
    "duration": 0,
    "start_time": "2023-03-25T14:04:49.179Z"
   },
   {
    "duration": 0,
    "start_time": "2023-03-25T14:04:49.180Z"
   },
   {
    "duration": 0,
    "start_time": "2023-03-25T14:04:49.182Z"
   },
   {
    "duration": 0,
    "start_time": "2023-03-25T14:04:49.183Z"
   },
   {
    "duration": 0,
    "start_time": "2023-03-25T14:04:49.184Z"
   },
   {
    "duration": 1,
    "start_time": "2023-03-25T14:04:49.185Z"
   },
   {
    "duration": 0,
    "start_time": "2023-03-25T14:04:49.187Z"
   },
   {
    "duration": 0,
    "start_time": "2023-03-25T14:04:49.188Z"
   },
   {
    "duration": 0,
    "start_time": "2023-03-25T14:04:49.189Z"
   },
   {
    "duration": 0,
    "start_time": "2023-03-25T14:04:49.218Z"
   },
   {
    "duration": 0,
    "start_time": "2023-03-25T14:04:49.220Z"
   },
   {
    "duration": 0,
    "start_time": "2023-03-25T14:04:49.222Z"
   },
   {
    "duration": 0,
    "start_time": "2023-03-25T14:04:49.223Z"
   },
   {
    "duration": 0,
    "start_time": "2023-03-25T14:04:49.224Z"
   },
   {
    "duration": 1386,
    "start_time": "2023-03-25T14:07:31.457Z"
   },
   {
    "duration": 79,
    "start_time": "2023-03-25T14:07:32.846Z"
   },
   {
    "duration": 36,
    "start_time": "2023-03-25T14:07:32.928Z"
   },
   {
    "duration": 12,
    "start_time": "2023-03-25T14:07:32.966Z"
   },
   {
    "duration": 46,
    "start_time": "2023-03-25T14:07:32.979Z"
   },
   {
    "duration": 15,
    "start_time": "2023-03-25T14:07:33.027Z"
   },
   {
    "duration": 26,
    "start_time": "2023-03-25T14:07:33.044Z"
   },
   {
    "duration": 88,
    "start_time": "2023-03-25T14:07:33.072Z"
   },
   {
    "duration": 8,
    "start_time": "2023-03-25T14:07:33.162Z"
   },
   {
    "duration": 47,
    "start_time": "2023-03-25T14:07:33.173Z"
   },
   {
    "duration": 11,
    "start_time": "2023-03-25T14:07:33.222Z"
   },
   {
    "duration": 434,
    "start_time": "2023-03-25T14:07:33.235Z"
   },
   {
    "duration": 84,
    "start_time": "2023-03-25T14:07:33.671Z"
   },
   {
    "duration": 65,
    "start_time": "2023-03-25T14:07:33.757Z"
   },
   {
    "duration": 17,
    "start_time": "2023-03-25T14:07:33.823Z"
   },
   {
    "duration": 50,
    "start_time": "2023-03-25T14:07:33.843Z"
   },
   {
    "duration": 0,
    "start_time": "2023-03-25T14:07:33.895Z"
   },
   {
    "duration": 0,
    "start_time": "2023-03-25T14:07:33.896Z"
   },
   {
    "duration": 0,
    "start_time": "2023-03-25T14:07:33.897Z"
   },
   {
    "duration": 0,
    "start_time": "2023-03-25T14:07:33.899Z"
   },
   {
    "duration": 0,
    "start_time": "2023-03-25T14:07:33.900Z"
   },
   {
    "duration": 0,
    "start_time": "2023-03-25T14:07:33.900Z"
   },
   {
    "duration": 0,
    "start_time": "2023-03-25T14:07:33.902Z"
   },
   {
    "duration": 0,
    "start_time": "2023-03-25T14:07:33.903Z"
   },
   {
    "duration": 0,
    "start_time": "2023-03-25T14:07:33.904Z"
   },
   {
    "duration": 0,
    "start_time": "2023-03-25T14:07:33.906Z"
   },
   {
    "duration": 0,
    "start_time": "2023-03-25T14:07:33.907Z"
   },
   {
    "duration": 0,
    "start_time": "2023-03-25T14:07:33.908Z"
   },
   {
    "duration": 0,
    "start_time": "2023-03-25T14:07:33.910Z"
   },
   {
    "duration": 0,
    "start_time": "2023-03-25T14:07:33.917Z"
   },
   {
    "duration": 0,
    "start_time": "2023-03-25T14:07:33.919Z"
   },
   {
    "duration": 0,
    "start_time": "2023-03-25T14:07:33.920Z"
   },
   {
    "duration": 0,
    "start_time": "2023-03-25T14:07:33.921Z"
   },
   {
    "duration": 0,
    "start_time": "2023-03-25T14:07:33.923Z"
   },
   {
    "duration": 0,
    "start_time": "2023-03-25T14:07:33.924Z"
   },
   {
    "duration": 1357,
    "start_time": "2023-03-25T14:07:53.385Z"
   },
   {
    "duration": 81,
    "start_time": "2023-03-25T14:07:54.744Z"
   },
   {
    "duration": 29,
    "start_time": "2023-03-25T14:07:54.826Z"
   },
   {
    "duration": 17,
    "start_time": "2023-03-25T14:07:54.857Z"
   },
   {
    "duration": 31,
    "start_time": "2023-03-25T14:07:54.876Z"
   },
   {
    "duration": 21,
    "start_time": "2023-03-25T14:07:54.909Z"
   },
   {
    "duration": 25,
    "start_time": "2023-03-25T14:07:54.931Z"
   },
   {
    "duration": 85,
    "start_time": "2023-03-25T14:07:54.958Z"
   },
   {
    "duration": 9,
    "start_time": "2023-03-25T14:07:55.045Z"
   },
   {
    "duration": 53,
    "start_time": "2023-03-25T14:07:55.056Z"
   },
   {
    "duration": 19,
    "start_time": "2023-03-25T14:07:55.111Z"
   },
   {
    "duration": 412,
    "start_time": "2023-03-25T14:07:55.132Z"
   },
   {
    "duration": 108,
    "start_time": "2023-03-25T14:07:55.546Z"
   },
   {
    "duration": 70,
    "start_time": "2023-03-25T14:07:55.656Z"
   },
   {
    "duration": 26,
    "start_time": "2023-03-25T14:07:55.729Z"
   },
   {
    "duration": 376,
    "start_time": "2023-03-25T14:07:55.757Z"
   },
   {
    "duration": 17,
    "start_time": "2023-03-25T14:07:56.136Z"
   },
   {
    "duration": 70,
    "start_time": "2023-03-25T14:07:56.155Z"
   },
   {
    "duration": 6,
    "start_time": "2023-03-25T14:07:56.227Z"
   },
   {
    "duration": 48,
    "start_time": "2023-03-25T14:07:56.234Z"
   },
   {
    "duration": 997,
    "start_time": "2023-03-25T14:07:56.285Z"
   },
   {
    "duration": 70,
    "start_time": "2023-03-25T14:07:57.284Z"
   },
   {
    "duration": 13,
    "start_time": "2023-03-25T14:07:57.356Z"
   },
   {
    "duration": 114,
    "start_time": "2023-03-25T14:07:57.371Z"
   },
   {
    "duration": 370,
    "start_time": "2023-03-25T14:07:57.486Z"
   },
   {
    "duration": 10467,
    "start_time": "2023-03-25T14:07:57.858Z"
   },
   {
    "duration": 136,
    "start_time": "2023-03-25T14:08:08.328Z"
   },
   {
    "duration": 18,
    "start_time": "2023-03-25T14:08:08.519Z"
   },
   {
    "duration": 92,
    "start_time": "2023-03-25T14:08:08.539Z"
   },
   {
    "duration": 5,
    "start_time": "2023-03-25T14:08:08.633Z"
   },
   {
    "duration": 49,
    "start_time": "2023-03-25T14:08:08.639Z"
   },
   {
    "duration": 29,
    "start_time": "2023-03-25T14:08:08.690Z"
   },
   {
    "duration": 27,
    "start_time": "2023-03-25T14:08:08.721Z"
   },
   {
    "duration": 142,
    "start_time": "2023-03-25T14:08:08.749Z"
   },
   {
    "duration": 38,
    "start_time": "2023-03-25T14:08:08.893Z"
   },
   {
    "duration": 285,
    "start_time": "2023-03-25T14:09:32.290Z"
   },
   {
    "duration": 180,
    "start_time": "2023-03-25T14:10:52.685Z"
   },
   {
    "duration": 253,
    "start_time": "2023-03-25T14:11:18.502Z"
   },
   {
    "duration": 334,
    "start_time": "2023-03-25T14:11:32.495Z"
   },
   {
    "duration": 217,
    "start_time": "2023-03-25T14:12:27.596Z"
   },
   {
    "duration": 289,
    "start_time": "2023-03-25T14:12:37.596Z"
   },
   {
    "duration": 290,
    "start_time": "2023-03-25T14:13:07.197Z"
   },
   {
    "duration": 15,
    "start_time": "2023-03-25T14:19:03.955Z"
   },
   {
    "duration": 21,
    "start_time": "2023-03-25T14:20:05.515Z"
   },
   {
    "duration": 285,
    "start_time": "2023-03-25T14:20:14.057Z"
   },
   {
    "duration": 31,
    "start_time": "2023-03-25T14:20:24.712Z"
   },
   {
    "duration": 393,
    "start_time": "2023-03-25T14:21:26.836Z"
   },
   {
    "duration": 406,
    "start_time": "2023-03-25T14:23:22.279Z"
   },
   {
    "duration": 569,
    "start_time": "2023-03-25T14:23:57.207Z"
   },
   {
    "duration": 16,
    "start_time": "2023-03-25T14:24:38.048Z"
   },
   {
    "duration": 15,
    "start_time": "2023-03-25T14:25:14.083Z"
   },
   {
    "duration": 14,
    "start_time": "2023-03-25T14:25:23.651Z"
   },
   {
    "duration": 14,
    "start_time": "2023-03-25T14:25:33.230Z"
   },
   {
    "duration": 19,
    "start_time": "2023-03-25T14:25:40.656Z"
   },
   {
    "duration": 18,
    "start_time": "2023-03-25T14:25:58.948Z"
   },
   {
    "duration": 34,
    "start_time": "2023-03-25T14:26:47.469Z"
   },
   {
    "duration": 3,
    "start_time": "2023-03-25T14:32:19.430Z"
   },
   {
    "duration": 20,
    "start_time": "2023-03-25T14:35:01.580Z"
   },
   {
    "duration": 22,
    "start_time": "2023-03-25T14:36:36.395Z"
   },
   {
    "duration": 22,
    "start_time": "2023-03-25T14:37:08.718Z"
   },
   {
    "duration": 12,
    "start_time": "2023-03-25T14:39:19.530Z"
   },
   {
    "duration": 234,
    "start_time": "2023-03-25T14:42:27.223Z"
   },
   {
    "duration": 37,
    "start_time": "2023-03-25T14:43:18.248Z"
   },
   {
    "duration": 36,
    "start_time": "2023-03-25T14:44:20.986Z"
   },
   {
    "duration": 36,
    "start_time": "2023-03-25T14:44:36.418Z"
   },
   {
    "duration": 194,
    "start_time": "2023-03-25T14:45:11.263Z"
   },
   {
    "duration": 29,
    "start_time": "2023-03-25T14:45:41.594Z"
   },
   {
    "duration": 4,
    "start_time": "2023-03-25T14:46:34.301Z"
   },
   {
    "duration": 245,
    "start_time": "2023-03-25T14:46:44.664Z"
   },
   {
    "duration": 23,
    "start_time": "2023-03-25T14:47:05.144Z"
   },
   {
    "duration": 262,
    "start_time": "2023-03-25T14:47:12.227Z"
   },
   {
    "duration": 25,
    "start_time": "2023-03-25T14:47:47.219Z"
   },
   {
    "duration": 14,
    "start_time": "2023-03-25T14:48:05.524Z"
   },
   {
    "duration": 18,
    "start_time": "2023-03-25T14:48:27.328Z"
   },
   {
    "duration": 24,
    "start_time": "2023-03-25T14:49:02.427Z"
   },
   {
    "duration": 16,
    "start_time": "2023-03-25T14:49:53.331Z"
   },
   {
    "duration": 13,
    "start_time": "2023-03-25T14:50:50.534Z"
   },
   {
    "duration": 11,
    "start_time": "2023-03-25T14:51:01.214Z"
   },
   {
    "duration": 15,
    "start_time": "2023-03-25T14:59:32.834Z"
   },
   {
    "duration": 57,
    "start_time": "2023-03-25T15:00:17.877Z"
   },
   {
    "duration": 13,
    "start_time": "2023-03-25T15:00:43.843Z"
   },
   {
    "duration": 17,
    "start_time": "2023-03-25T15:00:47.482Z"
   },
   {
    "duration": 305,
    "start_time": "2023-03-25T15:01:29.459Z"
   },
   {
    "duration": 15,
    "start_time": "2023-03-25T15:01:59.687Z"
   },
   {
    "duration": 19,
    "start_time": "2023-03-25T15:03:06.651Z"
   },
   {
    "duration": 54,
    "start_time": "2023-03-25T15:03:27.879Z"
   },
   {
    "duration": 54,
    "start_time": "2023-03-25T15:04:45.443Z"
   },
   {
    "duration": 11,
    "start_time": "2023-03-25T15:06:33.455Z"
   },
   {
    "duration": 15,
    "start_time": "2023-03-25T15:06:47.082Z"
   },
   {
    "duration": 13,
    "start_time": "2023-03-25T15:46:50.284Z"
   },
   {
    "duration": 19,
    "start_time": "2023-03-25T15:46:57.375Z"
   },
   {
    "duration": 66,
    "start_time": "2023-03-25T15:47:31.604Z"
   },
   {
    "duration": 30,
    "start_time": "2023-03-25T15:48:31.958Z"
   },
   {
    "duration": 25,
    "start_time": "2023-03-25T15:48:44.982Z"
   },
   {
    "duration": 26,
    "start_time": "2023-03-25T15:49:11.447Z"
   },
   {
    "duration": 70,
    "start_time": "2023-03-25T15:49:19.081Z"
   },
   {
    "duration": 24,
    "start_time": "2023-03-25T15:54:46.089Z"
   },
   {
    "duration": 74,
    "start_time": "2023-03-25T15:54:57.682Z"
   },
   {
    "duration": 25,
    "start_time": "2023-03-25T15:55:26.962Z"
   },
   {
    "duration": 69,
    "start_time": "2023-03-25T15:55:40.317Z"
   },
   {
    "duration": 59,
    "start_time": "2023-03-25T15:56:42.762Z"
   },
   {
    "duration": 59,
    "start_time": "2023-03-25T15:56:51.267Z"
   },
   {
    "duration": 58,
    "start_time": "2023-03-25T15:57:26.543Z"
   },
   {
    "duration": 72,
    "start_time": "2023-03-25T15:58:08.227Z"
   },
   {
    "duration": 54,
    "start_time": "2023-03-25T16:00:09.421Z"
   },
   {
    "duration": 66,
    "start_time": "2023-03-25T16:00:14.146Z"
   },
   {
    "duration": 58,
    "start_time": "2023-03-25T16:00:16.808Z"
   },
   {
    "duration": 52,
    "start_time": "2023-03-25T16:00:35.686Z"
   },
   {
    "duration": 75,
    "start_time": "2023-03-25T16:10:39.910Z"
   },
   {
    "duration": 10153,
    "start_time": "2023-03-25T16:16:46.856Z"
   },
   {
    "duration": 10001,
    "start_time": "2023-03-25T16:18:22.870Z"
   },
   {
    "duration": 36,
    "start_time": "2023-03-25T16:19:20.031Z"
   },
   {
    "duration": 1442,
    "start_time": "2023-03-26T07:19:45.549Z"
   },
   {
    "duration": 258,
    "start_time": "2023-03-26T07:19:46.994Z"
   },
   {
    "duration": 32,
    "start_time": "2023-03-26T07:19:47.253Z"
   },
   {
    "duration": 10,
    "start_time": "2023-03-26T07:19:47.288Z"
   },
   {
    "duration": 15,
    "start_time": "2023-03-26T07:19:47.300Z"
   },
   {
    "duration": 12,
    "start_time": "2023-03-26T07:19:47.317Z"
   },
   {
    "duration": 44,
    "start_time": "2023-03-26T07:19:47.331Z"
   },
   {
    "duration": 66,
    "start_time": "2023-03-26T07:19:47.377Z"
   },
   {
    "duration": 7,
    "start_time": "2023-03-26T07:19:47.445Z"
   },
   {
    "duration": 41,
    "start_time": "2023-03-26T07:19:47.454Z"
   },
   {
    "duration": 5,
    "start_time": "2023-03-26T07:19:47.497Z"
   },
   {
    "duration": 410,
    "start_time": "2023-03-26T07:19:47.504Z"
   },
   {
    "duration": 88,
    "start_time": "2023-03-26T07:19:47.915Z"
   },
   {
    "duration": 13,
    "start_time": "2023-03-26T07:19:48.004Z"
   },
   {
    "duration": 62,
    "start_time": "2023-03-26T07:19:48.018Z"
   },
   {
    "duration": 65,
    "start_time": "2023-03-26T07:19:48.082Z"
   },
   {
    "duration": 157,
    "start_time": "2023-03-26T07:19:48.149Z"
   },
   {
    "duration": 18,
    "start_time": "2023-03-26T07:19:48.308Z"
   },
   {
    "duration": 75,
    "start_time": "2023-03-26T07:19:48.328Z"
   },
   {
    "duration": 4,
    "start_time": "2023-03-26T07:19:48.405Z"
   },
   {
    "duration": 31,
    "start_time": "2023-03-26T07:19:48.411Z"
   },
   {
    "duration": 944,
    "start_time": "2023-03-26T07:19:48.444Z"
   },
   {
    "duration": 55,
    "start_time": "2023-03-26T07:19:49.390Z"
   },
   {
    "duration": 33,
    "start_time": "2023-03-26T07:19:49.447Z"
   },
   {
    "duration": 203,
    "start_time": "2023-03-26T07:19:49.482Z"
   },
   {
    "duration": 333,
    "start_time": "2023-03-26T07:19:49.687Z"
   },
   {
    "duration": 10229,
    "start_time": "2023-03-26T07:19:50.022Z"
   },
   {
    "duration": 76,
    "start_time": "2023-03-26T07:20:00.256Z"
   },
   {
    "duration": 0,
    "start_time": "2023-03-26T07:20:00.333Z"
   },
   {
    "duration": 0,
    "start_time": "2023-03-26T07:20:00.335Z"
   },
   {
    "duration": 0,
    "start_time": "2023-03-26T07:20:00.336Z"
   },
   {
    "duration": 0,
    "start_time": "2023-03-26T07:20:00.337Z"
   },
   {
    "duration": 0,
    "start_time": "2023-03-26T07:20:00.338Z"
   },
   {
    "duration": 0,
    "start_time": "2023-03-26T07:20:00.339Z"
   },
   {
    "duration": 0,
    "start_time": "2023-03-26T07:20:00.340Z"
   },
   {
    "duration": 0,
    "start_time": "2023-03-26T07:20:00.341Z"
   },
   {
    "duration": 92,
    "start_time": "2023-03-26T07:20:15.883Z"
   },
   {
    "duration": 108,
    "start_time": "2023-03-26T07:20:54.138Z"
   },
   {
    "duration": 17,
    "start_time": "2023-03-26T07:22:17.115Z"
   },
   {
    "duration": 36,
    "start_time": "2023-03-26T07:22:23.891Z"
   },
   {
    "duration": 79,
    "start_time": "2023-03-26T07:32:44.565Z"
   },
   {
    "duration": 35,
    "start_time": "2023-03-26T07:45:08.385Z"
   },
   {
    "duration": 12,
    "start_time": "2023-03-26T07:45:12.030Z"
   },
   {
    "duration": 11,
    "start_time": "2023-03-26T07:46:00.229Z"
   },
   {
    "duration": 5,
    "start_time": "2023-03-26T07:55:37.367Z"
   },
   {
    "duration": 6,
    "start_time": "2023-03-26T07:56:27.196Z"
   },
   {
    "duration": 26,
    "start_time": "2023-03-26T07:56:33.725Z"
   },
   {
    "duration": 27,
    "start_time": "2023-03-26T07:56:45.310Z"
   },
   {
    "duration": 1217,
    "start_time": "2023-03-26T07:58:31.596Z"
   },
   {
    "duration": 74,
    "start_time": "2023-03-26T07:58:32.816Z"
   },
   {
    "duration": 27,
    "start_time": "2023-03-26T07:58:32.892Z"
   },
   {
    "duration": 9,
    "start_time": "2023-03-26T07:58:32.920Z"
   },
   {
    "duration": 17,
    "start_time": "2023-03-26T07:58:32.931Z"
   },
   {
    "duration": 37,
    "start_time": "2023-03-26T07:58:32.950Z"
   },
   {
    "duration": 17,
    "start_time": "2023-03-26T07:58:32.989Z"
   },
   {
    "duration": 85,
    "start_time": "2023-03-26T07:58:33.008Z"
   },
   {
    "duration": 7,
    "start_time": "2023-03-26T07:58:33.094Z"
   },
   {
    "duration": 38,
    "start_time": "2023-03-26T07:58:33.104Z"
   },
   {
    "duration": 5,
    "start_time": "2023-03-26T07:58:33.144Z"
   },
   {
    "duration": 415,
    "start_time": "2023-03-26T07:58:33.150Z"
   },
   {
    "duration": 122,
    "start_time": "2023-03-26T07:58:33.567Z"
   },
   {
    "duration": 13,
    "start_time": "2023-03-26T07:58:33.692Z"
   },
   {
    "duration": 17,
    "start_time": "2023-03-26T07:58:33.707Z"
   },
   {
    "duration": 113,
    "start_time": "2023-03-26T07:58:33.726Z"
   },
   {
    "duration": 143,
    "start_time": "2023-03-26T07:58:33.841Z"
   },
   {
    "duration": 17,
    "start_time": "2023-03-26T07:58:33.985Z"
   },
   {
    "duration": 82,
    "start_time": "2023-03-26T07:58:34.003Z"
   },
   {
    "duration": 6,
    "start_time": "2023-03-26T07:58:34.087Z"
   },
   {
    "duration": 41,
    "start_time": "2023-03-26T07:58:34.095Z"
   },
   {
    "duration": 956,
    "start_time": "2023-03-26T07:58:34.138Z"
   },
   {
    "duration": 63,
    "start_time": "2023-03-26T07:58:35.098Z"
   },
   {
    "duration": 14,
    "start_time": "2023-03-26T07:58:35.175Z"
   },
   {
    "duration": 119,
    "start_time": "2023-03-26T07:58:35.191Z"
   },
   {
    "duration": 333,
    "start_time": "2023-03-26T07:58:35.313Z"
   },
   {
    "duration": 10169,
    "start_time": "2023-03-26T07:58:35.648Z"
   },
   {
    "duration": 169,
    "start_time": "2023-03-26T07:58:45.819Z"
   },
   {
    "duration": 19,
    "start_time": "2023-03-26T07:58:45.989Z"
   },
   {
    "duration": 89,
    "start_time": "2023-03-26T07:58:46.009Z"
   },
   {
    "duration": 11,
    "start_time": "2023-03-26T07:58:46.100Z"
   },
   {
    "duration": 6,
    "start_time": "2023-03-26T07:58:46.112Z"
   },
   {
    "duration": 77,
    "start_time": "2023-03-26T07:58:46.120Z"
   },
   {
    "duration": 5,
    "start_time": "2023-03-26T07:58:46.199Z"
   },
   {
    "duration": 11,
    "start_time": "2023-03-26T07:58:46.206Z"
   },
   {
    "duration": 125,
    "start_time": "2023-03-26T07:58:46.218Z"
   },
   {
    "duration": 5,
    "start_time": "2023-03-26T07:58:46.344Z"
   },
   {
    "duration": 49,
    "start_time": "2023-03-26T07:58:46.351Z"
   },
   {
    "duration": 181,
    "start_time": "2023-03-26T07:58:46.402Z"
   },
   {
    "duration": 0,
    "start_time": "2023-03-26T07:58:46.585Z"
   },
   {
    "duration": 16,
    "start_time": "2023-03-26T07:59:07.160Z"
   },
   {
    "duration": 12,
    "start_time": "2023-03-26T07:59:27.556Z"
   },
   {
    "duration": 59,
    "start_time": "2023-03-26T08:00:05.259Z"
   },
   {
    "duration": 58,
    "start_time": "2023-03-26T08:01:02.978Z"
   },
   {
    "duration": 53,
    "start_time": "2023-03-26T08:01:23.752Z"
   },
   {
    "duration": 19,
    "start_time": "2023-03-26T08:01:38.289Z"
   },
   {
    "duration": 59,
    "start_time": "2023-03-26T08:01:51.174Z"
   },
   {
    "duration": 69,
    "start_time": "2023-03-26T08:02:38.731Z"
   },
   {
    "duration": 11,
    "start_time": "2023-03-26T08:03:20.565Z"
   },
   {
    "duration": 20,
    "start_time": "2023-03-26T08:03:58.507Z"
   },
   {
    "duration": 15,
    "start_time": "2023-03-26T08:04:43.624Z"
   },
   {
    "duration": 10,
    "start_time": "2023-03-26T08:04:53.248Z"
   },
   {
    "duration": 29,
    "start_time": "2023-03-26T08:05:43.284Z"
   },
   {
    "duration": 61,
    "start_time": "2023-03-26T08:06:12.722Z"
   },
   {
    "duration": 55,
    "start_time": "2023-03-26T08:08:02.451Z"
   },
   {
    "duration": 63,
    "start_time": "2023-03-26T08:08:19.889Z"
   },
   {
    "duration": 59,
    "start_time": "2023-03-26T08:10:44.996Z"
   },
   {
    "duration": 62,
    "start_time": "2023-03-26T08:19:40.459Z"
   },
   {
    "duration": 1736,
    "start_time": "2023-03-27T15:25:25.712Z"
   },
   {
    "duration": 619,
    "start_time": "2023-03-27T15:25:27.450Z"
   },
   {
    "duration": 30,
    "start_time": "2023-03-27T15:25:28.071Z"
   },
   {
    "duration": 10,
    "start_time": "2023-03-27T15:25:28.103Z"
   },
   {
    "duration": 33,
    "start_time": "2023-03-27T15:25:28.115Z"
   },
   {
    "duration": 14,
    "start_time": "2023-03-27T15:25:28.150Z"
   },
   {
    "duration": 24,
    "start_time": "2023-03-27T15:25:28.166Z"
   },
   {
    "duration": 77,
    "start_time": "2023-03-27T15:25:28.192Z"
   },
   {
    "duration": 7,
    "start_time": "2023-03-27T15:25:28.271Z"
   },
   {
    "duration": 40,
    "start_time": "2023-03-27T15:25:28.280Z"
   },
   {
    "duration": 16,
    "start_time": "2023-03-27T15:25:28.322Z"
   },
   {
    "duration": 806,
    "start_time": "2023-03-27T15:25:28.340Z"
   },
   {
    "duration": 131,
    "start_time": "2023-03-27T15:25:29.148Z"
   },
   {
    "duration": 63,
    "start_time": "2023-03-27T15:25:29.284Z"
   },
   {
    "duration": 19,
    "start_time": "2023-03-27T15:25:29.350Z"
   },
   {
    "duration": 112,
    "start_time": "2023-03-27T15:25:29.371Z"
   },
   {
    "duration": 185,
    "start_time": "2023-03-27T15:25:29.486Z"
   },
   {
    "duration": 21,
    "start_time": "2023-03-27T15:25:29.673Z"
   },
   {
    "duration": 76,
    "start_time": "2023-03-27T15:25:29.695Z"
   },
   {
    "duration": 6,
    "start_time": "2023-03-27T15:25:29.772Z"
   },
   {
    "duration": 44,
    "start_time": "2023-03-27T15:25:29.779Z"
   },
   {
    "duration": 992,
    "start_time": "2023-03-27T15:25:29.825Z"
   },
   {
    "duration": 77,
    "start_time": "2023-03-27T15:25:30.819Z"
   },
   {
    "duration": 14,
    "start_time": "2023-03-27T15:25:30.897Z"
   },
   {
    "duration": 318,
    "start_time": "2023-03-27T15:25:30.913Z"
   },
   {
    "duration": 361,
    "start_time": "2023-03-27T15:25:31.234Z"
   },
   {
    "duration": 10835,
    "start_time": "2023-03-27T15:25:31.597Z"
   },
   {
    "duration": 147,
    "start_time": "2023-03-27T15:25:42.440Z"
   },
   {
    "duration": 21,
    "start_time": "2023-03-27T15:25:42.642Z"
   },
   {
    "duration": 100,
    "start_time": "2023-03-27T15:25:42.665Z"
   },
   {
    "duration": 12,
    "start_time": "2023-03-27T15:25:42.767Z"
   },
   {
    "duration": 11,
    "start_time": "2023-03-27T15:25:42.782Z"
   },
   {
    "duration": 60,
    "start_time": "2023-03-27T15:25:42.795Z"
   },
   {
    "duration": 5,
    "start_time": "2023-03-27T15:25:42.857Z"
   },
   {
    "duration": 17,
    "start_time": "2023-03-27T15:25:42.864Z"
   },
   {
    "duration": 122,
    "start_time": "2023-03-27T15:25:42.883Z"
   },
   {
    "duration": 7,
    "start_time": "2023-03-27T15:25:43.008Z"
   },
   {
    "duration": 65,
    "start_time": "2023-03-27T15:25:43.017Z"
   },
   {
    "duration": 78,
    "start_time": "2023-03-27T15:25:43.084Z"
   },
   {
    "duration": 78,
    "start_time": "2023-03-27T15:25:43.164Z"
   },
   {
    "duration": 30,
    "start_time": "2023-03-27T15:25:43.248Z"
   },
   {
    "duration": 30,
    "start_time": "2023-03-27T15:33:54.558Z"
   },
   {
    "duration": 14,
    "start_time": "2023-03-27T15:34:10.601Z"
   },
   {
    "duration": 13,
    "start_time": "2023-03-27T15:34:21.204Z"
   },
   {
    "duration": 8,
    "start_time": "2023-03-27T15:35:08.579Z"
   },
   {
    "duration": 11,
    "start_time": "2023-03-27T15:35:22.755Z"
   },
   {
    "duration": 178,
    "start_time": "2023-03-27T15:36:40.564Z"
   },
   {
    "duration": 16,
    "start_time": "2023-03-27T15:37:05.488Z"
   },
   {
    "duration": 15,
    "start_time": "2023-03-27T15:37:53.542Z"
   },
   {
    "duration": 8,
    "start_time": "2023-03-27T15:38:46.778Z"
   },
   {
    "duration": 10,
    "start_time": "2023-03-27T15:38:50.712Z"
   },
   {
    "duration": 23,
    "start_time": "2023-03-27T15:39:37.099Z"
   },
   {
    "duration": 10,
    "start_time": "2023-03-27T15:39:45.478Z"
   },
   {
    "duration": 85,
    "start_time": "2023-03-27T15:40:06.009Z"
   },
   {
    "duration": 74,
    "start_time": "2023-03-27T15:41:14.332Z"
   },
   {
    "duration": 28,
    "start_time": "2023-03-27T15:42:37.479Z"
   },
   {
    "duration": 22,
    "start_time": "2023-03-27T15:42:59.825Z"
   },
   {
    "duration": 23,
    "start_time": "2023-03-27T15:43:52.643Z"
   },
   {
    "duration": 23,
    "start_time": "2023-03-27T15:45:09.910Z"
   },
   {
    "duration": 20,
    "start_time": "2023-03-27T15:46:24.582Z"
   },
   {
    "duration": 23,
    "start_time": "2023-03-27T15:47:34.365Z"
   },
   {
    "duration": 22,
    "start_time": "2023-03-27T15:49:00.312Z"
   },
   {
    "duration": 131,
    "start_time": "2023-03-27T15:50:16.689Z"
   },
   {
    "duration": 124,
    "start_time": "2023-03-27T15:51:31.645Z"
   },
   {
    "duration": 57,
    "start_time": "2023-03-27T15:54:55.807Z"
   },
   {
    "duration": 9,
    "start_time": "2023-03-27T15:55:14.157Z"
   },
   {
    "duration": 7,
    "start_time": "2023-03-27T15:55:22.436Z"
   },
   {
    "duration": 185,
    "start_time": "2023-03-27T15:57:02.827Z"
   },
   {
    "duration": 6,
    "start_time": "2023-03-27T15:57:09.295Z"
   },
   {
    "duration": 11,
    "start_time": "2023-03-27T15:57:48.729Z"
   },
   {
    "duration": 9,
    "start_time": "2023-03-27T15:59:01.977Z"
   },
   {
    "duration": 5,
    "start_time": "2023-03-27T16:51:39.505Z"
   },
   {
    "duration": 15,
    "start_time": "2023-03-27T16:51:43.780Z"
   },
   {
    "duration": 14,
    "start_time": "2023-03-27T16:54:23.795Z"
   },
   {
    "duration": 10,
    "start_time": "2023-03-27T16:56:56.391Z"
   },
   {
    "duration": 13,
    "start_time": "2023-03-27T17:00:25.620Z"
   },
   {
    "duration": 7,
    "start_time": "2023-03-27T17:00:37.219Z"
   },
   {
    "duration": 5,
    "start_time": "2023-03-27T17:07:59.802Z"
   },
   {
    "duration": 50,
    "start_time": "2023-03-27T17:10:37.816Z"
   },
   {
    "duration": 6,
    "start_time": "2023-03-27T17:11:28.982Z"
   },
   {
    "duration": 331,
    "start_time": "2023-03-27T17:12:14.992Z"
   },
   {
    "duration": 11,
    "start_time": "2023-03-27T17:13:27.521Z"
   },
   {
    "duration": 10,
    "start_time": "2023-03-27T17:13:52.426Z"
   },
   {
    "duration": 11,
    "start_time": "2023-03-27T17:13:56.909Z"
   },
   {
    "duration": 1292,
    "start_time": "2023-03-28T08:14:29.954Z"
   },
   {
    "duration": 107,
    "start_time": "2023-03-28T08:14:31.248Z"
   },
   {
    "duration": 21,
    "start_time": "2023-03-28T08:14:31.357Z"
   },
   {
    "duration": 6,
    "start_time": "2023-03-28T08:14:31.380Z"
   },
   {
    "duration": 48,
    "start_time": "2023-03-28T08:14:31.388Z"
   },
   {
    "duration": 11,
    "start_time": "2023-03-28T08:14:31.437Z"
   },
   {
    "duration": 28,
    "start_time": "2023-03-28T08:14:31.449Z"
   },
   {
    "duration": 63,
    "start_time": "2023-03-28T08:14:31.478Z"
   },
   {
    "duration": 6,
    "start_time": "2023-03-28T08:14:31.542Z"
   },
   {
    "duration": 35,
    "start_time": "2023-03-28T08:14:31.549Z"
   },
   {
    "duration": 30,
    "start_time": "2023-03-28T08:14:31.586Z"
   },
   {
    "duration": 358,
    "start_time": "2023-03-28T08:14:31.617Z"
   },
   {
    "duration": 51,
    "start_time": "2023-03-28T08:14:31.977Z"
   },
   {
    "duration": 10,
    "start_time": "2023-03-28T08:14:32.030Z"
   },
   {
    "duration": 17,
    "start_time": "2023-03-28T08:14:32.041Z"
   },
   {
    "duration": 54,
    "start_time": "2023-03-28T08:14:32.068Z"
   },
   {
    "duration": 106,
    "start_time": "2023-03-28T08:14:32.123Z"
   },
   {
    "duration": 14,
    "start_time": "2023-03-28T08:14:32.231Z"
   },
   {
    "duration": 52,
    "start_time": "2023-03-28T08:14:32.246Z"
   },
   {
    "duration": 4,
    "start_time": "2023-03-28T08:14:32.299Z"
   },
   {
    "duration": 29,
    "start_time": "2023-03-28T08:14:32.304Z"
   },
   {
    "duration": 996,
    "start_time": "2023-03-28T08:14:32.334Z"
   },
   {
    "duration": 58,
    "start_time": "2023-03-28T08:14:33.331Z"
   },
   {
    "duration": 10,
    "start_time": "2023-03-28T08:14:33.391Z"
   },
   {
    "duration": 276,
    "start_time": "2023-03-28T08:14:33.402Z"
   },
   {
    "duration": 261,
    "start_time": "2023-03-28T08:14:33.680Z"
   },
   {
    "duration": 8614,
    "start_time": "2023-03-28T08:14:33.943Z"
   },
   {
    "duration": 129,
    "start_time": "2023-03-28T08:14:42.569Z"
   },
   {
    "duration": 15,
    "start_time": "2023-03-28T08:14:42.699Z"
   },
   {
    "duration": 30,
    "start_time": "2023-03-28T08:14:42.768Z"
   },
   {
    "duration": 8,
    "start_time": "2023-03-28T08:14:42.799Z"
   },
   {
    "duration": 5,
    "start_time": "2023-03-28T08:14:42.809Z"
   },
   {
    "duration": 22,
    "start_time": "2023-03-28T08:14:42.815Z"
   },
   {
    "duration": 32,
    "start_time": "2023-03-28T08:14:42.838Z"
   },
   {
    "duration": 26,
    "start_time": "2023-03-28T08:14:42.872Z"
   },
   {
    "duration": 95,
    "start_time": "2023-03-28T08:14:42.900Z"
   },
   {
    "duration": 4,
    "start_time": "2023-03-28T08:14:42.996Z"
   },
   {
    "duration": 32,
    "start_time": "2023-03-28T08:14:43.001Z"
   },
   {
    "duration": 60,
    "start_time": "2023-03-28T08:14:43.035Z"
   },
   {
    "duration": 43,
    "start_time": "2023-03-28T08:14:43.097Z"
   },
   {
    "duration": 6,
    "start_time": "2023-03-28T08:14:43.143Z"
   },
   {
    "duration": 60,
    "start_time": "2023-03-28T08:14:43.150Z"
   },
   {
    "duration": 90,
    "start_time": "2023-03-28T08:14:43.212Z"
   },
   {
    "duration": 5,
    "start_time": "2023-03-28T08:14:43.303Z"
   },
   {
    "duration": 11,
    "start_time": "2023-03-28T08:14:43.309Z"
   },
   {
    "duration": 10,
    "start_time": "2023-03-28T08:14:43.321Z"
   },
   {
    "duration": 14,
    "start_time": "2023-03-28T08:14:43.333Z"
   },
   {
    "duration": 22,
    "start_time": "2023-03-28T08:14:43.348Z"
   },
   {
    "duration": 37,
    "start_time": "2023-03-28T08:14:43.371Z"
   },
   {
    "duration": 8,
    "start_time": "2023-03-28T08:14:43.410Z"
   },
   {
    "duration": 23,
    "start_time": "2023-03-28T08:14:43.419Z"
   },
   {
    "duration": 2404,
    "start_time": "2023-07-18T20:28:37.869Z"
   },
   {
    "duration": 758,
    "start_time": "2023-07-18T20:28:40.275Z"
   },
   {
    "duration": 33,
    "start_time": "2023-07-18T20:28:41.041Z"
   },
   {
    "duration": 9,
    "start_time": "2023-07-18T20:28:41.077Z"
   },
   {
    "duration": 39,
    "start_time": "2023-07-18T20:28:41.088Z"
   },
   {
    "duration": 37,
    "start_time": "2023-07-18T20:28:41.129Z"
   },
   {
    "duration": 45,
    "start_time": "2023-07-18T20:28:41.168Z"
   },
   {
    "duration": 136,
    "start_time": "2023-07-18T20:28:41.215Z"
   },
   {
    "duration": 25,
    "start_time": "2023-07-18T20:28:41.353Z"
   },
   {
    "duration": 35,
    "start_time": "2023-07-18T20:28:41.383Z"
   },
   {
    "duration": 10,
    "start_time": "2023-07-18T20:28:41.421Z"
   },
   {
    "duration": 1865,
    "start_time": "2023-07-18T20:28:41.436Z"
   },
   {
    "duration": 194,
    "start_time": "2023-07-18T20:28:43.304Z"
   },
   {
    "duration": 22,
    "start_time": "2023-07-18T20:28:43.501Z"
   },
   {
    "duration": 42,
    "start_time": "2023-07-18T20:28:43.525Z"
   },
   {
    "duration": 123,
    "start_time": "2023-07-18T20:28:43.569Z"
   },
   {
    "duration": 182,
    "start_time": "2023-07-18T20:28:43.705Z"
   },
   {
    "duration": 39,
    "start_time": "2023-07-18T20:28:43.890Z"
   },
   {
    "duration": 78,
    "start_time": "2023-07-18T20:28:43.931Z"
   },
   {
    "duration": 6,
    "start_time": "2023-07-18T20:28:44.013Z"
   },
   {
    "duration": 55,
    "start_time": "2023-07-18T20:28:44.025Z"
   },
   {
    "duration": 1053,
    "start_time": "2023-07-18T20:28:44.083Z"
   },
   {
    "duration": 68,
    "start_time": "2023-07-18T20:28:45.138Z"
   },
   {
    "duration": 19,
    "start_time": "2023-07-18T20:28:45.214Z"
   },
   {
    "duration": 230,
    "start_time": "2023-07-18T20:28:45.236Z"
   },
   {
    "duration": 602,
    "start_time": "2023-07-18T20:28:45.469Z"
   },
   {
    "duration": 12905,
    "start_time": "2023-07-18T20:28:46.073Z"
   },
   {
    "duration": 3,
    "start_time": "2023-08-12T19:40:54.261Z"
   },
   {
    "duration": 42,
    "start_time": "2023-08-12T19:40:54.265Z"
   },
   {
    "duration": 43,
    "start_time": "2023-08-12T19:40:54.309Z"
   },
   {
    "duration": 16,
    "start_time": "2023-08-12T19:40:54.353Z"
   },
   {
    "duration": 1314,
    "start_time": "2023-08-12T19:40:54.371Z"
   },
   {
    "duration": 121,
    "start_time": "2023-08-12T19:40:55.687Z"
   },
   {
    "duration": 21,
    "start_time": "2023-08-12T19:40:55.810Z"
   },
   {
    "duration": 7,
    "start_time": "2023-08-12T19:40:55.833Z"
   },
   {
    "duration": 16,
    "start_time": "2023-08-12T19:40:55.841Z"
   },
   {
    "duration": 11,
    "start_time": "2023-08-12T19:40:55.859Z"
   },
   {
    "duration": 26,
    "start_time": "2023-08-12T19:40:55.873Z"
   },
   {
    "duration": 68,
    "start_time": "2023-08-12T19:40:55.900Z"
   },
   {
    "duration": 7,
    "start_time": "2023-08-12T19:40:55.970Z"
   },
   {
    "duration": 26,
    "start_time": "2023-08-12T19:40:55.978Z"
   },
   {
    "duration": 6,
    "start_time": "2023-08-12T19:40:56.006Z"
   },
   {
    "duration": 375,
    "start_time": "2023-08-12T19:40:56.014Z"
   },
   {
    "duration": 78,
    "start_time": "2023-08-12T19:40:56.390Z"
   },
   {
    "duration": 12,
    "start_time": "2023-08-12T19:40:56.469Z"
   },
   {
    "duration": 69,
    "start_time": "2023-08-12T19:40:56.482Z"
   },
   {
    "duration": 60,
    "start_time": "2023-08-12T19:40:56.553Z"
   },
   {
    "duration": 135,
    "start_time": "2023-08-12T19:40:56.614Z"
   },
   {
    "duration": 15,
    "start_time": "2023-08-12T19:40:56.751Z"
   },
   {
    "duration": 50,
    "start_time": "2023-08-12T19:40:56.767Z"
   },
   {
    "duration": 5,
    "start_time": "2023-08-12T19:40:56.837Z"
   },
   {
    "duration": 30,
    "start_time": "2023-08-12T19:40:56.844Z"
   },
   {
    "duration": 858,
    "start_time": "2023-08-12T19:40:56.877Z"
   },
   {
    "duration": 53,
    "start_time": "2023-08-12T19:40:57.736Z"
   },
   {
    "duration": 10,
    "start_time": "2023-08-12T19:40:57.791Z"
   },
   {
    "duration": 172,
    "start_time": "2023-08-12T19:40:57.804Z"
   },
   {
    "duration": 314,
    "start_time": "2023-08-12T19:40:57.977Z"
   },
   {
    "duration": 8887,
    "start_time": "2023-08-12T19:40:58.292Z"
   },
   {
    "duration": 160,
    "start_time": "2023-08-12T19:41:07.181Z"
   },
   {
    "duration": 16,
    "start_time": "2023-08-12T19:41:07.342Z"
   },
   {
    "duration": 99,
    "start_time": "2023-08-12T19:41:07.359Z"
   },
   {
    "duration": 10,
    "start_time": "2023-08-12T19:41:07.459Z"
   },
   {
    "duration": 69,
    "start_time": "2023-08-12T19:41:07.470Z"
   },
   {
    "duration": 39,
    "start_time": "2023-08-12T19:41:07.541Z"
   },
   {
    "duration": 11,
    "start_time": "2023-08-12T19:41:07.582Z"
   },
   {
    "duration": 25,
    "start_time": "2023-08-12T19:41:07.595Z"
   },
   {
    "duration": 133,
    "start_time": "2023-08-12T19:41:07.622Z"
   },
   {
    "duration": 5,
    "start_time": "2023-08-12T19:41:07.757Z"
   },
   {
    "duration": 45,
    "start_time": "2023-08-12T19:41:07.763Z"
   },
   {
    "duration": 69,
    "start_time": "2023-08-12T19:41:07.810Z"
   },
   {
    "duration": 71,
    "start_time": "2023-08-12T19:41:07.881Z"
   },
   {
    "duration": 8,
    "start_time": "2023-08-12T19:41:07.954Z"
   },
   {
    "duration": 55,
    "start_time": "2023-08-12T19:41:07.963Z"
   },
   {
    "duration": 119,
    "start_time": "2023-08-12T19:41:08.019Z"
   },
   {
    "duration": 6,
    "start_time": "2023-08-12T19:41:08.139Z"
   },
   {
    "duration": 11,
    "start_time": "2023-08-12T19:41:08.147Z"
   },
   {
    "duration": 11,
    "start_time": "2023-08-12T19:41:08.160Z"
   },
   {
    "duration": 11,
    "start_time": "2023-08-12T19:41:08.173Z"
   },
   {
    "duration": 6,
    "start_time": "2023-08-12T19:41:08.185Z"
   },
   {
    "duration": 77,
    "start_time": "2023-08-12T19:41:08.193Z"
   },
   {
    "duration": 10,
    "start_time": "2023-08-12T19:41:08.272Z"
   },
   {
    "duration": 29,
    "start_time": "2023-08-12T19:41:08.283Z"
   },
   {
    "duration": 2267,
    "start_time": "2023-08-12T20:02:55.738Z"
   },
   {
    "duration": 3,
    "start_time": "2023-08-12T20:02:58.007Z"
   },
   {
    "duration": 10,
    "start_time": "2023-08-12T20:02:58.011Z"
   },
   {
    "duration": 18,
    "start_time": "2023-08-12T20:02:58.023Z"
   },
   {
    "duration": 7,
    "start_time": "2023-08-12T20:02:58.042Z"
   },
   {
    "duration": 1176,
    "start_time": "2023-08-12T20:02:58.050Z"
   },
   {
    "duration": 70,
    "start_time": "2023-08-12T20:02:59.227Z"
   },
   {
    "duration": 23,
    "start_time": "2023-08-12T20:02:59.298Z"
   },
   {
    "duration": 144,
    "start_time": "2023-08-12T20:02:59.323Z"
   },
   {
    "duration": 16,
    "start_time": "2023-08-12T20:02:59.469Z"
   },
   {
    "duration": 13,
    "start_time": "2023-08-12T20:02:59.487Z"
   },
   {
    "duration": 19,
    "start_time": "2023-08-12T20:02:59.502Z"
   },
   {
    "duration": 66,
    "start_time": "2023-08-12T20:02:59.522Z"
   },
   {
    "duration": 7,
    "start_time": "2023-08-12T20:02:59.591Z"
   },
   {
    "duration": 37,
    "start_time": "2023-08-12T20:02:59.600Z"
   },
   {
    "duration": 4,
    "start_time": "2023-08-12T20:02:59.639Z"
   },
   {
    "duration": 381,
    "start_time": "2023-08-12T20:02:59.644Z"
   },
   {
    "duration": 57,
    "start_time": "2023-08-12T20:03:00.027Z"
   },
   {
    "duration": 60,
    "start_time": "2023-08-12T20:03:00.085Z"
   },
   {
    "duration": 15,
    "start_time": "2023-08-12T20:03:00.147Z"
   },
   {
    "duration": 107,
    "start_time": "2023-08-12T20:03:00.163Z"
   },
   {
    "duration": 123,
    "start_time": "2023-08-12T20:03:00.272Z"
   },
   {
    "duration": 33,
    "start_time": "2023-08-12T20:03:00.397Z"
   },
   {
    "duration": 61,
    "start_time": "2023-08-12T20:03:00.431Z"
   },
   {
    "duration": 9,
    "start_time": "2023-08-12T20:03:00.494Z"
   },
   {
    "duration": 51,
    "start_time": "2023-08-12T20:03:00.505Z"
   },
   {
    "duration": 788,
    "start_time": "2023-08-12T20:03:00.558Z"
   },
   {
    "duration": 54,
    "start_time": "2023-08-12T20:03:01.347Z"
   },
   {
    "duration": 35,
    "start_time": "2023-08-12T20:03:01.403Z"
   },
   {
    "duration": 133,
    "start_time": "2023-08-12T20:03:01.439Z"
   },
   {
    "duration": 349,
    "start_time": "2023-08-12T20:03:01.574Z"
   },
   {
    "duration": 8933,
    "start_time": "2023-08-12T20:03:01.924Z"
   },
   {
    "duration": 117,
    "start_time": "2023-08-12T20:03:10.858Z"
   },
   {
    "duration": 71,
    "start_time": "2023-08-12T20:03:10.976Z"
   },
   {
    "duration": 30,
    "start_time": "2023-08-12T20:03:11.049Z"
   },
   {
    "duration": 66,
    "start_time": "2023-08-12T20:03:11.081Z"
   },
   {
    "duration": 22,
    "start_time": "2023-08-12T20:03:11.148Z"
   },
   {
    "duration": 28,
    "start_time": "2023-08-12T20:03:11.171Z"
   },
   {
    "duration": 39,
    "start_time": "2023-08-12T20:03:11.201Z"
   },
   {
    "duration": 18,
    "start_time": "2023-08-12T20:03:11.242Z"
   },
   {
    "duration": 113,
    "start_time": "2023-08-12T20:03:11.264Z"
   },
   {
    "duration": 5,
    "start_time": "2023-08-12T20:03:11.379Z"
   },
   {
    "duration": 37,
    "start_time": "2023-08-12T20:03:11.385Z"
   },
   {
    "duration": 67,
    "start_time": "2023-08-12T20:03:11.424Z"
   },
   {
    "duration": 67,
    "start_time": "2023-08-12T20:03:11.492Z"
   },
   {
    "duration": 7,
    "start_time": "2023-08-12T20:03:11.561Z"
   },
   {
    "duration": 69,
    "start_time": "2023-08-12T20:03:11.569Z"
   },
   {
    "duration": 100,
    "start_time": "2023-08-12T20:03:11.639Z"
   },
   {
    "duration": 6,
    "start_time": "2023-08-12T20:03:11.741Z"
   },
   {
    "duration": 18,
    "start_time": "2023-08-12T20:03:11.749Z"
   },
   {
    "duration": 27,
    "start_time": "2023-08-12T20:03:11.769Z"
   },
   {
    "duration": 14,
    "start_time": "2023-08-12T20:03:11.798Z"
   },
   {
    "duration": 21,
    "start_time": "2023-08-12T20:03:11.814Z"
   },
   {
    "duration": 51,
    "start_time": "2023-08-12T20:03:11.836Z"
   },
   {
    "duration": 14,
    "start_time": "2023-08-12T20:03:11.889Z"
   },
   {
    "duration": 39,
    "start_time": "2023-08-12T20:03:11.905Z"
   },
   {
    "duration": 2052,
    "start_time": "2023-08-12T20:03:27.634Z"
   },
   {
    "duration": 4392,
    "start_time": "2023-08-12T20:03:29.688Z"
   },
   {
    "duration": 1931,
    "start_time": "2023-08-12T20:03:34.082Z"
   },
   {
    "duration": 6049,
    "start_time": "2023-08-12T20:03:36.015Z"
   },
   {
    "duration": 1982,
    "start_time": "2023-08-12T20:03:42.066Z"
   },
   {
    "duration": 1185,
    "start_time": "2023-08-12T20:03:44.049Z"
   },
   {
    "duration": 72,
    "start_time": "2023-08-12T20:03:45.235Z"
   },
   {
    "duration": 24,
    "start_time": "2023-08-12T20:03:45.309Z"
   },
   {
    "duration": 13,
    "start_time": "2023-08-12T20:03:45.335Z"
   },
   {
    "duration": 19,
    "start_time": "2023-08-12T20:03:45.352Z"
   },
   {
    "duration": 13,
    "start_time": "2023-08-12T20:03:45.372Z"
   },
   {
    "duration": 25,
    "start_time": "2023-08-12T20:03:45.386Z"
   },
   {
    "duration": 64,
    "start_time": "2023-08-12T20:03:45.413Z"
   },
   {
    "duration": 7,
    "start_time": "2023-08-12T20:03:45.478Z"
   },
   {
    "duration": 32,
    "start_time": "2023-08-12T20:03:45.487Z"
   },
   {
    "duration": 27,
    "start_time": "2023-08-12T20:03:45.521Z"
   },
   {
    "duration": 375,
    "start_time": "2023-08-12T20:03:45.550Z"
   },
   {
    "duration": 112,
    "start_time": "2023-08-12T20:03:45.926Z"
   },
   {
    "duration": 12,
    "start_time": "2023-08-12T20:03:46.040Z"
   },
   {
    "duration": 54,
    "start_time": "2023-08-12T20:03:46.053Z"
   },
   {
    "duration": 84,
    "start_time": "2023-08-12T20:03:46.109Z"
   },
   {
    "duration": 118,
    "start_time": "2023-08-12T20:03:46.195Z"
   },
   {
    "duration": 26,
    "start_time": "2023-08-12T20:03:46.314Z"
   },
   {
    "duration": 53,
    "start_time": "2023-08-12T20:03:46.341Z"
   },
   {
    "duration": 5,
    "start_time": "2023-08-12T20:03:46.396Z"
   },
   {
    "duration": 61,
    "start_time": "2023-08-12T20:03:46.403Z"
   },
   {
    "duration": 788,
    "start_time": "2023-08-12T20:03:46.465Z"
   },
   {
    "duration": 53,
    "start_time": "2023-08-12T20:03:47.256Z"
   },
   {
    "duration": 32,
    "start_time": "2023-08-12T20:03:47.311Z"
   },
   {
    "duration": 100,
    "start_time": "2023-08-12T20:03:47.344Z"
   },
   {
    "duration": 302,
    "start_time": "2023-08-12T20:03:47.446Z"
   },
   {
    "duration": 9121,
    "start_time": "2023-08-12T20:03:47.750Z"
   },
   {
    "duration": 164,
    "start_time": "2023-08-12T20:03:56.874Z"
   },
   {
    "duration": 22,
    "start_time": "2023-08-12T20:03:57.040Z"
   },
   {
    "duration": 90,
    "start_time": "2023-08-12T20:03:57.064Z"
   },
   {
    "duration": 10,
    "start_time": "2023-08-12T20:03:57.156Z"
   },
   {
    "duration": 7,
    "start_time": "2023-08-12T20:03:57.168Z"
   },
   {
    "duration": 89,
    "start_time": "2023-08-12T20:03:57.177Z"
   },
   {
    "duration": 5,
    "start_time": "2023-08-12T20:03:57.268Z"
   },
   {
    "duration": 12,
    "start_time": "2023-08-12T20:03:57.275Z"
   },
   {
    "duration": 138,
    "start_time": "2023-08-12T20:03:57.288Z"
   },
   {
    "duration": 13,
    "start_time": "2023-08-12T20:03:57.427Z"
   },
   {
    "duration": 50,
    "start_time": "2023-08-12T20:03:57.442Z"
   },
   {
    "duration": 58,
    "start_time": "2023-08-12T20:03:57.494Z"
   },
   {
    "duration": 51,
    "start_time": "2023-08-12T20:03:57.553Z"
   },
   {
    "duration": 8,
    "start_time": "2023-08-12T20:03:57.606Z"
   },
   {
    "duration": 66,
    "start_time": "2023-08-12T20:03:57.638Z"
   },
   {
    "duration": 98,
    "start_time": "2023-08-12T20:03:57.706Z"
   },
   {
    "duration": 7,
    "start_time": "2023-08-12T20:03:57.806Z"
   },
   {
    "duration": 31,
    "start_time": "2023-08-12T20:03:57.815Z"
   },
   {
    "duration": 22,
    "start_time": "2023-08-12T20:03:57.848Z"
   },
   {
    "duration": 11,
    "start_time": "2023-08-12T20:03:57.872Z"
   },
   {
    "duration": 6,
    "start_time": "2023-08-12T20:03:57.884Z"
   },
   {
    "duration": 58,
    "start_time": "2023-08-12T20:03:57.891Z"
   },
   {
    "duration": 11,
    "start_time": "2023-08-12T20:03:57.950Z"
   },
   {
    "duration": 29,
    "start_time": "2023-08-12T20:03:57.969Z"
   },
   {
    "duration": 3,
    "start_time": "2023-08-12T20:05:04.822Z"
   },
   {
    "duration": 11,
    "start_time": "2023-08-12T20:05:04.827Z"
   },
   {
    "duration": 6,
    "start_time": "2023-08-12T20:05:04.839Z"
   },
   {
    "duration": 4,
    "start_time": "2023-08-12T20:05:04.847Z"
   },
   {
    "duration": 5,
    "start_time": "2023-08-12T20:05:04.852Z"
   },
   {
    "duration": 1151,
    "start_time": "2023-08-12T20:05:04.858Z"
   },
   {
    "duration": 71,
    "start_time": "2023-08-12T20:05:06.010Z"
   },
   {
    "duration": 22,
    "start_time": "2023-08-12T20:05:06.082Z"
   },
   {
    "duration": 12,
    "start_time": "2023-08-12T20:05:06.107Z"
   },
   {
    "duration": 30,
    "start_time": "2023-08-12T20:05:06.121Z"
   },
   {
    "duration": 13,
    "start_time": "2023-08-12T20:05:06.153Z"
   },
   {
    "duration": 28,
    "start_time": "2023-08-12T20:05:06.168Z"
   },
   {
    "duration": 59,
    "start_time": "2023-08-12T20:05:06.198Z"
   },
   {
    "duration": 7,
    "start_time": "2023-08-12T20:05:06.259Z"
   },
   {
    "duration": 25,
    "start_time": "2023-08-12T20:05:06.267Z"
   },
   {
    "duration": 7,
    "start_time": "2023-08-12T20:05:06.294Z"
   },
   {
    "duration": 398,
    "start_time": "2023-08-12T20:05:06.303Z"
   },
   {
    "duration": 61,
    "start_time": "2023-08-12T20:05:06.702Z"
   },
   {
    "duration": 13,
    "start_time": "2023-08-12T20:05:06.765Z"
   },
   {
    "duration": 65,
    "start_time": "2023-08-12T20:05:06.779Z"
   },
   {
    "duration": 58,
    "start_time": "2023-08-12T20:05:06.845Z"
   },
   {
    "duration": 125,
    "start_time": "2023-08-12T20:05:06.904Z"
   },
   {
    "duration": 21,
    "start_time": "2023-08-12T20:05:07.030Z"
   },
   {
    "duration": 52,
    "start_time": "2023-08-12T20:05:07.055Z"
   },
   {
    "duration": 4,
    "start_time": "2023-08-12T20:05:07.108Z"
   },
   {
    "duration": 55,
    "start_time": "2023-08-12T20:05:07.113Z"
   },
   {
    "duration": 794,
    "start_time": "2023-08-12T20:05:07.169Z"
   },
   {
    "duration": 52,
    "start_time": "2023-08-12T20:05:07.965Z"
   },
   {
    "duration": 24,
    "start_time": "2023-08-12T20:05:08.018Z"
   },
   {
    "duration": 99,
    "start_time": "2023-08-12T20:05:08.043Z"
   },
   {
    "duration": 307,
    "start_time": "2023-08-12T20:05:08.144Z"
   },
   {
    "duration": 8618,
    "start_time": "2023-08-12T20:05:08.452Z"
   },
   {
    "duration": 169,
    "start_time": "2023-08-12T20:05:17.072Z"
   },
   {
    "duration": 16,
    "start_time": "2023-08-12T20:05:17.242Z"
   },
   {
    "duration": 84,
    "start_time": "2023-08-12T20:05:17.259Z"
   },
   {
    "duration": 9,
    "start_time": "2023-08-12T20:05:17.345Z"
   },
   {
    "duration": 4,
    "start_time": "2023-08-12T20:05:17.357Z"
   },
   {
    "duration": 44,
    "start_time": "2023-08-12T20:05:17.363Z"
   },
   {
    "duration": 31,
    "start_time": "2023-08-12T20:05:17.408Z"
   },
   {
    "duration": 17,
    "start_time": "2023-08-12T20:05:17.440Z"
   },
   {
    "duration": 115,
    "start_time": "2023-08-12T20:05:17.458Z"
   },
   {
    "duration": 4,
    "start_time": "2023-08-12T20:05:17.575Z"
   },
   {
    "duration": 25,
    "start_time": "2023-08-12T20:05:17.581Z"
   },
   {
    "duration": 71,
    "start_time": "2023-08-12T20:05:17.608Z"
   },
   {
    "duration": 60,
    "start_time": "2023-08-12T20:05:17.681Z"
   },
   {
    "duration": 7,
    "start_time": "2023-08-12T20:05:17.743Z"
   },
   {
    "duration": 64,
    "start_time": "2023-08-12T20:05:17.751Z"
   },
   {
    "duration": 109,
    "start_time": "2023-08-12T20:05:17.816Z"
   },
   {
    "duration": 5,
    "start_time": "2023-08-12T20:05:17.926Z"
   },
   {
    "duration": 8,
    "start_time": "2023-08-12T20:05:17.938Z"
   },
   {
    "duration": 15,
    "start_time": "2023-08-12T20:05:17.947Z"
   },
   {
    "duration": 11,
    "start_time": "2023-08-12T20:05:17.964Z"
   },
   {
    "duration": 7,
    "start_time": "2023-08-12T20:05:17.977Z"
   },
   {
    "duration": 91,
    "start_time": "2023-08-12T20:05:17.985Z"
   },
   {
    "duration": 9,
    "start_time": "2023-08-12T20:05:18.077Z"
   },
   {
    "duration": 31,
    "start_time": "2023-08-12T20:05:18.088Z"
   },
   {
    "duration": 2121,
    "start_time": "2023-08-12T20:08:16.514Z"
   },
   {
    "duration": 2010,
    "start_time": "2023-08-12T20:08:18.637Z"
   },
   {
    "duration": 1963,
    "start_time": "2023-08-12T20:08:20.648Z"
   },
   {
    "duration": 1988,
    "start_time": "2023-08-12T20:08:22.613Z"
   },
   {
    "duration": 1977,
    "start_time": "2023-08-12T20:08:24.604Z"
   },
   {
    "duration": 1143,
    "start_time": "2023-08-12T20:08:26.583Z"
   },
   {
    "duration": 74,
    "start_time": "2023-08-12T20:08:27.728Z"
   },
   {
    "duration": 25,
    "start_time": "2023-08-12T20:08:27.803Z"
   },
   {
    "duration": 10,
    "start_time": "2023-08-12T20:08:27.830Z"
   },
   {
    "duration": 24,
    "start_time": "2023-08-12T20:08:27.843Z"
   },
   {
    "duration": 13,
    "start_time": "2023-08-12T20:08:27.869Z"
   },
   {
    "duration": 20,
    "start_time": "2023-08-12T20:08:27.883Z"
   },
   {
    "duration": 78,
    "start_time": "2023-08-12T20:08:27.905Z"
   },
   {
    "duration": 8,
    "start_time": "2023-08-12T20:08:27.985Z"
   },
   {
    "duration": 25,
    "start_time": "2023-08-12T20:08:27.994Z"
   },
   {
    "duration": 5,
    "start_time": "2023-08-12T20:08:28.037Z"
   }
  ],
  "kernelspec": {
   "display_name": "Python 3 (ipykernel)",
   "language": "python",
   "name": "python3"
  },
  "language_info": {
   "codemirror_mode": {
    "name": "ipython",
    "version": 3
   },
   "file_extension": ".py",
   "mimetype": "text/x-python",
   "name": "python",
   "nbconvert_exporter": "python",
   "pygments_lexer": "ipython3",
   "version": "3.9.5"
  },
  "toc": {
   "base_numbering": 1,
   "nav_menu": {},
   "number_sections": true,
   "sideBar": true,
   "skip_h1_title": true,
   "title_cell": "Table of Contents",
   "title_sidebar": "Contents",
   "toc_cell": false,
   "toc_position": {},
   "toc_section_display": true,
   "toc_window_display": false
  }
 },
 "nbformat": 4,
 "nbformat_minor": 2
}
