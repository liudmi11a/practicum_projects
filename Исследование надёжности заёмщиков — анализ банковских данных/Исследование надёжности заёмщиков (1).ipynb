{
 "cells": [
  {
   "cell_type": "markdown",
   "id": "4c2f02a1",
   "metadata": {
    "deletable": false,
    "editable": false,
    "id": "c81daeeb"
   },
   "source": [
    "# Исследование надежности заемщиков\n"
   ]
  },
  {
   "cell_type": "markdown",
   "id": "f987f404",
   "metadata": {
    "deletable": false,
    "editable": false,
    "id": "827c20bf"
   },
   "source": [
    "Во второй части проекта вы выполните шаги 3 и 4. Их вручную проверит ревьюер.\n",
    "Чтобы вам не пришлось писать код заново для шагов 1 и 2, мы добавили авторские решения в ячейки с кодом. \n",
    "\n"
   ]
  },
  {
   "cell_type": "markdown",
   "id": "5f7f06ae",
   "metadata": {
    "deletable": false,
    "editable": false,
    "id": "744d7639"
   },
   "source": [
    "## Откройте таблицу и изучите общую информацию о данных"
   ]
  },
  {
   "cell_type": "markdown",
   "id": "630afbae",
   "metadata": {
    "deletable": false,
    "editable": false,
    "id": "e7a14c31"
   },
   "source": [
    "**Задание 1. Импортируйте библиотеку pandas. Считайте данные из csv-файла в датафрейм и сохраните в переменную `data`. Путь к файлу:**\n",
    "\n",
    "`/datasets/data.csv`"
   ]
  },
  {
   "cell_type": "code",
   "execution_count": 1,
   "id": "d93ad713",
   "metadata": {
    "deletable": false,
    "id": "7bcf75c9"
   },
   "outputs": [],
   "source": [
    "import pandas as pd\n",
    "\n",
    "try:\n",
    "    data = pd.read_csv('/datasets/data.csv')\n",
    "except:\n",
    "    data = pd.read_csv('https://code.s3.yandex.net/datasets/data.csv')"
   ]
  },
  {
   "cell_type": "markdown",
   "id": "1a9c4fc9",
   "metadata": {
    "deletable": false,
    "editable": false,
    "id": "b8038fe3"
   },
   "source": [
    "**Задание 2. Выведите первые 20 строчек датафрейма `data` на экран.**"
   ]
  },
  {
   "cell_type": "code",
   "execution_count": 2,
   "id": "93f005fb",
   "metadata": {
    "deletable": false,
    "id": "2a7cab99",
    "outputId": "1a8f3ef2-d323-4ec2-ddf7-89670b5944c4"
   },
   "outputs": [
    {
     "data": {
      "text/html": [
       "<div>\n",
       "<style scoped>\n",
       "    .dataframe tbody tr th:only-of-type {\n",
       "        vertical-align: middle;\n",
       "    }\n",
       "\n",
       "    .dataframe tbody tr th {\n",
       "        vertical-align: top;\n",
       "    }\n",
       "\n",
       "    .dataframe thead th {\n",
       "        text-align: right;\n",
       "    }\n",
       "</style>\n",
       "<table border=\"1\" class=\"dataframe\">\n",
       "  <thead>\n",
       "    <tr style=\"text-align: right;\">\n",
       "      <th></th>\n",
       "      <th>children</th>\n",
       "      <th>days_employed</th>\n",
       "      <th>dob_years</th>\n",
       "      <th>education</th>\n",
       "      <th>education_id</th>\n",
       "      <th>family_status</th>\n",
       "      <th>family_status_id</th>\n",
       "      <th>gender</th>\n",
       "      <th>income_type</th>\n",
       "      <th>debt</th>\n",
       "      <th>total_income</th>\n",
       "      <th>purpose</th>\n",
       "    </tr>\n",
       "  </thead>\n",
       "  <tbody>\n",
       "    <tr>\n",
       "      <th>0</th>\n",
       "      <td>1</td>\n",
       "      <td>-8437.673028</td>\n",
       "      <td>42</td>\n",
       "      <td>высшее</td>\n",
       "      <td>0</td>\n",
       "      <td>женат / замужем</td>\n",
       "      <td>0</td>\n",
       "      <td>F</td>\n",
       "      <td>сотрудник</td>\n",
       "      <td>0</td>\n",
       "      <td>253875.639453</td>\n",
       "      <td>покупка жилья</td>\n",
       "    </tr>\n",
       "    <tr>\n",
       "      <th>1</th>\n",
       "      <td>1</td>\n",
       "      <td>-4024.803754</td>\n",
       "      <td>36</td>\n",
       "      <td>среднее</td>\n",
       "      <td>1</td>\n",
       "      <td>женат / замужем</td>\n",
       "      <td>0</td>\n",
       "      <td>F</td>\n",
       "      <td>сотрудник</td>\n",
       "      <td>0</td>\n",
       "      <td>112080.014102</td>\n",
       "      <td>приобретение автомобиля</td>\n",
       "    </tr>\n",
       "    <tr>\n",
       "      <th>2</th>\n",
       "      <td>0</td>\n",
       "      <td>-5623.422610</td>\n",
       "      <td>33</td>\n",
       "      <td>Среднее</td>\n",
       "      <td>1</td>\n",
       "      <td>женат / замужем</td>\n",
       "      <td>0</td>\n",
       "      <td>M</td>\n",
       "      <td>сотрудник</td>\n",
       "      <td>0</td>\n",
       "      <td>145885.952297</td>\n",
       "      <td>покупка жилья</td>\n",
       "    </tr>\n",
       "    <tr>\n",
       "      <th>3</th>\n",
       "      <td>3</td>\n",
       "      <td>-4124.747207</td>\n",
       "      <td>32</td>\n",
       "      <td>среднее</td>\n",
       "      <td>1</td>\n",
       "      <td>женат / замужем</td>\n",
       "      <td>0</td>\n",
       "      <td>M</td>\n",
       "      <td>сотрудник</td>\n",
       "      <td>0</td>\n",
       "      <td>267628.550329</td>\n",
       "      <td>дополнительное образование</td>\n",
       "    </tr>\n",
       "    <tr>\n",
       "      <th>4</th>\n",
       "      <td>0</td>\n",
       "      <td>340266.072047</td>\n",
       "      <td>53</td>\n",
       "      <td>среднее</td>\n",
       "      <td>1</td>\n",
       "      <td>гражданский брак</td>\n",
       "      <td>1</td>\n",
       "      <td>F</td>\n",
       "      <td>пенсионер</td>\n",
       "      <td>0</td>\n",
       "      <td>158616.077870</td>\n",
       "      <td>сыграть свадьбу</td>\n",
       "    </tr>\n",
       "    <tr>\n",
       "      <th>5</th>\n",
       "      <td>0</td>\n",
       "      <td>-926.185831</td>\n",
       "      <td>27</td>\n",
       "      <td>высшее</td>\n",
       "      <td>0</td>\n",
       "      <td>гражданский брак</td>\n",
       "      <td>1</td>\n",
       "      <td>M</td>\n",
       "      <td>компаньон</td>\n",
       "      <td>0</td>\n",
       "      <td>255763.565419</td>\n",
       "      <td>покупка жилья</td>\n",
       "    </tr>\n",
       "    <tr>\n",
       "      <th>6</th>\n",
       "      <td>0</td>\n",
       "      <td>-2879.202052</td>\n",
       "      <td>43</td>\n",
       "      <td>высшее</td>\n",
       "      <td>0</td>\n",
       "      <td>женат / замужем</td>\n",
       "      <td>0</td>\n",
       "      <td>F</td>\n",
       "      <td>компаньон</td>\n",
       "      <td>0</td>\n",
       "      <td>240525.971920</td>\n",
       "      <td>операции с жильем</td>\n",
       "    </tr>\n",
       "    <tr>\n",
       "      <th>7</th>\n",
       "      <td>0</td>\n",
       "      <td>-152.779569</td>\n",
       "      <td>50</td>\n",
       "      <td>СРЕДНЕЕ</td>\n",
       "      <td>1</td>\n",
       "      <td>женат / замужем</td>\n",
       "      <td>0</td>\n",
       "      <td>M</td>\n",
       "      <td>сотрудник</td>\n",
       "      <td>0</td>\n",
       "      <td>135823.934197</td>\n",
       "      <td>образование</td>\n",
       "    </tr>\n",
       "    <tr>\n",
       "      <th>8</th>\n",
       "      <td>2</td>\n",
       "      <td>-6929.865299</td>\n",
       "      <td>35</td>\n",
       "      <td>ВЫСШЕЕ</td>\n",
       "      <td>0</td>\n",
       "      <td>гражданский брак</td>\n",
       "      <td>1</td>\n",
       "      <td>F</td>\n",
       "      <td>сотрудник</td>\n",
       "      <td>0</td>\n",
       "      <td>95856.832424</td>\n",
       "      <td>на проведение свадьбы</td>\n",
       "    </tr>\n",
       "    <tr>\n",
       "      <th>9</th>\n",
       "      <td>0</td>\n",
       "      <td>-2188.756445</td>\n",
       "      <td>41</td>\n",
       "      <td>среднее</td>\n",
       "      <td>1</td>\n",
       "      <td>женат / замужем</td>\n",
       "      <td>0</td>\n",
       "      <td>M</td>\n",
       "      <td>сотрудник</td>\n",
       "      <td>0</td>\n",
       "      <td>144425.938277</td>\n",
       "      <td>покупка жилья для семьи</td>\n",
       "    </tr>\n",
       "    <tr>\n",
       "      <th>10</th>\n",
       "      <td>2</td>\n",
       "      <td>-4171.483647</td>\n",
       "      <td>36</td>\n",
       "      <td>высшее</td>\n",
       "      <td>0</td>\n",
       "      <td>женат / замужем</td>\n",
       "      <td>0</td>\n",
       "      <td>M</td>\n",
       "      <td>компаньон</td>\n",
       "      <td>0</td>\n",
       "      <td>113943.491460</td>\n",
       "      <td>покупка недвижимости</td>\n",
       "    </tr>\n",
       "    <tr>\n",
       "      <th>11</th>\n",
       "      <td>0</td>\n",
       "      <td>-792.701887</td>\n",
       "      <td>40</td>\n",
       "      <td>среднее</td>\n",
       "      <td>1</td>\n",
       "      <td>женат / замужем</td>\n",
       "      <td>0</td>\n",
       "      <td>F</td>\n",
       "      <td>сотрудник</td>\n",
       "      <td>0</td>\n",
       "      <td>77069.234271</td>\n",
       "      <td>покупка коммерческой недвижимости</td>\n",
       "    </tr>\n",
       "    <tr>\n",
       "      <th>12</th>\n",
       "      <td>0</td>\n",
       "      <td>NaN</td>\n",
       "      <td>65</td>\n",
       "      <td>среднее</td>\n",
       "      <td>1</td>\n",
       "      <td>гражданский брак</td>\n",
       "      <td>1</td>\n",
       "      <td>M</td>\n",
       "      <td>пенсионер</td>\n",
       "      <td>0</td>\n",
       "      <td>NaN</td>\n",
       "      <td>сыграть свадьбу</td>\n",
       "    </tr>\n",
       "    <tr>\n",
       "      <th>13</th>\n",
       "      <td>0</td>\n",
       "      <td>-1846.641941</td>\n",
       "      <td>54</td>\n",
       "      <td>неоконченное высшее</td>\n",
       "      <td>2</td>\n",
       "      <td>женат / замужем</td>\n",
       "      <td>0</td>\n",
       "      <td>F</td>\n",
       "      <td>сотрудник</td>\n",
       "      <td>0</td>\n",
       "      <td>130458.228857</td>\n",
       "      <td>приобретение автомобиля</td>\n",
       "    </tr>\n",
       "    <tr>\n",
       "      <th>14</th>\n",
       "      <td>0</td>\n",
       "      <td>-1844.956182</td>\n",
       "      <td>56</td>\n",
       "      <td>высшее</td>\n",
       "      <td>0</td>\n",
       "      <td>гражданский брак</td>\n",
       "      <td>1</td>\n",
       "      <td>F</td>\n",
       "      <td>компаньон</td>\n",
       "      <td>1</td>\n",
       "      <td>165127.911772</td>\n",
       "      <td>покупка жилой недвижимости</td>\n",
       "    </tr>\n",
       "    <tr>\n",
       "      <th>15</th>\n",
       "      <td>1</td>\n",
       "      <td>-972.364419</td>\n",
       "      <td>26</td>\n",
       "      <td>среднее</td>\n",
       "      <td>1</td>\n",
       "      <td>женат / замужем</td>\n",
       "      <td>0</td>\n",
       "      <td>F</td>\n",
       "      <td>сотрудник</td>\n",
       "      <td>0</td>\n",
       "      <td>116820.904450</td>\n",
       "      <td>строительство собственной недвижимости</td>\n",
       "    </tr>\n",
       "    <tr>\n",
       "      <th>16</th>\n",
       "      <td>0</td>\n",
       "      <td>-1719.934226</td>\n",
       "      <td>35</td>\n",
       "      <td>среднее</td>\n",
       "      <td>1</td>\n",
       "      <td>женат / замужем</td>\n",
       "      <td>0</td>\n",
       "      <td>F</td>\n",
       "      <td>сотрудник</td>\n",
       "      <td>0</td>\n",
       "      <td>289202.704229</td>\n",
       "      <td>недвижимость</td>\n",
       "    </tr>\n",
       "    <tr>\n",
       "      <th>17</th>\n",
       "      <td>0</td>\n",
       "      <td>-2369.999720</td>\n",
       "      <td>33</td>\n",
       "      <td>высшее</td>\n",
       "      <td>0</td>\n",
       "      <td>гражданский брак</td>\n",
       "      <td>1</td>\n",
       "      <td>M</td>\n",
       "      <td>сотрудник</td>\n",
       "      <td>0</td>\n",
       "      <td>90410.586745</td>\n",
       "      <td>строительство недвижимости</td>\n",
       "    </tr>\n",
       "    <tr>\n",
       "      <th>18</th>\n",
       "      <td>0</td>\n",
       "      <td>400281.136913</td>\n",
       "      <td>53</td>\n",
       "      <td>среднее</td>\n",
       "      <td>1</td>\n",
       "      <td>вдовец / вдова</td>\n",
       "      <td>2</td>\n",
       "      <td>F</td>\n",
       "      <td>пенсионер</td>\n",
       "      <td>0</td>\n",
       "      <td>56823.777243</td>\n",
       "      <td>на покупку подержанного автомобиля</td>\n",
       "    </tr>\n",
       "    <tr>\n",
       "      <th>19</th>\n",
       "      <td>0</td>\n",
       "      <td>-10038.818549</td>\n",
       "      <td>48</td>\n",
       "      <td>СРЕДНЕЕ</td>\n",
       "      <td>1</td>\n",
       "      <td>в разводе</td>\n",
       "      <td>3</td>\n",
       "      <td>F</td>\n",
       "      <td>сотрудник</td>\n",
       "      <td>0</td>\n",
       "      <td>242831.107982</td>\n",
       "      <td>на покупку своего автомобиля</td>\n",
       "    </tr>\n",
       "  </tbody>\n",
       "</table>\n",
       "</div>"
      ],
      "text/plain": [
       "    children  days_employed  dob_years            education  education_id  \\\n",
       "0          1   -8437.673028         42               высшее             0   \n",
       "1          1   -4024.803754         36              среднее             1   \n",
       "2          0   -5623.422610         33              Среднее             1   \n",
       "3          3   -4124.747207         32              среднее             1   \n",
       "4          0  340266.072047         53              среднее             1   \n",
       "5          0    -926.185831         27               высшее             0   \n",
       "6          0   -2879.202052         43               высшее             0   \n",
       "7          0    -152.779569         50              СРЕДНЕЕ             1   \n",
       "8          2   -6929.865299         35               ВЫСШЕЕ             0   \n",
       "9          0   -2188.756445         41              среднее             1   \n",
       "10         2   -4171.483647         36               высшее             0   \n",
       "11         0    -792.701887         40              среднее             1   \n",
       "12         0            NaN         65              среднее             1   \n",
       "13         0   -1846.641941         54  неоконченное высшее             2   \n",
       "14         0   -1844.956182         56               высшее             0   \n",
       "15         1    -972.364419         26              среднее             1   \n",
       "16         0   -1719.934226         35              среднее             1   \n",
       "17         0   -2369.999720         33               высшее             0   \n",
       "18         0  400281.136913         53              среднее             1   \n",
       "19         0  -10038.818549         48              СРЕДНЕЕ             1   \n",
       "\n",
       "       family_status  family_status_id gender income_type  debt  \\\n",
       "0    женат / замужем                 0      F   сотрудник     0   \n",
       "1    женат / замужем                 0      F   сотрудник     0   \n",
       "2    женат / замужем                 0      M   сотрудник     0   \n",
       "3    женат / замужем                 0      M   сотрудник     0   \n",
       "4   гражданский брак                 1      F   пенсионер     0   \n",
       "5   гражданский брак                 1      M   компаньон     0   \n",
       "6    женат / замужем                 0      F   компаньон     0   \n",
       "7    женат / замужем                 0      M   сотрудник     0   \n",
       "8   гражданский брак                 1      F   сотрудник     0   \n",
       "9    женат / замужем                 0      M   сотрудник     0   \n",
       "10   женат / замужем                 0      M   компаньон     0   \n",
       "11   женат / замужем                 0      F   сотрудник     0   \n",
       "12  гражданский брак                 1      M   пенсионер     0   \n",
       "13   женат / замужем                 0      F   сотрудник     0   \n",
       "14  гражданский брак                 1      F   компаньон     1   \n",
       "15   женат / замужем                 0      F   сотрудник     0   \n",
       "16   женат / замужем                 0      F   сотрудник     0   \n",
       "17  гражданский брак                 1      M   сотрудник     0   \n",
       "18    вдовец / вдова                 2      F   пенсионер     0   \n",
       "19         в разводе                 3      F   сотрудник     0   \n",
       "\n",
       "     total_income                                 purpose  \n",
       "0   253875.639453                           покупка жилья  \n",
       "1   112080.014102                 приобретение автомобиля  \n",
       "2   145885.952297                           покупка жилья  \n",
       "3   267628.550329              дополнительное образование  \n",
       "4   158616.077870                         сыграть свадьбу  \n",
       "5   255763.565419                           покупка жилья  \n",
       "6   240525.971920                       операции с жильем  \n",
       "7   135823.934197                             образование  \n",
       "8    95856.832424                   на проведение свадьбы  \n",
       "9   144425.938277                 покупка жилья для семьи  \n",
       "10  113943.491460                    покупка недвижимости  \n",
       "11   77069.234271       покупка коммерческой недвижимости  \n",
       "12            NaN                         сыграть свадьбу  \n",
       "13  130458.228857                 приобретение автомобиля  \n",
       "14  165127.911772              покупка жилой недвижимости  \n",
       "15  116820.904450  строительство собственной недвижимости  \n",
       "16  289202.704229                            недвижимость  \n",
       "17   90410.586745              строительство недвижимости  \n",
       "18   56823.777243      на покупку подержанного автомобиля  \n",
       "19  242831.107982            на покупку своего автомобиля  "
      ]
     },
     "execution_count": 2,
     "metadata": {},
     "output_type": "execute_result"
    }
   ],
   "source": [
    "data.head(20)"
   ]
  },
  {
   "cell_type": "markdown",
   "id": "942cd3f9",
   "metadata": {
    "deletable": false,
    "editable": false,
    "id": "1c12e233"
   },
   "source": [
    "**Задание 3. Выведите основную информацию о датафрейме с помощью метода `info()`.**"
   ]
  },
  {
   "cell_type": "code",
   "execution_count": 3,
   "id": "c8dc57f2",
   "metadata": {
    "deletable": false,
    "id": "2b757bca",
    "outputId": "15376089-8dad-46c9-b520-c05248d43158"
   },
   "outputs": [
    {
     "name": "stdout",
     "output_type": "stream",
     "text": [
      "<class 'pandas.core.frame.DataFrame'>\n",
      "RangeIndex: 21525 entries, 0 to 21524\n",
      "Data columns (total 12 columns):\n",
      " #   Column            Non-Null Count  Dtype  \n",
      "---  ------            --------------  -----  \n",
      " 0   children          21525 non-null  int64  \n",
      " 1   days_employed     19351 non-null  float64\n",
      " 2   dob_years         21525 non-null  int64  \n",
      " 3   education         21525 non-null  object \n",
      " 4   education_id      21525 non-null  int64  \n",
      " 5   family_status     21525 non-null  object \n",
      " 6   family_status_id  21525 non-null  int64  \n",
      " 7   gender            21525 non-null  object \n",
      " 8   income_type       21525 non-null  object \n",
      " 9   debt              21525 non-null  int64  \n",
      " 10  total_income      19351 non-null  float64\n",
      " 11  purpose           21525 non-null  object \n",
      "dtypes: float64(2), int64(5), object(5)\n",
      "memory usage: 2.0+ MB\n"
     ]
    }
   ],
   "source": [
    "data.info()"
   ]
  },
  {
   "cell_type": "markdown",
   "id": "272603f6",
   "metadata": {
    "deletable": false,
    "editable": false,
    "id": "333ec665"
   },
   "source": [
    "## Предобработка данных"
   ]
  },
  {
   "cell_type": "markdown",
   "id": "6983f0ab",
   "metadata": {
    "deletable": false,
    "editable": false,
    "id": "02d92d53"
   },
   "source": [
    "### Удаление пропусков"
   ]
  },
  {
   "cell_type": "markdown",
   "id": "8240552c",
   "metadata": {
    "deletable": false,
    "editable": false,
    "id": "cd84967c"
   },
   "source": [
    "**Задание 4. Выведите количество пропущенных значений для каждого столбца. Используйте комбинацию двух методов.**"
   ]
  },
  {
   "cell_type": "code",
   "execution_count": 4,
   "id": "7cf40a8b",
   "metadata": {
    "deletable": false,
    "id": "7f9b2309",
    "outputId": "81f4d817-781c-465c-ed15-91ce4446810d"
   },
   "outputs": [
    {
     "data": {
      "text/plain": [
       "children               0\n",
       "days_employed       2174\n",
       "dob_years              0\n",
       "education              0\n",
       "education_id           0\n",
       "family_status          0\n",
       "family_status_id       0\n",
       "gender                 0\n",
       "income_type            0\n",
       "debt                   0\n",
       "total_income        2174\n",
       "purpose                0\n",
       "dtype: int64"
      ]
     },
     "execution_count": 4,
     "metadata": {},
     "output_type": "execute_result"
    }
   ],
   "source": [
    "data.isna().sum()"
   ]
  },
  {
   "cell_type": "markdown",
   "id": "ddb7bc49",
   "metadata": {
    "deletable": false,
    "editable": false,
    "id": "db86e27b"
   },
   "source": [
    "**Задание 5. В двух столбцах есть пропущенные значения. Один из них — `days_employed`. Пропуски в этом столбце вы обработаете на следующем этапе. Другой столбец с пропущенными значениями — `total_income` — хранит данные о доходах. На сумму дохода сильнее всего влияет тип занятости, поэтому заполнить пропуски в этом столбце нужно медианным значением по каждому типу из столбца `income_type`. Например, у человека с типом занятости `сотрудник` пропуск в столбце `total_income` должен быть заполнен медианным доходом среди всех записей с тем же типом.**"
   ]
  },
  {
   "cell_type": "code",
   "execution_count": 5,
   "id": "9d5b2b21",
   "metadata": {
    "deletable": false,
    "id": "42006a93"
   },
   "outputs": [],
   "source": [
    "for t in data['income_type'].unique():\n",
    "    data.loc[(data['income_type'] == t) & (data['total_income'].isna()), 'total_income'] = \\\n",
    "    data.loc[(data['income_type'] == t), 'total_income'].median()"
   ]
  },
  {
   "cell_type": "markdown",
   "id": "bc830075",
   "metadata": {
    "deletable": false,
    "editable": false,
    "id": "89da5ece"
   },
   "source": [
    "### Обработка аномальных значений"
   ]
  },
  {
   "cell_type": "markdown",
   "id": "697a0243",
   "metadata": {
    "deletable": false,
    "editable": false,
    "id": "57964554"
   },
   "source": [
    "**Задание 6. В данных могут встречаться артефакты (аномалии) — значения, которые не отражают действительность и появились по какой-то ошибке. таким артефактом будет отрицательное количество дней трудового стажа в столбце `days_employed`. Для реальных данных это нормально. Обработайте значения в этом столбце: замените все отрицательные значения положительными с помощью метода `abs()`.**"
   ]
  },
  {
   "cell_type": "code",
   "execution_count": 6,
   "id": "2ead11a0",
   "metadata": {
    "deletable": false,
    "id": "f6f055bf"
   },
   "outputs": [],
   "source": [
    "data['days_employed'] = data['days_employed'].abs()"
   ]
  },
  {
   "cell_type": "markdown",
   "id": "0f66c099",
   "metadata": {
    "deletable": false,
    "editable": false,
    "id": "6107dd2f"
   },
   "source": [
    "**Задание 7. Для каждого типа занятости выведите медианное значение трудового стажа `days_employed` в днях.**"
   ]
  },
  {
   "cell_type": "code",
   "execution_count": 7,
   "id": "7af973c3",
   "metadata": {
    "deletable": false,
    "id": "85a5faf6",
    "outputId": "801ef80e-522b-4668-f34e-565af7432bcf"
   },
   "outputs": [
    {
     "data": {
      "text/plain": [
       "income_type\n",
       "безработный        366413.652744\n",
       "в декрете            3296.759962\n",
       "госслужащий          2689.368353\n",
       "компаньон            1547.382223\n",
       "пенсионер          365213.306266\n",
       "предприниматель       520.848083\n",
       "сотрудник            1574.202821\n",
       "студент               578.751554\n",
       "Name: days_employed, dtype: float64"
      ]
     },
     "execution_count": 7,
     "metadata": {},
     "output_type": "execute_result"
    }
   ],
   "source": [
    "data.groupby('income_type')['days_employed'].agg('median')"
   ]
  },
  {
   "cell_type": "markdown",
   "id": "3753c2d9",
   "metadata": {
    "deletable": false,
    "editable": false,
    "id": "38d1a030"
   },
   "source": [
    "У двух типов (безработные и пенсионеры) получатся аномально большие значения. Исправить такие значения сложно, поэтому оставьте их как есть. Тем более этот столбец не понадобится вам для исследования."
   ]
  },
  {
   "cell_type": "markdown",
   "id": "f555a961",
   "metadata": {
    "deletable": false,
    "editable": false,
    "id": "d8a9f147"
   },
   "source": [
    "**Задание 8. Выведите перечень уникальных значений столбца `children`.**"
   ]
  },
  {
   "cell_type": "code",
   "execution_count": 8,
   "id": "f1f6f925",
   "metadata": {
    "deletable": false,
    "id": "ef5056eb",
    "outputId": "6975b15c-7f95-4697-d16d-a0c79b657b03"
   },
   "outputs": [
    {
     "data": {
      "text/plain": [
       "array([ 1,  0,  3,  2, -1,  4, 20,  5])"
      ]
     },
     "execution_count": 8,
     "metadata": {},
     "output_type": "execute_result"
    }
   ],
   "source": [
    "data['children'].unique()"
   ]
  },
  {
   "cell_type": "markdown",
   "id": "fcfa6b05",
   "metadata": {
    "deletable": false,
    "editable": false,
    "id": "40b9ebf2"
   },
   "source": [
    "**Задание 9. В столбце `children` есть два аномальных значения. Удалите строки, в которых встречаются такие аномальные значения из датафрейма `data`.**"
   ]
  },
  {
   "cell_type": "code",
   "execution_count": 9,
   "id": "13535220",
   "metadata": {
    "deletable": false,
    "id": "3ff9801d"
   },
   "outputs": [],
   "source": [
    "data = data[(data['children'] != -1) & (data['children'] != 20)]"
   ]
  },
  {
   "cell_type": "markdown",
   "id": "0e394f11",
   "metadata": {
    "deletable": false,
    "editable": false,
    "id": "bbc4d0ce"
   },
   "source": [
    "**Задание 10. Ещё раз выведите перечень уникальных значений столбца `children`, чтобы убедиться, что артефакты удалены.**"
   ]
  },
  {
   "cell_type": "code",
   "execution_count": 10,
   "id": "81677126",
   "metadata": {
    "deletable": false,
    "id": "ad4fa8b7",
    "outputId": "b2097101-d49d-44d9-901b-32a65c9463d1"
   },
   "outputs": [
    {
     "data": {
      "text/plain": [
       "array([1, 0, 3, 2, 4, 5])"
      ]
     },
     "execution_count": 10,
     "metadata": {},
     "output_type": "execute_result"
    }
   ],
   "source": [
    "data['children'].unique()"
   ]
  },
  {
   "cell_type": "markdown",
   "id": "a836bb11",
   "metadata": {
    "deletable": false,
    "editable": false,
    "id": "75440b63"
   },
   "source": [
    "### Удаление пропусков (продолжение)"
   ]
  },
  {
   "cell_type": "markdown",
   "id": "194b78b2",
   "metadata": {
    "deletable": false,
    "editable": false,
    "id": "f4ea573f"
   },
   "source": [
    "**Задание 11. Заполните пропуски в столбце `days_employed` медианными значениями по каждого типа занятости `income_type`.**"
   ]
  },
  {
   "cell_type": "code",
   "execution_count": 11,
   "id": "a4caf6cb",
   "metadata": {
    "deletable": false,
    "id": "af6b1a7e"
   },
   "outputs": [],
   "source": [
    "for t in data['income_type'].unique():\n",
    "    data.loc[(data['income_type'] == t) & (data['days_employed'].isna()), 'days_employed'] = \\\n",
    "    data.loc[(data['income_type'] == t), 'days_employed'].median()"
   ]
  },
  {
   "cell_type": "markdown",
   "id": "1f9ff54b",
   "metadata": {
    "deletable": false,
    "editable": false,
    "id": "2753f40d"
   },
   "source": [
    "**Задание 12. Убедитесь, что все пропуски заполнены. Проверьте себя и ещё раз выведите количество пропущенных значений для каждого столбца с помощью двух методов.**"
   ]
  },
  {
   "cell_type": "code",
   "execution_count": 12,
   "id": "87decf1b",
   "metadata": {
    "deletable": false,
    "id": "55f78bc2",
    "outputId": "8da1e4e1-358e-4e87-98c9-f261bce0a7b2"
   },
   "outputs": [
    {
     "data": {
      "text/plain": [
       "children            0\n",
       "days_employed       0\n",
       "dob_years           0\n",
       "education           0\n",
       "education_id        0\n",
       "family_status       0\n",
       "family_status_id    0\n",
       "gender              0\n",
       "income_type         0\n",
       "debt                0\n",
       "total_income        0\n",
       "purpose             0\n",
       "dtype: int64"
      ]
     },
     "execution_count": 12,
     "metadata": {},
     "output_type": "execute_result"
    }
   ],
   "source": [
    "data.isna().sum()"
   ]
  },
  {
   "cell_type": "markdown",
   "id": "4f7f1631",
   "metadata": {
    "deletable": false,
    "editable": false,
    "id": "ddc81e43"
   },
   "source": [
    "### Изменение типов данных"
   ]
  },
  {
   "cell_type": "markdown",
   "id": "90fc142a",
   "metadata": {
    "deletable": false,
    "editable": false,
    "id": "42d19d24"
   },
   "source": [
    "**Задание 13. Замените вещественный тип данных в столбце `total_income` на целочисленный с помощью метода `astype()`.**"
   ]
  },
  {
   "cell_type": "code",
   "execution_count": 13,
   "id": "c890f03e",
   "metadata": {
    "deletable": false,
    "id": "920b65ad"
   },
   "outputs": [],
   "source": [
    "data['total_income'] = data['total_income'].astype(int)"
   ]
  },
  {
   "cell_type": "markdown",
   "id": "012405c8",
   "metadata": {
    "deletable": false,
    "editable": false,
    "id": "80c420ba"
   },
   "source": [
    "### Обработка дубликатов"
   ]
  },
  {
   "cell_type": "markdown",
   "id": "542bd657",
   "metadata": {
    "deletable": false,
    "editable": false
   },
   "source": [
    "**Задание 14. Обработайте неявные дубликаты в столбце `education`. В этом столбце есть одни и те же значения, но записанные по-разному: с использованием заглавных и строчных букв. Приведите их к нижнему регистру. Проверьте остальные столбцы.**"
   ]
  },
  {
   "cell_type": "code",
   "execution_count": 14,
   "id": "7e428ce0",
   "metadata": {
    "deletable": false
   },
   "outputs": [],
   "source": [
    "data['education'] = data['education'].str.lower()"
   ]
  },
  {
   "cell_type": "markdown",
   "id": "e5a6a953",
   "metadata": {
    "deletable": false,
    "editable": false,
    "id": "dc587695"
   },
   "source": [
    "**Задание 15. Выведите на экран количество строк-дубликатов в данных. Если такие строки присутствуют, удалите их.**"
   ]
  },
  {
   "cell_type": "code",
   "execution_count": 15,
   "id": "9df71935",
   "metadata": {
    "deletable": false,
    "id": "3ee445e4",
    "outputId": "9684deba-1934-42d1-99e1-cda61740f822"
   },
   "outputs": [
    {
     "data": {
      "text/plain": [
       "71"
      ]
     },
     "execution_count": 15,
     "metadata": {},
     "output_type": "execute_result"
    }
   ],
   "source": [
    "data.duplicated().sum()"
   ]
  },
  {
   "cell_type": "code",
   "execution_count": 16,
   "id": "f2d381e0",
   "metadata": {
    "deletable": false,
    "id": "8575fe05"
   },
   "outputs": [],
   "source": [
    "data = data.drop_duplicates()"
   ]
  },
  {
   "cell_type": "markdown",
   "id": "8f5933b6",
   "metadata": {
    "deletable": false,
    "editable": false,
    "id": "9904cf55"
   },
   "source": [
    "### Категоризация данных"
   ]
  },
  {
   "cell_type": "markdown",
   "id": "53e5acce",
   "metadata": {
    "deletable": false,
    "editable": false,
    "id": "72fcc8a2"
   },
   "source": [
    "**Задание 16. На основании диапазонов, указанных ниже, создайте в датафрейме `data` столбец `total_income_category` с категориями:**\n",
    "\n",
    "- 0–30000 — `'E'`;\n",
    "- 30001–50000 — `'D'`;\n",
    "- 50001–200000 — `'C'`;\n",
    "- 200001–1000000 — `'B'`;\n",
    "- 1000001 и выше — `'A'`.\n",
    "\n",
    "\n",
    "**Например, кредитополучателю с доходом 25000 нужно назначить категорию `'E'`, а клиенту, получающему 235000, — `'B'`. Используйте собственную функцию с именем `categorize_income()` и метод `apply()`.**"
   ]
  },
  {
   "cell_type": "code",
   "execution_count": 17,
   "id": "826afff8",
   "metadata": {
    "deletable": false,
    "id": "e1771346"
   },
   "outputs": [],
   "source": [
    "def categorize_income(income):\n",
    "    try:\n",
    "        if 0 <= income <= 30000:\n",
    "            return 'E'\n",
    "        elif 30001 <= income <= 50000:\n",
    "            return 'D'\n",
    "        elif 50001 <= income <= 200000:\n",
    "            return 'C'\n",
    "        elif 200001 <= income <= 1000000:\n",
    "            return 'B'\n",
    "        elif income >= 1000001:\n",
    "            return 'A'\n",
    "    except:\n",
    "        pass"
   ]
  },
  {
   "cell_type": "code",
   "execution_count": 18,
   "id": "32969471",
   "metadata": {
    "deletable": false,
    "id": "d5f3586d"
   },
   "outputs": [],
   "source": [
    "data['total_income_category'] = data['total_income'].apply(categorize_income)"
   ]
  },
  {
   "cell_type": "markdown",
   "id": "ace08f66",
   "metadata": {
    "deletable": false,
    "editable": false,
    "id": "dde49b5c"
   },
   "source": [
    "**Задание 17. Выведите на экран перечень уникальных целей взятия кредита из столбца `purpose`.**"
   ]
  },
  {
   "cell_type": "code",
   "execution_count": 19,
   "id": "18c18d50",
   "metadata": {
    "deletable": false,
    "id": "f67ce9b3",
    "outputId": "673c12d9-7d7e-4ae0-9812-c622c89dd244"
   },
   "outputs": [
    {
     "data": {
      "text/plain": [
       "array(['покупка жилья', 'приобретение автомобиля',\n",
       "       'дополнительное образование', 'сыграть свадьбу',\n",
       "       'операции с жильем', 'образование', 'на проведение свадьбы',\n",
       "       'покупка жилья для семьи', 'покупка недвижимости',\n",
       "       'покупка коммерческой недвижимости', 'покупка жилой недвижимости',\n",
       "       'строительство собственной недвижимости', 'недвижимость',\n",
       "       'строительство недвижимости', 'на покупку подержанного автомобиля',\n",
       "       'на покупку своего автомобиля',\n",
       "       'операции с коммерческой недвижимостью',\n",
       "       'строительство жилой недвижимости', 'жилье',\n",
       "       'операции со своей недвижимостью', 'автомобили',\n",
       "       'заняться образованием', 'сделка с подержанным автомобилем',\n",
       "       'получение образования', 'автомобиль', 'свадьба',\n",
       "       'получение дополнительного образования', 'покупка своего жилья',\n",
       "       'операции с недвижимостью', 'получение высшего образования',\n",
       "       'свой автомобиль', 'сделка с автомобилем',\n",
       "       'профильное образование', 'высшее образование',\n",
       "       'покупка жилья для сдачи', 'на покупку автомобиля', 'ремонт жилью',\n",
       "       'заняться высшим образованием'], dtype=object)"
      ]
     },
     "execution_count": 19,
     "metadata": {},
     "output_type": "execute_result"
    }
   ],
   "source": [
    "data['purpose'].unique()"
   ]
  },
  {
   "cell_type": "markdown",
   "id": "98f6f6e1",
   "metadata": {
    "deletable": false,
    "editable": false,
    "id": "85d0aef0"
   },
   "source": [
    "**Задание 18. Создайте функцию, которая на основании данных из столбца `purpose` сформирует новый столбец `purpose_category`, в который войдут следующие категории:**\n",
    "\n",
    "- `'операции с автомобилем'`,\n",
    "- `'операции с недвижимостью'`,\n",
    "- `'проведение свадьбы'`,\n",
    "- `'получение образования'`.\n",
    "\n",
    "**Например, если в столбце `purpose` находится подстрока `'на покупку автомобиля'`, то в столбце `purpose_category` должна появиться строка `'операции с автомобилем'`.**\n",
    "\n",
    "**Используйте собственную функцию с именем `categorize_purpose()` и метод `apply()`. Изучите данные в столбце `purpose` и определите, какие подстроки помогут вам правильно определить категорию.**"
   ]
  },
  {
   "cell_type": "code",
   "execution_count": 20,
   "id": "bcd26367",
   "metadata": {
    "deletable": false,
    "id": "e149fab4"
   },
   "outputs": [],
   "source": [
    "def categorize_purpose(row):\n",
    "    try:\n",
    "        if 'автом' in row:\n",
    "            return 'операции с автомобилем'\n",
    "        elif 'жил' in row or 'недвиж' in row:\n",
    "            return 'операции с недвижимостью'\n",
    "        elif 'свад' in row:\n",
    "            return 'проведение свадьбы'\n",
    "        elif 'образов' in row:\n",
    "            return 'получение образования'\n",
    "    except:\n",
    "        return 'нет категории'"
   ]
  },
  {
   "cell_type": "code",
   "execution_count": 21,
   "id": "b5e87397",
   "metadata": {
    "deletable": false,
    "id": "bf36e69b"
   },
   "outputs": [],
   "source": [
    "data['purpose_category'] = data['purpose'].apply(categorize_purpose)"
   ]
  },
  {
   "cell_type": "markdown",
   "id": "2688bc5d",
   "metadata": {
    "deletable": false,
    "editable": false,
    "id": "09b242bf"
   },
   "source": [
    "### Шаг 3. Исследуйте данные и ответьте на вопросы"
   ]
  },
  {
   "cell_type": "markdown",
   "id": "72046a1c",
   "metadata": {
    "deletable": false,
    "editable": false,
    "id": "c5d66278"
   },
   "source": [
    "#### 3.1 Есть ли зависимость между количеством детей и возвратом кредита в срок?"
   ]
  },
  {
   "cell_type": "code",
   "execution_count": 22,
   "id": "58fef5f8",
   "metadata": {
    "deletable": false,
    "id": "2cacfc4a"
   },
   "outputs": [
    {
     "name": "stdout",
     "output_type": "stream",
     "text": [
      "   children_count  sum_debt    result\n",
      "4              41         4  0.097561\n",
      "2            2052       194  0.094542\n",
      "1            4808       444  0.092346\n",
      "3             330        27  0.081818\n",
      "0           14091      1063  0.075438\n",
      "5               9         0  0.000000\n"
     ]
    }
   ],
   "source": [
    "# Ваш код будет здесь. Вы можете создавать новые ячейки.\n",
    "children_debt = pd.DataFrame()\n",
    "children_debt['children_count'] = data['children'].value_counts()\n",
    "children_debt['sum_debt'] = data.groupby('children')['debt'].sum()\n",
    "children_debt['result'] =data.groupby('children')['debt'].sum()/data['children'].value_counts()\n",
    "children_debt = children_debt.sort_values('result',ascending =False)\n",
    "print(children_debt)"
   ]
  },
  {
   "cell_type": "markdown",
   "id": "910135a6",
   "metadata": {
    "deletable": false,
    "id": "3a6b99ec"
   },
   "source": [
    "**Вывод:** \n",
    "Из таблицы видно, что самые ненадежные заёмщики с самой высокой долей просрочек по кредиту - это люди с 4-мя детьми,а самые надежежные заёмщики с самой низкой долей просрочек по кредиту - это люди без детей.\n",
    "Люди,у которых 5 детей,вообще не имеют задолжностей. В то время как люди с 4-мя детьми являются ненадёжными заёмщиками. Поэтому было бы ошибно утверждать,что люди, у которых 5 детей, являются надежными заёмщиками."
   ]
  },
  {
   "cell_type": "markdown",
   "id": "87f5d3f6",
   "metadata": {
    "deletable": false,
    "editable": false,
    "id": "97be82ca"
   },
   "source": [
    "#### 3.2 Есть ли зависимость между семейным положением и возвратом кредита в срок?"
   ]
  },
  {
   "cell_type": "code",
   "execution_count": 23,
   "id": "9be6b83f",
   "metadata": {
    "deletable": false,
    "id": "dc3f7ee8"
   },
   "outputs": [
    {
     "name": "stdout",
     "output_type": "stream",
     "text": [
      "                       family_status__count  sum_debt    result\n",
      "Не женат / не замужем                  2796       273  0.097639\n",
      "гражданский брак                       4134       385  0.093130\n",
      "женат / замужем                       12261       927  0.075606\n",
      "в разводе                              1189        84  0.070648\n",
      "вдовец / вдова                          951        63  0.066246\n"
     ]
    }
   ],
   "source": [
    "# Ваш код будет здесь. Вы можете создавать новые ячейки.\n",
    "family_status__debt = pd.DataFrame()\n",
    "family_status__debt['family_status__count'] = data['family_status'].value_counts()\n",
    "family_status__debt['sum_debt'] = data.groupby('family_status')['debt'].sum()\n",
    "family_status__debt['result'] =data.groupby('family_status')['debt'].sum()/data['family_status'].value_counts()\n",
    "family_status__debt = family_status__debt.sort_values('result',ascending =False)\n",
    "print(family_status__debt)\n"
   ]
  },
  {
   "cell_type": "markdown",
   "id": "17483c64",
   "metadata": {
    "deletable": false,
    "id": "1cef7837"
   },
   "source": [
    "**Вывод:** \n",
    "Из таблицы видно, что чаще всего кто не возращает займ вовремя, являются люди, которые либо холостые, либо состоят в гражданском браке.А вот люди, которые разведены или овдовели, являются хорошими заёмщиками, нежели, чем люди состоящие в браке. "
   ]
  },
  {
   "cell_type": "markdown",
   "id": "428987a1",
   "metadata": {
    "deletable": false,
    "editable": false,
    "id": "1e8b2fca"
   },
   "source": [
    "#### 3.3 Есть ли зависимость между уровнем дохода и возвратом кредита в срок?"
   ]
  },
  {
   "cell_type": "code",
   "execution_count": 24,
   "id": "32cd72bc",
   "metadata": {
    "deletable": false,
    "id": "cd7e3720"
   },
   "outputs": [
    {
     "name": "stdout",
     "output_type": "stream",
     "text": [
      "C    15921\n",
      "B     5014\n",
      "D      349\n",
      "A       25\n",
      "E       22\n",
      "Name: total_income_category__count, dtype: int64\n",
      "   total_income_category__count  sum_debt    result\n",
      "E                            22         2  0.090909\n",
      "C                         15921      1353  0.084982\n",
      "A                            25         2  0.080000\n",
      "B                          5014       354  0.070602\n",
      "D                           349        21  0.060172\n"
     ]
    }
   ],
   "source": [
    "# Ваш код будет здесь. Вы можете создавать новые ячейки.\n",
    "total_income_category__debt = pd.DataFrame()\n",
    "total_income_category__debt['total_income_category__count'] = data['total_income_category'].value_counts()\n",
    "#total_income_category__debt['total_income_category__count']= total_income_category__debt['total_income_category__count'][0]+total_income_category__debt['total_income_category__count'][1]\n",
    "print(total_income_category__debt['total_income_category__count'])\n",
    "total_income_category__debt['sum_debt'] = data.groupby('total_income_category')['debt'].sum()\n",
    "total_income_category__debt['result'] =data.groupby('total_income_category')['debt'].sum()/data['total_income_category'].value_counts()\n",
    "total_income_category__debt = total_income_category__debt.sort_values('result',ascending =False)\n",
    "print(total_income_category__debt)"
   ]
  },
  {
   "cell_type": "markdown",
   "id": "c0014d10",
   "metadata": {
    "deletable": false,
    "id": "e8593def"
   },
   "source": [
    "**Вывод:** \n",
    "Так как в группах E,A,D не достаточно клиентов,будем учитывать клиентов из категории C и B.Из таблицы видно,что чащего всего возвращают вовремя займы люди с категорией зароботка 'B' до 200тыс.А вот самая высокая доля просрочек по кредиту у людей с категорией зароботка 'C' более 200тыс.\n",
    " "
   ]
  },
  {
   "cell_type": "markdown",
   "id": "0012d890",
   "metadata": {
    "deletable": false,
    "editable": false,
    "id": "99ecbd1f"
   },
   "source": [
    "#### 3.4 Как разные цели кредита влияют на его возврат в срок?"
   ]
  },
  {
   "cell_type": "code",
   "execution_count": 25,
   "id": "65005fd8",
   "metadata": {
    "deletable": false,
    "id": "2b687290"
   },
   "outputs": [
    {
     "name": "stdout",
     "output_type": "stream",
     "text": [
      "                          purpose_category_count  sum_debt    result\n",
      "операции с автомобилем                      4279       400  0.093480\n",
      "получение образования                       3988       369  0.092528\n",
      "проведение свадьбы                          2313       183  0.079118\n",
      "операции с недвижимостью                   10751       780  0.072551\n"
     ]
    }
   ],
   "source": [
    "# Ваш код будет здесь. Вы можете создавать новые ячейки.\n",
    "purpose_category_debt = pd.DataFrame()\n",
    "purpose_category_debt['purpose_category_count'] = data['purpose_category'].value_counts()\n",
    "purpose_category_debt['sum_debt'] = data.groupby('purpose_category')['debt'].sum()\n",
    "purpose_category_debt['result'] =data.groupby('purpose_category')['debt'].sum()/data['purpose_category'].value_counts()\n",
    "purpose_category_debt = purpose_category_debt.sort_values('result',ascending =False)\n",
    "print(purpose_category_debt)"
   ]
  },
  {
   "cell_type": "markdown",
   "id": "667278d2",
   "metadata": {
    "deletable": false,
    "id": "b4bb2ce6"
   },
   "source": [
    "**Вывод:**\n",
    "Среди 4 целей кредита, наибольшая доля просрочек кредита, с целью образования и покупки автомобиля.Кредиты на проведение свадьбы и операции с недвижимостью просрачивают реже."
   ]
  },
  {
   "cell_type": "markdown",
   "id": "b857bfac",
   "metadata": {
    "deletable": false,
    "editable": false,
    "id": "09c3ac4c"
   },
   "source": [
    "#### 3.5 Приведите возможные причины появления пропусков в исходных данных."
   ]
  },
  {
   "cell_type": "markdown",
   "id": "94849435",
   "metadata": {
    "deletable": false,
    "id": "9da2ceda"
   },
   "source": [
    "*Ответ:* \n",
    "Причины:\n",
    "пользователь не указал данные(например,семейный статус или количество детей);\n",
    "неправильный ввод;\n",
    "измение вида таблицы;\n",
    "\n"
   ]
  },
  {
   "cell_type": "markdown",
   "id": "307acf47",
   "metadata": {
    "deletable": false,
    "editable": false,
    "id": "7b0487d6"
   },
   "source": [
    "#### 3.6 Объясните, почему заполнить пропуски медианным значением — лучшее решение для количественных переменных."
   ]
  },
  {
   "cell_type": "markdown",
   "id": "7d936e19",
   "metadata": {
    "deletable": false,
    "id": "7ecf2b8e"
   },
   "source": [
    "*Ответ:*\n",
    "Медийное значение корректно характеризует данные,когда некоторые значения сильно выделяются среди большинства.Например, заработок заёмщиков."
   ]
  },
  {
   "cell_type": "markdown",
   "id": "752cea84",
   "metadata": {
    "deletable": false,
    "editable": false,
    "id": "6db5255a"
   },
   "source": [
    "### Шаг 4: общий вывод."
   ]
  },
  {
   "cell_type": "markdown",
   "id": "61ef6fb4",
   "metadata": {
    "deletable": false,
    "id": "bad65432"
   },
   "source": [
    "**Общий вывод:**\n",
    "\n",
    "Семейный статус влияет на вероятность способности оплаты кредита в срок. Чаще всего не возращают займ вовремя, являются люди, которые либо холостые, либо состоят в гражданском браке.А вот люди, которые разведены или овдовели, являются хорошими заёмщиками, нежели, чем люди состоящие в браке. Причем чем больше детей,тем меньше вероятность способности оплаты кредита.Лучшими плательщиками являются люди с категорей зароботка менее 200 тыс.. Также кредиты на недвижимость чаще всего выплачивают вовремя."
   ]
  },
  {
   "cell_type": "code",
   "execution_count": null,
   "id": "85b0a012",
   "metadata": {},
   "outputs": [],
   "source": []
  }
 ],
 "metadata": {
  "ExecuteTimeLog": [
   {
    "duration": 47,
    "start_time": "2022-11-11T10:41:35.408Z"
   },
   {
    "duration": 467,
    "start_time": "2022-11-11T10:41:42.833Z"
   },
   {
    "duration": 21,
    "start_time": "2022-11-11T10:41:43.302Z"
   },
   {
    "duration": 14,
    "start_time": "2022-11-11T10:41:43.324Z"
   },
   {
    "duration": 19,
    "start_time": "2022-11-11T10:41:43.339Z"
   },
   {
    "duration": 45,
    "start_time": "2022-11-11T10:41:43.361Z"
   },
   {
    "duration": 3,
    "start_time": "2022-11-11T10:41:43.408Z"
   },
   {
    "duration": 11,
    "start_time": "2022-11-11T10:41:43.413Z"
   },
   {
    "duration": 5,
    "start_time": "2022-11-11T10:41:43.425Z"
   },
   {
    "duration": 25,
    "start_time": "2022-11-11T10:41:43.432Z"
   },
   {
    "duration": 5,
    "start_time": "2022-11-11T10:41:43.458Z"
   },
   {
    "duration": 36,
    "start_time": "2022-11-11T10:41:43.465Z"
   },
   {
    "duration": 10,
    "start_time": "2022-11-11T10:41:43.503Z"
   },
   {
    "duration": 3,
    "start_time": "2022-11-11T10:41:43.514Z"
   },
   {
    "duration": 37,
    "start_time": "2022-11-11T10:41:43.520Z"
   },
   {
    "duration": 19,
    "start_time": "2022-11-11T10:41:43.558Z"
   },
   {
    "duration": 18,
    "start_time": "2022-11-11T10:41:43.578Z"
   },
   {
    "duration": 5,
    "start_time": "2022-11-11T10:41:43.598Z"
   },
   {
    "duration": 16,
    "start_time": "2022-11-11T10:41:43.604Z"
   },
   {
    "duration": 31,
    "start_time": "2022-11-11T10:41:43.622Z"
   },
   {
    "duration": 3,
    "start_time": "2022-11-11T10:41:43.655Z"
   },
   {
    "duration": 13,
    "start_time": "2022-11-11T10:41:43.659Z"
   },
   {
    "duration": 11,
    "start_time": "2022-11-11T10:41:43.674Z"
   },
   {
    "duration": 6,
    "start_time": "2022-11-11T10:41:43.687Z"
   },
   {
    "duration": 6,
    "start_time": "2022-11-11T10:41:43.694Z"
   },
   {
    "duration": 7,
    "start_time": "2022-11-11T10:41:43.702Z"
   },
   {
    "duration": 94,
    "start_time": "2022-11-11T10:46:09.683Z"
   },
   {
    "duration": 66,
    "start_time": "2022-11-11T10:46:17.345Z"
   },
   {
    "duration": 9,
    "start_time": "2022-11-11T10:46:25.328Z"
   },
   {
    "duration": 5,
    "start_time": "2022-11-11T10:47:32.744Z"
   },
   {
    "duration": 16,
    "start_time": "2022-11-11T10:55:21.022Z"
   },
   {
    "duration": 14,
    "start_time": "2022-11-11T10:55:42.086Z"
   },
   {
    "duration": 3,
    "start_time": "2022-11-11T10:58:10.690Z"
   },
   {
    "duration": 5,
    "start_time": "2022-11-11T10:58:31.413Z"
   },
   {
    "duration": 7,
    "start_time": "2022-11-11T11:09:15.739Z"
   },
   {
    "duration": 8,
    "start_time": "2022-11-11T11:09:42.985Z"
   },
   {
    "duration": 8,
    "start_time": "2022-11-11T11:14:51.786Z"
   },
   {
    "duration": 10,
    "start_time": "2022-11-11T11:15:08.471Z"
   },
   {
    "duration": 11,
    "start_time": "2022-11-11T11:15:33.336Z"
   },
   {
    "duration": 19,
    "start_time": "2022-11-11T11:21:14.133Z"
   },
   {
    "duration": 20,
    "start_time": "2022-11-11T11:21:56.033Z"
   },
   {
    "duration": 13,
    "start_time": "2022-11-11T11:22:26.150Z"
   },
   {
    "duration": 12,
    "start_time": "2022-11-11T11:22:32.699Z"
   },
   {
    "duration": 13,
    "start_time": "2022-11-11T11:25:48.747Z"
   },
   {
    "duration": 11,
    "start_time": "2022-11-11T11:26:30.398Z"
   },
   {
    "duration": 13,
    "start_time": "2022-11-11T11:26:42.863Z"
   },
   {
    "duration": 576,
    "start_time": "2022-11-11T16:50:57.568Z"
   },
   {
    "duration": 24,
    "start_time": "2022-11-11T16:50:58.146Z"
   },
   {
    "duration": 16,
    "start_time": "2022-11-11T16:50:58.171Z"
   },
   {
    "duration": 11,
    "start_time": "2022-11-11T16:50:58.190Z"
   },
   {
    "duration": 37,
    "start_time": "2022-11-11T16:50:58.203Z"
   },
   {
    "duration": 4,
    "start_time": "2022-11-11T16:50:58.241Z"
   },
   {
    "duration": 33,
    "start_time": "2022-11-11T16:50:58.246Z"
   },
   {
    "duration": 5,
    "start_time": "2022-11-11T16:50:58.280Z"
   },
   {
    "duration": 9,
    "start_time": "2022-11-11T16:50:58.287Z"
   },
   {
    "duration": 6,
    "start_time": "2022-11-11T16:50:58.299Z"
   },
   {
    "duration": 36,
    "start_time": "2022-11-11T16:50:58.306Z"
   },
   {
    "duration": 36,
    "start_time": "2022-11-11T16:50:58.343Z"
   },
   {
    "duration": 4,
    "start_time": "2022-11-11T16:50:58.380Z"
   },
   {
    "duration": 15,
    "start_time": "2022-11-11T16:50:58.385Z"
   },
   {
    "duration": 21,
    "start_time": "2022-11-11T16:50:58.401Z"
   },
   {
    "duration": 18,
    "start_time": "2022-11-11T16:50:58.423Z"
   },
   {
    "duration": 3,
    "start_time": "2022-11-11T16:50:58.443Z"
   },
   {
    "duration": 39,
    "start_time": "2022-11-11T16:50:58.449Z"
   },
   {
    "duration": 10,
    "start_time": "2022-11-11T16:50:58.489Z"
   },
   {
    "duration": 6,
    "start_time": "2022-11-11T16:50:58.500Z"
   },
   {
    "duration": 14,
    "start_time": "2022-11-11T16:50:58.508Z"
   },
   {
    "duration": 13,
    "start_time": "2022-11-11T16:50:58.524Z"
   },
   {
    "duration": 42,
    "start_time": "2022-11-11T16:50:58.539Z"
   },
   {
    "duration": 2,
    "start_time": "2022-11-11T16:50:58.583Z"
   },
   {
    "duration": 6,
    "start_time": "2022-11-11T16:50:58.586Z"
   },
   {
    "duration": 19,
    "start_time": "2022-11-11T16:59:07.775Z"
   },
   {
    "duration": 626,
    "start_time": "2022-11-11T16:59:16.281Z"
   },
   {
    "duration": 24,
    "start_time": "2022-11-11T16:59:16.909Z"
   },
   {
    "duration": 15,
    "start_time": "2022-11-11T16:59:16.935Z"
   },
   {
    "duration": 28,
    "start_time": "2022-11-11T16:59:16.952Z"
   },
   {
    "duration": 45,
    "start_time": "2022-11-11T16:59:16.982Z"
   },
   {
    "duration": 4,
    "start_time": "2022-11-11T16:59:17.029Z"
   },
   {
    "duration": 12,
    "start_time": "2022-11-11T16:59:17.035Z"
   },
   {
    "duration": 6,
    "start_time": "2022-11-11T16:59:17.048Z"
   },
   {
    "duration": 27,
    "start_time": "2022-11-11T16:59:17.056Z"
   },
   {
    "duration": 4,
    "start_time": "2022-11-11T16:59:17.086Z"
   },
   {
    "duration": 40,
    "start_time": "2022-11-11T16:59:17.092Z"
   },
   {
    "duration": 11,
    "start_time": "2022-11-11T16:59:17.134Z"
   },
   {
    "duration": 4,
    "start_time": "2022-11-11T16:59:17.146Z"
   },
   {
    "duration": 13,
    "start_time": "2022-11-11T16:59:17.177Z"
   },
   {
    "duration": 25,
    "start_time": "2022-11-11T16:59:17.192Z"
   },
   {
    "duration": 21,
    "start_time": "2022-11-11T16:59:17.218Z"
   },
   {
    "duration": 3,
    "start_time": "2022-11-11T16:59:17.241Z"
   },
   {
    "duration": 32,
    "start_time": "2022-11-11T16:59:17.246Z"
   },
   {
    "duration": 9,
    "start_time": "2022-11-11T16:59:17.280Z"
   },
   {
    "duration": 4,
    "start_time": "2022-11-11T16:59:17.290Z"
   },
   {
    "duration": 11,
    "start_time": "2022-11-11T16:59:17.296Z"
   },
   {
    "duration": 16,
    "start_time": "2022-11-11T16:59:17.310Z"
   },
   {
    "duration": 20,
    "start_time": "2022-11-11T16:59:17.328Z"
   },
   {
    "duration": 21,
    "start_time": "2022-11-11T16:59:17.377Z"
   },
   {
    "duration": 2,
    "start_time": "2022-11-11T16:59:17.400Z"
   },
   {
    "duration": 527,
    "start_time": "2022-11-11T16:59:40.252Z"
   },
   {
    "duration": 24,
    "start_time": "2022-11-11T16:59:40.781Z"
   },
   {
    "duration": 16,
    "start_time": "2022-11-11T16:59:40.807Z"
   },
   {
    "duration": 10,
    "start_time": "2022-11-11T16:59:40.825Z"
   },
   {
    "duration": 61,
    "start_time": "2022-11-11T16:59:40.837Z"
   },
   {
    "duration": 4,
    "start_time": "2022-11-11T16:59:40.900Z"
   },
   {
    "duration": 14,
    "start_time": "2022-11-11T16:59:40.905Z"
   },
   {
    "duration": 5,
    "start_time": "2022-11-11T16:59:40.921Z"
   },
   {
    "duration": 9,
    "start_time": "2022-11-11T16:59:40.928Z"
   },
   {
    "duration": 5,
    "start_time": "2022-11-11T16:59:40.939Z"
   },
   {
    "duration": 62,
    "start_time": "2022-11-11T16:59:40.946Z"
   },
   {
    "duration": 11,
    "start_time": "2022-11-11T16:59:41.012Z"
   },
   {
    "duration": 4,
    "start_time": "2022-11-11T16:59:41.025Z"
   },
   {
    "duration": 18,
    "start_time": "2022-11-11T16:59:41.030Z"
   },
   {
    "duration": 38,
    "start_time": "2022-11-11T16:59:41.050Z"
   },
   {
    "duration": 19,
    "start_time": "2022-11-11T16:59:41.090Z"
   },
   {
    "duration": 4,
    "start_time": "2022-11-11T16:59:41.110Z"
   },
   {
    "duration": 18,
    "start_time": "2022-11-11T16:59:41.116Z"
   },
   {
    "duration": 9,
    "start_time": "2022-11-11T16:59:41.137Z"
   },
   {
    "duration": 4,
    "start_time": "2022-11-11T16:59:41.148Z"
   },
   {
    "duration": 12,
    "start_time": "2022-11-11T16:59:41.181Z"
   },
   {
    "duration": 23,
    "start_time": "2022-11-11T16:59:41.194Z"
   },
   {
    "duration": 19,
    "start_time": "2022-11-11T16:59:41.219Z"
   },
   {
    "duration": 20,
    "start_time": "2022-11-11T16:59:41.239Z"
   },
   {
    "duration": 3,
    "start_time": "2022-11-11T16:59:41.278Z"
   },
   {
    "duration": 457,
    "start_time": "2022-11-11T16:59:57.211Z"
   },
   {
    "duration": 25,
    "start_time": "2022-11-11T16:59:57.670Z"
   },
   {
    "duration": 20,
    "start_time": "2022-11-11T16:59:57.696Z"
   },
   {
    "duration": 11,
    "start_time": "2022-11-11T16:59:57.718Z"
   },
   {
    "duration": 63,
    "start_time": "2022-11-11T16:59:57.731Z"
   },
   {
    "duration": 3,
    "start_time": "2022-11-11T16:59:57.796Z"
   },
   {
    "duration": 13,
    "start_time": "2022-11-11T16:59:57.801Z"
   },
   {
    "duration": 5,
    "start_time": "2022-11-11T16:59:57.816Z"
   },
   {
    "duration": 13,
    "start_time": "2022-11-11T16:59:57.823Z"
   },
   {
    "duration": 5,
    "start_time": "2022-11-11T16:59:57.839Z"
   },
   {
    "duration": 57,
    "start_time": "2022-11-11T16:59:57.845Z"
   },
   {
    "duration": 10,
    "start_time": "2022-11-11T16:59:57.904Z"
   },
   {
    "duration": 5,
    "start_time": "2022-11-11T16:59:57.916Z"
   },
   {
    "duration": 13,
    "start_time": "2022-11-11T16:59:57.922Z"
   },
   {
    "duration": 41,
    "start_time": "2022-11-11T16:59:57.937Z"
   },
   {
    "duration": 20,
    "start_time": "2022-11-11T16:59:57.980Z"
   },
   {
    "duration": 3,
    "start_time": "2022-11-11T16:59:58.002Z"
   },
   {
    "duration": 14,
    "start_time": "2022-11-11T16:59:58.007Z"
   },
   {
    "duration": 10,
    "start_time": "2022-11-11T16:59:58.023Z"
   },
   {
    "duration": 5,
    "start_time": "2022-11-11T16:59:58.035Z"
   },
   {
    "duration": 40,
    "start_time": "2022-11-11T16:59:58.041Z"
   },
   {
    "duration": 15,
    "start_time": "2022-11-11T16:59:58.083Z"
   },
   {
    "duration": 22,
    "start_time": "2022-11-11T16:59:58.100Z"
   },
   {
    "duration": 19,
    "start_time": "2022-11-11T16:59:58.124Z"
   },
   {
    "duration": 33,
    "start_time": "2022-11-11T16:59:58.145Z"
   },
   {
    "duration": 80,
    "start_time": "2022-11-11T17:00:38.135Z"
   },
   {
    "duration": 24,
    "start_time": "2022-11-11T17:01:04.737Z"
   },
   {
    "duration": 20,
    "start_time": "2022-11-11T17:04:17.847Z"
   },
   {
    "duration": 21,
    "start_time": "2022-11-11T17:16:36.398Z"
   },
   {
    "duration": 21,
    "start_time": "2022-11-11T17:17:17.865Z"
   },
   {
    "duration": 22,
    "start_time": "2022-11-11T17:18:17.865Z"
   },
   {
    "duration": 22,
    "start_time": "2022-11-11T17:18:21.586Z"
   },
   {
    "duration": 476,
    "start_time": "2022-11-11T17:24:43.522Z"
   },
   {
    "duration": 32,
    "start_time": "2022-11-11T17:24:44.000Z"
   },
   {
    "duration": 20,
    "start_time": "2022-11-11T17:24:44.034Z"
   },
   {
    "duration": 28,
    "start_time": "2022-11-11T17:24:44.057Z"
   },
   {
    "duration": 54,
    "start_time": "2022-11-11T17:24:44.087Z"
   },
   {
    "duration": 5,
    "start_time": "2022-11-11T17:24:44.143Z"
   },
   {
    "duration": 29,
    "start_time": "2022-11-11T17:24:44.151Z"
   },
   {
    "duration": 16,
    "start_time": "2022-11-11T17:24:44.182Z"
   },
   {
    "duration": 13,
    "start_time": "2022-11-11T17:24:44.200Z"
   },
   {
    "duration": 8,
    "start_time": "2022-11-11T17:24:44.216Z"
   },
   {
    "duration": 62,
    "start_time": "2022-11-11T17:24:44.226Z"
   },
   {
    "duration": 13,
    "start_time": "2022-11-11T17:24:44.290Z"
   },
   {
    "duration": 8,
    "start_time": "2022-11-11T17:24:44.304Z"
   },
   {
    "duration": 22,
    "start_time": "2022-11-11T17:24:44.314Z"
   },
   {
    "duration": 22,
    "start_time": "2022-11-11T17:24:44.338Z"
   },
   {
    "duration": 31,
    "start_time": "2022-11-11T17:24:44.362Z"
   },
   {
    "duration": 3,
    "start_time": "2022-11-11T17:24:44.395Z"
   },
   {
    "duration": 13,
    "start_time": "2022-11-11T17:24:44.400Z"
   },
   {
    "duration": 6,
    "start_time": "2022-11-11T17:24:44.415Z"
   },
   {
    "duration": 4,
    "start_time": "2022-11-11T17:24:44.423Z"
   },
   {
    "duration": 12,
    "start_time": "2022-11-11T17:24:44.428Z"
   },
   {
    "duration": 40,
    "start_time": "2022-11-11T17:24:44.441Z"
   },
   {
    "duration": 20,
    "start_time": "2022-11-11T17:24:44.482Z"
   },
   {
    "duration": 20,
    "start_time": "2022-11-11T17:24:44.503Z"
   },
   {
    "duration": 21,
    "start_time": "2022-11-11T17:24:44.524Z"
   },
   {
    "duration": 20,
    "start_time": "2022-11-11T17:24:59.785Z"
   },
   {
    "duration": 20,
    "start_time": "2022-11-11T17:26:06.360Z"
   },
   {
    "duration": 20,
    "start_time": "2022-11-11T17:26:18.704Z"
   },
   {
    "duration": 62,
    "start_time": "2022-11-12T08:22:34.049Z"
   },
   {
    "duration": 63,
    "start_time": "2022-11-13T12:32:57.600Z"
   },
   {
    "duration": 624,
    "start_time": "2022-11-13T12:33:06.866Z"
   },
   {
    "duration": 24,
    "start_time": "2022-11-13T12:33:07.493Z"
   },
   {
    "duration": 17,
    "start_time": "2022-11-13T12:33:07.519Z"
   },
   {
    "duration": 11,
    "start_time": "2022-11-13T12:33:07.538Z"
   },
   {
    "duration": 70,
    "start_time": "2022-11-13T12:33:07.551Z"
   },
   {
    "duration": 3,
    "start_time": "2022-11-13T12:33:07.623Z"
   },
   {
    "duration": 12,
    "start_time": "2022-11-13T12:33:07.628Z"
   },
   {
    "duration": 5,
    "start_time": "2022-11-13T12:33:07.642Z"
   },
   {
    "duration": 28,
    "start_time": "2022-11-13T12:33:07.650Z"
   },
   {
    "duration": 18,
    "start_time": "2022-11-13T12:33:07.682Z"
   },
   {
    "duration": 41,
    "start_time": "2022-11-13T12:33:07.702Z"
   },
   {
    "duration": 12,
    "start_time": "2022-11-13T12:33:07.745Z"
   },
   {
    "duration": 23,
    "start_time": "2022-11-13T12:33:07.758Z"
   },
   {
    "duration": 26,
    "start_time": "2022-11-13T12:33:07.784Z"
   },
   {
    "duration": 24,
    "start_time": "2022-11-13T12:33:07.812Z"
   },
   {
    "duration": 20,
    "start_time": "2022-11-13T12:33:07.838Z"
   },
   {
    "duration": 18,
    "start_time": "2022-11-13T12:33:07.860Z"
   },
   {
    "duration": 32,
    "start_time": "2022-11-13T12:33:07.880Z"
   },
   {
    "duration": 6,
    "start_time": "2022-11-13T12:33:07.914Z"
   },
   {
    "duration": 6,
    "start_time": "2022-11-13T12:33:07.922Z"
   },
   {
    "duration": 36,
    "start_time": "2022-11-13T12:33:07.930Z"
   },
   {
    "duration": 22,
    "start_time": "2022-11-13T12:33:07.967Z"
   },
   {
    "duration": 26,
    "start_time": "2022-11-13T12:33:07.993Z"
   },
   {
    "duration": 94,
    "start_time": "2022-11-13T12:33:08.021Z"
   },
   {
    "duration": 0,
    "start_time": "2022-11-13T12:33:08.116Z"
   },
   {
    "duration": 34,
    "start_time": "2022-11-13T12:33:22.208Z"
   },
   {
    "duration": 21,
    "start_time": "2022-11-13T12:37:37.190Z"
   },
   {
    "duration": 522,
    "start_time": "2022-11-13T12:37:45.036Z"
   },
   {
    "duration": 33,
    "start_time": "2022-11-13T12:37:45.561Z"
   },
   {
    "duration": 24,
    "start_time": "2022-11-13T12:37:45.596Z"
   },
   {
    "duration": 11,
    "start_time": "2022-11-13T12:37:45.622Z"
   },
   {
    "duration": 73,
    "start_time": "2022-11-13T12:37:45.635Z"
   },
   {
    "duration": 4,
    "start_time": "2022-11-13T12:37:45.710Z"
   },
   {
    "duration": 17,
    "start_time": "2022-11-13T12:37:45.716Z"
   },
   {
    "duration": 6,
    "start_time": "2022-11-13T12:37:45.734Z"
   },
   {
    "duration": 11,
    "start_time": "2022-11-13T12:37:45.742Z"
   },
   {
    "duration": 30,
    "start_time": "2022-11-13T12:37:45.755Z"
   },
   {
    "duration": 56,
    "start_time": "2022-11-13T12:37:45.787Z"
   },
   {
    "duration": 11,
    "start_time": "2022-11-13T12:37:45.846Z"
   },
   {
    "duration": 5,
    "start_time": "2022-11-13T12:37:45.858Z"
   },
   {
    "duration": 20,
    "start_time": "2022-11-13T12:37:45.881Z"
   },
   {
    "duration": 24,
    "start_time": "2022-11-13T12:37:45.904Z"
   },
   {
    "duration": 18,
    "start_time": "2022-11-13T12:37:45.929Z"
   },
   {
    "duration": 3,
    "start_time": "2022-11-13T12:37:45.949Z"
   },
   {
    "duration": 19,
    "start_time": "2022-11-13T12:37:45.979Z"
   },
   {
    "duration": 17,
    "start_time": "2022-11-13T12:37:46.000Z"
   },
   {
    "duration": 8,
    "start_time": "2022-11-13T12:37:46.019Z"
   },
   {
    "duration": 14,
    "start_time": "2022-11-13T12:37:46.029Z"
   },
   {
    "duration": 34,
    "start_time": "2022-11-13T12:37:46.045Z"
   },
   {
    "duration": 38,
    "start_time": "2022-11-13T12:37:46.081Z"
   },
   {
    "duration": 21,
    "start_time": "2022-11-13T12:37:46.121Z"
   },
   {
    "duration": 53,
    "start_time": "2022-11-13T12:37:46.144Z"
   },
   {
    "duration": 518,
    "start_time": "2022-11-13T12:38:13.202Z"
   },
   {
    "duration": 26,
    "start_time": "2022-11-13T12:38:13.722Z"
   },
   {
    "duration": 28,
    "start_time": "2022-11-13T12:38:13.750Z"
   },
   {
    "duration": 19,
    "start_time": "2022-11-13T12:38:13.780Z"
   },
   {
    "duration": 36,
    "start_time": "2022-11-13T12:38:13.801Z"
   },
   {
    "duration": 4,
    "start_time": "2022-11-13T12:38:13.838Z"
   },
   {
    "duration": 43,
    "start_time": "2022-11-13T12:38:13.844Z"
   },
   {
    "duration": 13,
    "start_time": "2022-11-13T12:38:13.889Z"
   },
   {
    "duration": 8,
    "start_time": "2022-11-13T12:38:13.904Z"
   },
   {
    "duration": 5,
    "start_time": "2022-11-13T12:38:13.914Z"
   },
   {
    "duration": 80,
    "start_time": "2022-11-13T12:38:13.921Z"
   },
   {
    "duration": 14,
    "start_time": "2022-11-13T12:38:14.003Z"
   },
   {
    "duration": 8,
    "start_time": "2022-11-13T12:38:14.019Z"
   },
   {
    "duration": 19,
    "start_time": "2022-11-13T12:38:14.031Z"
   },
   {
    "duration": 55,
    "start_time": "2022-11-13T12:38:14.052Z"
   },
   {
    "duration": 23,
    "start_time": "2022-11-13T12:38:14.110Z"
   },
   {
    "duration": 5,
    "start_time": "2022-11-13T12:38:14.135Z"
   },
   {
    "duration": 31,
    "start_time": "2022-11-13T12:38:14.142Z"
   },
   {
    "duration": 28,
    "start_time": "2022-11-13T12:38:14.177Z"
   },
   {
    "duration": 6,
    "start_time": "2022-11-13T12:38:14.207Z"
   },
   {
    "duration": 23,
    "start_time": "2022-11-13T12:38:14.216Z"
   },
   {
    "duration": 26,
    "start_time": "2022-11-13T12:38:14.241Z"
   },
   {
    "duration": 35,
    "start_time": "2022-11-13T12:38:14.269Z"
   },
   {
    "duration": 30,
    "start_time": "2022-11-13T12:38:14.306Z"
   },
   {
    "duration": 30,
    "start_time": "2022-11-13T12:38:14.338Z"
   },
   {
    "duration": 500,
    "start_time": "2022-11-13T12:38:46.733Z"
   },
   {
    "duration": 24,
    "start_time": "2022-11-13T12:38:47.235Z"
   },
   {
    "duration": 28,
    "start_time": "2022-11-13T12:38:47.260Z"
   },
   {
    "duration": 24,
    "start_time": "2022-11-13T12:38:47.291Z"
   },
   {
    "duration": 54,
    "start_time": "2022-11-13T12:38:47.317Z"
   },
   {
    "duration": 4,
    "start_time": "2022-11-13T12:38:47.373Z"
   },
   {
    "duration": 30,
    "start_time": "2022-11-13T12:38:47.382Z"
   },
   {
    "duration": 23,
    "start_time": "2022-11-13T12:38:47.413Z"
   },
   {
    "duration": 37,
    "start_time": "2022-11-13T12:38:47.438Z"
   },
   {
    "duration": 29,
    "start_time": "2022-11-13T12:38:47.481Z"
   },
   {
    "duration": 54,
    "start_time": "2022-11-13T12:38:47.511Z"
   },
   {
    "duration": 44,
    "start_time": "2022-11-13T12:38:47.567Z"
   },
   {
    "duration": 26,
    "start_time": "2022-11-13T12:38:47.613Z"
   },
   {
    "duration": 34,
    "start_time": "2022-11-13T12:38:47.641Z"
   },
   {
    "duration": 63,
    "start_time": "2022-11-13T12:38:47.676Z"
   },
   {
    "duration": 19,
    "start_time": "2022-11-13T12:38:47.740Z"
   },
   {
    "duration": 4,
    "start_time": "2022-11-13T12:38:47.761Z"
   },
   {
    "duration": 48,
    "start_time": "2022-11-13T12:38:47.767Z"
   },
   {
    "duration": 30,
    "start_time": "2022-11-13T12:38:47.817Z"
   },
   {
    "duration": 25,
    "start_time": "2022-11-13T12:38:47.849Z"
   },
   {
    "duration": 55,
    "start_time": "2022-11-13T12:38:47.877Z"
   },
   {
    "duration": 41,
    "start_time": "2022-11-13T12:38:47.933Z"
   },
   {
    "duration": 39,
    "start_time": "2022-11-13T12:38:47.976Z"
   },
   {
    "duration": 42,
    "start_time": "2022-11-13T12:38:48.017Z"
   },
   {
    "duration": 36,
    "start_time": "2022-11-13T12:38:48.061Z"
   },
   {
    "duration": 529,
    "start_time": "2022-11-13T12:39:48.742Z"
   },
   {
    "duration": 34,
    "start_time": "2022-11-13T12:39:49.273Z"
   },
   {
    "duration": 17,
    "start_time": "2022-11-13T12:39:49.309Z"
   },
   {
    "duration": 13,
    "start_time": "2022-11-13T12:39:49.329Z"
   },
   {
    "duration": 76,
    "start_time": "2022-11-13T12:39:49.344Z"
   },
   {
    "duration": 3,
    "start_time": "2022-11-13T12:39:49.422Z"
   },
   {
    "duration": 12,
    "start_time": "2022-11-13T12:39:49.427Z"
   },
   {
    "duration": 5,
    "start_time": "2022-11-13T12:39:49.441Z"
   },
   {
    "duration": 30,
    "start_time": "2022-11-13T12:39:49.448Z"
   },
   {
    "duration": 7,
    "start_time": "2022-11-13T12:39:49.483Z"
   },
   {
    "duration": 40,
    "start_time": "2022-11-13T12:39:49.495Z"
   },
   {
    "duration": 11,
    "start_time": "2022-11-13T12:39:49.537Z"
   },
   {
    "duration": 28,
    "start_time": "2022-11-13T12:39:49.550Z"
   },
   {
    "duration": 29,
    "start_time": "2022-11-13T12:39:49.581Z"
   },
   {
    "duration": 22,
    "start_time": "2022-11-13T12:39:49.612Z"
   },
   {
    "duration": 21,
    "start_time": "2022-11-13T12:39:49.636Z"
   },
   {
    "duration": 19,
    "start_time": "2022-11-13T12:39:49.659Z"
   },
   {
    "duration": 46,
    "start_time": "2022-11-13T12:39:49.681Z"
   },
   {
    "duration": 11,
    "start_time": "2022-11-13T12:39:49.731Z"
   },
   {
    "duration": 4,
    "start_time": "2022-11-13T12:39:49.744Z"
   },
   {
    "duration": 11,
    "start_time": "2022-11-13T12:39:49.750Z"
   },
   {
    "duration": 18,
    "start_time": "2022-11-13T12:39:49.762Z"
   },
   {
    "duration": 26,
    "start_time": "2022-11-13T12:39:49.783Z"
   },
   {
    "duration": 20,
    "start_time": "2022-11-13T12:39:49.810Z"
   },
   {
    "duration": 50,
    "start_time": "2022-11-13T12:39:49.832Z"
   },
   {
    "duration": 544,
    "start_time": "2022-11-13T12:40:37.765Z"
   },
   {
    "duration": 26,
    "start_time": "2022-11-13T12:40:38.312Z"
   },
   {
    "duration": 19,
    "start_time": "2022-11-13T12:40:38.340Z"
   },
   {
    "duration": 36,
    "start_time": "2022-11-13T12:40:38.361Z"
   },
   {
    "duration": 36,
    "start_time": "2022-11-13T12:40:38.399Z"
   },
   {
    "duration": 5,
    "start_time": "2022-11-13T12:40:38.438Z"
   },
   {
    "duration": 34,
    "start_time": "2022-11-13T12:40:38.445Z"
   },
   {
    "duration": 7,
    "start_time": "2022-11-13T12:40:38.482Z"
   },
   {
    "duration": 17,
    "start_time": "2022-11-13T12:40:38.491Z"
   },
   {
    "duration": 6,
    "start_time": "2022-11-13T12:40:38.510Z"
   },
   {
    "duration": 63,
    "start_time": "2022-11-13T12:40:38.518Z"
   },
   {
    "duration": 17,
    "start_time": "2022-11-13T12:40:38.584Z"
   },
   {
    "duration": 6,
    "start_time": "2022-11-13T12:40:38.603Z"
   },
   {
    "duration": 13,
    "start_time": "2022-11-13T12:40:38.612Z"
   },
   {
    "duration": 27,
    "start_time": "2022-11-13T12:40:38.627Z"
   },
   {
    "duration": 28,
    "start_time": "2022-11-13T12:40:38.678Z"
   },
   {
    "duration": 3,
    "start_time": "2022-11-13T12:40:38.708Z"
   },
   {
    "duration": 15,
    "start_time": "2022-11-13T12:40:38.713Z"
   },
   {
    "duration": 13,
    "start_time": "2022-11-13T12:40:38.730Z"
   },
   {
    "duration": 4,
    "start_time": "2022-11-13T12:40:38.746Z"
   },
   {
    "duration": 52,
    "start_time": "2022-11-13T12:40:38.751Z"
   },
   {
    "duration": 20,
    "start_time": "2022-11-13T12:40:38.805Z"
   },
   {
    "duration": 20,
    "start_time": "2022-11-13T12:40:38.827Z"
   },
   {
    "duration": 20,
    "start_time": "2022-11-13T12:40:38.849Z"
   },
   {
    "duration": 37,
    "start_time": "2022-11-13T12:40:38.871Z"
   }
  ],
  "colab": {
   "name": "dpp_template_part2.ipynb",
   "provenance": []
  },
  "kernelspec": {
   "display_name": "Python 3 (ipykernel)",
   "language": "python",
   "name": "python3"
  },
  "language_info": {
   "codemirror_mode": {
    "name": "ipython",
    "version": 3
   },
   "file_extension": ".py",
   "mimetype": "text/x-python",
   "name": "python",
   "nbconvert_exporter": "python",
   "pygments_lexer": "ipython3",
   "version": "3.10.9"
  },
  "toc": {
   "base_numbering": 1,
   "nav_menu": {},
   "number_sections": true,
   "sideBar": true,
   "skip_h1_title": true,
   "title_cell": "Table of Contents",
   "title_sidebar": "Contents",
   "toc_cell": false,
   "toc_position": {},
   "toc_section_display": true,
   "toc_window_display": false
  }
 },
 "nbformat": 4,
 "nbformat_minor": 5
}
