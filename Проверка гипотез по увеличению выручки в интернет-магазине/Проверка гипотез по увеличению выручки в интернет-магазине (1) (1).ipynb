{
 "cells": [
  {
   "cell_type": "markdown",
   "metadata": {},
   "source": [
    "# Проверка гипотез по увеличению выручки в интернет-магазине —оценить результаты A/B теста"
   ]
  },
  {
   "cell_type": "markdown",
   "metadata": {},
   "source": [
    "## Описание данных"
   ]
  },
  {
   "cell_type": "markdown",
   "metadata": {},
   "source": [
    "Данные для первой части\n",
    "Файл /datasets/hypothesis.csv.\n",
    "\n",
    "- Hypothesis — краткое описание гипотезы;\n",
    "- Reach — охват пользователей по 10-балльной шкале;\n",
    "- Impact — влияние на пользователей по 10-балльной шкале;\n",
    "- Confidence — уверенность в гипотезе по 10-балльной шкале;\n",
    "- Efforts — затраты ресурсов на проверку гипотезы по 10-балльной шкале. Чем больше значение Efforts, тем дороже проверка гипотезы."
   ]
  },
  {
   "cell_type": "markdown",
   "metadata": {},
   "source": [
    "Данные для второй части\n",
    "Файл /datasets/orders.csv.\n",
    "\n",
    "- transactionId — идентификатор заказа;\n",
    "- visitorId — идентификатор пользователя, совершившего заказ;\n",
    "- date — дата, когда был совершён заказ;\n",
    "- revenue — выручка заказа;\n",
    "- group — группа A/B-теста, в которую попал заказ.\n",
    "\n",
    "Файл /datasets/visitors.csv. Скачать датасет\n",
    "- date — дата;\n",
    "- group — группа A/B-теста;\n",
    "- visitors — количество пользователей в указанную дату в указанной группе A/B-теста"
   ]
  },
  {
   "cell_type": "markdown",
   "metadata": {},
   "source": [
    "## Описание проекта"
   ]
  },
  {
   "cell_type": "markdown",
   "metadata": {},
   "source": [
    "Вместе с отделом маркетинга мы подготовили список гипотез для увеличения выручки.\n",
    "Приоритизировали гипотезы, запустили A/B-тест и проанализировали результаты. "
   ]
  },
  {
   "cell_type": "markdown",
   "metadata": {},
   "source": [
    "## Загрузка данных и подготовка их к анализу"
   ]
  },
  {
   "cell_type": "markdown",
   "metadata": {},
   "source": [
    "Загрузим данные и подготовим их к анализу."
   ]
  },
  {
   "cell_type": "code",
   "execution_count": 1,
   "metadata": {},
   "outputs": [],
   "source": [
    "import pandas as pd\n",
    "import numpy as np\n",
    "import matplotlib.pyplot as plt\n",
    "import scipy.stats as stats"
   ]
  },
  {
   "cell_type": "code",
   "execution_count": 2,
   "metadata": {},
   "outputs": [
    {
     "name": "stdout",
     "output_type": "stream",
     "text": [
      "                                          Hypothesis  Reach  Impact  \\\n",
      "0  Добавить два новых канала привлечения трафика,...      3      10   \n",
      "1  Запустить собственную службу доставки, что сок...      2       5   \n",
      "2  Добавить блоки рекомендаций товаров на сайт ин...      8       3   \n",
      "3  Изменить структура категорий, что увеличит кон...      8       3   \n",
      "4  Изменить цвет фона главной страницы, чтобы уве...      3       1   \n",
      "5  Добавить страницу отзывов клиентов о магазине,...      3       2   \n",
      "6  Показать на главной странице баннеры с актуаль...      5       3   \n",
      "7  Добавить форму подписки на все основные страни...     10       7   \n",
      "8  Запустить акцию, дающую скидку на товар в день...      1       9   \n",
      "\n",
      "   Confidence  Efforts  \n",
      "0           8        6  \n",
      "1           4       10  \n",
      "2           7        3  \n",
      "3           3        8  \n",
      "4           1        1  \n",
      "5           2        3  \n",
      "6           8        3  \n",
      "7           8        5  \n",
      "8           9        5  \n",
      "<class 'pandas.core.frame.DataFrame'>\n",
      "RangeIndex: 9 entries, 0 to 8\n",
      "Data columns (total 5 columns):\n",
      " #   Column      Non-Null Count  Dtype \n",
      "---  ------      --------------  ----- \n",
      " 0   Hypothesis  9 non-null      object\n",
      " 1   Reach       9 non-null      int64 \n",
      " 2   Impact      9 non-null      int64 \n",
      " 3   Confidence  9 non-null      int64 \n",
      " 4   Efforts     9 non-null      int64 \n",
      "dtypes: int64(4), object(1)\n",
      "memory usage: 488.0+ bytes\n"
     ]
    }
   ],
   "source": [
    "hypothesis = pd.read_csv('/datasets/hypothesis.csv')\n",
    "print(hypothesis)\n",
    "hypothesis.info()"
   ]
  },
  {
   "cell_type": "code",
   "execution_count": 3,
   "metadata": {},
   "outputs": [
    {
     "data": {
      "text/plain": [
       "0"
      ]
     },
     "execution_count": 3,
     "metadata": {},
     "output_type": "execute_result"
    }
   ],
   "source": [
    "hypothesis.duplicated().sum()"
   ]
  },
  {
   "cell_type": "code",
   "execution_count": 4,
   "metadata": {},
   "outputs": [
    {
     "data": {
      "text/plain": [
       "Hypothesis    0\n",
       "Reach         0\n",
       "Impact        0\n",
       "Confidence    0\n",
       "Efforts       0\n",
       "dtype: int64"
      ]
     },
     "execution_count": 4,
     "metadata": {},
     "output_type": "execute_result"
    }
   ],
   "source": [
    "hypothesis.isnull().sum()"
   ]
  },
  {
   "cell_type": "markdown",
   "metadata": {},
   "source": [
    "Для удобства приведем названия столбцов к нижнему регистру"
   ]
  },
  {
   "cell_type": "code",
   "execution_count": 5,
   "metadata": {},
   "outputs": [],
   "source": [
    "hypothesis.columns = [x.lower().replace(' ', '_') for x in hypothesis.columns.values]"
   ]
  },
  {
   "cell_type": "code",
   "execution_count": 6,
   "metadata": {},
   "outputs": [
    {
     "name": "stdout",
     "output_type": "stream",
     "text": [
      "   transactionId   visitorId        date  revenue group\n",
      "0     3667963787  3312258926  2019-08-15     1650     B\n",
      "1     2804400009  3642806036  2019-08-15      730     B\n",
      "2     2961555356  4069496402  2019-08-15      400     A\n",
      "3     3797467345  1196621759  2019-08-15     9759     B\n",
      "4     2282983706  2322279887  2019-08-15     2308     B\n",
      "<class 'pandas.core.frame.DataFrame'>\n",
      "RangeIndex: 1197 entries, 0 to 1196\n",
      "Data columns (total 5 columns):\n",
      " #   Column         Non-Null Count  Dtype \n",
      "---  ------         --------------  ----- \n",
      " 0   transactionId  1197 non-null   int64 \n",
      " 1   visitorId      1197 non-null   int64 \n",
      " 2   date           1197 non-null   object\n",
      " 3   revenue        1197 non-null   int64 \n",
      " 4   group          1197 non-null   object\n",
      "dtypes: int64(3), object(2)\n",
      "memory usage: 46.9+ KB\n"
     ]
    }
   ],
   "source": [
    "orders = pd.read_csv('/datasets/orders.csv')\n",
    "print(orders.head(5))\n",
    "orders.info()"
   ]
  },
  {
   "cell_type": "code",
   "execution_count": 7,
   "metadata": {},
   "outputs": [],
   "source": [
    "orders = orders.rename(columns ={'transactionId':'transaction_id','visitorId':'visitor_id'})"
   ]
  },
  {
   "cell_type": "markdown",
   "metadata": {},
   "source": [
    "Изменим тип данных столбца date на datetime64"
   ]
  },
  {
   "cell_type": "code",
   "execution_count": 8,
   "metadata": {},
   "outputs": [],
   "source": [
    "orders['date'] = orders['date'].astype('datetime64')"
   ]
  },
  {
   "cell_type": "code",
   "execution_count": 9,
   "metadata": {},
   "outputs": [
    {
     "data": {
      "text/plain": [
       "0"
      ]
     },
     "execution_count": 9,
     "metadata": {},
     "output_type": "execute_result"
    }
   ],
   "source": [
    "orders.duplicated().sum()"
   ]
  },
  {
   "cell_type": "code",
   "execution_count": 10,
   "metadata": {},
   "outputs": [
    {
     "data": {
      "text/plain": [
       "transaction_id    0\n",
       "visitor_id        0\n",
       "date              0\n",
       "revenue           0\n",
       "group             0\n",
       "dtype: int64"
      ]
     },
     "execution_count": 10,
     "metadata": {},
     "output_type": "execute_result"
    }
   ],
   "source": [
    "orders.isnull().sum()"
   ]
  },
  {
   "cell_type": "code",
   "execution_count": 11,
   "metadata": {},
   "outputs": [
    {
     "name": "stdout",
     "output_type": "stream",
     "text": [
      "         date group  visitors\n",
      "0  2019-08-01     A       719\n",
      "1  2019-08-02     A       619\n",
      "2  2019-08-03     A       507\n",
      "3  2019-08-04     A       717\n",
      "4  2019-08-05     A       756\n",
      "<class 'pandas.core.frame.DataFrame'>\n",
      "RangeIndex: 62 entries, 0 to 61\n",
      "Data columns (total 3 columns):\n",
      " #   Column    Non-Null Count  Dtype \n",
      "---  ------    --------------  ----- \n",
      " 0   date      62 non-null     object\n",
      " 1   group     62 non-null     object\n",
      " 2   visitors  62 non-null     int64 \n",
      "dtypes: int64(1), object(2)\n",
      "memory usage: 1.6+ KB\n"
     ]
    }
   ],
   "source": [
    "visitors = pd.read_csv('/datasets/visitors.csv')\n",
    "print(visitors.head(5))\n",
    "visitors.info()"
   ]
  },
  {
   "cell_type": "markdown",
   "metadata": {},
   "source": [
    " Изменим тип данных столбца date на datetime64"
   ]
  },
  {
   "cell_type": "code",
   "execution_count": 12,
   "metadata": {},
   "outputs": [],
   "source": [
    "visitors['date'] = visitors['date'].astype('datetime64')"
   ]
  },
  {
   "cell_type": "code",
   "execution_count": 13,
   "metadata": {},
   "outputs": [
    {
     "data": {
      "text/plain": [
       "0"
      ]
     },
     "execution_count": 13,
     "metadata": {},
     "output_type": "execute_result"
    }
   ],
   "source": [
    "visitors.duplicated().sum()"
   ]
  },
  {
   "cell_type": "code",
   "execution_count": 14,
   "metadata": {},
   "outputs": [
    {
     "data": {
      "text/plain": [
       "date        0\n",
       "group       0\n",
       "visitors    0\n",
       "dtype: int64"
      ]
     },
     "execution_count": 14,
     "metadata": {},
     "output_type": "execute_result"
    }
   ],
   "source": [
    "visitors.isnull().sum()"
   ]
  },
  {
   "cell_type": "markdown",
   "metadata": {},
   "source": [
    "Загрузили данные из CSV-файлов в переменные.Изучили данные и выполнили предобработку.Изменили названия колонок для удобства. В данных нет пропусков и дубликатов. Во всех таблицах у дат тип данных как Object, изменили тип данных на datetime64. Во всех других колонках типы данных соответствуют сохранённым в них значениям"
   ]
  },
  {
   "cell_type": "markdown",
   "metadata": {},
   "source": [
    "## Часть 1. Приоритизация гипотез."
   ]
  },
  {
   "cell_type": "markdown",
   "metadata": {},
   "source": [
    "Посчитаем ICE для гипотез. Добавим полученные значения ICE к существующей таблице."
   ]
  },
  {
   "cell_type": "code",
   "execution_count": 15,
   "metadata": {},
   "outputs": [],
   "source": [
    "hypothesis['ICE'] = (hypothesis['impact']*hypothesis['confidence'])/hypothesis['efforts']"
   ]
  },
  {
   "cell_type": "code",
   "execution_count": 16,
   "metadata": {},
   "outputs": [
    {
     "name": "stdout",
     "output_type": "stream",
     "text": [
      "                                          hypothesis        ICE\n",
      "8  Запустить акцию, дающую скидку на товар в день...  16.200000\n",
      "0  Добавить два новых канала привлечения трафика,...  13.333333\n",
      "7  Добавить форму подписки на все основные страни...  11.200000\n",
      "6  Показать на главной странице баннеры с актуаль...   8.000000\n",
      "2  Добавить блоки рекомендаций товаров на сайт ин...   7.000000\n",
      "1  Запустить собственную службу доставки, что сок...   2.000000\n",
      "5  Добавить страницу отзывов клиентов о магазине,...   1.333333\n",
      "3  Изменить структура категорий, что увеличит кон...   1.125000\n",
      "4  Изменить цвет фона главной страницы, чтобы уве...   1.000000\n"
     ]
    }
   ],
   "source": [
    "print(hypothesis[['hypothesis','ICE']].sort_values(by='ICE',ascending =False))"
   ]
  },
  {
   "cell_type": "markdown",
   "metadata": {},
   "source": [
    "Наиболее перспективные гипотезы - запустить акцию,добавить два новых канала,добавить форуму подписки,показать на главной странице баннеры(под порядковыми номерами 8,0,7,6,2)"
   ]
  },
  {
   "cell_type": "markdown",
   "metadata": {},
   "source": [
    "Применим фреймворк RICE для приоритизации гипотез. Отсортируем их по убыванию приоритета."
   ]
  },
  {
   "cell_type": "code",
   "execution_count": 17,
   "metadata": {},
   "outputs": [
    {
     "name": "stdout",
     "output_type": "stream",
     "text": [
      "                                          hypothesis   RICE\n",
      "7  Добавить форму подписки на все основные страни...  112.0\n",
      "2  Добавить блоки рекомендаций товаров на сайт ин...   56.0\n",
      "0  Добавить два новых канала привлечения трафика,...   40.0\n",
      "6  Показать на главной странице баннеры с актуаль...   40.0\n",
      "8  Запустить акцию, дающую скидку на товар в день...   16.2\n",
      "3  Изменить структура категорий, что увеличит кон...    9.0\n",
      "1  Запустить собственную службу доставки, что сок...    4.0\n",
      "5  Добавить страницу отзывов клиентов о магазине,...    4.0\n",
      "4  Изменить цвет фона главной страницы, чтобы уве...    3.0\n"
     ]
    }
   ],
   "source": [
    "hypothesis['RICE'] = hypothesis['reach']*hypothesis['impact']*hypothesis['confidence']/hypothesis['efforts']\n",
    "print(hypothesis[['hypothesis','RICE']].sort_values(by = 'RICE',ascending =False))"
   ]
  },
  {
   "cell_type": "markdown",
   "metadata": {},
   "source": [
    "Наиболее перспективные гипотезы - 7,2,0,6,8. Однако в этот раз гипотезы 7 и 2 стоят на первых местах. Так получилось, потому что их параметр reach(охват пользователей по 10-балльной шкалелльной шкале) больше,чем у всех остальных.Для нас приоритетными гипотезами являются 7,2 и 0."
   ]
  },
  {
   "cell_type": "markdown",
   "metadata": {},
   "source": [
    "## Подготовка к проведению A/B теста. "
   ]
  },
  {
   "cell_type": "markdown",
   "metadata": {},
   "source": [
    "Проверим размеры групп и количетсва заказов."
   ]
  },
  {
   "cell_type": "code",
   "execution_count": 18,
   "metadata": {},
   "outputs": [
    {
     "name": "stdout",
     "output_type": "stream",
     "text": [
      "Размер группы А: 31\n",
      "Размер группы B: 31\n"
     ]
    }
   ],
   "source": [
    "print('Размер группы А:',len(visitors[visitors['group'] == 'A']))\n",
    "print('Размер группы B:',len(visitors[visitors['group'] == 'B']))"
   ]
  },
  {
   "cell_type": "code",
   "execution_count": 19,
   "metadata": {},
   "outputs": [
    {
     "name": "stdout",
     "output_type": "stream",
     "text": [
      "Количество заказов группы А: 557\n",
      "Количество заказов группы B: 640\n"
     ]
    }
   ],
   "source": [
    "print('Количество заказов группы А:',len(orders[orders['group'] == 'A']))\n",
    "print('Количество заказов группы B:',len(orders[orders['group'] == 'B']))"
   ]
  },
  {
   "cell_type": "markdown",
   "metadata": {},
   "source": [
    "Группы разделены поровну. "
   ]
  },
  {
   "cell_type": "markdown",
   "metadata": {},
   "source": [
    "## Часть 2. Анализ A/B-теста"
   ]
  },
  {
   "cell_type": "markdown",
   "metadata": {},
   "source": [
    "Мы провели A/B-тест и получили результаты, которые описаны в файлах /datasets/orders.csv и /datasets/visitors.csv."
   ]
  },
  {
   "cell_type": "markdown",
   "metadata": {},
   "source": [
    "Проанализируйте A/B-тест:"
   ]
  },
  {
   "cell_type": "markdown",
   "metadata": {},
   "source": [
    "1.Построем график кумулятивной выручки по группам. Сделаем выводы и предположения."
   ]
  },
  {
   "cell_type": "code",
   "execution_count": 20,
   "metadata": {},
   "outputs": [
    {
     "name": "stdout",
     "output_type": "stream",
     "text": [
      "        date group  orders  buyers  revenue  visitors\n",
      "0 2019-08-01     A      24      20   148579       719\n",
      "1 2019-08-01     B      21      20   101217       713\n",
      "2 2019-08-02     A      44      38   242401      1338\n",
      "3 2019-08-02     B      45      43   266748      1294\n",
      "4 2019-08-03     A      68      62   354874      1845\n"
     ]
    }
   ],
   "source": [
    "datesGroups = orders[['date','group']].drop_duplicates()\n",
    "\n",
    "# получаем агрегированные кумулятивные по дням данные о заказах \n",
    "ordersAggregated = datesGroups.apply(lambda x: orders[np.logical_and(orders['date'] <= x['date'], orders['group'] == x['group'])].agg({'date' : 'max', 'group' : 'max', 'transaction_id' : 'nunique', 'visitor_id' : 'nunique', 'revenue' : 'sum'}), axis=1).sort_values(by=['date','group'])\n",
    "\n",
    "# получаем агрегированные кумулятивные по дням данные о посетителях интернет-магазина \n",
    "visitorsAggregated = datesGroups.apply(lambda x: visitors[np.logical_and(visitors['date'] <= x['date'], visitors['group'] == x['group'])].agg({'date' : 'max', 'group' : 'max', 'visitors' : 'sum'}), axis=1).sort_values(by=['date','group'])\n",
    "\n",
    "# объединяем кумулятивные данные в одной таблице и присваиваем ее столбцам понятные названия\n",
    "cumulativeData = ordersAggregated.merge(visitorsAggregated, left_on=['date', 'group'], right_on=['date', 'group'])\n",
    "cumulativeData.columns = ['date', 'group', 'orders', 'buyers', 'revenue', 'visitors']\n",
    "\n",
    "print(cumulativeData.head(5)) "
   ]
  },
  {
   "cell_type": "code",
   "execution_count": 21,
   "metadata": {},
   "outputs": [
    {
     "data": {
      "image/png": "[encoded data removed]",
      "text/plain": [
       "<Figure size 432x288 with 1 Axes>"
      ]
     },
     "metadata": {
      "needs_background": "light"
     },
     "output_type": "display_data"
    }
   ],
   "source": [
    "import matplotlib.pyplot as plt\n",
    "\n",
    "# датафрейм с кумулятивным количеством заказов и кумулятивной выручкой по дням в группе А\n",
    "cumulativeRevenueA = cumulativeData[cumulativeData['group']=='A'][['date','revenue', 'orders']]\n",
    "\n",
    "# датафрейм с кумулятивным количеством заказов и кумулятивной выручкой по дням в группе B\n",
    "cumulativeRevenueB = cumulativeData[cumulativeData['group']=='B'][['date','revenue', 'orders']]\n",
    "\n",
    "# Строим график выручки группы А\n",
    "plt.plot(cumulativeRevenueA['date'], cumulativeRevenueA['revenue'], label='A')\n",
    "\n",
    "# Строим график выручки группы B\n",
    "plt.plot(cumulativeRevenueB['date'], cumulativeRevenueB['revenue'], label='B')\n",
    "\n",
    "plt.legend()\n",
    "plt.xticks(rotation = 45)\n",
    "plt.title(\"Кумулятивная выручка по группам\")\n",
    "plt.xlabel(\"date\")\n",
    "plt.ylabel(\"количество заказов\")\n",
    "plt.show()"
   ]
  },
  {
   "cell_type": "markdown",
   "metadata": {},
   "source": [
    "По графику видно,что группа B приносит больше выручки."
   ]
  },
  {
   "cell_type": "markdown",
   "metadata": {},
   "source": [
    "Построим графики среднего чека по группам — разделим кумулятивную выручку на кумулятивное число заказов:"
   ]
  },
  {
   "cell_type": "code",
   "execution_count": 22,
   "metadata": {},
   "outputs": [
    {
     "data": {
      "image/png": "[encoded data removed]",
      "text/plain": [
       "<Figure size 432x288 with 1 Axes>"
      ]
     },
     "metadata": {
      "needs_background": "light"
     },
     "output_type": "display_data"
    }
   ],
   "source": [
    "plt.plot(cumulativeRevenueA['date'], cumulativeRevenueA['revenue']/cumulativeRevenueA['orders'], label='A')\n",
    "plt.plot(cumulativeRevenueB['date'], cumulativeRevenueB['revenue']/cumulativeRevenueB['orders'], label='B')\n",
    "plt.legend()\n",
    "plt.xticks(rotation = 45)\n",
    "plt.title(\"графики среднего чека по группам\")\n",
    "plt.xlabel(\"date\")\n",
    "plt.ylabel(\"сумма среднего чека\")\n",
    "plt.show()"
   ]
  },
  {
   "cell_type": "markdown",
   "metadata": {},
   "source": [
    "Средний чеку группы B выше. Только есть резкий скачок во второй половине,а это значит, что есть аномальные значения."
   ]
  },
  {
   "cell_type": "markdown",
   "metadata": {},
   "source": [
    "Построим график относительного различия для среднего чека."
   ]
  },
  {
   "cell_type": "code",
   "execution_count": 23,
   "metadata": {},
   "outputs": [
    {
     "data": {
      "image/png": "[encoded data removed]",
      "text/plain": [
       "<Figure size 432x288 with 1 Axes>"
      ]
     },
     "metadata": {
      "needs_background": "light"
     },
     "output_type": "display_data"
    }
   ],
   "source": [
    "# собираем данные в одном датафрейме\n",
    "mergedCumulativeRevenue = cumulativeRevenueA.merge(cumulativeRevenueB, left_on='date', right_on='date', how='left', suffixes=['A', 'B'])\n",
    "\n",
    "# cтроим отношение средних чеков\n",
    "plt.plot(mergedCumulativeRevenue['date'], (mergedCumulativeRevenue['revenueB']/mergedCumulativeRevenue['ordersB'])/(mergedCumulativeRevenue['revenueA']/mergedCumulativeRevenue['ordersA'])-1)\n",
    "\n",
    "# добавляем ось X\n",
    "plt.axhline(y=0, color='black', linestyle='--')\n",
    "plt.xticks(rotation = 45)\n",
    "plt.title(\"график относительного различия для среднего чека\")\n",
    "plt.xlabel(\"date\")\n",
    "plt.ylabel(\"отношение средних чеков\")\n",
    "plt.show()"
   ]
  },
  {
   "cell_type": "markdown",
   "metadata": {},
   "source": [
    "В нескольких точках график различия между сегментами резко «скачет». Где-то уж точно спрятались крупные заказы и выбросы! Найдём их позже."
   ]
  },
  {
   "cell_type": "markdown",
   "metadata": {},
   "source": [
    "Аналогично проанализируем график кумулятивной конверсии."
   ]
  },
  {
   "cell_type": "code",
   "execution_count": 24,
   "metadata": {},
   "outputs": [
    {
     "data": {
      "image/png": "[encoded data removed]",
      "text/plain": [
       "<Figure size 432x288 with 1 Axes>"
      ]
     },
     "metadata": {
      "needs_background": "light"
     },
     "output_type": "display_data"
    }
   ],
   "source": [
    "# считаем кумулятивную конверсию\n",
    "cumulativeData['conversion'] = cumulativeData['orders']/cumulativeData['visitors']\n",
    "\n",
    "# отделяем данные по группе A\n",
    "cumulativeDataA = cumulativeData[cumulativeData['group']=='A']\n",
    "\n",
    "# отделяем данные по группе B\n",
    "cumulativeDataB = cumulativeData[cumulativeData['group']=='B']\n",
    "\n",
    "# строим графики\n",
    "plt.plot(cumulativeDataA['date'], cumulativeDataA['conversion'], label='A')\n",
    "plt.plot(cumulativeDataB['date'], cumulativeDataB['conversion'], label='B')\n",
    "plt.legend()\n",
    "plt.xticks(rotation = 45)\n",
    "plt.title(\"график кумулятивной конверсии\")\n",
    "plt.xlabel(\"date\")\n",
    "plt.ylabel(\"конверсия\")\n",
    "plt.show()"
   ]
  },
  {
   "cell_type": "markdown",
   "metadata": {},
   "source": [
    "Конверсия группы B лучше чем группы A."
   ]
  },
  {
   "cell_type": "markdown",
   "metadata": {},
   "source": [
    "Построим график относительного различия кумулятивных конверсий на посетителя группы B к группе A:"
   ]
  },
  {
   "cell_type": "code",
   "execution_count": 25,
   "metadata": {},
   "outputs": [
    {
     "data": {
      "image/png": "[encoded data removed]",
      "text/plain": [
       "<Figure size 432x288 with 1 Axes>"
      ]
     },
     "metadata": {
      "needs_background": "light"
     },
     "output_type": "display_data"
    }
   ],
   "source": [
    "mergedCumulativeConversions = cumulativeDataA[['date','conversion']].merge(cumulativeDataB[['date','conversion']], left_on='date', right_on='date', how='left', suffixes=['A', 'B'])\n",
    "\n",
    "plt.plot(mergedCumulativeConversions['date'], ((mergedCumulativeConversions['conversionB']/mergedCumulativeConversions['conversionA'])-1), label=\"Относительный прирост конверсии группы B относительно группы A\")\n",
    "plt.legend()\n",
    "\n",
    "plt.axhline(y=0, color='black', linestyle='--')\n",
    "plt.axhline(y=-0.1, color='grey', linestyle='--')\n",
    "plt.xticks(rotation = 45)\n",
    "plt.title(\"график относительного различия кумулятивных конверсий на посетителя группы B к группе A\")\n",
    "plt.xlabel(\"date\")\n",
    "plt.ylabel(\"прирост конверсии\")\n",
    "plt.show()"
   ]
  },
  {
   "cell_type": "markdown",
   "metadata": {},
   "source": [
    "В начале теста группа B была на одном уровне с группой A, затем вырвалась вперёд. Стоит проанализировать аномалии, возможно, они изменят картину."
   ]
  },
  {
   "cell_type": "markdown",
   "metadata": {},
   "source": [
    "Подсчитаем количество заказов по пользователям и посмотрим на результат:"
   ]
  },
  {
   "cell_type": "code",
   "execution_count": 26,
   "metadata": {},
   "outputs": [
    {
     "name": "stdout",
     "output_type": "stream",
     "text": [
      "          userId  orders\n",
      "1023  4256040402      11\n",
      "591   2458001652      11\n",
      "569   2378935119       9\n",
      "487   2038680547       8\n",
      "44     199603092       5\n",
      "744   3062433592       5\n",
      "55     237748145       5\n",
      "917   3803269165       5\n",
      "299   1230306981       5\n",
      "897   3717692402       5\n"
     ]
    }
   ],
   "source": [
    "ordersByUsers = (\n",
    "    orders.groupby('visitor_id', as_index=False)\n",
    "    .agg({'transaction_id': 'nunique'})\n",
    ")\n",
    "\n",
    "ordersByUsers.columns = ['userId','orders']\n",
    "\n",
    "print(ordersByUsers.sort_values(by='orders', ascending=False).head(10)) "
   ]
  },
  {
   "cell_type": "code",
   "execution_count": 27,
   "metadata": {},
   "outputs": [
    {
     "data": {
      "text/plain": [
       "<AxesSubplot:>"
      ]
     },
     "execution_count": 27,
     "metadata": {},
     "output_type": "execute_result"
    },
    {
     "data": {
      "image/png": "[encoded data removed]",
      "text/plain": [
       "<Figure size 432x288 with 1 Axes>"
      ]
     },
     "metadata": {
      "needs_background": "light"
     },
     "output_type": "display_data"
    }
   ],
   "source": [
    "ordersByUsers['orders'].hist(bins = 25, range = (0, 8))"
   ]
  },
  {
   "cell_type": "markdown",
   "metadata": {},
   "source": [
    "Большинство покупателей заказывали только один раз. Однако доля пользователей с 2-4 заказами тоже значительна. "
   ]
  },
  {
   "cell_type": "code",
   "execution_count": 28,
   "metadata": {},
   "outputs": [
    {
     "data": {
      "text/plain": [
       "<matplotlib.collections.PathCollection at 0x7fb854e206a0>"
      ]
     },
     "execution_count": 28,
     "metadata": {},
     "output_type": "execute_result"
    },
    {
     "data": {
      "image/png": "[encoded data removed]",
      "text/plain": [
       "<Figure size 432x288 with 1 Axes>"
      ]
     },
     "metadata": {
      "needs_background": "light"
     },
     "output_type": "display_data"
    }
   ],
   "source": [
    "x_values = pd.Series(range(0,len(ordersByUsers)))\n",
    "\n",
    "plt.scatter(x_values, ordersByUsers['orders'])"
   ]
  },
  {
   "cell_type": "markdown",
   "metadata": {},
   "source": [
    "Выводы подтверждаются: большинство покупателей заказывали не больше 2 раз."
   ]
  },
  {
   "cell_type": "code",
   "execution_count": 29,
   "metadata": {},
   "outputs": [
    {
     "name": "stdout",
     "output_type": "stream",
     "text": [
      "[1. 2. 4.]\n"
     ]
    }
   ],
   "source": [
    "print(np.percentile(ordersByUsers['orders'], [90, 95, 99])) "
   ]
  },
  {
   "cell_type": "markdown",
   "metadata": {},
   "source": [
    "Не более 5% пользователей оформляли больше чем 2 заказа. И 10% пользователей заказывали более одного раза. "
   ]
  },
  {
   "cell_type": "markdown",
   "metadata": {},
   "source": [
    "Построим точечный график стоимостей заказов."
   ]
  },
  {
   "cell_type": "markdown",
   "metadata": {},
   "source": [
    "Изучим гистограмму распределения стоимостей заказов: "
   ]
  },
  {
   "cell_type": "code",
   "execution_count": 30,
   "metadata": {},
   "outputs": [
    {
     "data": {
      "text/plain": [
       "<AxesSubplot:>"
      ]
     },
     "execution_count": 30,
     "metadata": {},
     "output_type": "execute_result"
    },
    {
     "data": {
      "image/png": "[encoded data removed]",
      "text/plain": [
       "<Figure size 432x288 with 1 Axes>"
      ]
     },
     "metadata": {
      "needs_background": "light"
     },
     "output_type": "display_data"
    }
   ],
   "source": [
    "orders['revenue'].hist(bins = 25, range = (0, 100000))"
   ]
  },
  {
   "cell_type": "markdown",
   "metadata": {},
   "source": [
    "В данных есть заказы дороже 40 000. Например,80 000 и более. Однако, большинство имеют меньшую выручку."
   ]
  },
  {
   "cell_type": "code",
   "execution_count": 31,
   "metadata": {},
   "outputs": [
    {
     "data": {
      "text/plain": [
       "<matplotlib.collections.PathCollection at 0x7fb854ea7040>"
      ]
     },
     "execution_count": 31,
     "metadata": {},
     "output_type": "execute_result"
    },
    {
     "data": {
      "image/png": "[encoded data removed]",
      "text/plain": [
       "<Figure size 432x288 with 1 Axes>"
      ]
     },
     "metadata": {
      "needs_background": "light"
     },
     "output_type": "display_data"
    }
   ],
   "source": [
    "x_values = pd.Series(range(0,len(orders['revenue'])))\n",
    "plt.scatter(x_values, orders['revenue']) "
   ]
  },
  {
   "cell_type": "markdown",
   "metadata": {},
   "source": [
    " Есть немного дорогих заказов - 1 200 000 и 200 000."
   ]
  },
  {
   "cell_type": "markdown",
   "metadata": {},
   "source": [
    "Посчитаем 95-й и 99-й перцентили стоимости заказов. "
   ]
  },
  {
   "cell_type": "code",
   "execution_count": 32,
   "metadata": {},
   "outputs": [
    {
     "name": "stdout",
     "output_type": "stream",
     "text": [
      "[950.05  975.025 990.01 ]\n"
     ]
    }
   ],
   "source": [
    "print(np.percentile(range(1,1001), [95, 97.5, 99]))"
   ]
  },
  {
   "cell_type": "markdown",
   "metadata": {},
   "source": [
    "Не более 5% заказов дороже 975.025 и не более 1% дороже 990.01."
   ]
  },
  {
   "cell_type": "markdown",
   "metadata": {},
   "source": [
    "Определим 90, 95 и 99 перцентили среднего чека в выборке:"
   ]
  },
  {
   "cell_type": "code",
   "execution_count": 33,
   "metadata": {},
   "outputs": [
    {
     "data": {
      "text/plain": [
       "array([18168. , 28000. , 58233.2])"
      ]
     },
     "execution_count": 33,
     "metadata": {},
     "output_type": "execute_result"
    }
   ],
   "source": [
    "np.percentile(orders['revenue'], [90, 95, 99])"
   ]
  },
  {
   "cell_type": "markdown",
   "metadata": {},
   "source": [
    "95-й и 99-й перцентили средних чеков равны 28000 и 58233.2 рублям. 95 перцентиль возбмем за границу выбросов."
   ]
  },
  {
   "cell_type": "markdown",
   "metadata": {},
   "source": [
    "Посчитаем статистическую значимость различий в среднем количестве заказов на посетителя между группами по «сырым» данным."
   ]
  },
  {
   "cell_type": "markdown",
   "metadata": {},
   "source": [
    "H0:различия в среднем количестве заказов на посетителя между группами по «сырым» данным нет.\n",
    "\n",
    "H1:различия в среднем количестве заказов на посетителя между группами по «сырым» данным есть."
   ]
  },
  {
   "cell_type": "code",
   "execution_count": 34,
   "metadata": {},
   "outputs": [
    {
     "name": "stdout",
     "output_type": "stream",
     "text": [
      "        date  ordersPerDateA  revenuePerDateA  ordersPerDateB  \\\n",
      "0 2019-08-01              24           148579              21   \n",
      "1 2019-08-02              20            93822              24   \n",
      "2 2019-08-03              24           112473              16   \n",
      "3 2019-08-04              16            70825              17   \n",
      "4 2019-08-05              25           124218              23   \n",
      "\n",
      "   revenuePerDateB  ordersCummulativeA  revenueCummulativeA  \\\n",
      "0           101217                  24               148579   \n",
      "1           165531                  44               242401   \n",
      "2           114248                  68               354874   \n",
      "3           108571                  84               425699   \n",
      "4            92428                 109               549917   \n",
      "\n",
      "   ordersCummulativeB  revenueCummulativeB  visitorsPerDateA  \\\n",
      "0                  21               101217               719   \n",
      "1                  45               266748               619   \n",
      "2                  61               380996               507   \n",
      "3                  78               489567               717   \n",
      "4                 101               581995               756   \n",
      "\n",
      "   visitorsPerDateB  visitorsCummulativeA  visitorsCummulativeB  \n",
      "0               713                   719                   713  \n",
      "1               581                  1338                  1294  \n",
      "2               509                  1845                  1803  \n",
      "3               770                  2562                  2573  \n",
      "4               707                  3318                  3280  \n"
     ]
    }
   ],
   "source": [
    "visitorsADaily = visitors[visitors['group'] == 'A'][['date', 'visitors']]\n",
    "visitorsADaily.columns = ['date', 'visitorsPerDateA']\n",
    "\n",
    "visitorsACummulative = visitorsADaily.apply(\n",
    "    lambda x: visitorsADaily[visitorsADaily['date'] <= x['date']].agg(\n",
    "        {'date': 'max', 'visitorsPerDateA': 'sum'}\n",
    "    ),\n",
    "    axis=1,\n",
    ")\n",
    "visitorsACummulative.columns = ['date', 'visitorsCummulativeA']\n",
    "\n",
    "visitorsBDaily = visitors[visitors['group'] == 'B'][['date', 'visitors']]\n",
    "visitorsBDaily.columns = ['date', 'visitorsPerDateB']\n",
    "visitorsBCummulative = visitorsBDaily.apply(\n",
    "    lambda x: visitorsBDaily[visitorsBDaily['date'] <= x['date']].agg(\n",
    "        {'date': 'max', 'visitorsPerDateB': 'sum'}\n",
    "    ),\n",
    "    axis=1,\n",
    ")\n",
    "visitorsBCummulative.columns = ['date', 'visitorsCummulativeB']\n",
    "\n",
    "ordersADaily = (\n",
    "    orders[orders['group'] == 'A'][['date', 'transaction_id', 'visitor_id', 'revenue']]\n",
    "    .groupby('date', as_index=False)\n",
    "    .agg({'transaction_id': pd.Series.nunique, 'revenue': 'sum'})\n",
    ")\n",
    "ordersADaily.columns = ['date', 'ordersPerDateA', 'revenuePerDateA']\n",
    "\n",
    "ordersACummulative = ordersADaily.apply(\n",
    "    lambda x: ordersADaily[ordersADaily['date'] <= x['date']].agg(\n",
    "        {'date': 'max', 'ordersPerDateA': 'sum', 'revenuePerDateA': 'sum'}\n",
    "    ),\n",
    "    axis=1,\n",
    ").sort_values(by=['date'])\n",
    "ordersACummulative.columns = [\n",
    "    'date',\n",
    "    'ordersCummulativeA',\n",
    "    'revenueCummulativeA',\n",
    "]\n",
    "\n",
    "ordersBDaily = (\n",
    "    orders[orders['group'] == 'B'][['date', 'transaction_id', 'visitor_id', 'revenue']]\n",
    "    .groupby('date', as_index=False)\n",
    "    .agg({'transaction_id': pd.Series.nunique, 'revenue': 'sum'})\n",
    ")\n",
    "ordersBDaily.columns = ['date', 'ordersPerDateB', 'revenuePerDateB']\n",
    "\n",
    "ordersBCummulative = ordersBDaily.apply(\n",
    "    lambda x: ordersBDaily[ordersBDaily['date'] <= x['date']].agg(\n",
    "        {'date': 'max', 'ordersPerDateB': 'sum', 'revenuePerDateB': 'sum'}\n",
    "    ),\n",
    "    axis=1,\n",
    ").sort_values(by=['date'])\n",
    "ordersBCummulative.columns = [\n",
    "    'date',\n",
    "    'ordersCummulativeB',\n",
    "    'revenueCummulativeB',\n",
    "]\n",
    "\n",
    "data = (\n",
    "    ordersADaily.merge(\n",
    "        ordersBDaily, left_on='date', right_on='date', how='left'\n",
    "    )\n",
    "    .merge(ordersACummulative, left_on='date', right_on='date', how='left')\n",
    "    .merge(ordersBCummulative, left_on='date', right_on='date', how='left')\n",
    "    .merge(visitorsADaily, left_on='date', right_on='date', how='left')\n",
    "    .merge(visitorsBDaily, left_on='date', right_on='date', how='left')\n",
    "    .merge(visitorsACummulative, left_on='date', right_on='date', how='left')\n",
    "    .merge(visitorsBCummulative, left_on='date', right_on='date', how='left')\n",
    ")\n",
    "\n",
    "print(data.head(5)) "
   ]
  },
  {
   "cell_type": "code",
   "execution_count": 35,
   "metadata": {},
   "outputs": [
    {
     "name": "stdout",
     "output_type": "stream",
     "text": [
      "0.01679\n",
      "0.138\n"
     ]
    }
   ],
   "source": [
    "ordersByUsersA = (\n",
    "    orders[orders['group'] == 'A']\n",
    "    .groupby('visitor_id', as_index=False)\n",
    "    .agg({'transaction_id': pd.Series.nunique})\n",
    ")\n",
    "ordersByUsersA.columns = ['userId', 'orders']\n",
    "\n",
    "ordersByUsersB = (\n",
    "    orders[orders['group'] == 'B']\n",
    "    .groupby('visitor_id', as_index=False)\n",
    "    .agg({'transaction_id': pd.Series.nunique})\n",
    ")\n",
    "ordersByUsersB.columns = ['userId', 'orders']\n",
    "\n",
    "pd.Series(0, index=np.arange(data['visitorsPerDateA'].sum() - len(ordersByUsersA['orders'])), name='orders')\n",
    " \n",
    "[ordersByUsersA['orders'],pd.Series(0, index=np.arange(data['visitorsPerDateA'].sum() - len(ordersByUsersA['orders'])), name='orders')]\n",
    "\n",
    "sampleA = pd.concat([ordersByUsersA['orders'],pd.Series(0, index=np.arange(data['visitorsPerDateA'].sum() - len(ordersByUsersA['orders'])), name='orders')],axis=0)\n",
    "\n",
    "sampleB = pd.concat([ordersByUsersB['orders'],pd.Series(0, index=np.arange(data['visitorsPerDateB'].sum() - len(ordersByUsersB['orders'])), name='orders')],axis=0)\n",
    "\n",
    "ordersByUsersA = (\n",
    "    orders[orders['group'] == 'A']\n",
    "    .groupby('visitor_id', as_index=False)\n",
    "    .agg({'transaction_id': pd.Series.nunique})\n",
    ")\n",
    "ordersByUsersA.columns = ['userId', 'orders']\n",
    "\n",
    "ordersByUsersB = (\n",
    "    orders[orders['group'] == 'B']\n",
    "    .groupby('visitor_id', as_index=False)\n",
    "    .agg({'transaction_id': pd.Series.nunique})\n",
    ")\n",
    "ordersByUsersB.columns = ['userId', 'orders']\n",
    "\n",
    "sampleA = pd.concat(\n",
    "    [\n",
    "        ordersByUsersA['orders'],\n",
    "        pd.Series(\n",
    "            0,\n",
    "            index=np.arange(\n",
    "                data['visitorsPerDateA'].sum() - len(ordersByUsersA['orders'])\n",
    "            ),\n",
    "            name='orders',\n",
    "        ),\n",
    "    ],\n",
    "    axis=0,\n",
    ")\n",
    "\n",
    "sampleB = pd.concat(\n",
    "    [\n",
    "        ordersByUsersB['orders'],\n",
    "        pd.Series(\n",
    "            0,\n",
    "            index=np.arange(\n",
    "                data['visitorsPerDateB'].sum() - len(ordersByUsersB['orders'])\n",
    "            ),\n",
    "            name='orders',\n",
    "        ),\n",
    "    ],\n",
    "    axis=0,\n",
    ")\n",
    "\n",
    "print(\"{0:.5f}\".format(stats.mannwhitneyu(sampleA, sampleB)[1]))\n",
    "print(\"{0:.3f}\".format((data['ordersPerDateB'].sum()/data['visitorsPerDateB'].sum())/(data['ordersPerDateA'].sum()/data['visitorsPerDateA'].sum())-1))\n"
   ]
  },
  {
   "cell_type": "markdown",
   "metadata": {},
   "source": [
    " По «сырым» данным различий в среднем числе заказов групп A и B статически значимы. Первое число — p-value = 0.0167 меньше 0.05. Значит, нулевую гипотезу о том, что статистически значимые различия в среднем числе заказов между группами  есть,то есть гипотезу отвергаем. Однако относительный проигрыш группы B равен 13.8% — второе число в выводе."
   ]
  },
  {
   "cell_type": "markdown",
   "metadata": {},
   "source": [
    "Теперь проверим статистическую значимость различий в среднем чеке между сегментами. Нулевая гипотеза: различий в среднем чеке между группами нет. Альтернативная гипотеза: различия в среднем чеке между группами есть. "
   ]
  },
  {
   "cell_type": "code",
   "execution_count": 36,
   "metadata": {},
   "outputs": [
    {
     "name": "stdout",
     "output_type": "stream",
     "text": [
      "0.729\n",
      "0.259\n"
     ]
    }
   ],
   "source": [
    "print('{0:.3f}'.format(stats.mannwhitneyu(orders[orders['group']=='A']['revenue'], orders[orders['group']=='B']['revenue'])[1]))\n",
    "print('{0:.3f}'.format(orders[orders['group']=='B']['revenue'].mean()/orders[orders['group']=='A']['revenue'].mean()-1))"
   ]
  },
  {
   "cell_type": "markdown",
   "metadata": {},
   "source": [
    "P-value значительно больше 0.05. Значит, причин отвергать нулевую гипотезу и считать, что в среднем чеке есть различия, нет. Впрочем, средний чек группы B значительно выше среднего чека группы A."
   ]
  },
  {
   "cell_type": "markdown",
   "metadata": {},
   "source": [
    " Статистической значимости различий в среднем чеке заказа между группами по «сырым» данным нет."
   ]
  },
  {
   "cell_type": "markdown",
   "metadata": {},
   "source": [
    "95-й и 99-й перцентили средних чеков равны 28000 и 58233.2 рублям. А 95-й и 99-й перцентили количества заказов на одного пользователя равны 2 и 4 заказа на пользователя."
   ]
  },
  {
   "cell_type": "markdown",
   "metadata": {},
   "source": [
    "Примем за аномальных пользователей тех, кто совершил от 5 заказов или совершил заказ дороже 40 000 рублей. "
   ]
  },
  {
   "cell_type": "markdown",
   "metadata": {},
   "source": [
    "Узнаем, сколько всего аномальных пользователей атрибутом"
   ]
  },
  {
   "cell_type": "code",
   "execution_count": 37,
   "metadata": {},
   "outputs": [
    {
     "name": "stdout",
     "output_type": "stream",
     "text": [
      "1099    148427295\n",
      "684     358944393\n",
      "648     382846391\n",
      "1137    759473111\n",
      "339     834731816\n",
      "dtype: int64\n",
      "29\n"
     ]
    }
   ],
   "source": [
    "usersWithManyOrders = pd.concat(\n",
    "    [\n",
    "        ordersByUsersA[ordersByUsersA['orders'] > 4]['userId'],\n",
    "        ordersByUsersB[ordersByUsersB['orders'] > 4]['userId'],\n",
    "    ],\n",
    "    axis=0,\n",
    ")\n",
    "usersWithExpensiveOrders = orders[orders['revenue'] > 40000]['visitor_id']\n",
    "abnormalUsers = (\n",
    "    pd.concat([usersWithManyOrders, usersWithExpensiveOrders], axis=0)\n",
    "    .drop_duplicates()\n",
    "    .sort_values()\n",
    ")\n",
    "print(abnormalUsers.head(5))\n",
    "print(abnormalUsers.shape[0])"
   ]
  },
  {
   "cell_type": "markdown",
   "metadata": {},
   "source": [
    "Всего 29 аномальных значений.Узнаем, как их действия повлияли на результаты теста. Посчитаем статистическую значимость различий в среднем количестве заказов между группами теста по очищенным данным."
   ]
  },
  {
   "cell_type": "markdown",
   "metadata": {},
   "source": [
    "Нулевая гипотеза: статистическую значимость различий в среднем количестве заказов между группами теста по очищенным данным нет. \n",
    "\n",
    "Альтернативная гипотеза: статистическую значимость различий в среднем количестве заказов между группами теста по очищенным данным есть."
   ]
  },
  {
   "cell_type": "code",
   "execution_count": 38,
   "metadata": {},
   "outputs": [],
   "source": [
    "sampleAFiltered = pd.concat(\n",
    "    [\n",
    "        ordersByUsersA[\n",
    "            np.logical_not(ordersByUsersA['userId'].isin(abnormalUsers))\n",
    "        ]['orders'],\n",
    "        pd.Series(\n",
    "            0,\n",
    "            index=np.arange(\n",
    "                data['visitorsPerDateA'].sum() - len(ordersByUsersA['orders'])\n",
    "            ),\n",
    "            name='orders',\n",
    "        ),\n",
    "    ],\n",
    "    axis=0,\n",
    ")\n",
    "\n",
    "sampleBFiltered = pd.concat(\n",
    "    [\n",
    "        ordersByUsersB[\n",
    "            np.logical_not(ordersByUsersB['userId'].isin(abnormalUsers))\n",
    "        ]['orders'],\n",
    "        pd.Series(\n",
    "            0,\n",
    "            index=np.arange(\n",
    "                data['visitorsPerDateB'].sum() - len(ordersByUsersB['orders'])\n",
    "            ),\n",
    "            name='orders',\n",
    "        ),\n",
    "    ],\n",
    "    axis=0,\n",
    ")"
   ]
  },
  {
   "cell_type": "code",
   "execution_count": 39,
   "metadata": {},
   "outputs": [
    {
     "name": "stdout",
     "output_type": "stream",
     "text": [
      "0.010\n",
      "0.166\n"
     ]
    }
   ],
   "source": [
    "print('{0:.3f}'.format(stats.mannwhitneyu(sampleAFiltered, sampleBFiltered)[1]))\n",
    "print('{0:.3f}'.format(sampleBFiltered.mean()/sampleAFiltered.mean()-1))"
   ]
  },
  {
   "cell_type": "markdown",
   "metadata": {},
   "source": [
    "Результаты по среднему количеству заказов практически не изменились. Произошло ли что-нибудь с результатами по среднему чеку?"
   ]
  },
  {
   "cell_type": "markdown",
   "metadata": {},
   "source": [
    "Нулевая гипотеза: различий в среднем чеке между группами нет. Альтернативная гипотеза: различия в среднем чеке между группами есть."
   ]
  },
  {
   "cell_type": "code",
   "execution_count": 40,
   "metadata": {},
   "outputs": [
    {
     "name": "stdout",
     "output_type": "stream",
     "text": [
      "0.612\n",
      "0.069\n"
     ]
    }
   ],
   "source": [
    "print(\n",
    "    '{0:.3f}'.format(\n",
    "        stats.mannwhitneyu(\n",
    "            orders[\n",
    "                np.logical_and(\n",
    "                    orders['group'] == 'A',\n",
    "                    np.logical_not(orders['visitor_id'].isin(abnormalUsers)),\n",
    "                )\n",
    "            ]['revenue'],\n",
    "            orders[\n",
    "                np.logical_and(\n",
    "                    orders['group'] == 'B',\n",
    "                    np.logical_not(orders['visitor_id'].isin(abnormalUsers)),\n",
    "                )\n",
    "            ]['revenue'],\n",
    "        )[1]\n",
    "    )\n",
    ")\n",
    "\n",
    "print(\n",
    "    \"{0:.3f}\".format(\n",
    "        orders[\n",
    "            np.logical_and(\n",
    "                orders['group'] == 'B',\n",
    "                np.logical_not(orders['visitor_id'].isin(abnormalUsers)),\n",
    "            )\n",
    "        ]['revenue'].mean()\n",
    "        / orders[\n",
    "            np.logical_and(\n",
    "                orders['group'] == 'A',\n",
    "                np.logical_not(orders['visitor_id'].isin(abnormalUsers)),\n",
    "            )\n",
    "        ]['revenue'].mean()\n",
    "        - 1\n",
    "    )\n",
    ")"
   ]
  },
  {
   "cell_type": "markdown",
   "metadata": {},
   "source": [
    "P-value уменьшился, но и разница между сегментами сократилась с 25% до 6%. Результаты по среднему чеку практически не изменились."
   ]
  },
  {
   "cell_type": "markdown",
   "metadata": {},
   "source": [
    "## Вывод:\n",
    "- Есть статистически значимого различия по среднему количеству заказов между группами ни по «сырым», ни по данным после фильтрации аномалий;\n",
    "- Нет статистически значимого различия по среднему чеку между группами ни по «сырым», ни по данным после фильтрации аномалий;\n",
    "- График различия среднего количества заказов между группами сообщает, что результаты группы B лучше группы A и группа B приносит больше выручки.\n",
    "- График относительного различия кумулятивных конверсий на посетителя группы B к группе A колеблится и сейчас лучше на больше 10%.\n",
    "- Исходя из обнаруженных фактов, тест следует остановить и признать победу группы B."
   ]
  },
  {
   "cell_type": "code",
   "execution_count": null,
   "metadata": {},
   "outputs": [],
   "source": []
  }
 ],
 "metadata": {
  "ExecuteTimeLog": [
   {
    "duration": 376,
    "start_time": "2023-02-20T10:11:03.845Z"
   },
   {
    "duration": 59,
    "start_time": "2023-02-20T10:11:04.675Z"
   },
   {
    "duration": 7,
    "start_time": "2023-02-20T10:11:21.315Z"
   },
   {
    "duration": 93,
    "start_time": "2023-02-20T10:11:27.232Z"
   },
   {
    "duration": 10,
    "start_time": "2023-02-20T10:12:56.931Z"
   },
   {
    "duration": 6,
    "start_time": "2023-02-20T10:13:32.451Z"
   },
   {
    "duration": 3,
    "start_time": "2023-02-20T10:14:15.772Z"
   },
   {
    "duration": 5,
    "start_time": "2023-02-20T10:14:33.538Z"
   },
   {
    "duration": 3,
    "start_time": "2023-02-20T10:16:00.051Z"
   },
   {
    "duration": 118,
    "start_time": "2023-02-20T10:17:04.187Z"
   },
   {
    "duration": 5,
    "start_time": "2023-02-20T10:18:23.591Z"
   },
   {
    "duration": 9,
    "start_time": "2023-02-20T10:18:35.445Z"
   },
   {
    "duration": 11,
    "start_time": "2023-02-20T10:18:56.506Z"
   },
   {
    "duration": 5,
    "start_time": "2023-02-20T10:26:05.437Z"
   },
   {
    "duration": 14,
    "start_time": "2023-02-20T10:26:06.391Z"
   },
   {
    "duration": 16,
    "start_time": "2023-02-20T10:26:18.491Z"
   },
   {
    "duration": 15,
    "start_time": "2023-02-20T10:26:24.849Z"
   },
   {
    "duration": 12,
    "start_time": "2023-02-20T10:26:25.757Z"
   },
   {
    "duration": 3,
    "start_time": "2023-02-20T10:26:33.645Z"
   },
   {
    "duration": 12,
    "start_time": "2023-02-20T10:26:42.858Z"
   },
   {
    "duration": 6,
    "start_time": "2023-02-20T10:28:25.241Z"
   },
   {
    "duration": 5,
    "start_time": "2023-02-20T10:29:45.280Z"
   },
   {
    "duration": 80,
    "start_time": "2023-02-20T10:31:28.413Z"
   },
   {
    "duration": 34,
    "start_time": "2023-02-20T10:31:43.789Z"
   },
   {
    "duration": 5,
    "start_time": "2023-02-20T10:34:46.305Z"
   },
   {
    "duration": 10,
    "start_time": "2023-02-20T10:35:00.184Z"
   },
   {
    "duration": 8,
    "start_time": "2023-02-20T10:35:27.031Z"
   },
   {
    "duration": 4,
    "start_time": "2023-02-20T10:35:37.793Z"
   },
   {
    "duration": 7,
    "start_time": "2023-02-20T10:35:53.341Z"
   },
   {
    "duration": 5,
    "start_time": "2023-02-20T10:35:59.795Z"
   },
   {
    "duration": 4,
    "start_time": "2023-02-20T10:38:06.506Z"
   },
   {
    "duration": 6,
    "start_time": "2023-02-20T10:38:19.578Z"
   },
   {
    "duration": 3,
    "start_time": "2023-02-20T10:38:52.094Z"
   },
   {
    "duration": 7,
    "start_time": "2023-02-20T10:38:53.260Z"
   },
   {
    "duration": 4,
    "start_time": "2023-02-20T10:42:05.024Z"
   },
   {
    "duration": 11,
    "start_time": "2023-02-20T10:42:06.464Z"
   },
   {
    "duration": 57,
    "start_time": "2023-02-20T10:42:14.112Z"
   },
   {
    "duration": 4,
    "start_time": "2023-02-20T10:42:15.476Z"
   },
   {
    "duration": 7,
    "start_time": "2023-02-20T10:42:25.195Z"
   },
   {
    "duration": 6,
    "start_time": "2023-02-20T10:55:04.972Z"
   },
   {
    "duration": 6,
    "start_time": "2023-02-20T10:55:57.718Z"
   },
   {
    "duration": 8,
    "start_time": "2023-02-20T11:03:50.582Z"
   },
   {
    "duration": 36,
    "start_time": "2023-02-20T11:07:27.754Z"
   },
   {
    "duration": 445,
    "start_time": "2023-02-21T08:42:13.924Z"
   },
   {
    "duration": 92,
    "start_time": "2023-02-21T08:42:14.371Z"
   },
   {
    "duration": 9,
    "start_time": "2023-02-21T08:42:14.465Z"
   },
   {
    "duration": 43,
    "start_time": "2023-02-21T08:42:14.476Z"
   },
   {
    "duration": 15,
    "start_time": "2023-02-21T08:42:14.522Z"
   },
   {
    "duration": 106,
    "start_time": "2023-02-21T08:42:14.538Z"
   },
   {
    "duration": 4,
    "start_time": "2023-02-21T08:42:14.646Z"
   },
   {
    "duration": 19,
    "start_time": "2023-02-21T08:42:14.652Z"
   },
   {
    "duration": 26,
    "start_time": "2023-02-21T08:42:14.673Z"
   },
   {
    "duration": 30,
    "start_time": "2023-02-21T08:42:14.701Z"
   },
   {
    "duration": 88,
    "start_time": "2023-02-21T08:42:14.733Z"
   },
   {
    "duration": 4,
    "start_time": "2023-02-21T08:42:14.823Z"
   },
   {
    "duration": 13,
    "start_time": "2023-02-21T08:42:14.828Z"
   },
   {
    "duration": 20,
    "start_time": "2023-02-21T08:42:14.843Z"
   },
   {
    "duration": 26,
    "start_time": "2023-02-21T08:42:14.864Z"
   },
   {
    "duration": 18,
    "start_time": "2023-02-21T08:42:14.892Z"
   },
   {
    "duration": 26,
    "start_time": "2023-02-21T08:42:14.913Z"
   },
   {
    "duration": 78,
    "start_time": "2023-02-21T08:42:14.940Z"
   },
   {
    "duration": 6,
    "start_time": "2023-02-21T08:43:55.297Z"
   },
   {
    "duration": 5,
    "start_time": "2023-02-21T09:00:43.415Z"
   },
   {
    "duration": 6,
    "start_time": "2023-02-21T09:01:01.768Z"
   },
   {
    "duration": 7,
    "start_time": "2023-02-21T09:02:57.044Z"
   },
   {
    "duration": 6,
    "start_time": "2023-02-21T09:07:43.395Z"
   },
   {
    "duration": 5,
    "start_time": "2023-02-21T09:08:49.741Z"
   },
   {
    "duration": 7,
    "start_time": "2023-02-21T09:08:50.808Z"
   },
   {
    "duration": 5,
    "start_time": "2023-02-21T09:09:15.035Z"
   },
   {
    "duration": 6,
    "start_time": "2023-02-21T09:09:15.837Z"
   },
   {
    "duration": 360,
    "start_time": "2023-02-21T15:23:32.488Z"
   },
   {
    "duration": 93,
    "start_time": "2023-02-21T15:23:32.850Z"
   },
   {
    "duration": 8,
    "start_time": "2023-02-21T15:23:32.945Z"
   },
   {
    "duration": 16,
    "start_time": "2023-02-21T15:23:32.954Z"
   },
   {
    "duration": 6,
    "start_time": "2023-02-21T15:23:32.971Z"
   },
   {
    "duration": 104,
    "start_time": "2023-02-21T15:23:32.978Z"
   },
   {
    "duration": 3,
    "start_time": "2023-02-21T15:23:33.084Z"
   },
   {
    "duration": 10,
    "start_time": "2023-02-21T15:23:33.088Z"
   },
   {
    "duration": 12,
    "start_time": "2023-02-21T15:23:33.100Z"
   },
   {
    "duration": 9,
    "start_time": "2023-02-21T15:23:33.114Z"
   },
   {
    "duration": 75,
    "start_time": "2023-02-21T15:23:33.124Z"
   },
   {
    "duration": 3,
    "start_time": "2023-02-21T15:23:33.201Z"
   },
   {
    "duration": 8,
    "start_time": "2023-02-21T15:23:33.205Z"
   },
   {
    "duration": 11,
    "start_time": "2023-02-21T15:23:33.215Z"
   },
   {
    "duration": 27,
    "start_time": "2023-02-21T15:23:33.227Z"
   },
   {
    "duration": 17,
    "start_time": "2023-02-21T15:23:33.256Z"
   },
   {
    "duration": 29,
    "start_time": "2023-02-21T15:23:33.275Z"
   },
   {
    "duration": 7,
    "start_time": "2023-02-21T15:23:33.305Z"
   },
   {
    "duration": 8,
    "start_time": "2023-02-21T15:23:33.313Z"
   },
   {
    "duration": 9,
    "start_time": "2023-02-21T15:37:14.129Z"
   },
   {
    "duration": 83,
    "start_time": "2023-02-21T15:39:04.149Z"
   },
   {
    "duration": 18,
    "start_time": "2023-02-21T15:41:37.367Z"
   },
   {
    "duration": 2,
    "start_time": "2023-02-21T15:42:17.201Z"
   },
   {
    "duration": 23,
    "start_time": "2023-02-21T15:42:21.686Z"
   },
   {
    "duration": 22,
    "start_time": "2023-02-21T15:46:04.482Z"
   },
   {
    "duration": 251,
    "start_time": "2023-02-21T15:46:21.579Z"
   },
   {
    "duration": 591,
    "start_time": "2023-02-21T15:47:03.919Z"
   },
   {
    "duration": 156,
    "start_time": "2023-02-21T15:49:28.597Z"
   },
   {
    "duration": 295,
    "start_time": "2023-02-21T15:55:09.869Z"
   },
   {
    "duration": 226,
    "start_time": "2023-02-21T16:06:30.974Z"
   },
   {
    "duration": 291,
    "start_time": "2023-02-21T16:08:44.187Z"
   },
   {
    "duration": 306,
    "start_time": "2023-02-21T16:08:58.153Z"
   },
   {
    "duration": 273,
    "start_time": "2023-02-21T16:11:01.283Z"
   },
   {
    "duration": 874,
    "start_time": "2023-02-22T09:42:29.713Z"
   },
   {
    "duration": 112,
    "start_time": "2023-02-22T09:42:30.590Z"
   },
   {
    "duration": 9,
    "start_time": "2023-02-22T09:42:30.704Z"
   },
   {
    "duration": 14,
    "start_time": "2023-02-22T09:42:30.715Z"
   },
   {
    "duration": 47,
    "start_time": "2023-02-22T09:42:30.733Z"
   },
   {
    "duration": 141,
    "start_time": "2023-02-22T09:42:30.782Z"
   },
   {
    "duration": 3,
    "start_time": "2023-02-22T09:42:30.925Z"
   },
   {
    "duration": 47,
    "start_time": "2023-02-22T09:42:30.930Z"
   },
   {
    "duration": 30,
    "start_time": "2023-02-22T09:42:30.979Z"
   },
   {
    "duration": 36,
    "start_time": "2023-02-22T09:42:31.011Z"
   },
   {
    "duration": 129,
    "start_time": "2023-02-22T09:42:31.049Z"
   },
   {
    "duration": 5,
    "start_time": "2023-02-22T09:42:31.180Z"
   },
   {
    "duration": 35,
    "start_time": "2023-02-22T09:42:31.187Z"
   },
   {
    "duration": 73,
    "start_time": "2023-02-22T09:42:31.225Z"
   },
   {
    "duration": 46,
    "start_time": "2023-02-22T09:42:31.300Z"
   },
   {
    "duration": 60,
    "start_time": "2023-02-22T09:42:31.348Z"
   },
   {
    "duration": 44,
    "start_time": "2023-02-22T09:42:31.410Z"
   },
   {
    "duration": 54,
    "start_time": "2023-02-22T09:42:31.456Z"
   },
   {
    "duration": 41,
    "start_time": "2023-02-22T09:42:31.512Z"
   },
   {
    "duration": 365,
    "start_time": "2023-02-22T09:42:31.555Z"
   },
   {
    "duration": 334,
    "start_time": "2023-02-22T09:42:31.923Z"
   },
   {
    "duration": 215,
    "start_time": "2023-02-22T09:42:32.259Z"
   },
   {
    "duration": 314,
    "start_time": "2023-02-22T09:42:32.476Z"
   },
   {
    "duration": 271,
    "start_time": "2023-02-22T09:42:32.791Z"
   },
   {
    "duration": 319,
    "start_time": "2023-02-22T09:42:33.068Z"
   },
   {
    "duration": 145,
    "start_time": "2023-02-22T09:42:51.546Z"
   },
   {
    "duration": 10,
    "start_time": "2023-02-22T09:47:01.492Z"
   },
   {
    "duration": 309,
    "start_time": "2023-02-22T09:47:57.474Z"
   },
   {
    "duration": 11,
    "start_time": "2023-02-22T09:48:03.888Z"
   },
   {
    "duration": 339,
    "start_time": "2023-02-22T09:53:29.070Z"
   },
   {
    "duration": 9,
    "start_time": "2023-02-22T09:53:39.019Z"
   },
   {
    "duration": 125,
    "start_time": "2023-02-22T09:55:27.893Z"
   },
   {
    "duration": 135,
    "start_time": "2023-02-22T09:56:17.673Z"
   },
   {
    "duration": 8,
    "start_time": "2023-02-22T09:57:03.239Z"
   },
   {
    "duration": 139,
    "start_time": "2023-02-22T10:03:16.273Z"
   },
   {
    "duration": 185,
    "start_time": "2023-02-22T10:05:49.291Z"
   },
   {
    "duration": 159,
    "start_time": "2023-02-22T10:06:27.577Z"
   },
   {
    "duration": 153,
    "start_time": "2023-02-22T10:06:37.786Z"
   },
   {
    "duration": 162,
    "start_time": "2023-02-22T10:06:46.450Z"
   },
   {
    "duration": 140,
    "start_time": "2023-02-22T10:09:08.687Z"
   },
   {
    "duration": 8,
    "start_time": "2023-02-22T10:11:29.655Z"
   },
   {
    "duration": 190,
    "start_time": "2023-02-22T11:13:01.779Z"
   },
   {
    "duration": 112,
    "start_time": "2023-02-22T11:16:16.778Z"
   },
   {
    "duration": 107,
    "start_time": "2023-02-22T11:17:18.957Z"
   },
   {
    "duration": 256,
    "start_time": "2023-02-22T11:20:58.581Z"
   },
   {
    "duration": 20,
    "start_time": "2023-02-22T11:28:40.084Z"
   },
   {
    "duration": 279,
    "start_time": "2023-02-22T11:29:26.090Z"
   },
   {
    "duration": 408,
    "start_time": "2023-02-22T11:30:41.563Z"
   },
   {
    "duration": 298,
    "start_time": "2023-02-22T11:30:46.401Z"
   },
   {
    "duration": 14,
    "start_time": "2023-02-22T11:36:40.521Z"
   },
   {
    "duration": 10,
    "start_time": "2023-02-22T11:41:31.008Z"
   },
   {
    "duration": 5,
    "start_time": "2023-02-22T11:47:02.179Z"
   },
   {
    "duration": 957,
    "start_time": "2023-02-22T11:51:56.739Z"
   },
   {
    "duration": 9,
    "start_time": "2023-02-22T11:52:26.717Z"
   },
   {
    "duration": 8,
    "start_time": "2023-02-22T11:53:04.610Z"
   },
   {
    "duration": 721,
    "start_time": "2023-02-22T11:54:42.586Z"
   },
   {
    "duration": 9,
    "start_time": "2023-02-22T11:55:00.114Z"
   },
   {
    "duration": 24,
    "start_time": "2023-02-22T11:55:28.374Z"
   },
   {
    "duration": 957,
    "start_time": "2023-02-22T11:56:27.481Z"
   },
   {
    "duration": 20,
    "start_time": "2023-02-22T11:57:03.941Z"
   },
   {
    "duration": 1063,
    "start_time": "2023-02-22T15:31:32.069Z"
   },
   {
    "duration": 38,
    "start_time": "2023-02-22T15:31:33.134Z"
   },
   {
    "duration": 6,
    "start_time": "2023-02-22T15:31:33.173Z"
   },
   {
    "duration": 7,
    "start_time": "2023-02-22T15:31:33.180Z"
   },
   {
    "duration": 8,
    "start_time": "2023-02-22T15:31:33.189Z"
   },
   {
    "duration": 52,
    "start_time": "2023-02-22T15:31:33.198Z"
   },
   {
    "duration": 3,
    "start_time": "2023-02-22T15:31:33.251Z"
   },
   {
    "duration": 12,
    "start_time": "2023-02-22T15:31:33.255Z"
   },
   {
    "duration": 7,
    "start_time": "2023-02-22T15:31:33.268Z"
   },
   {
    "duration": 5,
    "start_time": "2023-02-22T15:31:33.277Z"
   },
   {
    "duration": 25,
    "start_time": "2023-02-22T15:31:33.284Z"
   },
   {
    "duration": 3,
    "start_time": "2023-02-22T15:31:33.311Z"
   },
   {
    "duration": 8,
    "start_time": "2023-02-22T15:31:33.315Z"
   },
   {
    "duration": 7,
    "start_time": "2023-02-22T15:31:33.324Z"
   },
   {
    "duration": 5,
    "start_time": "2023-02-22T15:31:33.332Z"
   },
   {
    "duration": 6,
    "start_time": "2023-02-22T15:31:33.338Z"
   },
   {
    "duration": 8,
    "start_time": "2023-02-22T15:31:33.346Z"
   },
   {
    "duration": 8,
    "start_time": "2023-02-22T15:31:33.356Z"
   },
   {
    "duration": 6,
    "start_time": "2023-02-22T15:31:33.365Z"
   },
   {
    "duration": 267,
    "start_time": "2023-02-22T15:31:33.391Z"
   },
   {
    "duration": 256,
    "start_time": "2023-02-22T15:31:33.659Z"
   },
   {
    "duration": 166,
    "start_time": "2023-02-22T15:31:33.916Z"
   },
   {
    "duration": 266,
    "start_time": "2023-02-22T15:31:34.091Z"
   },
   {
    "duration": 186,
    "start_time": "2023-02-22T15:31:34.359Z"
   },
   {
    "duration": 282,
    "start_time": "2023-02-22T15:31:34.547Z"
   },
   {
    "duration": 8,
    "start_time": "2023-02-22T15:31:34.831Z"
   },
   {
    "duration": 154,
    "start_time": "2023-02-22T15:31:34.841Z"
   },
   {
    "duration": 127,
    "start_time": "2023-02-22T15:31:34.998Z"
   },
   {
    "duration": 4,
    "start_time": "2023-02-22T15:31:35.127Z"
   },
   {
    "duration": 151,
    "start_time": "2023-02-22T15:31:35.133Z"
   },
   {
    "duration": 183,
    "start_time": "2023-02-22T15:31:35.286Z"
   },
   {
    "duration": 4,
    "start_time": "2023-02-22T15:31:35.470Z"
   },
   {
    "duration": 17,
    "start_time": "2023-02-22T15:31:35.475Z"
   },
   {
    "duration": 201,
    "start_time": "2023-02-22T15:31:35.493Z"
   },
   {
    "duration": 286,
    "start_time": "2023-02-22T15:31:35.696Z"
   },
   {
    "duration": 15,
    "start_time": "2023-02-22T15:31:35.983Z"
   },
   {
    "duration": 10,
    "start_time": "2023-02-22T15:31:35.999Z"
   },
   {
    "duration": 24,
    "start_time": "2023-02-22T15:31:36.011Z"
   },
   {
    "duration": 28,
    "start_time": "2023-02-22T15:31:36.036Z"
   },
   {
    "duration": 13,
    "start_time": "2023-02-22T15:31:36.065Z"
   },
   {
    "duration": 50,
    "start_time": "2023-02-22T16:08:23.249Z"
   },
   {
    "duration": 44,
    "start_time": "2023-02-22T16:08:29.781Z"
   },
   {
    "duration": 1376,
    "start_time": "2023-02-22T16:08:37.238Z"
   },
   {
    "duration": 90,
    "start_time": "2023-02-22T16:08:38.616Z"
   },
   {
    "duration": 6,
    "start_time": "2023-02-22T16:08:38.707Z"
   },
   {
    "duration": 7,
    "start_time": "2023-02-22T16:08:38.715Z"
   },
   {
    "duration": 13,
    "start_time": "2023-02-22T16:08:38.724Z"
   },
   {
    "duration": 104,
    "start_time": "2023-02-22T16:08:38.739Z"
   },
   {
    "duration": 3,
    "start_time": "2023-02-22T16:08:38.845Z"
   },
   {
    "duration": 20,
    "start_time": "2023-02-22T16:08:38.849Z"
   },
   {
    "duration": 18,
    "start_time": "2023-02-22T16:08:38.870Z"
   },
   {
    "duration": 14,
    "start_time": "2023-02-22T16:08:38.889Z"
   },
   {
    "duration": 71,
    "start_time": "2023-02-22T16:08:38.905Z"
   },
   {
    "duration": 4,
    "start_time": "2023-02-22T16:08:38.977Z"
   },
   {
    "duration": 8,
    "start_time": "2023-02-22T16:08:38.982Z"
   },
   {
    "duration": 6,
    "start_time": "2023-02-22T16:08:38.992Z"
   },
   {
    "duration": 6,
    "start_time": "2023-02-22T16:08:39.000Z"
   },
   {
    "duration": 6,
    "start_time": "2023-02-22T16:08:39.008Z"
   },
   {
    "duration": 14,
    "start_time": "2023-02-22T16:08:39.016Z"
   },
   {
    "duration": 102,
    "start_time": "2023-02-22T16:08:39.034Z"
   },
   {
    "duration": 0,
    "start_time": "2023-02-22T16:08:39.138Z"
   },
   {
    "duration": 0,
    "start_time": "2023-02-22T16:08:39.139Z"
   },
   {
    "duration": 0,
    "start_time": "2023-02-22T16:08:39.145Z"
   },
   {
    "duration": 0,
    "start_time": "2023-02-22T16:08:39.146Z"
   },
   {
    "duration": 0,
    "start_time": "2023-02-22T16:08:39.147Z"
   },
   {
    "duration": 0,
    "start_time": "2023-02-22T16:08:39.148Z"
   },
   {
    "duration": 0,
    "start_time": "2023-02-22T16:08:39.149Z"
   },
   {
    "duration": 0,
    "start_time": "2023-02-22T16:08:39.150Z"
   },
   {
    "duration": 0,
    "start_time": "2023-02-22T16:08:39.151Z"
   },
   {
    "duration": 0,
    "start_time": "2023-02-22T16:08:39.152Z"
   },
   {
    "duration": 0,
    "start_time": "2023-02-22T16:08:39.154Z"
   },
   {
    "duration": 0,
    "start_time": "2023-02-22T16:08:39.155Z"
   },
   {
    "duration": 0,
    "start_time": "2023-02-22T16:08:39.156Z"
   },
   {
    "duration": 0,
    "start_time": "2023-02-22T16:08:39.157Z"
   },
   {
    "duration": 0,
    "start_time": "2023-02-22T16:08:39.159Z"
   },
   {
    "duration": 0,
    "start_time": "2023-02-22T16:08:39.160Z"
   },
   {
    "duration": 0,
    "start_time": "2023-02-22T16:08:39.161Z"
   },
   {
    "duration": 0,
    "start_time": "2023-02-22T16:08:39.162Z"
   },
   {
    "duration": 0,
    "start_time": "2023-02-22T16:08:39.163Z"
   },
   {
    "duration": 0,
    "start_time": "2023-02-22T16:08:39.164Z"
   },
   {
    "duration": 0,
    "start_time": "2023-02-22T16:08:39.165Z"
   },
   {
    "duration": 0,
    "start_time": "2023-02-22T16:08:39.166Z"
   },
   {
    "duration": 11,
    "start_time": "2023-02-22T16:15:26.874Z"
   },
   {
    "duration": 1098,
    "start_time": "2023-02-22T16:15:37.316Z"
   },
   {
    "duration": 39,
    "start_time": "2023-02-22T16:15:38.416Z"
   },
   {
    "duration": 7,
    "start_time": "2023-02-22T16:15:38.457Z"
   },
   {
    "duration": 18,
    "start_time": "2023-02-22T16:15:38.466Z"
   },
   {
    "duration": 9,
    "start_time": "2023-02-22T16:15:38.486Z"
   },
   {
    "duration": 58,
    "start_time": "2023-02-22T16:15:38.496Z"
   },
   {
    "duration": 3,
    "start_time": "2023-02-22T16:15:38.556Z"
   },
   {
    "duration": 13,
    "start_time": "2023-02-22T16:15:38.560Z"
   },
   {
    "duration": 9,
    "start_time": "2023-02-22T16:15:38.575Z"
   },
   {
    "duration": 14,
    "start_time": "2023-02-22T16:15:38.587Z"
   },
   {
    "duration": 39,
    "start_time": "2023-02-22T16:15:38.602Z"
   },
   {
    "duration": 4,
    "start_time": "2023-02-22T16:15:38.643Z"
   },
   {
    "duration": 12,
    "start_time": "2023-02-22T16:15:38.649Z"
   },
   {
    "duration": 15,
    "start_time": "2023-02-22T16:15:38.662Z"
   },
   {
    "duration": 8,
    "start_time": "2023-02-22T16:15:38.679Z"
   },
   {
    "duration": 8,
    "start_time": "2023-02-22T16:15:38.689Z"
   },
   {
    "duration": 14,
    "start_time": "2023-02-22T16:15:38.699Z"
   },
   {
    "duration": 114,
    "start_time": "2023-02-22T16:15:38.715Z"
   },
   {
    "duration": 0,
    "start_time": "2023-02-22T16:15:38.832Z"
   },
   {
    "duration": 0,
    "start_time": "2023-02-22T16:15:38.833Z"
   },
   {
    "duration": 0,
    "start_time": "2023-02-22T16:15:38.834Z"
   },
   {
    "duration": 0,
    "start_time": "2023-02-22T16:15:38.845Z"
   },
   {
    "duration": 0,
    "start_time": "2023-02-22T16:15:38.847Z"
   },
   {
    "duration": 0,
    "start_time": "2023-02-22T16:15:38.849Z"
   },
   {
    "duration": 0,
    "start_time": "2023-02-22T16:15:38.850Z"
   },
   {
    "duration": 0,
    "start_time": "2023-02-22T16:15:38.852Z"
   },
   {
    "duration": 0,
    "start_time": "2023-02-22T16:15:38.854Z"
   },
   {
    "duration": 0,
    "start_time": "2023-02-22T16:15:38.855Z"
   },
   {
    "duration": 0,
    "start_time": "2023-02-22T16:15:38.856Z"
   },
   {
    "duration": 0,
    "start_time": "2023-02-22T16:15:38.858Z"
   },
   {
    "duration": 0,
    "start_time": "2023-02-22T16:15:38.860Z"
   },
   {
    "duration": 0,
    "start_time": "2023-02-22T16:15:38.861Z"
   },
   {
    "duration": 0,
    "start_time": "2023-02-22T16:15:38.862Z"
   },
   {
    "duration": 0,
    "start_time": "2023-02-22T16:15:38.864Z"
   },
   {
    "duration": 0,
    "start_time": "2023-02-22T16:15:38.865Z"
   },
   {
    "duration": 0,
    "start_time": "2023-02-22T16:15:38.867Z"
   },
   {
    "duration": 0,
    "start_time": "2023-02-22T16:15:38.868Z"
   },
   {
    "duration": 0,
    "start_time": "2023-02-22T16:15:38.870Z"
   },
   {
    "duration": 0,
    "start_time": "2023-02-22T16:15:38.871Z"
   },
   {
    "duration": 0,
    "start_time": "2023-02-22T16:15:38.873Z"
   },
   {
    "duration": 11,
    "start_time": "2023-02-22T16:19:53.249Z"
   },
   {
    "duration": 1209,
    "start_time": "2023-02-23T08:50:09.253Z"
   },
   {
    "duration": 97,
    "start_time": "2023-02-23T08:50:10.464Z"
   },
   {
    "duration": 7,
    "start_time": "2023-02-23T08:50:10.562Z"
   },
   {
    "duration": 10,
    "start_time": "2023-02-23T08:50:10.571Z"
   },
   {
    "duration": 5,
    "start_time": "2023-02-23T08:50:10.583Z"
   },
   {
    "duration": 100,
    "start_time": "2023-02-23T08:50:10.590Z"
   },
   {
    "duration": 3,
    "start_time": "2023-02-23T08:50:10.692Z"
   },
   {
    "duration": 11,
    "start_time": "2023-02-23T08:50:10.696Z"
   },
   {
    "duration": 14,
    "start_time": "2023-02-23T08:50:10.708Z"
   },
   {
    "duration": 5,
    "start_time": "2023-02-23T08:50:10.725Z"
   },
   {
    "duration": 71,
    "start_time": "2023-02-23T08:50:10.731Z"
   },
   {
    "duration": 4,
    "start_time": "2023-02-23T08:50:10.803Z"
   },
   {
    "duration": 9,
    "start_time": "2023-02-23T08:50:10.808Z"
   },
   {
    "duration": 7,
    "start_time": "2023-02-23T08:50:10.819Z"
   },
   {
    "duration": 7,
    "start_time": "2023-02-23T08:50:10.827Z"
   },
   {
    "duration": 15,
    "start_time": "2023-02-23T08:50:10.835Z"
   },
   {
    "duration": 19,
    "start_time": "2023-02-23T08:50:10.852Z"
   },
   {
    "duration": 98,
    "start_time": "2023-02-23T08:50:10.873Z"
   },
   {
    "duration": 0,
    "start_time": "2023-02-23T08:50:10.973Z"
   },
   {
    "duration": 0,
    "start_time": "2023-02-23T08:50:10.974Z"
   },
   {
    "duration": 0,
    "start_time": "2023-02-23T08:50:10.975Z"
   },
   {
    "duration": 0,
    "start_time": "2023-02-23T08:50:10.976Z"
   },
   {
    "duration": 0,
    "start_time": "2023-02-23T08:50:10.977Z"
   },
   {
    "duration": 0,
    "start_time": "2023-02-23T08:50:10.978Z"
   },
   {
    "duration": 0,
    "start_time": "2023-02-23T08:50:10.979Z"
   },
   {
    "duration": 0,
    "start_time": "2023-02-23T08:50:10.980Z"
   },
   {
    "duration": 0,
    "start_time": "2023-02-23T08:50:10.981Z"
   },
   {
    "duration": 0,
    "start_time": "2023-02-23T08:50:10.982Z"
   },
   {
    "duration": 0,
    "start_time": "2023-02-23T08:50:10.982Z"
   },
   {
    "duration": 0,
    "start_time": "2023-02-23T08:50:10.983Z"
   },
   {
    "duration": 0,
    "start_time": "2023-02-23T08:50:10.984Z"
   },
   {
    "duration": 0,
    "start_time": "2023-02-23T08:50:10.985Z"
   },
   {
    "duration": 0,
    "start_time": "2023-02-23T08:50:11.003Z"
   },
   {
    "duration": 0,
    "start_time": "2023-02-23T08:50:11.004Z"
   },
   {
    "duration": 0,
    "start_time": "2023-02-23T08:50:11.005Z"
   },
   {
    "duration": 0,
    "start_time": "2023-02-23T08:50:11.006Z"
   },
   {
    "duration": 0,
    "start_time": "2023-02-23T08:50:11.008Z"
   },
   {
    "duration": 0,
    "start_time": "2023-02-23T08:50:11.009Z"
   },
   {
    "duration": 0,
    "start_time": "2023-02-23T08:50:11.010Z"
   },
   {
    "duration": 0,
    "start_time": "2023-02-23T08:50:11.011Z"
   },
   {
    "duration": 1037,
    "start_time": "2023-02-23T08:53:31.126Z"
   },
   {
    "duration": 38,
    "start_time": "2023-02-23T08:53:32.165Z"
   },
   {
    "duration": 6,
    "start_time": "2023-02-23T08:53:32.205Z"
   },
   {
    "duration": 24,
    "start_time": "2023-02-23T08:53:32.213Z"
   },
   {
    "duration": 16,
    "start_time": "2023-02-23T08:53:32.240Z"
   },
   {
    "duration": 54,
    "start_time": "2023-02-23T08:53:32.257Z"
   },
   {
    "duration": 4,
    "start_time": "2023-02-23T08:53:32.312Z"
   },
   {
    "duration": 18,
    "start_time": "2023-02-23T08:53:32.317Z"
   },
   {
    "duration": 14,
    "start_time": "2023-02-23T08:53:32.337Z"
   },
   {
    "duration": 16,
    "start_time": "2023-02-23T08:53:32.353Z"
   },
   {
    "duration": 45,
    "start_time": "2023-02-23T08:53:32.370Z"
   },
   {
    "duration": 3,
    "start_time": "2023-02-23T08:53:32.417Z"
   },
   {
    "duration": 11,
    "start_time": "2023-02-23T08:53:32.422Z"
   },
   {
    "duration": 15,
    "start_time": "2023-02-23T08:53:32.435Z"
   },
   {
    "duration": 6,
    "start_time": "2023-02-23T08:53:32.451Z"
   },
   {
    "duration": 12,
    "start_time": "2023-02-23T08:53:32.459Z"
   },
   {
    "duration": 34,
    "start_time": "2023-02-23T08:53:32.472Z"
   },
   {
    "duration": 102,
    "start_time": "2023-02-23T08:53:32.508Z"
   },
   {
    "duration": 0,
    "start_time": "2023-02-23T08:53:32.611Z"
   },
   {
    "duration": 0,
    "start_time": "2023-02-23T08:53:32.613Z"
   },
   {
    "duration": 0,
    "start_time": "2023-02-23T08:53:32.613Z"
   },
   {
    "duration": 0,
    "start_time": "2023-02-23T08:53:32.615Z"
   },
   {
    "duration": 0,
    "start_time": "2023-02-23T08:53:32.616Z"
   },
   {
    "duration": 0,
    "start_time": "2023-02-23T08:53:32.617Z"
   },
   {
    "duration": 0,
    "start_time": "2023-02-23T08:53:32.618Z"
   },
   {
    "duration": 0,
    "start_time": "2023-02-23T08:53:32.619Z"
   },
   {
    "duration": 0,
    "start_time": "2023-02-23T08:53:32.620Z"
   },
   {
    "duration": 0,
    "start_time": "2023-02-23T08:53:32.621Z"
   },
   {
    "duration": 0,
    "start_time": "2023-02-23T08:53:32.622Z"
   },
   {
    "duration": 0,
    "start_time": "2023-02-23T08:53:32.623Z"
   },
   {
    "duration": 0,
    "start_time": "2023-02-23T08:53:32.624Z"
   },
   {
    "duration": 0,
    "start_time": "2023-02-23T08:53:32.625Z"
   },
   {
    "duration": 0,
    "start_time": "2023-02-23T08:53:32.626Z"
   },
   {
    "duration": 0,
    "start_time": "2023-02-23T08:53:32.627Z"
   },
   {
    "duration": 0,
    "start_time": "2023-02-23T08:53:32.628Z"
   },
   {
    "duration": 0,
    "start_time": "2023-02-23T08:53:32.629Z"
   },
   {
    "duration": 0,
    "start_time": "2023-02-23T08:53:32.630Z"
   },
   {
    "duration": 0,
    "start_time": "2023-02-23T08:53:32.631Z"
   },
   {
    "duration": 0,
    "start_time": "2023-02-23T08:53:32.632Z"
   },
   {
    "duration": 0,
    "start_time": "2023-02-23T08:53:32.633Z"
   },
   {
    "duration": 5,
    "start_time": "2023-02-23T08:53:53.979Z"
   },
   {
    "duration": 5,
    "start_time": "2023-02-23T08:53:55.061Z"
   },
   {
    "duration": 267,
    "start_time": "2023-02-23T08:53:58.815Z"
   },
   {
    "duration": 242,
    "start_time": "2023-02-23T08:54:00.555Z"
   },
   {
    "duration": 170,
    "start_time": "2023-02-23T08:54:03.420Z"
   },
   {
    "duration": 300,
    "start_time": "2023-02-23T08:54:06.615Z"
   },
   {
    "duration": 176,
    "start_time": "2023-02-23T08:54:56.868Z"
   },
   {
    "duration": 163,
    "start_time": "2023-02-23T08:55:04.256Z"
   },
   {
    "duration": 162,
    "start_time": "2023-02-23T08:55:39.956Z"
   },
   {
    "duration": 259,
    "start_time": "2023-02-23T08:55:51.535Z"
   },
   {
    "duration": 174,
    "start_time": "2023-02-23T08:56:00.912Z"
   },
   {
    "duration": 230,
    "start_time": "2023-02-23T08:56:12.269Z"
   },
   {
    "duration": 318,
    "start_time": "2023-02-23T08:56:21.773Z"
   },
   {
    "duration": 195,
    "start_time": "2023-02-23T08:57:50.221Z"
   },
   {
    "duration": 202,
    "start_time": "2023-02-23T08:58:18.590Z"
   },
   {
    "duration": 220,
    "start_time": "2023-02-23T08:59:06.721Z"
   },
   {
    "duration": 184,
    "start_time": "2023-02-23T11:46:13.697Z"
   },
   {
    "duration": 191,
    "start_time": "2023-02-23T11:47:10.796Z"
   },
   {
    "duration": 196,
    "start_time": "2023-02-23T11:47:22.448Z"
   },
   {
    "duration": 293,
    "start_time": "2023-02-23T11:48:18.924Z"
   },
   {
    "duration": 213,
    "start_time": "2023-02-23T11:49:02.927Z"
   },
   {
    "duration": 316,
    "start_time": "2023-02-23T11:50:08.653Z"
   },
   {
    "duration": 13,
    "start_time": "2023-02-23T11:50:31.491Z"
   },
   {
    "duration": 235,
    "start_time": "2023-02-23T11:50:32.345Z"
   },
   {
    "duration": 110,
    "start_time": "2023-02-23T11:50:33.821Z"
   },
   {
    "duration": 5,
    "start_time": "2023-02-23T11:50:35.273Z"
   },
   {
    "duration": 152,
    "start_time": "2023-02-23T11:50:38.433Z"
   },
   {
    "duration": 120,
    "start_time": "2023-02-23T11:50:41.873Z"
   },
   {
    "duration": 5,
    "start_time": "2023-02-23T11:50:45.823Z"
   },
   {
    "duration": 8,
    "start_time": "2023-02-23T11:50:51.772Z"
   },
   {
    "duration": 225,
    "start_time": "2023-02-23T11:54:47.538Z"
   },
   {
    "duration": 13,
    "start_time": "2023-02-23T11:55:33.130Z"
   },
   {
    "duration": 1009,
    "start_time": "2023-02-23T11:56:22.429Z"
   },
   {
    "duration": 36,
    "start_time": "2023-02-23T11:56:23.440Z"
   },
   {
    "duration": 7,
    "start_time": "2023-02-23T11:56:23.477Z"
   },
   {
    "duration": 13,
    "start_time": "2023-02-23T11:56:23.485Z"
   },
   {
    "duration": 4,
    "start_time": "2023-02-23T11:56:23.501Z"
   },
   {
    "duration": 46,
    "start_time": "2023-02-23T11:56:23.506Z"
   },
   {
    "duration": 3,
    "start_time": "2023-02-23T11:56:23.554Z"
   },
   {
    "duration": 9,
    "start_time": "2023-02-23T11:56:23.559Z"
   },
   {
    "duration": 8,
    "start_time": "2023-02-23T11:56:23.569Z"
   },
   {
    "duration": 6,
    "start_time": "2023-02-23T11:56:23.579Z"
   },
   {
    "duration": 25,
    "start_time": "2023-02-23T11:56:23.586Z"
   },
   {
    "duration": 4,
    "start_time": "2023-02-23T11:56:23.613Z"
   },
   {
    "duration": 14,
    "start_time": "2023-02-23T11:56:23.618Z"
   },
   {
    "duration": 6,
    "start_time": "2023-02-23T11:56:23.636Z"
   },
   {
    "duration": 7,
    "start_time": "2023-02-23T11:56:23.644Z"
   },
   {
    "duration": 8,
    "start_time": "2023-02-23T11:56:23.652Z"
   },
   {
    "duration": 13,
    "start_time": "2023-02-23T11:56:23.662Z"
   },
   {
    "duration": 9,
    "start_time": "2023-02-23T11:56:23.676Z"
   },
   {
    "duration": 23,
    "start_time": "2023-02-23T11:56:23.687Z"
   },
   {
    "duration": 279,
    "start_time": "2023-02-23T11:56:23.711Z"
   },
   {
    "duration": 268,
    "start_time": "2023-02-23T11:56:23.992Z"
   },
   {
    "duration": 194,
    "start_time": "2023-02-23T11:56:24.262Z"
   },
   {
    "duration": 284,
    "start_time": "2023-02-23T11:56:24.459Z"
   },
   {
    "duration": 221,
    "start_time": "2023-02-23T11:56:24.745Z"
   },
   {
    "duration": 368,
    "start_time": "2023-02-23T11:56:24.968Z"
   },
   {
    "duration": 9,
    "start_time": "2023-02-23T11:56:25.338Z"
   },
   {
    "duration": 170,
    "start_time": "2023-02-23T11:56:25.348Z"
   },
   {
    "duration": 124,
    "start_time": "2023-02-23T11:56:25.520Z"
   },
   {
    "duration": 4,
    "start_time": "2023-02-23T11:56:25.645Z"
   },
   {
    "duration": 168,
    "start_time": "2023-02-23T11:56:25.651Z"
   },
   {
    "duration": 203,
    "start_time": "2023-02-23T11:56:25.820Z"
   },
   {
    "duration": 5,
    "start_time": "2023-02-23T11:56:26.025Z"
   },
   {
    "duration": 8,
    "start_time": "2023-02-23T11:56:26.031Z"
   },
   {
    "duration": 237,
    "start_time": "2023-02-23T11:56:26.041Z"
   },
   {
    "duration": 294,
    "start_time": "2023-02-23T11:56:26.280Z"
   },
   {
    "duration": 9,
    "start_time": "2023-02-23T11:56:26.576Z"
   },
   {
    "duration": 24,
    "start_time": "2023-02-23T11:56:26.587Z"
   },
   {
    "duration": 10,
    "start_time": "2023-02-23T11:56:26.613Z"
   },
   {
    "duration": 25,
    "start_time": "2023-02-23T11:56:26.624Z"
   },
   {
    "duration": 14,
    "start_time": "2023-02-23T11:56:26.651Z"
   },
   {
    "duration": 1245,
    "start_time": "2023-02-23T17:16:28.447Z"
   },
   {
    "duration": 89,
    "start_time": "2023-02-23T17:16:29.694Z"
   },
   {
    "duration": 7,
    "start_time": "2023-02-23T17:16:29.786Z"
   },
   {
    "duration": 7,
    "start_time": "2023-02-23T17:16:29.795Z"
   },
   {
    "duration": 4,
    "start_time": "2023-02-23T17:16:29.803Z"
   },
   {
    "duration": 94,
    "start_time": "2023-02-23T17:16:29.809Z"
   },
   {
    "duration": 3,
    "start_time": "2023-02-23T17:16:29.905Z"
   },
   {
    "duration": 13,
    "start_time": "2023-02-23T17:16:29.916Z"
   },
   {
    "duration": 7,
    "start_time": "2023-02-23T17:16:29.930Z"
   },
   {
    "duration": 7,
    "start_time": "2023-02-23T17:16:29.940Z"
   },
   {
    "duration": 67,
    "start_time": "2023-02-23T17:16:29.949Z"
   },
   {
    "duration": 8,
    "start_time": "2023-02-23T17:16:30.018Z"
   },
   {
    "duration": 22,
    "start_time": "2023-02-23T17:16:30.027Z"
   },
   {
    "duration": 13,
    "start_time": "2023-02-23T17:16:30.051Z"
   },
   {
    "duration": 10,
    "start_time": "2023-02-23T17:16:30.066Z"
   },
   {
    "duration": 17,
    "start_time": "2023-02-23T17:16:30.077Z"
   },
   {
    "duration": 24,
    "start_time": "2023-02-23T17:16:30.096Z"
   },
   {
    "duration": 20,
    "start_time": "2023-02-23T17:16:30.124Z"
   },
   {
    "duration": 14,
    "start_time": "2023-02-23T17:16:30.145Z"
   },
   {
    "duration": 284,
    "start_time": "2023-02-23T17:16:30.160Z"
   },
   {
    "duration": 301,
    "start_time": "2023-02-23T17:16:30.446Z"
   },
   {
    "duration": 206,
    "start_time": "2023-02-23T17:16:30.749Z"
   },
   {
    "duration": 341,
    "start_time": "2023-02-23T17:16:30.957Z"
   },
   {
    "duration": 224,
    "start_time": "2023-02-23T17:16:31.300Z"
   },
   {
    "duration": 319,
    "start_time": "2023-02-23T17:16:31.525Z"
   },
   {
    "duration": 9,
    "start_time": "2023-02-23T17:16:31.845Z"
   },
   {
    "duration": 186,
    "start_time": "2023-02-23T17:16:31.855Z"
   },
   {
    "duration": 120,
    "start_time": "2023-02-23T17:16:32.045Z"
   },
   {
    "duration": 5,
    "start_time": "2023-02-23T17:16:32.167Z"
   },
   {
    "duration": 183,
    "start_time": "2023-02-23T17:16:32.174Z"
   },
   {
    "duration": 188,
    "start_time": "2023-02-23T17:16:32.359Z"
   },
   {
    "duration": 4,
    "start_time": "2023-02-23T17:16:32.549Z"
   },
   {
    "duration": 8,
    "start_time": "2023-02-23T17:16:32.555Z"
   },
   {
    "duration": 236,
    "start_time": "2023-02-23T17:16:32.564Z"
   },
   {
    "duration": 356,
    "start_time": "2023-02-23T17:16:32.802Z"
   },
   {
    "duration": 11,
    "start_time": "2023-02-23T17:16:33.160Z"
   },
   {
    "duration": 10,
    "start_time": "2023-02-23T17:16:33.173Z"
   },
   {
    "duration": 34,
    "start_time": "2023-02-23T17:16:33.185Z"
   },
   {
    "duration": 23,
    "start_time": "2023-02-23T17:16:33.220Z"
   },
   {
    "duration": 15,
    "start_time": "2023-02-23T17:16:33.244Z"
   },
   {
    "duration": 1764,
    "start_time": "2023-04-29T20:30:18.860Z"
   },
   {
    "duration": 154,
    "start_time": "2023-04-29T20:30:20.628Z"
   },
   {
    "duration": 22,
    "start_time": "2023-04-29T20:30:20.785Z"
   },
   {
    "duration": 18,
    "start_time": "2023-04-29T20:30:20.809Z"
   },
   {
    "duration": 9,
    "start_time": "2023-04-29T20:30:20.835Z"
   },
   {
    "duration": 180,
    "start_time": "2023-04-29T20:30:20.848Z"
   },
   {
    "duration": 11,
    "start_time": "2023-04-29T20:30:21.034Z"
   },
   {
    "duration": 14,
    "start_time": "2023-04-29T20:30:21.056Z"
   },
   {
    "duration": 17,
    "start_time": "2023-04-29T20:30:21.074Z"
   },
   {
    "duration": 20,
    "start_time": "2023-04-29T20:30:21.093Z"
   },
   {
    "duration": 107,
    "start_time": "2023-04-29T20:30:21.115Z"
   },
   {
    "duration": 8,
    "start_time": "2023-04-29T20:30:21.225Z"
   },
   {
    "duration": 26,
    "start_time": "2023-04-29T20:30:21.236Z"
   },
   {
    "duration": 14,
    "start_time": "2023-04-29T20:30:21.266Z"
   },
   {
    "duration": 6,
    "start_time": "2023-04-29T20:30:21.283Z"
   },
   {
    "duration": 16,
    "start_time": "2023-04-29T20:30:21.291Z"
   },
   {
    "duration": 15,
    "start_time": "2023-04-29T20:30:21.309Z"
   },
   {
    "duration": 8,
    "start_time": "2023-04-29T20:30:21.326Z"
   },
   {
    "duration": 9,
    "start_time": "2023-04-29T20:30:21.336Z"
   },
   {
    "duration": 414,
    "start_time": "2023-04-29T20:30:21.347Z"
   },
   {
    "duration": 493,
    "start_time": "2023-04-29T20:30:21.763Z"
   },
   {
    "duration": 313,
    "start_time": "2023-04-29T20:30:22.264Z"
   },
   {
    "duration": 459,
    "start_time": "2023-04-29T20:30:22.579Z"
   },
   {
    "duration": 325,
    "start_time": "2023-04-29T20:30:23.043Z"
   },
   {
    "duration": 423,
    "start_time": "2023-04-29T20:30:23.371Z"
   },
   {
    "duration": 37,
    "start_time": "2023-04-29T20:30:23.805Z"
   },
   {
    "duration": 226,
    "start_time": "2023-04-29T20:30:23.846Z"
   },
   {
    "duration": 206,
    "start_time": "2023-04-29T20:30:24.075Z"
   },
   {
    "duration": 4,
    "start_time": "2023-04-29T20:30:24.283Z"
   },
   {
    "duration": 256,
    "start_time": "2023-04-29T20:30:24.289Z"
   },
   {
    "duration": 308,
    "start_time": "2023-04-29T20:30:24.547Z"
   },
   {
    "duration": 6,
    "start_time": "2023-04-29T20:30:24.857Z"
   },
   {
    "duration": 28,
    "start_time": "2023-04-29T20:30:24.864Z"
   },
   {
    "duration": 338,
    "start_time": "2023-04-29T20:30:24.901Z"
   },
   {
    "duration": 406,
    "start_time": "2023-04-29T20:30:25.241Z"
   },
   {
    "duration": 17,
    "start_time": "2023-04-29T20:30:25.649Z"
   },
   {
    "duration": 35,
    "start_time": "2023-04-29T20:30:25.670Z"
   },
   {
    "duration": 18,
    "start_time": "2023-04-29T20:30:25.712Z"
   },
   {
    "duration": 44,
    "start_time": "2023-04-29T20:30:25.731Z"
   },
   {
    "duration": 35,
    "start_time": "2023-04-29T20:30:25.777Z"
   }
  ],
  "kernelspec": {
   "display_name": "Python 3 (ipykernel)",
   "language": "python",
   "name": "python3"
  },
  "language_info": {
   "codemirror_mode": {
    "name": "ipython",
    "version": 3
   },
   "file_extension": ".py",
   "mimetype": "text/x-python",
   "name": "python",
   "nbconvert_exporter": "python",
   "pygments_lexer": "ipython3",
   "version": "3.10.9"
  },
  "toc": {
   "base_numbering": 1,
   "nav_menu": {},
   "number_sections": true,
   "sideBar": true,
   "skip_h1_title": true,
   "title_cell": "Table of Contents",
   "title_sidebar": "Contents",
   "toc_cell": false,
   "toc_position": {},
   "toc_section_display": true,
   "toc_window_display": false
  }
 },
 "nbformat": 4,
 "nbformat_minor": 2
}
